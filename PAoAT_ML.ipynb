{
 "cells": [
  {
   "cell_type": "markdown",
   "id": "05f0c4be",
   "metadata": {
    "id": "9d9y8zaViLu5",
    "papermill": {
     "duration": 0.003656,
     "end_time": "2025-05-26T16:49:13.787268",
     "exception": false,
     "start_time": "2025-05-26T16:49:13.783612",
     "status": "completed"
    },
    "tags": []
   },
   "source": [
    "# <h1 style=\"font-family: 'Montserrat', sans-serif; font-size: 40px; font-weight: bold; color: #ffffff; text-align: center; padding: 20px 30px; background: linear-gradient(135deg, #ff6f61, #ffbb33, #4d79ff); background-size: 300% 300%; animation: gradientBackground 5s ease infinite; border-radius: 60px; box-shadow: 0 10px 20px rgba(0, 0, 0, 0.15), 0 4px 6px rgba(0, 0, 0, 0.1); letter-spacing: 2px; border: 3px solid #ff6f61;\">Medical Visual Question Answering on Gastrointestinal Tract</h1>\n",
    "\n",
    "<style>\n",
    "  @keyframes gradientBackground {\n",
    "    0% { background-position: 0% 50%; }\n",
    "    50% { background-position: 100% 50%; }\n",
    "    100% { background-position: 0% 50%; }\n",
    "  }\n",
    "</style>\n"
   ]
  },
  {
   "cell_type": "markdown",
   "id": "84022fcb",
   "metadata": {
    "papermill": {
     "duration": 0.002447,
     "end_time": "2025-05-26T16:49:13.792671",
     "exception": false,
     "start_time": "2025-05-26T16:49:13.790224",
     "status": "completed"
    },
    "tags": []
   },
   "source": [
    "## Training ML Models"
   ]
  },
  {
   "cell_type": "code",
   "execution_count": 1,
   "id": "6d45f6dc",
   "metadata": {
    "execution": {
     "iopub.execute_input": "2025-05-26T16:49:13.798974Z",
     "iopub.status.busy": "2025-05-26T16:49:13.798709Z",
     "iopub.status.idle": "2025-05-26T16:49:17.713396Z",
     "shell.execute_reply": "2025-05-26T16:49:17.712522Z"
    },
    "papermill": {
     "duration": 3.919903,
     "end_time": "2025-05-26T16:49:17.715165",
     "exception": false,
     "start_time": "2025-05-26T16:49:13.795262",
     "status": "completed"
    },
    "tags": []
   },
   "outputs": [],
   "source": [
    "!pip install catboost --quiet"
   ]
  },
  {
   "cell_type": "code",
   "execution_count": null,
   "id": "7d563499",
   "metadata": {
    "execution": {
     "iopub.execute_input": "2025-05-26T16:49:17.757726Z",
     "iopub.status.busy": "2025-05-26T16:49:17.757527Z",
     "iopub.status.idle": "2025-05-27T00:00:21.231775Z",
     "shell.execute_reply": "2025-05-27T00:00:21.230955Z"
    },
    "papermill": {
     "duration": 25863.539356,
     "end_time": "2025-05-27T00:00:21.292984",
     "exception": false,
     "start_time": "2025-05-26T16:49:17.753628",
     "status": "completed"
    },
    "tags": []
   },
   "outputs": [
    {
     "name": "stdout",
     "output_type": "stream",
     "text": [
      "GPU available: True\n",
      "Successfully loaded 4 variants with validation\n",
      "Building optimized datasets...\n"
     ]
    },
    {
     "name": "stderr",
     "output_type": "stream",
     "text": [
      "[I 2025-05-26 16:49:29,786] A new study created in memory with name: no-name-41fa6e99-6c43-4caf-a8c0-11bb14467436\n"
     ]
    },
    {
     "name": "stdout",
     "output_type": "stream",
     "text": [
      "Dataset Information:\n",
      "  original: (3600, 59)\n",
      "  blackmask: (3600, 59)\n",
      "  highlight: (3600, 59)\n",
      "  final: (3600, 59)\n",
      "Labels shape: (3600, 55)\n",
      "Total features per variant: 59\n",
      "Starting ultra-optimized meta-stacking...\n",
      "This may take a while due to comprehensive optimization...\n",
      "Valid labels: 43, Constant labels: 12\n",
      "Training variant-specific models...\n",
      "  Training original model...\n",
      "  Training blackmask model...\n",
      "  Training highlight model...\n",
      "  Training final model...\n",
      "Training advanced variant selector...\n",
      "Trained 43 variant selectors\n"
     ]
    },
    {
     "name": "stderr",
     "output_type": "stream",
     "text": [
      "[I 2025-05-26 16:51:50,392] Trial 0 finished with value: 0.7558372252123882 and parameters: {'original_max_depth': 5, 'original_learning_rate': 0.17254716573280354, 'original_n_estimators': 210, 'original_subsample': 0.8795975452591109, 'original_colsample_bytree': 0.7468055921327309, 'original_reg_alpha': 0.0029375384576328283, 'original_reg_lambda': 0.0014936568554617625, 'blackmask_max_depth': 10, 'blackmask_learning_rate': 0.09128492666823604, 'blackmask_n_estimators': 248, 'blackmask_subsample': 0.7061753482887407, 'blackmask_colsample_bytree': 0.9909729556485982, 'blackmask_reg_alpha': 0.31428808908401085, 'blackmask_reg_lambda': 0.004335281794951566, 'highlight_max_depth': 5, 'highlight_learning_rate': 0.024547185345288162, 'highlight_n_estimators': 162, 'highlight_subsample': 0.8574269294896714, 'highlight_colsample_bytree': 0.8295835055926347, 'highlight_reg_alpha': 0.007476312062252299, 'highlight_reg_lambda': 0.06847920095574778, 'final_max_depth': 6, 'final_learning_rate': 0.027010527749605478, 'final_n_estimators': 223, 'final_subsample': 0.8368209952651108, 'final_colsample_bytree': 0.935552788417904, 'final_reg_alpha': 0.00397211072738191, 'final_reg_lambda': 0.034890188454913866, 'weight_original': 0.9293803964068594, 'weight_blackmask': 0.16503057780799682, 'weight_highlight': 0.9505627926620136, 'weight_final': 0.3387337731622081, 'adaptive_weight_factor': 1.5975773894779193, 'confidence_threshold': 0.884665661176, 'threshold_group_0': 0.7328160165372797, 'threshold_group_1': 0.6541986740582306, 'threshold_group_2': 0.40230688458668534, 'threshold_group_3': 0.29883605700319193, 'threshold_group_4': 0.5921165132560784}. Best is trial 0 with value: 0.7558372252123882.\n"
     ]
    },
    {
     "name": "stdout",
     "output_type": "stream",
     "text": [
      "Valid labels: 43, Constant labels: 12\n",
      "Training variant-specific models...\n",
      "  Training original model...\n",
      "  Training blackmask model...\n",
      "  Training highlight model...\n",
      "  Training final model...\n",
      "Training advanced variant selector...\n",
      "Trained 43 variant selectors\n"
     ]
    },
    {
     "name": "stderr",
     "output_type": "stream",
     "text": [
      "[I 2025-05-26 16:54:26,519] Trial 1 finished with value: 0.7553979279323697 and parameters: {'original_max_depth': 6, 'original_learning_rate': 0.014413697528610409, 'original_n_estimators': 174, 'original_subsample': 0.7103165563345655, 'original_colsample_bytree': 0.9727961206236346, 'original_reg_alpha': 0.005975027999960293, 'original_reg_lambda': 0.0971777530505963, 'blackmask_max_depth': 6, 'blackmask_learning_rate': 0.07438713212946979, 'blackmask_n_estimators': 218, 'blackmask_subsample': 0.7554563366576581, 'blackmask_colsample_bytree': 0.9908753883293675, 'blackmask_reg_alpha': 0.2115429079726121, 'blackmask_reg_lambda': 0.6584106160121609, 'highlight_max_depth': 9, 'highlight_learning_rate': 0.07472067584562228, 'highlight_n_estimators': 267, 'highlight_subsample': 0.7265477506155759, 'highlight_colsample_bytree': 0.7587948587257435, 'highlight_reg_alpha': 0.0013667272915456222, 'highlight_reg_lambda': 0.009462175356461485, 'final_max_depth': 8, 'final_learning_rate': 0.02516607127550297, 'final_n_estimators': 316, 'final_subsample': 0.8070259980080767, 'final_colsample_bytree': 0.7842803529062142, 'final_reg_alpha': 0.042470585622618684, 'final_reg_lambda': 0.0026471141828218157, 'weight_original': 1.2230757730556556, 'weight_blackmask': 0.20437090115167916, 'weight_highlight': 1.4816417112407243, 'weight_final': 1.1811426770153204, 'adaptive_weight_factor': 1.7980735223012587, 'confidence_threshold': 0.6016566351370807, 'threshold_group_0': 0.6577307142274171, 'threshold_group_1': 0.6034286719238086, 'threshold_group_2': 0.6145035840204937, 'threshold_group_3': 0.6356351733429728, 'threshold_group_4': 0.2870223258670452}. Best is trial 0 with value: 0.7558372252123882.\n"
     ]
    },
    {
     "name": "stdout",
     "output_type": "stream",
     "text": [
      "Valid labels: 43, Constant labels: 12\n",
      "Training variant-specific models...\n",
      "  Training original model...\n",
      "  Training blackmask model...\n",
      "  Training highlight model...\n",
      "  Training final model...\n",
      "Training advanced variant selector...\n",
      "Trained 43 variant selectors\n"
     ]
    },
    {
     "name": "stderr",
     "output_type": "stream",
     "text": [
      "[I 2025-05-26 16:57:01,922] Trial 2 finished with value: 0.7478858222809501 and parameters: {'original_max_depth': 5, 'original_learning_rate': 0.014149761574941432, 'original_n_estimators': 230, 'original_subsample': 0.8869894380482674, 'original_colsample_bytree': 0.7992694074557947, 'original_reg_alpha': 0.0015512259126484748, 'original_reg_lambda': 0.008569331925053986, 'blackmask_max_depth': 6, 'blackmask_learning_rate': 0.1262822520416495, 'blackmask_n_estimators': 235, 'blackmask_subsample': 0.9661638227728979, 'blackmask_colsample_bytree': 0.8416644775485848, 'blackmask_reg_alpha': 0.0022844556850020537, 'blackmask_reg_lambda': 0.13795402040204177, 'highlight_max_depth': 8, 'highlight_learning_rate': 0.06772148782714157, 'highlight_n_estimators': 241, 'highlight_subsample': 0.8481386789093173, 'highlight_colsample_bytree': 0.8568198488145982, 'highlight_reg_alpha': 0.019170041589170652, 'highlight_reg_lambda': 0.0011919481947918731, 'final_max_depth': 6, 'final_learning_rate': 0.011128194768838964, 'final_n_estimators': 277, 'final_subsample': 0.794306794322898, 'final_colsample_bytree': 0.8525712073494108, 'final_reg_alpha': 0.5280796376895363, 'final_reg_lambda': 0.005595986878006083, 'weight_original': 0.6745360922498815, 'weight_blackmask': 1.1577715939602682, 'weight_highlight': 0.4203174316882714, 'weight_final': 0.2077718737603102, 'adaptive_weight_factor': 1.934627179370652, 'confidence_threshold': 0.6483663861762013, 'threshold_group_0': 0.7148488261712865, 'threshold_group_1': 0.6540601897822085, 'threshold_group_2': 0.5667018782552118, 'threshold_group_3': 0.6857302950938589, 'threshold_group_4': 0.6518360384495572}. Best is trial 0 with value: 0.7558372252123882.\n"
     ]
    },
    {
     "name": "stdout",
     "output_type": "stream",
     "text": [
      "Valid labels: 43, Constant labels: 12\n",
      "Training variant-specific models...\n",
      "  Training original model...\n",
      "  Training blackmask model...\n",
      "  Training highlight model...\n",
      "  Training final model...\n",
      "Training advanced variant selector...\n",
      "Trained 43 variant selectors\n"
     ]
    },
    {
     "name": "stderr",
     "output_type": "stream",
     "text": [
      "[I 2025-05-26 16:59:22,656] Trial 3 finished with value: 0.7624796567586487 and parameters: {'original_max_depth': 4, 'original_learning_rate': 0.1449592822362264, 'original_n_estimators': 181, 'original_subsample': 0.9422320465492188, 'original_colsample_bytree': 0.968827389977048, 'original_reg_alpha': 0.008995191735587165, 'original_reg_lambda': 0.0021387290754148925, 'blackmask_max_depth': 6, 'blackmask_learning_rate': 0.05882051269903745, 'blackmask_n_estimators': 268, 'blackmask_subsample': 0.958219174976903, 'blackmask_colsample_bytree': 0.7020856391593572, 'blackmask_reg_alpha': 0.034059785435329955, 'blackmask_reg_lambda': 0.01787446325623841, 'highlight_max_depth': 5, 'highlight_learning_rate': 0.02069636158731893, 'highlight_n_estimators': 167, 'highlight_subsample': 0.9828729111737557, 'highlight_colsample_bytree': 0.7969608796062265, 'highlight_reg_alpha': 0.03600575029200901, 'highlight_reg_lambda': 0.1285454996487901, 'final_max_depth': 8, 'final_learning_rate': 0.27254609841484684, 'final_n_estimators': 343, 'final_subsample': 0.7755346887476092, 'final_colsample_bytree': 0.8491745517677156, 'final_reg_alpha': 0.007991621920384355, 'final_reg_lambda': 0.007153547794693156, 'weight_original': 0.15164172629634592, 'weight_blackmask': 0.9533900675718555, 'weight_highlight': 0.803750632520406, 'weight_final': 0.17207025174998508, 'adaptive_weight_factor': 1.917969696354917, 'confidence_threshold': 0.8724797657899961, 'threshold_group_0': 0.3697809453334862, 'threshold_group_1': 0.32244743604561155, 'threshold_group_2': 0.4947263801387815, 'threshold_group_3': 0.7428252270553004, 'threshold_group_4': 0.3710276357557502}. Best is trial 3 with value: 0.7624796567586487.\n"
     ]
    },
    {
     "name": "stdout",
     "output_type": "stream",
     "text": [
      "Valid labels: 43, Constant labels: 12\n",
      "Training variant-specific models...\n",
      "  Training original model...\n",
      "  Training blackmask model...\n",
      "  Training highlight model...\n",
      "  Training final model...\n",
      "Training advanced variant selector...\n",
      "Trained 43 variant selectors\n"
     ]
    },
    {
     "name": "stderr",
     "output_type": "stream",
     "text": [
      "[I 2025-05-26 17:01:45,087] Trial 4 finished with value: 0.7617457792151966 and parameters: {'original_max_depth': 7, 'original_learning_rate': 0.09792418480265735, 'original_n_estimators': 135, 'original_subsample': 0.9184649045835579, 'original_colsample_bytree': 0.810334939815776, 'original_reg_alpha': 0.07887102624766473, 'original_reg_lambda': 0.07954064937683927, 'blackmask_max_depth': 8, 'blackmask_learning_rate': 0.02512289877580899, 'blackmask_n_estimators': 271, 'blackmask_subsample': 0.7962340194915207, 'blackmask_colsample_bytree': 0.7559555531199562, 'blackmask_reg_alpha': 0.0013253342600066532, 'blackmask_reg_lambda': 0.05924870051994316, 'highlight_max_depth': 8, 'highlight_learning_rate': 0.015683325825950344, 'highlight_n_estimators': 197, 'highlight_subsample': 0.7679487325593813, 'highlight_colsample_bytree': 0.8935518371228349, 'highlight_reg_alpha': 0.0033350264835699576, 'highlight_reg_lambda': 0.11825328508422647, 'final_max_depth': 8, 'final_learning_rate': 0.2419155450887376, 'final_n_estimators': 177, 'final_subsample': 0.8023199053150776, 'final_colsample_bytree': 0.7340420563721767, 'final_reg_alpha': 0.5944028113410929, 'final_reg_lambda': 0.42856634196503457, 'weight_original': 0.4611182788012178, 'weight_blackmask': 1.0239776644478507, 'weight_highlight': 1.2441110802817021, 'weight_final': 0.8772811362392472, 'adaptive_weight_factor': 2.29447586753401, 'confidence_threshold': 0.6725556872701355, 'threshold_group_0': 0.2965513839029496, 'threshold_group_1': 0.6986078789766634, 'threshold_group_2': 0.7002090285816652, 'threshold_group_3': 0.566550728636634, 'threshold_group_4': 0.41951489552435034}. Best is trial 3 with value: 0.7624796567586487.\n"
     ]
    },
    {
     "name": "stdout",
     "output_type": "stream",
     "text": [
      "Valid labels: 43, Constant labels: 12\n",
      "Training variant-specific models...\n",
      "  Training original model...\n",
      "  Training blackmask model...\n",
      "  Training highlight model...\n",
      "  Training final model...\n",
      "Training advanced variant selector...\n",
      "Trained 43 variant selectors\n"
     ]
    },
    {
     "name": "stderr",
     "output_type": "stream",
     "text": [
      "[I 2025-05-26 17:04:06,933] Trial 5 finished with value: 0.76018866681754 and parameters: {'original_max_depth': 5, 'original_learning_rate': 0.08800150788211335, 'original_n_estimators': 235, 'original_subsample': 0.9661259272795352, 'original_colsample_bytree': 0.9339626637572871, 'original_reg_alpha': 0.0843519134174305, 'original_reg_lambda': 0.0017882156647879492, 'blackmask_max_depth': 5, 'blackmask_learning_rate': 0.19349203057833314, 'blackmask_n_estimators': 229, 'blackmask_subsample': 0.7027591154849888, 'blackmask_colsample_bytree': 0.7304414628598096, 'blackmask_reg_alpha': 0.09783749110062345, 'blackmask_reg_lambda': 0.0010355826161899187, 'highlight_max_depth': 4, 'highlight_learning_rate': 0.06547819813930592, 'highlight_n_estimators': 228, 'highlight_subsample': 0.8955883778507802, 'highlight_colsample_bytree': 0.7672807928381679, 'highlight_reg_alpha': 0.13694231460024367, 'highlight_reg_lambda': 0.005149288946949015, 'final_max_depth': 8, 'final_learning_rate': 0.12666549392400608, 'final_n_estimators': 280, 'final_subsample': 0.9547670231482533, 'final_colsample_bytree': 0.8972838676901029, 'final_reg_alpha': 0.05069041070711456, 'final_reg_lambda': 0.0019099601385505387, 'weight_original': 0.6148021242832069, 'weight_blackmask': 0.47128331475441565, 'weight_highlight': 0.441585500730717, 'weight_final': 1.462214776653424, 'adaptive_weight_factor': 2.0896465870001406, 'confidence_threshold': 0.8676139665531339, 'threshold_group_0': 0.5655693129986314, 'threshold_group_1': 0.6474056517708242, 'threshold_group_2': 0.501318546552596, 'threshold_group_3': 0.5384519423131795, 'threshold_group_4': 0.49625884690943195}. Best is trial 3 with value: 0.7624796567586487.\n"
     ]
    },
    {
     "name": "stdout",
     "output_type": "stream",
     "text": [
      "Valid labels: 43, Constant labels: 12\n",
      "Training variant-specific models...\n",
      "  Training original model...\n",
      "  Training blackmask model...\n",
      "  Training highlight model...\n",
      "  Training final model...\n",
      "Training advanced variant selector...\n",
      "Trained 43 variant selectors\n"
     ]
    },
    {
     "name": "stderr",
     "output_type": "stream",
     "text": [
      "[I 2025-05-26 17:06:12,839] Trial 6 finished with value: 0.7564736223987121 and parameters: {'original_max_depth': 4, 'original_learning_rate': 0.08708269729373906, 'original_n_estimators': 142, 'original_subsample': 0.7072947899294361, 'original_colsample_bytree': 0.8936416887721503, 'original_reg_alpha': 0.003398850311078456, 'original_reg_lambda': 0.6627897035983005, 'blackmask_max_depth': 10, 'blackmask_learning_rate': 0.20162942231906192, 'blackmask_n_estimators': 186, 'blackmask_subsample': 0.7046369849586602, 'blackmask_colsample_bytree': 0.9784955687763176, 'blackmask_reg_alpha': 0.019255395572015603, 'blackmask_reg_lambda': 0.794263229180113, 'highlight_max_depth': 9, 'highlight_learning_rate': 0.14824600206446548, 'highlight_n_estimators': 160, 'highlight_subsample': 0.8155293185805775, 'highlight_colsample_bytree': 0.9553410014550571, 'highlight_reg_alpha': 0.008928243277966444, 'highlight_reg_lambda': 0.0032246177486423716, 'final_max_depth': 9, 'final_learning_rate': 0.24144271975982237, 'final_n_estimators': 289, 'final_subsample': 0.8710183510268095, 'final_colsample_bytree': 0.7291529481312305, 'final_reg_alpha': 0.0699876933175238, 'final_reg_lambda': 0.9336015204266915, 'weight_original': 0.2961176213311336, 'weight_blackmask': 0.8256615133092313, 'weight_highlight': 1.3283223006991376, 'weight_final': 1.1370760648558862, 'adaptive_weight_factor': 2.545523611492902, 'confidence_threshold': 0.8107452251961328, 'threshold_group_0': 0.4297455756098776, 'threshold_group_1': 0.3967959221322467, 'threshold_group_2': 0.6546805777392568, 'threshold_group_3': 0.6550566973395904, 'threshold_group_4': 0.6835361592900518}. Best is trial 3 with value: 0.7624796567586487.\n"
     ]
    },
    {
     "name": "stdout",
     "output_type": "stream",
     "text": [
      "Valid labels: 43, Constant labels: 12\n",
      "Training variant-specific models...\n",
      "  Training original model...\n",
      "  Training blackmask model...\n",
      "  Training highlight model...\n",
      "  Training final model...\n",
      "Training advanced variant selector...\n",
      "Trained 43 variant selectors\n"
     ]
    },
    {
     "name": "stderr",
     "output_type": "stream",
     "text": [
      "[I 2025-05-26 17:08:40,300] Trial 7 finished with value: 0.7622940366876239 and parameters: {'original_max_depth': 8, 'original_learning_rate': 0.046267048863006206, 'original_n_estimators': 175, 'original_subsample': 0.9394885536900326, 'original_colsample_bytree': 0.8949891792333295, 'original_reg_alpha': 0.12761467881730215, 'original_reg_lambda': 0.24399336035729163, 'blackmask_max_depth': 10, 'blackmask_learning_rate': 0.04696564245764524, 'blackmask_n_estimators': 187, 'blackmask_subsample': 0.7281945819522606, 'blackmask_colsample_bytree': 0.8734840422988521, 'blackmask_reg_alpha': 0.0012818193443923129, 'blackmask_reg_lambda': 0.024934120524149565, 'highlight_max_depth': 7, 'highlight_learning_rate': 0.032381228781110744, 'highlight_n_estimators': 211, 'highlight_subsample': 0.7091500749817148, 'highlight_colsample_bytree': 0.7112044566247643, 'highlight_reg_alpha': 0.29363084977630116, 'highlight_reg_lambda': 0.012038487446822952, 'final_max_depth': 6, 'final_learning_rate': 0.059076753289914054, 'final_n_estimators': 304, 'final_subsample': 0.7647463082490529, 'final_colsample_bytree': 0.8868671427457, 'final_reg_alpha': 0.0018031937565301096, 'final_reg_lambda': 0.001429042560943209, 'weight_original': 0.8438964841954071, 'weight_blackmask': 0.856889170254149, 'weight_highlight': 0.992401862097489, 'weight_final': 1.1165278672117263, 'adaptive_weight_factor': 2.963778119193802, 'confidence_threshold': 0.7548901044903586, 'threshold_group_0': 0.411478236470623, 'threshold_group_1': 0.6475930973843518, 'threshold_group_2': 0.3854161256310371, 'threshold_group_3': 0.46948571035281805, 'threshold_group_4': 0.289228190671133}. Best is trial 3 with value: 0.7624796567586487.\n"
     ]
    },
    {
     "name": "stdout",
     "output_type": "stream",
     "text": [
      "Valid labels: 43, Constant labels: 12\n",
      "Training variant-specific models...\n",
      "  Training original model...\n",
      "  Training blackmask model...\n",
      "  Training highlight model...\n",
      "  Training final model...\n",
      "Training advanced variant selector...\n",
      "Trained 43 variant selectors\n"
     ]
    },
    {
     "name": "stderr",
     "output_type": "stream",
     "text": [
      "[I 2025-05-26 17:10:56,920] Trial 8 finished with value: 0.7630621319249343 and parameters: {'original_max_depth': 4, 'original_learning_rate': 0.17882756489389623, 'original_n_estimators': 226, 'original_subsample': 0.9087922618281093, 'original_colsample_bytree': 0.8226858833242809, 'original_reg_alpha': 0.0033104189563245147, 'original_reg_lambda': 0.0029465317694630853, 'blackmask_max_depth': 6, 'blackmask_learning_rate': 0.0800722852893099, 'blackmask_n_estimators': 249, 'blackmask_subsample': 0.8980592130153193, 'blackmask_colsample_bytree': 0.7839801690837829, 'blackmask_reg_alpha': 0.7321428778380782, 'blackmask_reg_lambda': 0.16356514014241644, 'highlight_max_depth': 7, 'highlight_learning_rate': 0.07754617604066841, 'highlight_n_estimators': 181, 'highlight_subsample': 0.7743192968503472, 'highlight_colsample_bytree': 0.8067918035953785, 'highlight_reg_alpha': 0.18773201057654915, 'highlight_reg_lambda': 0.001104537501931838, 'final_max_depth': 6, 'final_learning_rate': 0.011693687409928539, 'final_n_estimators': 158, 'final_subsample': 0.9566381752033022, 'final_colsample_bytree': 0.9110973578140071, 'final_reg_alpha': 0.026455835850385485, 'final_reg_lambda': 0.0019656332139612286, 'weight_original': 0.7882622251635653, 'weight_blackmask': 0.7628604790927919, 'weight_highlight': 0.34248261787402123, 'weight_final': 0.7073923089331622, 'adaptive_weight_factor': 2.09775710159606, 'confidence_threshold': 0.7847550294156649, 'threshold_group_0': 0.5675468254338218, 'threshold_group_1': 0.27265200488602226, 'threshold_group_2': 0.4373063073132356, 'threshold_group_3': 0.5629299578571182, 'threshold_group_4': 0.5015681292900438}. Best is trial 8 with value: 0.7630621319249343.\n"
     ]
    },
    {
     "name": "stdout",
     "output_type": "stream",
     "text": [
      "Valid labels: 43, Constant labels: 12\n",
      "Training variant-specific models...\n",
      "  Training original model...\n",
      "  Training blackmask model...\n",
      "  Training highlight model...\n",
      "  Training final model...\n",
      "Training advanced variant selector...\n",
      "Trained 43 variant selectors\n"
     ]
    },
    {
     "name": "stderr",
     "output_type": "stream",
     "text": [
      "[I 2025-05-26 17:13:05,005] Trial 9 finished with value: 0.7562721431196389 and parameters: {'original_max_depth': 8, 'original_learning_rate': 0.0719416132979068, 'original_n_estimators': 124, 'original_subsample': 0.7211706242201289, 'original_colsample_bytree': 0.8927257834618947, 'original_reg_alpha': 0.001200974902063027, 'original_reg_lambda': 0.05719087535188473, 'blackmask_max_depth': 10, 'blackmask_learning_rate': 0.08556051374319455, 'blackmask_n_estimators': 190, 'blackmask_subsample': 0.892986465532706, 'blackmask_colsample_bytree': 0.8374758671474549, 'blackmask_reg_alpha': 0.043336154204619504, 'blackmask_reg_lambda': 0.6674126383295353, 'highlight_max_depth': 6, 'highlight_learning_rate': 0.19822481260163682, 'highlight_n_estimators': 264, 'highlight_subsample': 0.7587373404367889, 'highlight_colsample_bytree': 0.7208083902625496, 'highlight_reg_alpha': 0.00200601420550007, 'highlight_reg_lambda': 0.0011341368900354908, 'final_max_depth': 6, 'final_learning_rate': 0.10206664092951903, 'final_n_estimators': 164, 'final_subsample': 0.7956926890881284, 'final_colsample_bytree': 0.9534625932908364, 'final_reg_alpha': 0.001174399363537816, 'final_reg_lambda': 0.27759104241881893, 'weight_original': 0.49459668468275986, 'weight_blackmask': 0.26543075867031873, 'weight_highlight': 1.075432031509811, 'weight_final': 0.9805199854918375, 'adaptive_weight_factor': 2.8162080202905795, 'confidence_threshold': 0.8205213131411657, 'threshold_group_0': 0.6517404651924243, 'threshold_group_1': 0.39101728628565324, 'threshold_group_2': 0.3387197718898614, 'threshold_group_3': 0.6253073758204292, 'threshold_group_4': 0.6534173696336321}. Best is trial 8 with value: 0.7630621319249343.\n"
     ]
    },
    {
     "name": "stdout",
     "output_type": "stream",
     "text": [
      "Valid labels: 43, Constant labels: 12\n",
      "Training variant-specific models...\n",
      "  Training original model...\n",
      "  Training blackmask model...\n",
      "  Training highlight model...\n",
      "  Training final model...\n",
      "Training advanced variant selector...\n",
      "Trained 43 variant selectors\n"
     ]
    },
    {
     "name": "stderr",
     "output_type": "stream",
     "text": [
      "[I 2025-05-26 17:15:18,052] Trial 10 finished with value: 0.7647276581069846 and parameters: {'original_max_depth': 8, 'original_learning_rate': 0.034421355953493375, 'original_n_estimators': 156, 'original_subsample': 0.932923888222599, 'original_colsample_bytree': 0.8022410620759053, 'original_reg_alpha': 0.6198291213894245, 'original_reg_lambda': 0.3760436466200045, 'blackmask_max_depth': 7, 'blackmask_learning_rate': 0.133250236467172, 'blackmask_n_estimators': 256, 'blackmask_subsample': 0.7309371606507797, 'blackmask_colsample_bytree': 0.97076587200387, 'blackmask_reg_alpha': 0.032791185450045536, 'blackmask_reg_lambda': 0.30155907210626864, 'highlight_max_depth': 5, 'highlight_learning_rate': 0.16617593818835105, 'highlight_n_estimators': 176, 'highlight_subsample': 0.7032512954440895, 'highlight_colsample_bytree': 0.9716145929257791, 'highlight_reg_alpha': 0.0018787112256023893, 'highlight_reg_lambda': 0.009076970265355108, 'final_max_depth': 12, 'final_learning_rate': 0.25360745838025756, 'final_n_estimators': 265, 'final_subsample': 0.8895511636509398, 'final_colsample_bytree': 0.8345336565934959, 'final_reg_alpha': 0.007579356154838334, 'final_reg_lambda': 0.009682636678035997, 'weight_original': 1.0415258385078539, 'weight_blackmask': 1.153324341212752, 'weight_highlight': 1.208210661216188, 'weight_final': 1.2054653999123754, 'adaptive_weight_factor': 1.6368091545730357, 'confidence_threshold': 0.7483260914107744, 'threshold_group_0': 0.27877938000832214, 'threshold_group_1': 0.5247644411618677, 'threshold_group_2': 0.4707652506866885, 'threshold_group_3': 0.6938520913791499, 'threshold_group_4': 0.42545750627603934}. Best is trial 10 with value: 0.7647276581069846.\n"
     ]
    },
    {
     "name": "stdout",
     "output_type": "stream",
     "text": [
      "Valid labels: 43, Constant labels: 12\n",
      "Training variant-specific models...\n",
      "  Training original model...\n",
      "  Training blackmask model...\n",
      "  Training highlight model...\n",
      "  Training final model...\n",
      "Training advanced variant selector...\n",
      "Trained 43 variant selectors\n"
     ]
    },
    {
     "name": "stderr",
     "output_type": "stream",
     "text": [
      "[I 2025-05-26 17:17:43,081] Trial 11 finished with value: 0.7557137826120734 and parameters: {'original_max_depth': 4, 'original_learning_rate': 0.015347458491974744, 'original_n_estimators': 214, 'original_subsample': 0.8854654189948783, 'original_colsample_bytree': 0.730336802836837, 'original_reg_alpha': 0.001787806114764846, 'original_reg_lambda': 0.12673815903184188, 'blackmask_max_depth': 5, 'blackmask_learning_rate': 0.15941769447135934, 'blackmask_n_estimators': 247, 'blackmask_subsample': 0.7244046341925698, 'blackmask_colsample_bytree': 0.7254513142255575, 'blackmask_reg_alpha': 0.9118402012955559, 'blackmask_reg_lambda': 0.013268211547585722, 'highlight_max_depth': 6, 'highlight_learning_rate': 0.13307146372514617, 'highlight_n_estimators': 271, 'highlight_subsample': 0.9958003191468613, 'highlight_colsample_bytree': 0.9260134555776824, 'highlight_reg_alpha': 0.013451749046413188, 'highlight_reg_lambda': 0.0017803367228855934, 'final_max_depth': 11, 'final_learning_rate': 0.06680835617133715, 'final_n_estimators': 235, 'final_subsample': 0.9719063155284208, 'final_colsample_bytree': 0.7333592446918453, 'final_reg_alpha': 0.030052133738230707, 'final_reg_lambda': 0.0010815856940648103, 'weight_original': 0.7561248987917767, 'weight_blackmask': 0.1788245859545723, 'weight_highlight': 0.26634508277530067, 'weight_final': 0.2645367454879468, 'adaptive_weight_factor': 2.4738154531740952, 'confidence_threshold': 0.823813463779627, 'threshold_group_0': 0.5416843825485798, 'threshold_group_1': 0.731086274237271, 'threshold_group_2': 0.43743528976185203, 'threshold_group_3': 0.39285604314093037, 'threshold_group_4': 0.6842995640947301}. Best is trial 10 with value: 0.7647276581069846.\n"
     ]
    },
    {
     "name": "stdout",
     "output_type": "stream",
     "text": [
      "Valid labels: 43, Constant labels: 12\n",
      "Training variant-specific models...\n",
      "  Training original model...\n",
      "  Training blackmask model...\n",
      "  Training highlight model...\n",
      "  Training final model...\n",
      "Training advanced variant selector...\n",
      "Trained 43 variant selectors\n"
     ]
    },
    {
     "name": "stderr",
     "output_type": "stream",
     "text": [
      "[I 2025-05-26 17:20:07,162] Trial 12 finished with value: 0.7588956045399855 and parameters: {'original_max_depth': 5, 'original_learning_rate': 0.17913539937912415, 'original_n_estimators': 101, 'original_subsample': 0.9909636480122916, 'original_colsample_bytree': 0.7129479735851728, 'original_reg_alpha': 0.4714431621693111, 'original_reg_lambda': 0.03829158357414171, 'blackmask_max_depth': 10, 'blackmask_learning_rate': 0.02409784388056811, 'blackmask_n_estimators': 220, 'blackmask_subsample': 0.9907907606857297, 'blackmask_colsample_bytree': 0.8569293532510447, 'blackmask_reg_alpha': 0.0773029227349874, 'blackmask_reg_lambda': 0.1222492115907041, 'highlight_max_depth': 6, 'highlight_learning_rate': 0.08091554559839838, 'highlight_n_estimators': 209, 'highlight_subsample': 0.9703474031472967, 'highlight_colsample_bytree': 0.7136339141024374, 'highlight_reg_alpha': 0.006964494003285595, 'highlight_reg_lambda': 0.7099609342475929, 'final_max_depth': 12, 'final_learning_rate': 0.047104269642866105, 'final_n_estimators': 274, 'final_subsample': 0.7832143548943398, 'final_colsample_bytree': 0.7564363479171283, 'final_reg_alpha': 0.024609070748295197, 'final_reg_lambda': 0.011483034881881857, 'weight_original': 0.9171185565912209, 'weight_blackmask': 0.20882849175097878, 'weight_highlight': 1.4641527307326332, 'weight_final': 1.480695042271444, 'adaptive_weight_factor': 2.5472425710296176, 'confidence_threshold': 0.7608289099032362, 'threshold_group_0': 0.4047638081431639, 'threshold_group_1': 0.6568975098534744, 'threshold_group_2': 0.5923655862769397, 'threshold_group_3': 0.33130846967244565, 'threshold_group_4': 0.7054635922469212}. Best is trial 10 with value: 0.7647276581069846.\n"
     ]
    },
    {
     "name": "stdout",
     "output_type": "stream",
     "text": [
      "Valid labels: 43, Constant labels: 12\n",
      "Training variant-specific models...\n",
      "  Training original model...\n",
      "  Training blackmask model...\n",
      "  Training highlight model...\n",
      "  Training final model...\n",
      "Training advanced variant selector...\n",
      "Trained 43 variant selectors\n"
     ]
    },
    {
     "name": "stderr",
     "output_type": "stream",
     "text": [
      "[I 2025-05-26 17:22:28,022] Trial 13 finished with value: 0.7638422487443567 and parameters: {'original_max_depth': 8, 'original_learning_rate': 0.1720751580297977, 'original_n_estimators': 209, 'original_subsample': 0.8840245587807369, 'original_colsample_bytree': 0.8254729108871857, 'original_reg_alpha': 0.6283266061384214, 'original_reg_lambda': 0.39645296344066755, 'blackmask_max_depth': 5, 'blackmask_learning_rate': 0.02137726761196473, 'blackmask_n_estimators': 188, 'blackmask_subsample': 0.9431659992345498, 'blackmask_colsample_bytree': 0.9961828387944833, 'blackmask_reg_alpha': 0.0028265109567655266, 'blackmask_reg_lambda': 0.060588771394020566, 'highlight_max_depth': 6, 'highlight_learning_rate': 0.20292375852037917, 'highlight_n_estimators': 254, 'highlight_subsample': 0.9514986114133414, 'highlight_colsample_bytree': 0.840607947938491, 'highlight_reg_alpha': 0.017557331414514505, 'highlight_reg_lambda': 0.0066103006995520295, 'final_max_depth': 6, 'final_learning_rate': 0.18936503889340725, 'final_n_estimators': 313, 'final_subsample': 0.9999153019858391, 'final_colsample_bytree': 0.9989910511221716, 'final_reg_alpha': 0.046376195357139695, 'final_reg_lambda': 0.20275064549386634, 'weight_original': 1.4226720218353992, 'weight_blackmask': 1.289506346948376, 'weight_highlight': 0.44628734244047674, 'weight_final': 0.7307617894341308, 'adaptive_weight_factor': 1.6937391227272425, 'confidence_threshold': 0.8862153081776167, 'threshold_group_0': 0.55308731722544, 'threshold_group_1': 0.36432140275173136, 'threshold_group_2': 0.5858503422029284, 'threshold_group_3': 0.5590641202289479, 'threshold_group_4': 0.42908135901642025}. Best is trial 10 with value: 0.7647276581069846.\n"
     ]
    },
    {
     "name": "stdout",
     "output_type": "stream",
     "text": [
      "Valid labels: 43, Constant labels: 12\n",
      "Training variant-specific models...\n",
      "  Training original model...\n",
      "  Training blackmask model...\n",
      "  Training highlight model...\n",
      "  Training final model...\n",
      "Training advanced variant selector...\n",
      "Trained 43 variant selectors\n"
     ]
    },
    {
     "name": "stderr",
     "output_type": "stream",
     "text": [
      "[I 2025-05-26 17:24:32,841] Trial 14 finished with value: 0.7597255934099445 and parameters: {'original_max_depth': 4, 'original_learning_rate': 0.07477163404692021, 'original_n_estimators': 178, 'original_subsample': 0.9316955175206918, 'original_colsample_bytree': 0.856049050333598, 'original_reg_alpha': 0.3602006572699514, 'original_reg_lambda': 0.04526062182441458, 'blackmask_max_depth': 8, 'blackmask_learning_rate': 0.18307966553854965, 'blackmask_n_estimators': 193, 'blackmask_subsample': 0.7402045685351922, 'blackmask_colsample_bytree': 0.7086348028940016, 'blackmask_reg_alpha': 0.18425181176975786, 'blackmask_reg_lambda': 0.07259866824755667, 'highlight_max_depth': 8, 'highlight_learning_rate': 0.026575292442814185, 'highlight_n_estimators': 133, 'highlight_subsample': 0.7043633997003645, 'highlight_colsample_bytree': 0.805176267641979, 'highlight_reg_alpha': 0.05885089345740331, 'highlight_reg_lambda': 0.01502215142136892, 'final_max_depth': 9, 'final_learning_rate': 0.21654692710207762, 'final_n_estimators': 219, 'final_subsample': 0.8541968467479433, 'final_colsample_bytree': 0.935095903822343, 'final_reg_alpha': 0.015474917663181311, 'final_reg_lambda': 0.07349539031752697, 'weight_original': 1.3073091922454432, 'weight_blackmask': 1.429328873120699, 'weight_highlight': 0.30590287330065313, 'weight_final': 1.3972226752260921, 'adaptive_weight_factor': 2.238174439619307, 'confidence_threshold': 0.6774733164896874, 'threshold_group_0': 0.47956787811913065, 'threshold_group_1': 0.7400162876427385, 'threshold_group_2': 0.4963090469964348, 'threshold_group_3': 0.4143758051437541, 'threshold_group_4': 0.5667004271583629}. Best is trial 10 with value: 0.7647276581069846.\n"
     ]
    },
    {
     "name": "stdout",
     "output_type": "stream",
     "text": [
      "Valid labels: 43, Constant labels: 12\n",
      "Training variant-specific models...\n",
      "  Training original model...\n",
      "  Training blackmask model...\n",
      "  Training highlight model...\n",
      "  Training final model...\n",
      "Training advanced variant selector...\n",
      "Trained 43 variant selectors\n"
     ]
    },
    {
     "name": "stderr",
     "output_type": "stream",
     "text": [
      "[I 2025-05-26 17:26:51,907] Trial 15 finished with value: 0.7583533352811609 and parameters: {'original_max_depth': 5, 'original_learning_rate': 0.01255163973713465, 'original_n_estimators': 119, 'original_subsample': 0.7384137516873317, 'original_colsample_bytree': 0.7455708080536882, 'original_reg_alpha': 0.0026090446888493457, 'original_reg_lambda': 0.08368049381923891, 'blackmask_max_depth': 6, 'blackmask_learning_rate': 0.047884603967390395, 'blackmask_n_estimators': 282, 'blackmask_subsample': 0.8421884920788617, 'blackmask_colsample_bytree': 0.9002673215563082, 'blackmask_reg_alpha': 0.0032882105136152247, 'blackmask_reg_lambda': 0.0037745662852119526, 'highlight_max_depth': 4, 'highlight_learning_rate': 0.023611606200666206, 'highlight_n_estimators': 157, 'highlight_subsample': 0.753103145283024, 'highlight_colsample_bytree': 0.7266107601271167, 'highlight_reg_alpha': 0.0023009522878251272, 'highlight_reg_lambda': 0.024117723070020483, 'final_max_depth': 7, 'final_learning_rate': 0.03451999739007996, 'final_n_estimators': 251, 'final_subsample': 0.9071184485888095, 'final_colsample_bytree': 0.7117936419523296, 'final_reg_alpha': 0.2501676775251015, 'final_reg_lambda': 0.07650699925531627, 'weight_original': 0.21446264472842066, 'weight_blackmask': 1.323010073749488, 'weight_highlight': 1.3892213607445385, 'weight_final': 0.18550914379680924, 'adaptive_weight_factor': 1.9153164722208056, 'confidence_threshold': 0.8418603839379184, 'threshold_group_0': 0.6241298451918291, 'threshold_group_1': 0.34226050967818866, 'threshold_group_2': 0.35467466166835515, 'threshold_group_3': 0.435236051395691, 'threshold_group_4': 0.49226149259551066}. Best is trial 10 with value: 0.7647276581069846.\n"
     ]
    },
    {
     "name": "stdout",
     "output_type": "stream",
     "text": [
      "Valid labels: 43, Constant labels: 12\n",
      "Training variant-specific models...\n",
      "  Training original model...\n",
      "  Training blackmask model...\n",
      "  Training highlight model...\n",
      "  Training final model...\n",
      "Training advanced variant selector...\n",
      "Trained 43 variant selectors\n"
     ]
    },
    {
     "name": "stderr",
     "output_type": "stream",
     "text": [
      "[I 2025-05-26 17:29:07,798] Trial 16 finished with value: 0.7546811339971934 and parameters: {'original_max_depth': 7, 'original_learning_rate': 0.030197272000983936, 'original_n_estimators': 169, 'original_subsample': 0.924241281440127, 'original_colsample_bytree': 0.7110049608671793, 'original_reg_alpha': 0.005718878014855694, 'original_reg_lambda': 0.13805392471755745, 'blackmask_max_depth': 10, 'blackmask_learning_rate': 0.07282728258293053, 'blackmask_n_estimators': 216, 'blackmask_subsample': 0.7321516034019327, 'blackmask_colsample_bytree': 0.8342237100470364, 'blackmask_reg_alpha': 0.03961428295971845, 'blackmask_reg_lambda': 0.005338404905313886, 'highlight_max_depth': 5, 'highlight_learning_rate': 0.04131708117591357, 'highlight_n_estimators': 113, 'highlight_subsample': 0.7966237496749534, 'highlight_colsample_bytree': 0.7634344020989634, 'highlight_reg_alpha': 0.009604882504090112, 'highlight_reg_lambda': 0.002287106538387776, 'final_max_depth': 12, 'final_learning_rate': 0.07530226332540962, 'final_n_estimators': 286, 'final_subsample': 0.9367513715822015, 'final_colsample_bytree': 0.8495326596787172, 'final_reg_alpha': 0.0018228916863732695, 'final_reg_lambda': 0.040862000564111906, 'weight_original': 0.9215775652292307, 'weight_blackmask': 1.1436152638580621, 'weight_highlight': 0.7043233647215511, 'weight_final': 0.27861242391378926, 'adaptive_weight_factor': 1.9256638586980868, 'confidence_threshold': 0.7089246889195905, 'threshold_group_0': 0.5729586206658006, 'threshold_group_1': 0.5353891523344559, 'threshold_group_2': 0.4280483629489231, 'threshold_group_3': 0.7432576243964899, 'threshold_group_4': 0.5528874096784435}. Best is trial 10 with value: 0.7647276581069846.\n"
     ]
    },
    {
     "name": "stdout",
     "output_type": "stream",
     "text": [
      "Valid labels: 43, Constant labels: 12\n",
      "Training variant-specific models...\n",
      "  Training original model...\n",
      "  Training blackmask model...\n",
      "  Training highlight model...\n",
      "  Training final model...\n",
      "Training advanced variant selector...\n",
      "Trained 43 variant selectors\n"
     ]
    },
    {
     "name": "stderr",
     "output_type": "stream",
     "text": [
      "[I 2025-05-26 17:31:16,173] Trial 17 finished with value: 0.7635563534354058 and parameters: {'original_max_depth': 5, 'original_learning_rate': 0.013565070334628938, 'original_n_estimators': 123, 'original_subsample': 0.7737873185153524, 'original_colsample_bytree': 0.7482044119778667, 'original_reg_alpha': 0.0036282823166258315, 'original_reg_lambda': 0.007166143591413815, 'blackmask_max_depth': 6, 'blackmask_learning_rate': 0.19261981847990758, 'blackmask_n_estimators': 134, 'blackmask_subsample': 0.8573534168710764, 'blackmask_colsample_bytree': 0.8231190480968984, 'blackmask_reg_alpha': 0.885392524255432, 'blackmask_reg_lambda': 0.002168286702972878, 'highlight_max_depth': 6, 'highlight_learning_rate': 0.20268195647718854, 'highlight_n_estimators': 258, 'highlight_subsample': 0.9451216212847839, 'highlight_colsample_bytree': 0.7773708481134819, 'highlight_reg_alpha': 0.003255837808893696, 'highlight_reg_lambda': 0.10137471815285475, 'final_max_depth': 12, 'final_learning_rate': 0.06643643241226557, 'final_n_estimators': 264, 'final_subsample': 0.7839937280980852, 'final_colsample_bytree': 0.930847879957581, 'final_reg_alpha': 0.0036402502944596986, 'final_reg_lambda': 0.009354868977053964, 'weight_original': 0.6956110140629834, 'weight_blackmask': 0.810654530158237, 'weight_highlight': 0.43937362538111235, 'weight_final': 0.26077155463488494, 'adaptive_weight_factor': 2.415930063662449, 'confidence_threshold': 0.6865891659720768, 'threshold_group_0': 0.5406191107113061, 'threshold_group_1': 0.32718135763710116, 'threshold_group_2': 0.49057005092740874, 'threshold_group_3': 0.5162947162757929, 'threshold_group_4': 0.27591176841121345}. Best is trial 10 with value: 0.7647276581069846.\n"
     ]
    },
    {
     "name": "stdout",
     "output_type": "stream",
     "text": [
      "Valid labels: 43, Constant labels: 12\n",
      "Training variant-specific models...\n",
      "  Training original model...\n",
      "  Training blackmask model...\n",
      "  Training highlight model...\n",
      "  Training final model...\n",
      "Training advanced variant selector...\n",
      "Trained 43 variant selectors\n"
     ]
    },
    {
     "name": "stderr",
     "output_type": "stream",
     "text": [
      "[I 2025-05-26 17:33:27,045] Trial 18 finished with value: 0.7612738319526517 and parameters: {'original_max_depth': 5, 'original_learning_rate': 0.0149581376885748, 'original_n_estimators': 109, 'original_subsample': 0.9969880697169835, 'original_colsample_bytree': 0.7967061534924169, 'original_reg_alpha': 0.2689201455030377, 'original_reg_lambda': 0.005806600729040602, 'blackmask_max_depth': 9, 'blackmask_learning_rate': 0.13643680705866956, 'blackmask_n_estimators': 227, 'blackmask_subsample': 0.8414728565650476, 'blackmask_colsample_bytree': 0.8235522742441805, 'blackmask_reg_alpha': 0.011132810063011915, 'blackmask_reg_lambda': 0.6145927498826925, 'highlight_max_depth': 8, 'highlight_learning_rate': 0.20027764121282438, 'highlight_n_estimators': 131, 'highlight_subsample': 0.9192602425610933, 'highlight_colsample_bytree': 0.9815021370463113, 'highlight_reg_alpha': 0.0034970287155610636, 'highlight_reg_lambda': 0.0015830287491819784, 'final_max_depth': 11, 'final_learning_rate': 0.07056127924169929, 'final_n_estimators': 319, 'final_subsample': 0.7419317129878868, 'final_colsample_bytree': 0.9385801935579671, 'final_reg_alpha': 0.00402607591992069, 'final_reg_lambda': 0.003097189858969046, 'weight_original': 0.32997211710339014, 'weight_blackmask': 1.240404608323935, 'weight_highlight': 1.0312761089746803, 'weight_final': 0.8322915946767669, 'adaptive_weight_factor': 2.038245726185254, 'confidence_threshold': 0.8631601622439324, 'threshold_group_0': 0.4462225537113177, 'threshold_group_1': 0.6582997197357885, 'threshold_group_2': 0.4695674542851092, 'threshold_group_3': 0.4384722147124538, 'threshold_group_4': 0.4813398928348032}. Best is trial 10 with value: 0.7647276581069846.\n"
     ]
    },
    {
     "name": "stdout",
     "output_type": "stream",
     "text": [
      "Valid labels: 43, Constant labels: 12\n",
      "Training variant-specific models...\n",
      "  Training original model...\n",
      "  Training blackmask model...\n",
      "  Training highlight model...\n",
      "  Training final model...\n",
      "Training advanced variant selector...\n",
      "Trained 43 variant selectors\n"
     ]
    },
    {
     "name": "stderr",
     "output_type": "stream",
     "text": [
      "[I 2025-05-26 17:35:32,937] Trial 19 finished with value: 0.7632321002298427 and parameters: {'original_max_depth': 5, 'original_learning_rate': 0.09389927274595655, 'original_n_estimators': 175, 'original_subsample': 0.7696638085440451, 'original_colsample_bytree': 0.9698723719823705, 'original_reg_alpha': 0.014179916194912247, 'original_reg_lambda': 0.04272268935624074, 'blackmask_max_depth': 10, 'blackmask_learning_rate': 0.09677493847394192, 'blackmask_n_estimators': 141, 'blackmask_subsample': 0.9819496370840426, 'blackmask_colsample_bytree': 0.8883124159214253, 'blackmask_reg_alpha': 0.01010920128671374, 'blackmask_reg_lambda': 0.0026170752963794665, 'highlight_max_depth': 8, 'highlight_learning_rate': 0.07930518783214253, 'highlight_n_estimators': 201, 'highlight_subsample': 0.9681677749152873, 'highlight_colsample_bytree': 0.9365791633673592, 'highlight_reg_alpha': 0.002851180021336776, 'highlight_reg_lambda': 0.008613233153473095, 'final_max_depth': 7, 'final_learning_rate': 0.12557375502465395, 'final_n_estimators': 156, 'final_subsample': 0.8709669054613949, 'final_colsample_bytree': 0.9287376057222072, 'final_reg_alpha': 0.426871254378718, 'final_reg_lambda': 0.010622952661232919, 'weight_original': 1.249760226540818, 'weight_blackmask': 0.25488443173729014, 'weight_highlight': 1.2850332084283256, 'weight_final': 0.27848412726477534, 'adaptive_weight_factor': 2.095930935840551, 'confidence_threshold': 0.8391886097338661, 'threshold_group_0': 0.3249587136743869, 'threshold_group_1': 0.36462569761632074, 'threshold_group_2': 0.6111262841965331, 'threshold_group_3': 0.6100182682730372, 'threshold_group_4': 0.5705738164426486}. Best is trial 10 with value: 0.7647276581069846.\n"
     ]
    },
    {
     "name": "stdout",
     "output_type": "stream",
     "text": [
      "Valid labels: 43, Constant labels: 12\n",
      "Training variant-specific models...\n",
      "  Training original model...\n",
      "  Training blackmask model...\n",
      "  Training highlight model...\n",
      "  Training final model...\n",
      "Training advanced variant selector...\n",
      "Trained 43 variant selectors\n"
     ]
    },
    {
     "name": "stderr",
     "output_type": "stream",
     "text": [
      "[I 2025-05-26 17:37:58,146] Trial 20 finished with value: 0.762174473362273 and parameters: {'original_max_depth': 7, 'original_learning_rate': 0.026079374331727117, 'original_n_estimators': 196, 'original_subsample': 0.8328345858217301, 'original_colsample_bytree': 0.8563409058872866, 'original_reg_alpha': 0.6031302487814117, 'original_reg_lambda': 0.879110331373602, 'blackmask_max_depth': 7, 'blackmask_learning_rate': 0.03130434536154477, 'blackmask_n_estimators': 161, 'blackmask_subsample': 0.9279198687705699, 'blackmask_colsample_bytree': 0.934744672921334, 'blackmask_reg_alpha': 0.006877388584629202, 'blackmask_reg_lambda': 0.2870595440361678, 'highlight_max_depth': 5, 'highlight_learning_rate': 0.11383067531439328, 'highlight_n_estimators': 230, 'highlight_subsample': 0.8775050907790178, 'highlight_colsample_bytree': 0.8739000484695516, 'highlight_reg_alpha': 0.06741791896495984, 'highlight_reg_lambda': 0.037453672942757144, 'final_max_depth': 10, 'final_learning_rate': 0.1609954473181966, 'final_n_estimators': 335, 'final_subsample': 0.9963542263488249, 'final_colsample_bytree': 0.9971258416502213, 'final_reg_alpha': 0.10396304433659306, 'final_reg_lambda': 0.1367519118406815, 'weight_original': 1.483880626631226, 'weight_blackmask': 1.484334124341661, 'weight_highlight': 0.10681828860652959, 'weight_final': 0.5783198194107304, 'adaptive_weight_factor': 1.5383242422158145, 'confidence_threshold': 0.7839401899232605, 'threshold_group_0': 0.27409441965582687, 'threshold_group_1': 0.4807024197434438, 'threshold_group_2': 0.2565701578589041, 'threshold_group_3': 0.6980872895793091, 'threshold_group_4': 0.37452575954845646}. Best is trial 10 with value: 0.7647276581069846.\n"
     ]
    },
    {
     "name": "stdout",
     "output_type": "stream",
     "text": [
      "Valid labels: 43, Constant labels: 12\n",
      "Training variant-specific models...\n",
      "  Training original model...\n",
      "  Training blackmask model...\n",
      "  Training highlight model...\n",
      "  Training final model...\n",
      "Training advanced variant selector...\n",
      "Trained 43 variant selectors\n"
     ]
    },
    {
     "name": "stderr",
     "output_type": "stream",
     "text": [
      "[I 2025-05-26 17:40:04,730] Trial 21 finished with value: 0.7633070273557382 and parameters: {'original_max_depth': 8, 'original_learning_rate': 0.025154870969939003, 'original_n_estimators': 154, 'original_subsample': 0.8245619849089899, 'original_colsample_bytree': 0.7786022589204475, 'original_reg_alpha': 0.02727537915485396, 'original_reg_lambda': 0.01566475079683237, 'blackmask_max_depth': 7, 'blackmask_learning_rate': 0.2313299168195033, 'blackmask_n_estimators': 121, 'blackmask_subsample': 0.8054564974399635, 'blackmask_colsample_bytree': 0.9462266019881395, 'blackmask_reg_alpha': 0.005198624588514544, 'blackmask_reg_lambda': 0.30151185878432274, 'highlight_max_depth': 6, 'highlight_learning_rate': 0.2119329976888648, 'highlight_n_estimators': 251, 'highlight_subsample': 0.9323139562015977, 'highlight_colsample_bytree': 0.897893195519299, 'highlight_reg_alpha': 0.001153629086307135, 'highlight_reg_lambda': 0.3792709902592379, 'final_max_depth': 11, 'final_learning_rate': 0.17631372250316485, 'final_n_estimators': 243, 'final_subsample': 0.7131783702165715, 'final_colsample_bytree': 0.9980130376449026, 'final_reg_alpha': 0.008790275018773119, 'final_reg_lambda': 0.01942710798484357, 'weight_original': 1.078795843737429, 'weight_blackmask': 0.632255816940555, 'weight_highlight': 0.5844769665499027, 'weight_final': 0.459389714557199, 'adaptive_weight_factor': 1.7029375832037075, 'confidence_threshold': 0.7084358608672101, 'threshold_group_0': 0.5236913460743539, 'threshold_group_1': 0.44655041482593677, 'threshold_group_2': 0.552574887065323, 'threshold_group_3': 0.5318899957549775, 'threshold_group_4': 0.3503201397294638}. Best is trial 10 with value: 0.7647276581069846.\n"
     ]
    },
    {
     "name": "stdout",
     "output_type": "stream",
     "text": [
      "Valid labels: 43, Constant labels: 12\n",
      "Training variant-specific models...\n",
      "  Training original model...\n",
      "  Training blackmask model...\n",
      "  Training highlight model...\n",
      "  Training final model...\n",
      "Training advanced variant selector...\n",
      "Trained 43 variant selectors\n"
     ]
    },
    {
     "name": "stderr",
     "output_type": "stream",
     "text": [
      "[I 2025-05-26 17:42:15,889] Trial 22 finished with value: 0.7615618291128219 and parameters: {'original_max_depth': 6, 'original_learning_rate': 0.04248157134330247, 'original_n_estimators': 151, 'original_subsample': 0.7820205971305, 'original_colsample_bytree': 0.7697610267852972, 'original_reg_alpha': 0.18473950576361836, 'original_reg_lambda': 0.37604484300168406, 'blackmask_max_depth': 5, 'blackmask_learning_rate': 0.12818852238161837, 'blackmask_n_estimators': 162, 'blackmask_subsample': 0.8725341058215866, 'blackmask_colsample_bytree': 0.9484184015341071, 'blackmask_reg_alpha': 0.4386505087751904, 'blackmask_reg_lambda': 0.009670438195399011, 'highlight_max_depth': 7, 'highlight_learning_rate': 0.1568178208176053, 'highlight_n_estimators': 280, 'highlight_subsample': 0.936775054203074, 'highlight_colsample_bytree': 0.9914201630421317, 'highlight_reg_alpha': 0.8788995867573633, 'highlight_reg_lambda': 0.031004894538128585, 'final_max_depth': 12, 'final_learning_rate': 0.09784214500746873, 'final_n_estimators': 199, 'final_subsample': 0.9142607356363395, 'final_colsample_bytree': 0.9674951541992449, 'final_reg_alpha': 0.0050807191159553435, 'final_reg_lambda': 0.016279388069610733, 'weight_original': 1.4577550926908882, 'weight_blackmask': 1.0081952411621615, 'weight_highlight': 0.5949053786292576, 'weight_final': 0.5928225469173576, 'adaptive_weight_factor': 1.7252212380121654, 'confidence_threshold': 0.7284089331071323, 'threshold_group_0': 0.4913626147819236, 'threshold_group_1': 0.536039383310141, 'threshold_group_2': 0.6468901182505433, 'threshold_group_3': 0.5132743789507431, 'threshold_group_4': 0.4303222620640018}. Best is trial 10 with value: 0.7647276581069846.\n"
     ]
    },
    {
     "name": "stdout",
     "output_type": "stream",
     "text": [
      "Valid labels: 43, Constant labels: 12\n",
      "Training variant-specific models...\n",
      "  Training original model...\n",
      "  Training blackmask model...\n",
      "  Training highlight model...\n",
      "  Training final model...\n",
      "Training advanced variant selector...\n",
      "Trained 43 variant selectors\n"
     ]
    },
    {
     "name": "stderr",
     "output_type": "stream",
     "text": [
      "[I 2025-05-26 17:44:35,853] Trial 23 finished with value: 0.7619941083104553 and parameters: {'original_max_depth': 6, 'original_learning_rate': 0.019531570827873823, 'original_n_estimators': 195, 'original_subsample': 0.8513566674911642, 'original_colsample_bytree': 0.8276005046275708, 'original_reg_alpha': 0.8965898956316115, 'original_reg_lambda': 0.019570327022756673, 'blackmask_max_depth': 7, 'blackmask_learning_rate': 0.03699461956955039, 'blackmask_n_estimators': 162, 'blackmask_subsample': 0.7920702887417596, 'blackmask_colsample_bytree': 0.8013393712228007, 'blackmask_reg_alpha': 0.015840117758062728, 'blackmask_reg_lambda': 0.049922244220851196, 'highlight_max_depth': 5, 'highlight_learning_rate': 0.11206579296108723, 'highlight_n_estimators': 252, 'highlight_subsample': 0.9497081199699856, 'highlight_colsample_bytree': 0.8355276571858059, 'highlight_reg_alpha': 0.004742268313623579, 'highlight_reg_lambda': 0.00500798048037907, 'final_max_depth': 10, 'final_learning_rate': 0.17992812989266116, 'final_n_estimators': 257, 'final_subsample': 0.8293706823750593, 'final_colsample_bytree': 0.8088741164584652, 'final_reg_alpha': 0.14262662950176375, 'final_reg_lambda': 0.0055705396795775455, 'weight_original': 1.0681672076447712, 'weight_blackmask': 0.6425240768420757, 'weight_highlight': 0.12270223410908287, 'weight_final': 1.298452353343533, 'adaptive_weight_factor': 2.336276477359211, 'confidence_threshold': 0.6379568068113706, 'threshold_group_0': 0.6174595484405115, 'threshold_group_1': 0.26825362855130586, 'threshold_group_2': 0.5392222896849167, 'threshold_group_3': 0.5917340034725123, 'threshold_group_4': 0.2527549419464536}. Best is trial 10 with value: 0.7647276581069846.\n"
     ]
    },
    {
     "name": "stdout",
     "output_type": "stream",
     "text": [
      "Valid labels: 43, Constant labels: 12\n",
      "Training variant-specific models...\n",
      "  Training original model...\n",
      "  Training blackmask model...\n",
      "  Training highlight model...\n",
      "  Training final model...\n",
      "Training advanced variant selector...\n",
      "Trained 43 variant selectors\n"
     ]
    },
    {
     "name": "stderr",
     "output_type": "stream",
     "text": [
      "[I 2025-05-26 17:46:51,614] Trial 24 finished with value: 0.7618091350204812 and parameters: {'original_max_depth': 8, 'original_learning_rate': 0.01001982673963991, 'original_n_estimators': 157, 'original_subsample': 0.7942083847503799, 'original_colsample_bytree': 0.77102965951232, 'original_reg_alpha': 0.031789252222927326, 'original_reg_lambda': 0.4627732082884207, 'blackmask_max_depth': 5, 'blackmask_learning_rate': 0.10979375553106153, 'blackmask_n_estimators': 122, 'blackmask_subsample': 0.9139073532477816, 'blackmask_colsample_bytree': 0.9190638442086603, 'blackmask_reg_alpha': 0.09988760452752149, 'blackmask_reg_lambda': 0.0010977372643435081, 'highlight_max_depth': 4, 'highlight_learning_rate': 0.16550716836387613, 'highlight_n_estimators': 184, 'highlight_subsample': 0.9020717698066943, 'highlight_colsample_bytree': 0.857879707421612, 'highlight_reg_alpha': 0.015523237892299995, 'highlight_reg_lambda': 0.18783365116909148, 'final_max_depth': 10, 'final_learning_rate': 0.016318483997289576, 'final_n_estimators': 264, 'final_subsample': 0.8949340655451543, 'final_colsample_bytree': 0.8170666136205044, 'final_reg_alpha': 0.01082539476886809, 'final_reg_lambda': 0.021986793262540223, 'weight_original': 1.087229892972978, 'weight_blackmask': 1.2800811009595126, 'weight_highlight': 0.8262079399949388, 'weight_final': 0.9751954302563047, 'adaptive_weight_factor': 2.6664938717254625, 'confidence_threshold': 0.7354231771233859, 'threshold_group_0': 0.49811651870562856, 'threshold_group_1': 0.4521257958722621, 'threshold_group_2': 0.5249768714219692, 'threshold_group_3': 0.4778850940413098, 'threshold_group_4': 0.43255458730558405}. Best is trial 10 with value: 0.7647276581069846.\n"
     ]
    },
    {
     "name": "stdout",
     "output_type": "stream",
     "text": [
      "Valid labels: 43, Constant labels: 12\n",
      "Training variant-specific models...\n",
      "  Training original model...\n",
      "  Training blackmask model...\n",
      "  Training highlight model...\n",
      "  Training final model...\n",
      "Training advanced variant selector...\n",
      "Trained 43 variant selectors\n"
     ]
    },
    {
     "name": "stderr",
     "output_type": "stream",
     "text": [
      "[I 2025-05-26 17:49:02,732] Trial 25 finished with value: 0.76873818558699 and parameters: {'original_max_depth': 7, 'original_learning_rate': 0.041727683588574024, 'original_n_estimators': 131, 'original_subsample': 0.8569588437523685, 'original_colsample_bytree': 0.8554610709723238, 'original_reg_alpha': 0.03184314677238524, 'original_reg_lambda': 0.22192470702928146, 'blackmask_max_depth': 7, 'blackmask_learning_rate': 0.24670188513599742, 'blackmask_n_estimators': 149, 'blackmask_subsample': 0.9387843412547143, 'blackmask_colsample_bytree': 0.9678833859944108, 'blackmask_reg_alpha': 0.0628088312747388, 'blackmask_reg_lambda': 0.032580968597061305, 'highlight_max_depth': 6, 'highlight_learning_rate': 0.10920871062674113, 'highlight_n_estimators': 223, 'highlight_subsample': 0.8327841463429061, 'highlight_colsample_bytree': 0.7781692103866821, 'highlight_reg_alpha': 0.0011459313062282953, 'highlight_reg_lambda': 0.059230774630037696, 'final_max_depth': 11, 'final_learning_rate': 0.29317975303568, 'final_n_estimators': 323, 'final_subsample': 0.9960527324864797, 'final_colsample_bytree': 0.9733730202299108, 'final_reg_alpha': 0.015914229662857923, 'final_reg_lambda': 0.12780463677380466, 'weight_original': 1.3049107273095302, 'weight_blackmask': 1.1113599628577224, 'weight_highlight': 0.5783639092221116, 'weight_final': 0.44101179299179605, 'adaptive_weight_factor': 1.5113401628517933, 'confidence_threshold': 0.7062294312711568, 'threshold_group_0': 0.25133398063864065, 'threshold_group_1': 0.5617813548231972, 'threshold_group_2': 0.6848695430185712, 'threshold_group_3': 0.35834752241589496, 'threshold_group_4': 0.32114478956461306}. Best is trial 25 with value: 0.76873818558699.\n"
     ]
    },
    {
     "name": "stdout",
     "output_type": "stream",
     "text": [
      "Valid labels: 43, Constant labels: 12\n",
      "Training variant-specific models...\n",
      "  Training original model...\n",
      "  Training blackmask model...\n",
      "  Training highlight model...\n",
      "  Training final model...\n",
      "Training advanced variant selector...\n",
      "Trained 43 variant selectors\n"
     ]
    },
    {
     "name": "stderr",
     "output_type": "stream",
     "text": [
      "[I 2025-05-26 17:51:25,151] Trial 26 finished with value: 0.7679854471389771 and parameters: {'original_max_depth': 7, 'original_learning_rate': 0.048781012931983225, 'original_n_estimators': 247, 'original_subsample': 0.8573486229688569, 'original_colsample_bytree': 0.8735878400917558, 'original_reg_alpha': 0.9972531285397195, 'original_reg_lambda': 0.2514279818718738, 'blackmask_max_depth': 8, 'blackmask_learning_rate': 0.24972750461059165, 'blackmask_n_estimators': 203, 'blackmask_subsample': 0.9482440237499128, 'blackmask_colsample_bytree': 0.9767459668294017, 'blackmask_reg_alpha': 0.017580085577191526, 'blackmask_reg_lambda': 0.033679477614787505, 'highlight_max_depth': 5, 'highlight_learning_rate': 0.10226690471887619, 'highlight_n_estimators': 217, 'highlight_subsample': 0.8385425106901819, 'highlight_colsample_bytree': 0.8992257834871968, 'highlight_reg_alpha': 0.0011431136085794844, 'highlight_reg_lambda': 0.05232918289435796, 'final_max_depth': 11, 'final_learning_rate': 0.2920550383177599, 'final_n_estimators': 299, 'final_subsample': 0.9978948491058962, 'final_colsample_bytree': 0.9687449577341153, 'final_reg_alpha': 0.01671971403387934, 'final_reg_lambda': 0.20946551671947314, 'weight_original': 1.3650693687324562, 'weight_blackmask': 1.146999489859532, 'weight_highlight': 0.5681788832141199, 'weight_final': 0.6922151234534095, 'adaptive_weight_factor': 1.5023452629952765, 'confidence_threshold': 0.7843008208396486, 'threshold_group_0': 0.25493726444982817, 'threshold_group_1': 0.5865410404283672, 'threshold_group_2': 0.7314747172181644, 'threshold_group_3': 0.2650217307893282, 'threshold_group_4': 0.3341355030251251}. Best is trial 25 with value: 0.76873818558699.\n"
     ]
    },
    {
     "name": "stdout",
     "output_type": "stream",
     "text": [
      "Valid labels: 43, Constant labels: 12\n",
      "Training variant-specific models...\n",
      "  Training original model...\n",
      "  Training blackmask model...\n",
      "  Training highlight model...\n",
      "  Training final model...\n",
      "Training advanced variant selector...\n",
      "Trained 43 variant selectors\n"
     ]
    },
    {
     "name": "stderr",
     "output_type": "stream",
     "text": [
      "[I 2025-05-26 17:53:42,276] Trial 27 finished with value: 0.7689057180278256 and parameters: {'original_max_depth': 7, 'original_learning_rate': 0.045782752482445475, 'original_n_estimators': 137, 'original_subsample': 0.8625218434049011, 'original_colsample_bytree': 0.8714219439189054, 'original_reg_alpha': 0.9491697477618168, 'original_reg_lambda': 0.18050041652540527, 'blackmask_max_depth': 8, 'blackmask_learning_rate': 0.2368952912285636, 'blackmask_n_estimators': 294, 'blackmask_subsample': 0.7701886710602772, 'blackmask_colsample_bytree': 0.968846153667279, 'blackmask_reg_alpha': 0.02499579536201913, 'blackmask_reg_lambda': 0.037086296722377066, 'highlight_max_depth': 5, 'highlight_learning_rate': 0.09970479660180018, 'highlight_n_estimators': 222, 'highlight_subsample': 0.8217155670299977, 'highlight_colsample_bytree': 0.9580084476512689, 'highlight_reg_alpha': 0.0010368366577980198, 'highlight_reg_lambda': 0.04795778694437792, 'final_max_depth': 11, 'final_learning_rate': 0.28203253232299863, 'final_n_estimators': 299, 'final_subsample': 0.9826615824721644, 'final_colsample_bytree': 0.9633542307235792, 'final_reg_alpha': 0.018923031241250794, 'final_reg_lambda': 0.09401690750556302, 'weight_original': 1.2970372719840404, 'weight_blackmask': 1.108015891018934, 'weight_highlight': 0.6555503948344171, 'weight_final': 0.46083859289664963, 'adaptive_weight_factor': 1.5084186203036825, 'confidence_threshold': 0.785331924311802, 'threshold_group_0': 0.2522023038349573, 'threshold_group_1': 0.5767930924378053, 'threshold_group_2': 0.7028022157654106, 'threshold_group_3': 0.2616770386355473, 'threshold_group_4': 0.32905018302832834}. Best is trial 27 with value: 0.7689057180278256.\n"
     ]
    },
    {
     "name": "stdout",
     "output_type": "stream",
     "text": [
      "Valid labels: 43, Constant labels: 12\n",
      "Training variant-specific models...\n",
      "  Training original model...\n",
      "  Training blackmask model...\n",
      "  Training highlight model...\n",
      "  Training final model...\n",
      "Training advanced variant selector...\n",
      "Trained 43 variant selectors\n"
     ]
    },
    {
     "name": "stderr",
     "output_type": "stream",
     "text": [
      "[I 2025-05-26 17:55:58,887] Trial 28 finished with value: 0.7668414420656755 and parameters: {'original_max_depth': 7, 'original_learning_rate': 0.05459799310457317, 'original_n_estimators': 134, 'original_subsample': 0.857604692068191, 'original_colsample_bytree': 0.9230777223053398, 'original_reg_alpha': 0.9559751575859623, 'original_reg_lambda': 0.27529278452669687, 'blackmask_max_depth': 8, 'blackmask_learning_rate': 0.2374334263523956, 'blackmask_n_estimators': 298, 'blackmask_subsample': 0.7740104165169195, 'blackmask_colsample_bytree': 0.9623036681562883, 'blackmask_reg_alpha': 0.05545358197741829, 'blackmask_reg_lambda': 0.0326355166444955, 'highlight_max_depth': 4, 'highlight_learning_rate': 0.09977226626595534, 'highlight_n_estimators': 220, 'highlight_subsample': 0.822536516488335, 'highlight_colsample_bytree': 0.9169585508656164, 'highlight_reg_alpha': 0.0010277652775167773, 'highlight_reg_lambda': 0.054795284076594994, 'final_max_depth': 11, 'final_learning_rate': 0.29913701321239883, 'final_n_estimators': 300, 'final_subsample': 0.9815003861161706, 'final_colsample_bytree': 0.9677680269673362, 'final_reg_alpha': 0.01760422797886384, 'final_reg_lambda': 0.08603426203534005, 'weight_original': 1.3556716452114146, 'weight_blackmask': 1.0844832597504066, 'weight_highlight': 0.6004888478664873, 'weight_final': 0.4290573461523868, 'adaptive_weight_factor': 1.5099453979773003, 'confidence_threshold': 0.7908572786740583, 'threshold_group_0': 0.2526487799240163, 'threshold_group_1': 0.5883844334559684, 'threshold_group_2': 0.737965409951438, 'threshold_group_3': 0.25626645162545897, 'threshold_group_4': 0.3065314146266462}. Best is trial 27 with value: 0.7689057180278256.\n"
     ]
    },
    {
     "name": "stdout",
     "output_type": "stream",
     "text": [
      "Valid labels: 43, Constant labels: 12\n",
      "Training variant-specific models...\n",
      "  Training original model...\n",
      "  Training blackmask model...\n",
      "  Training highlight model...\n",
      "  Training final model...\n",
      "Training advanced variant selector...\n",
      "Trained 43 variant selectors\n"
     ]
    },
    {
     "name": "stderr",
     "output_type": "stream",
     "text": [
      "[I 2025-05-26 17:58:27,021] Trial 29 finished with value: 0.7659656840123414 and parameters: {'original_max_depth': 7, 'original_learning_rate': 0.058352977310013716, 'original_n_estimators': 245, 'original_subsample': 0.8283925632003732, 'original_colsample_bytree': 0.8661555872673791, 'original_reg_alpha': 0.042262031286093495, 'original_reg_lambda': 0.1827029270083926, 'blackmask_max_depth': 9, 'blackmask_learning_rate': 0.16172414151456932, 'blackmask_n_estimators': 205, 'blackmask_subsample': 0.9987556049749197, 'blackmask_colsample_bytree': 0.9116532711022325, 'blackmask_reg_alpha': 0.018826771050752693, 'blackmask_reg_lambda': 0.007747018877630742, 'highlight_max_depth': 5, 'highlight_learning_rate': 0.04898308746771924, 'highlight_n_estimators': 234, 'highlight_subsample': 0.8545385288380669, 'highlight_colsample_bytree': 0.9482840823168291, 'highlight_reg_alpha': 0.005398973671655445, 'highlight_reg_lambda': 0.07540718422911402, 'final_max_depth': 10, 'final_learning_rate': 0.14685581746984563, 'final_n_estimators': 330, 'final_subsample': 0.9293636958253241, 'final_colsample_bytree': 0.9651911988264854, 'final_reg_alpha': 0.015475926728865051, 'final_reg_lambda': 0.04099667786359653, 'weight_original': 1.17252217069332, 'weight_blackmask': 0.9463316198835252, 'weight_highlight': 0.8749158128821534, 'weight_final': 0.4390110378997143, 'adaptive_weight_factor': 1.6197001522228416, 'confidence_threshold': 0.7696973294415476, 'threshold_group_0': 0.32537393155355215, 'threshold_group_1': 0.573333762063834, 'threshold_group_2': 0.7357233401132184, 'threshold_group_3': 0.3312607373313761, 'threshold_group_4': 0.3334198314199826}. Best is trial 27 with value: 0.7689057180278256.\n"
     ]
    },
    {
     "name": "stdout",
     "output_type": "stream",
     "text": [
      "Valid labels: 43, Constant labels: 12\n",
      "Training variant-specific models...\n",
      "  Training original model...\n",
      "  Training blackmask model...\n",
      "  Training highlight model...\n",
      "  Training final model...\n",
      "Training advanced variant selector...\n",
      "Trained 43 variant selectors\n"
     ]
    },
    {
     "name": "stderr",
     "output_type": "stream",
     "text": [
      "[I 2025-05-26 18:00:41,899] Trial 30 finished with value: 0.7664172427282397 and parameters: {'original_max_depth': 7, 'original_learning_rate': 0.03627696568565159, 'original_n_estimators': 141, 'original_subsample': 0.8632943477446358, 'original_colsample_bytree': 0.8724899505893062, 'original_reg_alpha': 0.24253825837674522, 'original_reg_lambda': 0.9713868690280161, 'blackmask_max_depth': 9, 'blackmask_learning_rate': 0.24736301931771756, 'blackmask_n_estimators': 173, 'blackmask_subsample': 0.8167825643351816, 'blackmask_colsample_bytree': 0.9286509802632088, 'blackmask_reg_alpha': 0.1464293854677125, 'blackmask_reg_lambda': 0.030490216735240293, 'highlight_max_depth': 5, 'highlight_learning_rate': 0.09039606088305117, 'highlight_n_estimators': 217, 'highlight_subsample': 0.8321288918499895, 'highlight_colsample_bytree': 0.9039164679577533, 'highlight_reg_alpha': 0.0014622486792954725, 'highlight_reg_lambda': 0.2900889648496402, 'final_max_depth': 11, 'final_learning_rate': 0.2988847515741097, 'final_n_estimators': 349, 'final_subsample': 0.9703541709980086, 'final_colsample_bytree': 0.8799669452114117, 'final_reg_alpha': 0.09955091638002907, 'final_reg_lambda': 0.5260379336864681, 'weight_original': 1.3540265123909767, 'weight_blackmask': 1.387683826675564, 'weight_highlight': 0.6826690262694458, 'weight_final': 0.575049834561209, 'adaptive_weight_factor': 1.8207746678406007, 'confidence_threshold': 0.7993566861836844, 'threshold_group_0': 0.36112413293617707, 'threshold_group_1': 0.5640608841899766, 'threshold_group_2': 0.6808811298393798, 'threshold_group_3': 0.2524509872709886, 'threshold_group_4': 0.3254731179441556}. Best is trial 27 with value: 0.7689057180278256.\n"
     ]
    },
    {
     "name": "stdout",
     "output_type": "stream",
     "text": [
      "Valid labels: 43, Constant labels: 12\n",
      "Training variant-specific models...\n",
      "  Training original model...\n",
      "  Training blackmask model...\n",
      "  Training highlight model...\n",
      "  Training final model...\n",
      "Training advanced variant selector...\n",
      "Trained 43 variant selectors\n"
     ]
    },
    {
     "name": "stderr",
     "output_type": "stream",
     "text": [
      "[I 2025-05-26 18:02:57,213] Trial 31 finished with value: 0.7671357493327344 and parameters: {'original_max_depth': 7, 'original_learning_rate': 0.04928264288979168, 'original_n_estimators': 131, 'original_subsample': 0.8096437165012076, 'original_colsample_bytree': 0.9260919076710863, 'original_reg_alpha': 0.8456524630776617, 'original_reg_lambda': 0.22174142867877386, 'blackmask_max_depth': 8, 'blackmask_learning_rate': 0.2429455051730254, 'blackmask_n_estimators': 292, 'blackmask_subsample': 0.7850966627786006, 'blackmask_colsample_bytree': 0.9616272164567963, 'blackmask_reg_alpha': 0.07217824168883283, 'blackmask_reg_lambda': 0.0363961479996876, 'highlight_max_depth': 4, 'highlight_learning_rate': 0.10113593455731415, 'highlight_n_estimators': 219, 'highlight_subsample': 0.8078178990588827, 'highlight_colsample_bytree': 0.9280923884819043, 'highlight_reg_alpha': 0.001063772072507703, 'highlight_reg_lambda': 0.04524957810540497, 'final_max_depth': 11, 'final_learning_rate': 0.2938723298755165, 'final_n_estimators': 300, 'final_subsample': 0.9802720220466246, 'final_colsample_bytree': 0.9766909892090945, 'final_reg_alpha': 0.01631833655763526, 'final_reg_lambda': 0.10214553831429264, 'weight_original': 1.3326034398690934, 'weight_blackmask': 1.0779331949027766, 'weight_highlight': 0.6081384994049971, 'weight_final': 0.40771799497568867, 'adaptive_weight_factor': 1.517305370807456, 'confidence_threshold': 0.786489487812731, 'threshold_group_0': 0.25161024131427395, 'threshold_group_1': 0.6018963809677829, 'threshold_group_2': 0.7433325730023562, 'threshold_group_3': 0.25501999061304903, 'threshold_group_4': 0.3200110765128545}. Best is trial 27 with value: 0.7689057180278256.\n"
     ]
    },
    {
     "name": "stdout",
     "output_type": "stream",
     "text": [
      "Valid labels: 43, Constant labels: 12\n",
      "Training variant-specific models...\n",
      "  Training original model...\n",
      "  Training blackmask model...\n",
      "  Training highlight model...\n",
      "  Training final model...\n",
      "Training advanced variant selector...\n",
      "Trained 43 variant selectors\n"
     ]
    },
    {
     "name": "stderr",
     "output_type": "stream",
     "text": [
      "[I 2025-05-26 18:05:16,242] Trial 32 finished with value: 0.7674960853485233 and parameters: {'original_max_depth': 6, 'original_learning_rate': 0.049315358598478076, 'original_n_estimators': 129, 'original_subsample': 0.8125990109868902, 'original_colsample_bytree': 0.9319894954589425, 'original_reg_alpha': 0.3859319749047847, 'original_reg_lambda': 0.1818289840203446, 'blackmask_max_depth': 8, 'blackmask_learning_rate': 0.16004200485751746, 'blackmask_n_estimators': 291, 'blackmask_subsample': 0.8225470814047071, 'blackmask_colsample_bytree': 0.9811271578263328, 'blackmask_reg_alpha': 0.06305867864900083, 'blackmask_reg_lambda': 0.019129700072470206, 'highlight_max_depth': 4, 'highlight_learning_rate': 0.12030092039867439, 'highlight_n_estimators': 240, 'highlight_subsample': 0.795211618723875, 'highlight_colsample_bytree': 0.9665993182311547, 'highlight_reg_alpha': 0.0011123981208780449, 'highlight_reg_lambda': 0.021633125335456683, 'final_max_depth': 11, 'final_learning_rate': 0.20459006742571206, 'final_n_estimators': 304, 'final_subsample': 0.9473265610847763, 'final_colsample_bytree': 0.9801880360061607, 'final_reg_alpha': 0.019412371026811318, 'final_reg_lambda': 0.13546404198896406, 'weight_original': 1.1780415619840636, 'weight_blackmask': 1.192847857374316, 'weight_highlight': 0.5320898185523609, 'weight_final': 0.3789835851108037, 'adaptive_weight_factor': 1.515999392398748, 'confidence_threshold': 0.7225895255534555, 'threshold_group_0': 0.2519718446594885, 'threshold_group_1': 0.6061980523235624, 'threshold_group_2': 0.7143221909439933, 'threshold_group_3': 0.29784305364768837, 'threshold_group_4': 0.37934015497835943}. Best is trial 27 with value: 0.7689057180278256.\n"
     ]
    },
    {
     "name": "stdout",
     "output_type": "stream",
     "text": [
      "Valid labels: 43, Constant labels: 12\n",
      "Training variant-specific models...\n",
      "  Training original model...\n",
      "  Training blackmask model...\n",
      "  Training highlight model...\n",
      "  Training final model...\n",
      "Training advanced variant selector...\n",
      "Trained 43 variant selectors\n"
     ]
    },
    {
     "name": "stderr",
     "output_type": "stream",
     "text": [
      "[I 2025-05-26 18:07:33,861] Trial 33 finished with value: 0.7647788020963593 and parameters: {'original_max_depth': 6, 'original_learning_rate': 0.06230695516756772, 'original_n_estimators': 108, 'original_subsample': 0.900282871253075, 'original_colsample_bytree': 0.9951269784667878, 'original_reg_alpha': 0.3985571149894323, 'original_reg_lambda': 0.14924095156067566, 'blackmask_max_depth': 9, 'blackmask_learning_rate': 0.16360189203376982, 'blackmask_n_estimators': 282, 'blackmask_subsample': 0.8215127198130199, 'blackmask_colsample_bytree': 0.9992989789081421, 'blackmask_reg_alpha': 0.024161435588851123, 'blackmask_reg_lambda': 0.019499356857771648, 'highlight_max_depth': 4, 'highlight_learning_rate': 0.12401291481584023, 'highlight_n_estimators': 246, 'highlight_subsample': 0.7899745704223599, 'highlight_colsample_bytree': 0.9624378472063658, 'highlight_reg_alpha': 0.0017607079381445987, 'highlight_reg_lambda': 0.02016731658173484, 'final_max_depth': 10, 'final_learning_rate': 0.20574727780950464, 'final_n_estimators': 325, 'final_subsample': 0.9466089461280456, 'final_colsample_bytree': 0.9814624902046826, 'final_reg_alpha': 0.03614057268002448, 'final_reg_lambda': 0.2244712007323484, 'weight_original': 1.1855692022303181, 'weight_blackmask': 1.1907264382529492, 'weight_highlight': 0.7015243653080534, 'weight_final': 0.10035339529554832, 'adaptive_weight_factor': 1.7956721612748352, 'confidence_threshold': 0.7063494003369205, 'threshold_group_0': 0.3141371111478496, 'threshold_group_1': 0.614715397042618, 'threshold_group_2': 0.6982007380369047, 'threshold_group_3': 0.2946416751181603, 'threshold_group_4': 0.38696300874075623}. Best is trial 27 with value: 0.7689057180278256.\n"
     ]
    },
    {
     "name": "stdout",
     "output_type": "stream",
     "text": [
      "Valid labels: 43, Constant labels: 12\n",
      "Training variant-specific models...\n",
      "  Training original model...\n",
      "  Training blackmask model...\n",
      "  Training highlight model...\n",
      "  Training final model...\n",
      "Training advanced variant selector...\n",
      "Trained 43 variant selectors\n"
     ]
    },
    {
     "name": "stderr",
     "output_type": "stream",
     "text": [
      "[I 2025-05-26 18:09:57,437] Trial 34 finished with value: 0.7680973214058835 and parameters: {'original_max_depth': 6, 'original_learning_rate': 0.039267352412897936, 'original_n_estimators': 163, 'original_subsample': 0.8677373625743244, 'original_colsample_bytree': 0.9421395090889393, 'original_reg_alpha': 0.13000975189477992, 'original_reg_lambda': 0.614338532862515, 'blackmask_max_depth': 8, 'blackmask_learning_rate': 0.20439818386740585, 'blackmask_n_estimators': 273, 'blackmask_subsample': 0.9614055948623463, 'blackmask_colsample_bytree': 0.9767680510357758, 'blackmask_reg_alpha': 0.2570244176839625, 'blackmask_reg_lambda': 0.09414329001934074, 'highlight_max_depth': 5, 'highlight_learning_rate': 0.052353977702578006, 'highlight_n_estimators': 236, 'highlight_subsample': 0.8365396251271686, 'highlight_colsample_bytree': 0.9972582060259421, 'highlight_reg_alpha': 0.001528522089362798, 'highlight_reg_lambda': 0.06619860798588131, 'final_max_depth': 11, 'final_learning_rate': 0.211275535838366, 'final_n_estimators': 313, 'final_subsample': 0.988739557784305, 'final_colsample_bytree': 0.9136038079656276, 'final_reg_alpha': 0.012191024999916878, 'final_reg_lambda': 0.14250122871170554, 'weight_original': 1.2368640329916631, 'weight_blackmask': 0.9134982953806436, 'weight_highlight': 0.512427445522105, 'weight_final': 0.5099631889080165, 'adaptive_weight_factor': 1.6290429726826978, 'confidence_threshold': 0.7375275308533316, 'threshold_group_0': 0.3543175067252763, 'threshold_group_1': 0.5110800130412099, 'threshold_group_2': 0.6478029373251772, 'threshold_group_3': 0.3583437253751289, 'threshold_group_4': 0.39190094004279036}. Best is trial 27 with value: 0.7689057180278256.\n"
     ]
    },
    {
     "name": "stdout",
     "output_type": "stream",
     "text": [
      "Valid labels: 43, Constant labels: 12\n",
      "Training variant-specific models...\n",
      "  Training original model...\n",
      "  Training blackmask model...\n",
      "  Training highlight model...\n",
      "  Training final model...\n",
      "Training advanced variant selector...\n",
      "Trained 43 variant selectors\n"
     ]
    },
    {
     "name": "stderr",
     "output_type": "stream",
     "text": [
      "[I 2025-05-26 18:12:18,839] Trial 35 finished with value: 0.7682007818453085 and parameters: {'original_max_depth': 6, 'original_learning_rate': 0.03930127054275461, 'original_n_estimators': 145, 'original_subsample': 0.8637344935295774, 'original_colsample_bytree': 0.9504096081819261, 'original_reg_alpha': 0.016137057871711952, 'original_reg_lambda': 0.576722616967352, 'blackmask_max_depth': 7, 'blackmask_learning_rate': 0.2221949290379858, 'blackmask_n_estimators': 267, 'blackmask_subsample': 0.9676708590702129, 'blackmask_colsample_bytree': 0.9487945668886529, 'blackmask_reg_alpha': 0.30024342810106663, 'blackmask_reg_lambda': 0.09966422391945616, 'highlight_max_depth': 5, 'highlight_learning_rate': 0.056353726364172754, 'highlight_n_estimators': 203, 'highlight_subsample': 0.8403633376156061, 'highlight_colsample_bytree': 0.9998650977355433, 'highlight_reg_alpha': 0.0016917991214226516, 'highlight_reg_lambda': 0.07019792411732309, 'final_max_depth': 10, 'final_learning_rate': 0.1375989101849487, 'final_n_estimators': 338, 'final_subsample': 0.9851865886843426, 'final_colsample_bytree': 0.9160875353996728, 'final_reg_alpha': 0.006046604024866871, 'final_reg_lambda': 0.05610927741612861, 'weight_original': 1.2836519310513863, 'weight_blackmask': 0.9010996573769259, 'weight_highlight': 0.7435145941550607, 'weight_final': 0.5246478322785324, 'adaptive_weight_factor': 1.6260288680563906, 'confidence_threshold': 0.6438366146741483, 'threshold_group_0': 0.3608472546368409, 'threshold_group_1': 0.5032064143965466, 'threshold_group_2': 0.6525185617967165, 'threshold_group_3': 0.3618332941063144, 'threshold_group_4': 0.25255024866645526}. Best is trial 27 with value: 0.7689057180278256.\n"
     ]
    },
    {
     "name": "stdout",
     "output_type": "stream",
     "text": [
      "Valid labels: 43, Constant labels: 12\n",
      "Training variant-specific models...\n",
      "  Training original model...\n",
      "  Training blackmask model...\n",
      "  Training highlight model...\n",
      "  Training final model...\n",
      "Training advanced variant selector...\n",
      "Trained 43 variant selectors\n"
     ]
    },
    {
     "name": "stderr",
     "output_type": "stream",
     "text": [
      "[I 2025-05-26 18:14:41,434] Trial 36 finished with value: 0.7676601403694772 and parameters: {'original_max_depth': 6, 'original_learning_rate': 0.038148124050420756, 'original_n_estimators': 166, 'original_subsample': 0.8442219994097404, 'original_colsample_bytree': 0.908363392341586, 'original_reg_alpha': 0.01665498272890986, 'original_reg_lambda': 0.7209507737603045, 'blackmask_max_depth': 7, 'blackmask_learning_rate': 0.2081843411075209, 'blackmask_n_estimators': 267, 'blackmask_subsample': 0.9726936631048608, 'blackmask_colsample_bytree': 0.9525598847381813, 'blackmask_reg_alpha': 0.2672533199162231, 'blackmask_reg_lambda': 0.09483744580635242, 'highlight_max_depth': 6, 'highlight_learning_rate': 0.055986321450843764, 'highlight_n_estimators': 195, 'highlight_subsample': 0.8709345236260941, 'highlight_colsample_bytree': 0.992709765643241, 'highlight_reg_alpha': 0.0039669247100736086, 'highlight_reg_lambda': 0.0797738942855769, 'final_max_depth': 9, 'final_learning_rate': 0.14033401533106374, 'final_n_estimators': 340, 'final_subsample': 0.9683678336435274, 'final_colsample_bytree': 0.9048555391801323, 'final_reg_alpha': 0.005633833400484928, 'final_reg_lambda': 0.04820194367210288, 'weight_original': 1.2529991146365893, 'weight_blackmask': 0.8911175484615992, 'weight_highlight': 0.7403005658856613, 'weight_final': 0.5130374874509228, 'adaptive_weight_factor': 1.8064015912594702, 'confidence_threshold': 0.6071589254005707, 'threshold_group_0': 0.35695248936496404, 'threshold_group_1': 0.48628137379546554, 'threshold_group_2': 0.6526983224154194, 'threshold_group_3': 0.3643180364805221, 'threshold_group_4': 0.2827409078337722}. Best is trial 27 with value: 0.7689057180278256.\n"
     ]
    },
    {
     "name": "stdout",
     "output_type": "stream",
     "text": [
      "Valid labels: 43, Constant labels: 12\n",
      "Training variant-specific models...\n",
      "  Training original model...\n",
      "  Training blackmask model...\n",
      "  Training highlight model...\n",
      "  Training final model...\n",
      "Training advanced variant selector...\n",
      "Trained 43 variant selectors\n"
     ]
    },
    {
     "name": "stderr",
     "output_type": "stream",
     "text": [
      "[I 2025-05-26 18:17:03,745] Trial 37 finished with value: 0.7678032210590235 and parameters: {'original_max_depth': 6, 'original_learning_rate': 0.028926876742691787, 'original_n_estimators': 144, 'original_subsample': 0.8682095355835198, 'original_colsample_bytree': 0.9571761282854702, 'original_reg_alpha': 0.06284047210785086, 'original_reg_lambda': 0.6856869729224312, 'blackmask_max_depth': 7, 'blackmask_learning_rate': 0.2128549115881628, 'blackmask_n_estimators': 275, 'blackmask_subsample': 0.9329142369645046, 'blackmask_colsample_bytree': 0.9345006017906023, 'blackmask_reg_alpha': 0.5271345010586932, 'blackmask_reg_lambda': 0.19023310150693537, 'highlight_max_depth': 5, 'highlight_learning_rate': 0.042592832818189166, 'highlight_n_estimators': 206, 'highlight_subsample': 0.8702977203032257, 'highlight_colsample_bytree': 0.9758164633714989, 'highlight_reg_alpha': 0.0021697098251415563, 'highlight_reg_lambda': 0.16510402604654562, 'final_max_depth': 10, 'final_learning_rate': 0.10007185937870576, 'final_n_estimators': 350, 'final_subsample': 0.9322006265529447, 'final_colsample_bytree': 0.8741657828092572, 'final_reg_alpha': 0.0024640795293848906, 'final_reg_lambda': 0.05851687310609056, 'weight_original': 1.1245449642330092, 'weight_blackmask': 0.7158224057008876, 'weight_highlight': 0.9078827487702892, 'weight_final': 0.5195161994962177, 'adaptive_weight_factor': 1.6086247765778865, 'confidence_threshold': 0.648739790811758, 'threshold_group_0': 0.3447163713678508, 'threshold_group_1': 0.5082474229797875, 'threshold_group_2': 0.6746297854754091, 'threshold_group_3': 0.35662744777849353, 'threshold_group_4': 0.25267006742383524}. Best is trial 27 with value: 0.7689057180278256.\n"
     ]
    },
    {
     "name": "stdout",
     "output_type": "stream",
     "text": [
      "Valid labels: 43, Constant labels: 12\n",
      "Training variant-specific models...\n",
      "  Training original model...\n",
      "  Training blackmask model...\n",
      "  Training highlight model...\n",
      "  Training final model...\n",
      "Training advanced variant selector...\n",
      "Trained 43 variant selectors\n"
     ]
    },
    {
     "name": "stderr",
     "output_type": "stream",
     "text": [
      "[I 2025-05-26 18:19:20,306] Trial 38 finished with value: 0.7695213418814304 and parameters: {'original_max_depth': 6, 'original_learning_rate': 0.020853822730877693, 'original_n_estimators': 162, 'original_subsample': 0.8744401102547519, 'original_colsample_bytree': 0.9516210812980391, 'original_reg_alpha': 0.014401723632866797, 'original_reg_lambda': 0.5732013016790392, 'blackmask_max_depth': 8, 'blackmask_learning_rate': 0.1821341378607933, 'blackmask_n_estimators': 239, 'blackmask_subsample': 0.9626799450005573, 'blackmask_colsample_bytree': 0.9841978318603979, 'blackmask_reg_alpha': 0.34931679803076193, 'blackmask_reg_lambda': 0.08804350761620376, 'highlight_max_depth': 7, 'highlight_learning_rate': 0.06280628680232823, 'highlight_n_estimators': 188, 'highlight_subsample': 0.8427789254144409, 'highlight_colsample_bytree': 0.7430944389933465, 'highlight_reg_alpha': 0.0015656537185347057, 'highlight_reg_lambda': 0.2384104203850154, 'final_max_depth': 10, 'final_learning_rate': 0.23515561216190045, 'final_n_estimators': 316, 'final_subsample': 0.9839703275540582, 'final_colsample_bytree': 0.9162784045766375, 'final_reg_alpha': 0.010670786337928785, 'final_reg_lambda': 0.027201771526512167, 'weight_original': 0.9985741186292594, 'weight_blackmask': 0.9628399817180788, 'weight_highlight': 0.49672719111302144, 'weight_final': 0.6439800159025205, 'adaptive_weight_factor': 1.7297617595213466, 'confidence_threshold': 0.6220508381024428, 'threshold_group_0': 0.299026365662179, 'threshold_group_1': 0.44980680374080384, 'threshold_group_2': 0.6278716390384185, 'threshold_group_3': 0.3774247552605747, 'threshold_group_4': 0.294580446408466}. Best is trial 38 with value: 0.7695213418814304.\n"
     ]
    },
    {
     "name": "stdout",
     "output_type": "stream",
     "text": [
      "Valid labels: 43, Constant labels: 12\n",
      "Training variant-specific models...\n",
      "  Training original model...\n",
      "  Training blackmask model...\n",
      "  Training highlight model...\n",
      "  Training final model...\n",
      "Training advanced variant selector...\n",
      "Trained 43 variant selectors\n"
     ]
    },
    {
     "name": "stderr",
     "output_type": "stream",
     "text": [
      "[I 2025-05-26 18:21:37,491] Trial 39 finished with value: 0.771003240903479 and parameters: {'original_max_depth': 6, 'original_learning_rate': 0.021627628998620634, 'original_n_estimators': 146, 'original_subsample': 0.9015399089203687, 'original_colsample_bytree': 0.9516770425097268, 'original_reg_alpha': 0.009684105766583156, 'original_reg_lambda': 0.0010066450208514126, 'blackmask_max_depth': 7, 'blackmask_learning_rate': 0.11168466987871355, 'blackmask_n_estimators': 239, 'blackmask_subsample': 0.9136172189100754, 'blackmask_colsample_bytree': 0.9878058746456416, 'blackmask_reg_alpha': 0.15806143211028553, 'blackmask_reg_lambda': 0.046816115837723875, 'highlight_max_depth': 7, 'highlight_learning_rate': 0.06694476963261431, 'highlight_n_estimators': 187, 'highlight_subsample': 0.8565006078438628, 'highlight_colsample_bytree': 0.7445341256971478, 'highlight_reg_alpha': 0.005824681707319479, 'highlight_reg_lambda': 0.26996714564034857, 'final_max_depth': 9, 'final_learning_rate': 0.23473771771120705, 'final_n_estimators': 327, 'final_subsample': 0.9620099113959345, 'final_colsample_bytree': 0.9486590961815139, 'final_reg_alpha': 0.006467021533665911, 'final_reg_lambda': 0.028705168232510195, 'weight_original': 0.9908388705195068, 'weight_blackmask': 1.0296029283611774, 'weight_highlight': 0.7638530744794005, 'weight_final': 0.6210733526709052, 'adaptive_weight_factor': 1.729333079426799, 'confidence_threshold': 0.6149601072983082, 'threshold_group_0': 0.29474969635786036, 'threshold_group_1': 0.42678641023109654, 'threshold_group_2': 0.618380964134486, 'threshold_group_3': 0.3944860011019747, 'threshold_group_4': 0.30046503426107063}. Best is trial 39 with value: 0.771003240903479.\n"
     ]
    },
    {
     "name": "stdout",
     "output_type": "stream",
     "text": [
      "Valid labels: 43, Constant labels: 12\n",
      "Training variant-specific models...\n",
      "  Training original model...\n",
      "  Training blackmask model...\n",
      "  Training highlight model...\n",
      "  Training final model...\n",
      "Training advanced variant selector...\n",
      "Trained 43 variant selectors\n"
     ]
    },
    {
     "name": "stderr",
     "output_type": "stream",
     "text": [
      "[I 2025-05-26 18:23:59,168] Trial 40 finished with value: 0.7707488180756957 and parameters: {'original_max_depth': 7, 'original_learning_rate': 0.020367007640560167, 'original_n_estimators': 191, 'original_subsample': 0.9698802183973894, 'original_colsample_bytree': 0.994489437954695, 'original_reg_alpha': 0.008402565485061197, 'original_reg_lambda': 0.001314388199888344, 'blackmask_max_depth': 8, 'blackmask_learning_rate': 0.10718367282517498, 'blackmask_n_estimators': 239, 'blackmask_subsample': 0.9045549742257526, 'blackmask_colsample_bytree': 0.9821750924759647, 'blackmask_reg_alpha': 0.11397001349670191, 'blackmask_reg_lambda': 0.0417465044572865, 'highlight_max_depth': 7, 'highlight_learning_rate': 0.06716172261065195, 'highlight_n_estimators': 170, 'highlight_subsample': 0.8908036568164689, 'highlight_colsample_bytree': 0.7407639591353812, 'highlight_reg_alpha': 0.005500560798706918, 'highlight_reg_lambda': 0.9611476651287784, 'final_max_depth': 9, 'final_learning_rate': 0.23502401053362162, 'final_n_estimators': 323, 'final_subsample': 0.9572605026901461, 'final_colsample_bytree': 0.9499254292124438, 'final_reg_alpha': 0.002762291869747974, 'final_reg_lambda': 0.03016259713072589, 'weight_original': 1.0031919192524164, 'weight_blackmask': 0.9783091732602138, 'weight_highlight': 0.37237694449379566, 'weight_final': 0.6641442008660958, 'adaptive_weight_factor': 1.7580995228434302, 'confidence_threshold': 0.6158107407042859, 'threshold_group_0': 0.29821749646838047, 'threshold_group_1': 0.4319218246785246, 'threshold_group_2': 0.6219976589212699, 'threshold_group_3': 0.388345148607544, 'threshold_group_4': 0.3516912574526537}. Best is trial 39 with value: 0.771003240903479.\n"
     ]
    },
    {
     "name": "stdout",
     "output_type": "stream",
     "text": [
      "Valid labels: 43, Constant labels: 12\n",
      "Training variant-specific models...\n",
      "  Training original model...\n",
      "  Training blackmask model...\n",
      "  Training highlight model...\n",
      "  Training final model...\n",
      "Training advanced variant selector...\n",
      "Trained 43 variant selectors\n"
     ]
    },
    {
     "name": "stderr",
     "output_type": "stream",
     "text": [
      "[I 2025-05-26 18:26:22,235] Trial 41 finished with value: 0.7698732233157947 and parameters: {'original_max_depth': 7, 'original_learning_rate': 0.020387981110086502, 'original_n_estimators': 185, 'original_subsample': 0.9544376065337598, 'original_colsample_bytree': 0.9883295309847151, 'original_reg_alpha': 0.007502849275208613, 'original_reg_lambda': 0.0010751343484259547, 'blackmask_max_depth': 8, 'blackmask_learning_rate': 0.09901564349786737, 'blackmask_n_estimators': 239, 'blackmask_subsample': 0.9110683277435788, 'blackmask_colsample_bytree': 0.9870793520202077, 'blackmask_reg_alpha': 0.14491919608245682, 'blackmask_reg_lambda': 0.050078762668405004, 'highlight_max_depth': 7, 'highlight_learning_rate': 0.06460786430244962, 'highlight_n_estimators': 189, 'highlight_subsample': 0.8928115858963916, 'highlight_colsample_bytree': 0.7334517283496221, 'highlight_reg_alpha': 0.006596088309640744, 'highlight_reg_lambda': 0.8054299060427154, 'final_max_depth': 9, 'final_learning_rate': 0.23815600752608762, 'final_n_estimators': 325, 'final_subsample': 0.9606705456908191, 'final_colsample_bytree': 0.9510450522505917, 'final_reg_alpha': 0.002953762040317061, 'final_reg_lambda': 0.030237540387945187, 'weight_original': 1.023992281305657, 'weight_blackmask': 1.0128989787558327, 'weight_highlight': 0.2180633226836943, 'weight_final': 0.6869264507595153, 'adaptive_weight_factor': 1.7684522603228747, 'confidence_threshold': 0.6165989218284129, 'threshold_group_0': 0.29754333448655607, 'threshold_group_1': 0.43207261922034257, 'threshold_group_2': 0.6324585083108124, 'threshold_group_3': 0.3936996419197912, 'threshold_group_4': 0.3517413938259443}. Best is trial 39 with value: 0.771003240903479.\n"
     ]
    },
    {
     "name": "stdout",
     "output_type": "stream",
     "text": [
      "Valid labels: 43, Constant labels: 12\n",
      "Training variant-specific models...\n",
      "  Training original model...\n",
      "  Training blackmask model...\n",
      "  Training highlight model...\n",
      "  Training final model...\n",
      "Training advanced variant selector...\n",
      "Trained 43 variant selectors\n"
     ]
    },
    {
     "name": "stderr",
     "output_type": "stream",
     "text": [
      "[I 2025-05-26 18:28:40,607] Trial 42 finished with value: 0.7712060208160252 and parameters: {'original_max_depth': 7, 'original_learning_rate': 0.02006100967534746, 'original_n_estimators': 187, 'original_subsample': 0.9715614975292609, 'original_colsample_bytree': 0.999602339632069, 'original_reg_alpha': 0.007832406462421514, 'original_reg_lambda': 0.0010164045698928862, 'blackmask_max_depth': 8, 'blackmask_learning_rate': 0.1069000930789718, 'blackmask_n_estimators': 237, 'blackmask_subsample': 0.8910327654475803, 'blackmask_colsample_bytree': 0.9862690699358521, 'blackmask_reg_alpha': 0.13136096691984095, 'blackmask_reg_lambda': 0.045970623574164225, 'highlight_max_depth': 7, 'highlight_learning_rate': 0.06631660781515314, 'highlight_n_estimators': 170, 'highlight_subsample': 0.8957021322408081, 'highlight_colsample_bytree': 0.7424880079022272, 'highlight_reg_alpha': 0.03290373446618769, 'highlight_reg_lambda': 0.9885331430379355, 'final_max_depth': 9, 'final_learning_rate': 0.24813783338646772, 'final_n_estimators': 290, 'final_subsample': 0.95812593982445, 'final_colsample_bytree': 0.947823565896721, 'final_reg_alpha': 0.0027888174632138894, 'final_reg_lambda': 0.028234542872246363, 'weight_original': 0.9992278005865637, 'weight_blackmask': 1.0073579849608085, 'weight_highlight': 0.1941206298150362, 'weight_final': 0.6447818636040179, 'adaptive_weight_factor': 1.8536158732307064, 'confidence_threshold': 0.6141595062265913, 'threshold_group_0': 0.2960719404234448, 'threshold_group_1': 0.42705537022962914, 'threshold_group_2': 0.6167866084172088, 'threshold_group_3': 0.4057487932589704, 'threshold_group_4': 0.3515157763203367}. Best is trial 42 with value: 0.7712060208160252.\n"
     ]
    },
    {
     "name": "stdout",
     "output_type": "stream",
     "text": [
      "Valid labels: 43, Constant labels: 12\n",
      "Training variant-specific models...\n",
      "  Training original model...\n",
      "  Training blackmask model...\n",
      "  Training highlight model...\n",
      "  Training final model...\n",
      "Training advanced variant selector...\n",
      "Trained 43 variant selectors\n"
     ]
    },
    {
     "name": "stderr",
     "output_type": "stream",
     "text": [
      "[I 2025-05-26 18:30:59,619] Trial 43 finished with value: 0.769829082284499 and parameters: {'original_max_depth': 6, 'original_learning_rate': 0.01911269737309345, 'original_n_estimators': 185, 'original_subsample': 0.9564819945543581, 'original_colsample_bytree': 0.9916794832638464, 'original_reg_alpha': 0.008083255920903884, 'original_reg_lambda': 0.0010395921771594841, 'blackmask_max_depth': 9, 'blackmask_learning_rate': 0.11029442852190914, 'blackmask_n_estimators': 241, 'blackmask_subsample': 0.8909233111684355, 'blackmask_colsample_bytree': 0.9906301155060747, 'blackmask_reg_alpha': 0.14496548455328376, 'blackmask_reg_lambda': 0.04386842481801398, 'highlight_max_depth': 7, 'highlight_learning_rate': 0.06625607335218058, 'highlight_n_estimators': 169, 'highlight_subsample': 0.8890598771084818, 'highlight_colsample_bytree': 0.7405439840580652, 'highlight_reg_alpha': 0.028965325305712063, 'highlight_reg_lambda': 0.7692064273931096, 'final_max_depth': 9, 'final_learning_rate': 0.23814356837089734, 'final_n_estimators': 313, 'final_subsample': 0.9588691421757986, 'final_colsample_bytree': 0.9488187991781378, 'final_reg_alpha': 0.0028389960490579945, 'final_reg_lambda': 0.030178318707121354, 'weight_original': 0.9852592059505532, 'weight_blackmask': 1.0101209539007778, 'weight_highlight': 0.19573947339291295, 'weight_final': 0.6434269653140718, 'adaptive_weight_factor': 2.0179902356797284, 'confidence_threshold': 0.6109295148904986, 'threshold_group_0': 0.2946130273113031, 'threshold_group_1': 0.423463721317389, 'threshold_group_2': 0.6144841320356087, 'threshold_group_3': 0.39100324677467685, 'threshold_group_4': 0.35912035028943506}. Best is trial 42 with value: 0.7712060208160252.\n"
     ]
    },
    {
     "name": "stdout",
     "output_type": "stream",
     "text": [
      "Valid labels: 43, Constant labels: 12\n",
      "Training variant-specific models...\n",
      "  Training original model...\n",
      "  Training blackmask model...\n",
      "  Training highlight model...\n",
      "  Training final model...\n",
      "Training advanced variant selector...\n",
      "Trained 43 variant selectors\n"
     ]
    },
    {
     "name": "stderr",
     "output_type": "stream",
     "text": [
      "[I 2025-05-26 18:33:19,981] Trial 44 finished with value: 0.7685844121430131 and parameters: {'original_max_depth': 7, 'original_learning_rate': 0.018296339690938735, 'original_n_estimators': 188, 'original_subsample': 0.9580244004986495, 'original_colsample_bytree': 0.998112287070842, 'original_reg_alpha': 0.00792061431615766, 'original_reg_lambda': 0.0010100916723226232, 'blackmask_max_depth': 9, 'blackmask_learning_rate': 0.10481446221246758, 'blackmask_n_estimators': 240, 'blackmask_subsample': 0.8886759640510287, 'blackmask_colsample_bytree': 0.9972632654643002, 'blackmask_reg_alpha': 0.1210430702919217, 'blackmask_reg_lambda': 0.04590623340760367, 'highlight_max_depth': 7, 'highlight_learning_rate': 0.06741312055681623, 'highlight_n_estimators': 168, 'highlight_subsample': 0.8938527654344749, 'highlight_colsample_bytree': 0.7009613451220829, 'highlight_reg_alpha': 0.02831350925649943, 'highlight_reg_lambda': 0.7040640349888475, 'final_max_depth': 9, 'final_learning_rate': 0.11342430596006346, 'final_n_estimators': 289, 'final_subsample': 0.9585548352564788, 'final_colsample_bytree': 0.9491657530735806, 'final_reg_alpha': 0.001030402283770423, 'final_reg_lambda': 0.03178747798700994, 'weight_original': 0.8568304823106679, 'weight_blackmask': 1.0008424138839105, 'weight_highlight': 0.20617358744849643, 'weight_final': 0.7876517268938082, 'adaptive_weight_factor': 2.0048747523907724, 'confidence_threshold': 0.601301989140413, 'threshold_group_0': 0.3953013343160419, 'threshold_group_1': 0.4197549999502194, 'threshold_group_2': 0.5743854510110443, 'threshold_group_3': 0.4102109820183616, 'threshold_group_4': 0.4059348102848936}. Best is trial 42 with value: 0.7712060208160252.\n"
     ]
    },
    {
     "name": "stdout",
     "output_type": "stream",
     "text": [
      "Valid labels: 43, Constant labels: 12\n",
      "Training variant-specific models...\n",
      "  Training original model...\n",
      "  Training blackmask model...\n",
      "  Training highlight model...\n",
      "  Training final model...\n",
      "Training advanced variant selector...\n",
      "Trained 43 variant selectors\n"
     ]
    },
    {
     "name": "stderr",
     "output_type": "stream",
     "text": [
      "[I 2025-05-26 18:35:41,139] Trial 45 finished with value: 0.769434184930005 and parameters: {'original_max_depth': 6, 'original_learning_rate': 0.017639806264005135, 'original_n_estimators': 185, 'original_subsample': 0.9704597771486747, 'original_colsample_bytree': 0.9859266409147369, 'original_reg_alpha': 0.005755757427599549, 'original_reg_lambda': 0.0024319986080034873, 'blackmask_max_depth': 9, 'blackmask_learning_rate': 0.06416491163059304, 'blackmask_n_estimators': 256, 'blackmask_subsample': 0.9154192369717321, 'blackmask_colsample_bytree': 0.9892961486311713, 'blackmask_reg_alpha': 0.16591563120787445, 'blackmask_reg_lambda': 0.014971176005987179, 'highlight_max_depth': 7, 'highlight_learning_rate': 0.047366043108480645, 'highlight_n_estimators': 151, 'highlight_subsample': 0.9094727427864598, 'highlight_colsample_bytree': 0.746736516018216, 'highlight_reg_alpha': 0.026070351214498213, 'highlight_reg_lambda': 0.9786089824951636, 'final_max_depth': 8, 'final_learning_rate': 0.16540393169336687, 'final_n_estimators': 310, 'final_subsample': 0.9186474782746337, 'final_colsample_bytree': 0.947822525694317, 'final_reg_alpha': 0.002598535951391743, 'final_reg_lambda': 0.013868536863030939, 'weight_original': 0.9912226806065538, 'weight_blackmask': 1.0462274852032185, 'weight_highlight': 0.19753215920741624, 'weight_final': 0.9136840948252722, 'adaptive_weight_factor': 1.866335411081941, 'confidence_threshold': 0.6234569781396889, 'threshold_group_0': 0.2891802664853947, 'threshold_group_1': 0.4153159405118972, 'threshold_group_2': 0.5991283467040032, 'threshold_group_3': 0.4580924096466129, 'threshold_group_4': 0.3590083976762623}. Best is trial 42 with value: 0.7712060208160252.\n"
     ]
    },
    {
     "name": "stdout",
     "output_type": "stream",
     "text": [
      "Valid labels: 43, Constant labels: 12\n",
      "Training variant-specific models...\n",
      "  Training original model...\n",
      "  Training blackmask model...\n",
      "  Training highlight model...\n",
      "  Training final model...\n",
      "Training advanced variant selector...\n",
      "Trained 43 variant selectors\n"
     ]
    },
    {
     "name": "stderr",
     "output_type": "stream",
     "text": [
      "[I 2025-05-26 18:38:04,969] Trial 46 finished with value: 0.7603970218308547 and parameters: {'original_max_depth': 7, 'original_learning_rate': 0.02229440546891101, 'original_n_estimators': 208, 'original_subsample': 0.9501639987354665, 'original_colsample_bytree': 0.9802635312861981, 'original_reg_alpha': 0.00850370470151271, 'original_reg_lambda': 0.0012440359801481407, 'blackmask_max_depth': 9, 'blackmask_learning_rate': 0.11379263361970533, 'blackmask_n_estimators': 229, 'blackmask_subsample': 0.8775467301023598, 'blackmask_colsample_bytree': 0.9876585672431953, 'blackmask_reg_alpha': 0.11276845215027266, 'blackmask_reg_lambda': 0.061155351935997186, 'highlight_max_depth': 8, 'highlight_learning_rate': 0.07164336995234247, 'highlight_n_estimators': 172, 'highlight_subsample': 0.8880526290751432, 'highlight_colsample_bytree': 0.7361951484321904, 'highlight_reg_alpha': 0.0475932650653375, 'highlight_reg_lambda': 0.4834977640646677, 'final_max_depth': 8, 'final_learning_rate': 0.23239477088365873, 'final_n_estimators': 332, 'final_subsample': 0.9602600270358994, 'final_colsample_bytree': 0.9484460067769495, 'final_reg_alpha': 0.0017054906939420655, 'final_reg_lambda': 0.025567382590572525, 'weight_original': 0.8600910510056394, 'weight_blackmask': 0.8380078779824517, 'weight_highlight': 0.35508866437201736, 'weight_final': 0.770433071139278, 'adaptive_weight_factor': 2.2042341284469327, 'confidence_threshold': 0.6634418364596777, 'threshold_group_0': 0.7390656934424935, 'threshold_group_1': 0.3844037475252627, 'threshold_group_2': 0.5574102248500846, 'threshold_group_3': 0.32641802606694487, 'threshold_group_4': 0.4645220376875896}. Best is trial 42 with value: 0.7712060208160252.\n"
     ]
    },
    {
     "name": "stdout",
     "output_type": "stream",
     "text": [
      "Valid labels: 43, Constant labels: 12\n",
      "Training variant-specific models...\n",
      "  Training original model...\n",
      "  Training blackmask model...\n",
      "  Training highlight model...\n",
      "  Training final model...\n",
      "Training advanced variant selector...\n",
      "Trained 43 variant selectors\n"
     ]
    },
    {
     "name": "stderr",
     "output_type": "stream",
     "text": [
      "[I 2025-05-26 18:40:25,887] Trial 47 finished with value: 0.7672555677279823 and parameters: {'original_max_depth': 6, 'original_learning_rate': 0.011446446284589894, 'original_n_estimators': 201, 'original_subsample': 0.9777703546475737, 'original_colsample_bytree': 0.9686578657425476, 'original_reg_alpha': 0.011839910283737804, 'original_reg_lambda': 0.003638062453915911, 'blackmask_max_depth': 8, 'blackmask_learning_rate': 0.08928377956181383, 'blackmask_n_estimators': 252, 'blackmask_subsample': 0.9062397451810624, 'blackmask_colsample_bytree': 0.9612969614882473, 'blackmask_reg_alpha': 0.2119872514110365, 'blackmask_reg_lambda': 0.023895792317032812, 'highlight_max_depth': 7, 'highlight_learning_rate': 0.037134423688761915, 'highlight_n_estimators': 149, 'highlight_subsample': 0.9189619476743608, 'highlight_colsample_bytree': 0.7874925701099659, 'highlight_reg_alpha': 0.010119027048541469, 'highlight_reg_lambda': 0.9248860500526831, 'final_max_depth': 9, 'final_learning_rate': 0.2334642194378094, 'final_n_estimators': 289, 'final_subsample': 0.9391646615535166, 'final_colsample_bytree': 0.8963725479801848, 'final_reg_alpha': 0.002649034857321977, 'final_reg_lambda': 0.005825994964704189, 'weight_original': 0.9801845592131534, 'weight_blackmask': 0.7608462335401598, 'weight_highlight': 0.2350170919996344, 'weight_final': 0.655909941008545, 'adaptive_weight_factor': 1.9900977693146578, 'confidence_threshold': 0.6195765085369787, 'threshold_group_0': 0.38974926745083577, 'threshold_group_1': 0.42545404788456387, 'threshold_group_2': 0.6230278271508647, 'threshold_group_3': 0.40988838505775843, 'threshold_group_4': 0.4065716566812062}. Best is trial 42 with value: 0.7712060208160252.\n"
     ]
    },
    {
     "name": "stdout",
     "output_type": "stream",
     "text": [
      "Valid labels: 43, Constant labels: 12\n",
      "Training variant-specific models...\n",
      "  Training original model...\n",
      "  Training blackmask model...\n",
      "  Training highlight model...\n",
      "  Training final model...\n",
      "Training advanced variant selector...\n",
      "Trained 43 variant selectors\n"
     ]
    },
    {
     "name": "stderr",
     "output_type": "stream",
     "text": [
      "[I 2025-05-26 18:42:54,146] Trial 48 finished with value: 0.7682719693744019 and parameters: {'original_max_depth': 7, 'original_learning_rate': 0.023516974608975855, 'original_n_estimators': 223, 'original_subsample': 0.9843846781898072, 'original_colsample_bytree': 0.9765528871561463, 'original_reg_alpha': 0.004415759917776624, 'original_reg_lambda': 0.0016752329114897873, 'blackmask_max_depth': 9, 'blackmask_learning_rate': 0.080296155921095, 'blackmask_n_estimators': 244, 'blackmask_subsample': 0.8653810796519862, 'blackmask_colsample_bytree': 0.8778361606566543, 'blackmask_reg_alpha': 0.14391328494995925, 'blackmask_reg_lambda': 0.15388217212036442, 'highlight_max_depth': 9, 'highlight_learning_rate': 0.08646732546040412, 'highlight_n_estimators': 188, 'highlight_subsample': 0.8821318661183155, 'highlight_colsample_bytree': 0.7528505524787495, 'highlight_reg_alpha': 0.007503711109992767, 'highlight_reg_lambda': 0.47909957722626806, 'final_max_depth': 8, 'final_learning_rate': 0.1896936086194578, 'final_n_estimators': 325, 'final_subsample': 0.9217373811407271, 'final_colsample_bytree': 0.8676608237556163, 'final_reg_alpha': 0.0016028945782952443, 'final_reg_lambda': 0.03288391232540798, 'weight_original': 0.7494547124713733, 'weight_blackmask': 0.9824956216059965, 'weight_highlight': 0.3746394337089808, 'weight_final': 0.8691828896460754, 'adaptive_weight_factor': 2.1708202475907186, 'confidence_threshold': 0.6595442828929884, 'threshold_group_0': 0.31348315265381793, 'threshold_group_1': 0.4651422534876427, 'threshold_group_2': 0.6246685077083483, 'threshold_group_3': 0.3896286104250396, 'threshold_group_4': 0.3487119672078993}. Best is trial 42 with value: 0.7712060208160252.\n"
     ]
    },
    {
     "name": "stdout",
     "output_type": "stream",
     "text": [
      "Valid labels: 43, Constant labels: 12\n",
      "Training variant-specific models...\n",
      "  Training original model...\n",
      "  Training blackmask model...\n",
      "  Training highlight model...\n",
      "  Training final model...\n",
      "Training advanced variant selector...\n",
      "Trained 43 variant selectors\n"
     ]
    },
    {
     "name": "stderr",
     "output_type": "stream",
     "text": [
      "[I 2025-05-26 18:45:25,658] Trial 49 finished with value: 0.7607621684212018 and parameters: {'original_max_depth': 7, 'original_learning_rate': 0.01635368502248473, 'original_n_estimators': 189, 'original_subsample': 0.9131996493042173, 'original_colsample_bytree': 0.9889494131825984, 'original_reg_alpha': 0.0018264494119688123, 'original_reg_lambda': 0.0037184741776678178, 'blackmask_max_depth': 8, 'blackmask_learning_rate': 0.09533077778884304, 'blackmask_n_estimators': 233, 'blackmask_subsample': 0.8866329196662289, 'blackmask_colsample_bytree': 0.7653821260054063, 'blackmask_reg_alpha': 0.5328246306889013, 'blackmask_reg_lambda': 0.04831236493527943, 'highlight_max_depth': 7, 'highlight_learning_rate': 0.06246365468019807, 'highlight_n_estimators': 178, 'highlight_subsample': 0.8616587246766106, 'highlight_colsample_bytree': 0.8169922932498751, 'highlight_reg_alpha': 0.09866182604915094, 'highlight_reg_lambda': 0.6358732631257371, 'final_max_depth': 9, 'final_learning_rate': 0.025111100449104105, 'final_n_estimators': 275, 'final_subsample': 0.9479722445370236, 'final_colsample_bytree': 0.9248980903276398, 'final_reg_alpha': 0.0033637136317508963, 'final_reg_lambda': 0.01787330745958967, 'weight_original': 0.5668013283730129, 'weight_blackmask': 1.043806118747204, 'weight_highlight': 0.1446536418564245, 'weight_final': 0.6364349381778633, 'adaptive_weight_factor': 1.8741702517416081, 'confidence_threshold': 0.6112228146501917, 'threshold_group_0': 0.3391700018376651, 'threshold_group_1': 0.405343243166216, 'threshold_group_2': 0.5751430894523814, 'threshold_group_3': 0.4841543924485432, 'threshold_group_4': 0.744728834105177}. Best is trial 42 with value: 0.7712060208160252.\n"
     ]
    },
    {
     "name": "stdout",
     "output_type": "stream",
     "text": [
      "Valid labels: 43, Constant labels: 12\n",
      "Training variant-specific models...\n",
      "  Training original model...\n",
      "  Training blackmask model...\n",
      "  Training highlight model...\n",
      "  Training final model...\n",
      "Training advanced variant selector...\n",
      "Trained 43 variant selectors\n"
     ]
    },
    {
     "name": "stderr",
     "output_type": "stream",
     "text": [
      "[I 2025-05-26 18:47:49,329] Trial 50 finished with value: 0.7699424433094484 and parameters: {'original_max_depth': 8, 'original_learning_rate': 0.031005727935115954, 'original_n_estimators': 182, 'original_subsample': 0.9552590638498796, 'original_colsample_bytree': 0.9642693097442278, 'original_reg_alpha': 0.022014821651021615, 'original_reg_lambda': 0.002138357589854527, 'blackmask_max_depth': 6, 'blackmask_learning_rate': 0.11796612698363887, 'blackmask_n_estimators': 222, 'blackmask_subsample': 0.9031489342107402, 'blackmask_colsample_bytree': 0.9418799101022919, 'blackmask_reg_alpha': 0.048066912216175546, 'blackmask_reg_lambda': 0.025232812409151748, 'highlight_max_depth': 7, 'highlight_learning_rate': 0.015150527713350527, 'highlight_n_estimators': 164, 'highlight_subsample': 0.907753297484793, 'highlight_colsample_bytree': 0.7295432523176597, 'highlight_reg_alpha': 0.024146050524065737, 'highlight_reg_lambda': 0.3604450387810603, 'final_max_depth': 9, 'final_learning_rate': 0.08806240567451167, 'final_n_estimators': 341, 'final_subsample': 0.9058110517024716, 'final_colsample_bytree': 0.8935721252967581, 'final_reg_alpha': 0.0012326330955095782, 'final_reg_lambda': 0.013455153539689955, 'weight_original': 0.9162747782745613, 'weight_blackmask': 0.44282670433919835, 'weight_highlight': 0.29245420675584494, 'weight_final': 0.7262883769605856, 'adaptive_weight_factor': 1.7648434708403355, 'confidence_threshold': 0.6324774923483056, 'threshold_group_0': 0.38013546397095566, 'threshold_group_1': 0.29575263219864856, 'threshold_group_2': 0.6012765571890181, 'threshold_group_3': 0.4365281071396482, 'threshold_group_4': 0.4625131617865591}. Best is trial 42 with value: 0.7712060208160252.\n"
     ]
    },
    {
     "name": "stdout",
     "output_type": "stream",
     "text": [
      "Valid labels: 43, Constant labels: 12\n",
      "Training variant-specific models...\n",
      "  Training original model...\n",
      "  Training blackmask model...\n",
      "  Training highlight model...\n",
      "  Training final model...\n",
      "Training advanced variant selector...\n",
      "Trained 43 variant selectors\n"
     ]
    },
    {
     "name": "stderr",
     "output_type": "stream",
     "text": [
      "[I 2025-05-26 18:50:16,180] Trial 51 finished with value: 0.7711035734470548 and parameters: {'original_max_depth': 8, 'original_learning_rate': 0.028762292431503078, 'original_n_estimators': 181, 'original_subsample': 0.9477946553148971, 'original_colsample_bytree': 0.9646184494943512, 'original_reg_alpha': 0.021158008805352232, 'original_reg_lambda': 0.0013465070170764369, 'blackmask_max_depth': 6, 'blackmask_learning_rate': 0.13636568794430037, 'blackmask_n_estimators': 215, 'blackmask_subsample': 0.9016599123587657, 'blackmask_colsample_bytree': 0.9877818114035622, 'blackmask_reg_alpha': 0.08038933464276557, 'blackmask_reg_lambda': 0.02287066627288261, 'highlight_max_depth': 7, 'highlight_learning_rate': 0.03276384347027541, 'highlight_n_estimators': 165, 'highlight_subsample': 0.9041120023651942, 'highlight_colsample_bytree': 0.7292022037579686, 'highlight_reg_alpha': 0.02178951066946348, 'highlight_reg_lambda': 0.3615175858694131, 'final_max_depth': 9, 'final_learning_rate': 0.04165643935766833, 'final_n_estimators': 341, 'final_subsample': 0.8965388894308969, 'final_colsample_bytree': 0.9401528667679037, 'final_reg_alpha': 0.0014793933053767788, 'final_reg_lambda': 0.014497130797850238, 'weight_original': 0.9316601881481511, 'weight_blackmask': 0.4256801719159982, 'weight_highlight': 0.30950089507830264, 'weight_final': 0.7591280206741962, 'adaptive_weight_factor': 1.7644919763655897, 'confidence_threshold': 0.6334688970061542, 'threshold_group_0': 0.28361887299499433, 'threshold_group_1': 0.2931062885874158, 'threshold_group_2': 0.6023725110720329, 'threshold_group_3': 0.4454428381552673, 'threshold_group_4': 0.5385016157566296}. Best is trial 42 with value: 0.7712060208160252.\n"
     ]
    },
    {
     "name": "stdout",
     "output_type": "stream",
     "text": [
      "Valid labels: 43, Constant labels: 12\n",
      "Training variant-specific models...\n",
      "  Training original model...\n",
      "  Training blackmask model...\n",
      "  Training highlight model...\n",
      "  Training final model...\n",
      "Training advanced variant selector...\n",
      "Trained 43 variant selectors\n"
     ]
    },
    {
     "name": "stderr",
     "output_type": "stream",
     "text": [
      "[I 2025-05-26 18:52:43,344] Trial 52 finished with value: 0.7687348602381084 and parameters: {'original_max_depth': 8, 'original_learning_rate': 0.02740657403591794, 'original_n_estimators': 171, 'original_subsample': 0.9430843631660428, 'original_colsample_bytree': 0.9625165752690498, 'original_reg_alpha': 0.022381792559752305, 'original_reg_lambda': 0.0019262505820557506, 'blackmask_max_depth': 6, 'blackmask_learning_rate': 0.13954414657333897, 'blackmask_n_estimators': 219, 'blackmask_subsample': 0.9214334401974332, 'blackmask_colsample_bytree': 0.9778373684222696, 'blackmask_reg_alpha': 0.04882258449316404, 'blackmask_reg_lambda': 0.011592893364639487, 'highlight_max_depth': 7, 'highlight_learning_rate': 0.02045158137492198, 'highlight_n_estimators': 161, 'highlight_subsample': 0.9072768442240091, 'highlight_colsample_bytree': 0.7259257840295945, 'highlight_reg_alpha': 0.020138383749614987, 'highlight_reg_lambda': 0.4669124395115855, 'final_max_depth': 9, 'final_learning_rate': 0.03687736104252459, 'final_n_estimators': 344, 'final_subsample': 0.8975576921638845, 'final_colsample_bytree': 0.9002537739375168, 'final_reg_alpha': 0.0013108349712733724, 'final_reg_lambda': 0.015889371624982402, 'weight_original': 0.8863664586061103, 'weight_blackmask': 0.42215233330506813, 'weight_highlight': 0.29451828606847213, 'weight_final': 0.7346235473953078, 'adaptive_weight_factor': 1.7661774038196592, 'confidence_threshold': 0.633789479788467, 'threshold_group_0': 0.4332838492213783, 'threshold_group_1': 0.28371252828366994, 'threshold_group_2': 0.6009923052833502, 'threshold_group_3': 0.4425608286684203, 'threshold_group_4': 0.5256669834624178}. Best is trial 42 with value: 0.7712060208160252.\n"
     ]
    },
    {
     "name": "stdout",
     "output_type": "stream",
     "text": [
      "Valid labels: 43, Constant labels: 12\n",
      "Training variant-specific models...\n",
      "  Training original model...\n",
      "  Training blackmask model...\n",
      "  Training highlight model...\n",
      "  Training final model...\n",
      "Training advanced variant selector...\n",
      "Trained 43 variant selectors\n"
     ]
    },
    {
     "name": "stderr",
     "output_type": "stream",
     "text": [
      "[I 2025-05-26 18:55:06,216] Trial 53 finished with value: 0.7719030891530098 and parameters: {'original_max_depth': 8, 'original_learning_rate': 0.032735160719804125, 'original_n_estimators': 181, 'original_subsample': 0.9009848249838115, 'original_colsample_bytree': 0.9997979821952483, 'original_reg_alpha': 0.010706452234562566, 'original_reg_lambda': 0.0014122576799568886, 'blackmask_max_depth': 6, 'blackmask_learning_rate': 0.12309572997684036, 'blackmask_n_estimators': 214, 'blackmask_subsample': 0.9063995886609179, 'blackmask_colsample_bytree': 0.9984081719527383, 'blackmask_reg_alpha': 0.0870680224679593, 'blackmask_reg_lambda': 0.02623738086973662, 'highlight_max_depth': 8, 'highlight_learning_rate': 0.017156266290303018, 'highlight_n_estimators': 138, 'highlight_subsample': 0.926677724700139, 'highlight_colsample_bytree': 0.707851067034665, 'highlight_reg_alpha': 0.03942710293660458, 'highlight_reg_lambda': 0.3084867468802884, 'final_max_depth': 8, 'final_learning_rate': 0.0519813946699323, 'final_n_estimators': 331, 'final_subsample': 0.8730659004496187, 'final_colsample_bytree': 0.9399418011070368, 'final_reg_alpha': 0.0019550632257803475, 'final_reg_lambda': 0.003935363714604777, 'weight_original': 0.8012054752776542, 'weight_blackmask': 0.3857895993260953, 'weight_highlight': 0.40634117567813666, 'weight_final': 0.9183250843678425, 'adaptive_weight_factor': 1.8619875612572507, 'confidence_threshold': 0.6316444822524276, 'threshold_group_0': 0.2771081067735054, 'threshold_group_1': 0.29266890354146513, 'threshold_group_2': 0.5223868730157253, 'threshold_group_3': 0.4257381942010756, 'threshold_group_4': 0.44890657829417385}. Best is trial 53 with value: 0.7719030891530098.\n"
     ]
    },
    {
     "name": "stdout",
     "output_type": "stream",
     "text": [
      "Valid labels: 43, Constant labels: 12\n",
      "Training variant-specific models...\n",
      "  Training original model...\n",
      "  Training blackmask model...\n",
      "  Training highlight model...\n",
      "  Training final model...\n",
      "Training advanced variant selector...\n",
      "Trained 43 variant selectors\n"
     ]
    },
    {
     "name": "stderr",
     "output_type": "stream",
     "text": [
      "[I 2025-05-26 18:57:29,549] Trial 54 finished with value: 0.7723988236355921 and parameters: {'original_max_depth': 8, 'original_learning_rate': 0.031568717449111106, 'original_n_estimators': 179, 'original_subsample': 0.8999915351505314, 'original_colsample_bytree': 0.9426654392623284, 'original_reg_alpha': 0.011026598066557263, 'original_reg_lambda': 0.0014107157765620019, 'blackmask_max_depth': 6, 'blackmask_learning_rate': 0.12076570988248594, 'blackmask_n_estimators': 213, 'blackmask_subsample': 0.9023891283410415, 'blackmask_colsample_bytree': 0.9986922894964009, 'blackmask_reg_alpha': 0.07602728724547125, 'blackmask_reg_lambda': 0.024342466668498666, 'highlight_max_depth': 8, 'highlight_learning_rate': 0.015456219917302056, 'highlight_n_estimators': 140, 'highlight_subsample': 0.9243072006694485, 'highlight_colsample_bytree': 0.7037497206514992, 'highlight_reg_alpha': 0.04049843115269137, 'highlight_reg_lambda': 0.32472133584865986, 'final_max_depth': 7, 'final_learning_rate': 0.047837214738726666, 'final_n_estimators': 341, 'final_subsample': 0.8531895660157277, 'final_colsample_bytree': 0.9355561448323167, 'final_reg_alpha': 0.0014142676234192603, 'final_reg_lambda': 0.004377170796886297, 'weight_original': 0.8201044405160789, 'weight_blackmask': 0.35187456194432887, 'weight_highlight': 0.39715542822455047, 'weight_final': 0.8244810126560637, 'adaptive_weight_factor': 1.8531372491090032, 'confidence_threshold': 0.6327485808460019, 'threshold_group_0': 0.27675284036165926, 'threshold_group_1': 0.30162183346643484, 'threshold_group_2': 0.5242734426656367, 'threshold_group_3': 0.4284567967751111, 'threshold_group_4': 0.4558987994293866}. Best is trial 54 with value: 0.7723988236355921.\n"
     ]
    },
    {
     "name": "stdout",
     "output_type": "stream",
     "text": [
      "Valid labels: 43, Constant labels: 12\n",
      "Training variant-specific models...\n",
      "  Training original model...\n",
      "  Training blackmask model...\n",
      "  Training highlight model...\n",
      "  Training final model...\n",
      "Training advanced variant selector...\n",
      "Trained 43 variant selectors\n"
     ]
    },
    {
     "name": "stderr",
     "output_type": "stream",
     "text": [
      "[I 2025-05-26 18:59:52,835] Trial 55 finished with value: 0.7692958251378106 and parameters: {'original_max_depth': 8, 'original_learning_rate': 0.033918377078272145, 'original_n_estimators': 201, 'original_subsample': 0.8927881660266209, 'original_colsample_bytree': 0.9134764548170722, 'original_reg_alpha': 0.010767134040807952, 'original_reg_lambda': 0.0014946614031746508, 'blackmask_max_depth': 6, 'blackmask_learning_rate': 0.14950888950044552, 'blackmask_n_estimators': 211, 'blackmask_subsample': 0.8554910205198495, 'blackmask_colsample_bytree': 0.9980273972735209, 'blackmask_reg_alpha': 0.08851778745318632, 'blackmask_reg_lambda': 0.0154654465247984, 'highlight_max_depth': 8, 'highlight_learning_rate': 0.018880396718425778, 'highlight_n_estimators': 137, 'highlight_subsample': 0.9202271027785321, 'highlight_colsample_bytree': 0.7013115451564276, 'highlight_reg_alpha': 0.04138124384744814, 'highlight_reg_lambda': 0.23680844441546495, 'final_max_depth': 7, 'final_learning_rate': 0.048109764569199236, 'final_n_estimators': 334, 'final_subsample': 0.8267282627420741, 'final_colsample_bytree': 0.9378704207558038, 'final_reg_alpha': 0.002138732930074604, 'final_reg_lambda': 0.003499657549416872, 'weight_original': 0.7982672971396543, 'weight_blackmask': 0.35636269506118207, 'weight_highlight': 0.4028505213584058, 'weight_final': 1.0828573694696135, 'adaptive_weight_factor': 1.8634355359844066, 'confidence_threshold': 0.6520619618607381, 'threshold_group_0': 0.2787509520601894, 'threshold_group_1': 0.30320583517699695, 'threshold_group_2': 0.5299613051012867, 'threshold_group_3': 0.45843261521259915, 'threshold_group_4': 0.6140548462166566}. Best is trial 54 with value: 0.7723988236355921.\n"
     ]
    },
    {
     "name": "stdout",
     "output_type": "stream",
     "text": [
      "Valid labels: 43, Constant labels: 12\n",
      "Training variant-specific models...\n",
      "  Training original model...\n",
      "  Training blackmask model...\n",
      "  Training highlight model...\n",
      "  Training final model...\n",
      "Training advanced variant selector...\n",
      "Trained 43 variant selectors\n"
     ]
    },
    {
     "name": "stderr",
     "output_type": "stream",
     "text": [
      "[I 2025-05-26 19:02:13,978] Trial 56 finished with value: 0.770173231431419 and parameters: {'original_max_depth': 8, 'original_learning_rate': 0.023737739890550835, 'original_n_estimators': 179, 'original_subsample': 0.9234973693958125, 'original_colsample_bytree': 0.9988554100344348, 'original_reg_alpha': 0.004996616275542596, 'original_reg_lambda': 0.0029949210610032036, 'blackmask_max_depth': 6, 'blackmask_learning_rate': 0.12320084522325289, 'blackmask_n_estimators': 200, 'blackmask_subsample': 0.9246296844647514, 'blackmask_colsample_bytree': 0.9573790583516845, 'blackmask_reg_alpha': 0.0854537760125354, 'blackmask_reg_lambda': 0.022997227450610787, 'highlight_max_depth': 8, 'highlight_learning_rate': 0.03235196375375414, 'highlight_n_estimators': 119, 'highlight_subsample': 0.9286828132099864, 'highlight_colsample_bytree': 0.7163553722915623, 'highlight_reg_alpha': 0.08919948884272651, 'highlight_reg_lambda': 0.15378717426691976, 'final_max_depth': 7, 'final_learning_rate': 0.039234467362092074, 'final_n_estimators': 331, 'final_subsample': 0.8784663920251891, 'final_colsample_bytree': 0.98572300949853, 'final_reg_alpha': 0.004788741847313533, 'final_reg_lambda': 0.004242243533383299, 'weight_original': 0.6730241177101355, 'weight_blackmask': 0.11655185940897778, 'weight_highlight': 0.4758690812895596, 'weight_final': 0.9435129464174709, 'adaptive_weight_factor': 1.9311776787892074, 'confidence_threshold': 0.6823635773866046, 'threshold_group_0': 0.3257143074536433, 'threshold_group_1': 0.32535341730769607, 'threshold_group_2': 0.5232117724996732, 'threshold_group_3': 0.42312750391316295, 'threshold_group_4': 0.5278461521189538}. Best is trial 54 with value: 0.7723988236355921.\n"
     ]
    },
    {
     "name": "stdout",
     "output_type": "stream",
     "text": [
      "Valid labels: 43, Constant labels: 12\n",
      "Training variant-specific models...\n",
      "  Training original model...\n",
      "  Training blackmask model...\n",
      "  Training highlight model...\n",
      "  Training final model...\n",
      "Training advanced variant selector...\n",
      "Trained 43 variant selectors\n"
     ]
    },
    {
     "name": "stderr",
     "output_type": "stream",
     "text": [
      "[I 2025-05-26 19:04:44,520] Trial 57 finished with value: 0.7690153532111531 and parameters: {'original_max_depth': 8, 'original_learning_rate': 0.032373631038627705, 'original_n_estimators': 194, 'original_subsample': 0.9004980945621472, 'original_colsample_bytree': 0.9388687909888468, 'original_reg_alpha': 0.002682838701715753, 'original_reg_lambda': 0.004713853743914028, 'blackmask_max_depth': 6, 'blackmask_learning_rate': 0.08066251550116436, 'blackmask_n_estimators': 212, 'blackmask_subsample': 0.8797216971397785, 'blackmask_colsample_bytree': 0.9716558468652059, 'blackmask_reg_alpha': 0.22141235624399544, 'blackmask_reg_lambda': 0.06770495336090443, 'highlight_max_depth': 8, 'highlight_learning_rate': 0.016403531307451934, 'highlight_n_estimators': 142, 'highlight_subsample': 0.9576862906171766, 'highlight_colsample_bytree': 0.7578987463985927, 'highlight_reg_alpha': 0.012350947260560305, 'highlight_reg_lambda': 0.5507895452945566, 'final_max_depth': 8, 'final_learning_rate': 0.029703713278838566, 'final_n_estimators': 346, 'final_subsample': 0.8540278905475975, 'final_colsample_bytree': 0.959420702032097, 'final_reg_alpha': 0.001418889265568641, 'final_reg_lambda': 0.0022836321740833574, 'weight_original': 0.7122855458491816, 'weight_blackmask': 0.517452683361645, 'weight_highlight': 1.1013370054422453, 'weight_final': 0.8411517999578697, 'adaptive_weight_factor': 1.673891812345138, 'confidence_threshold': 0.6702007860225524, 'threshold_group_0': 0.276503684649734, 'threshold_group_1': 0.3646198475484392, 'threshold_group_2': 0.5080664652915643, 'threshold_group_3': 0.4557977601417735, 'threshold_group_4': 0.62082863051495}. Best is trial 54 with value: 0.7723988236355921.\n"
     ]
    },
    {
     "name": "stdout",
     "output_type": "stream",
     "text": [
      "Valid labels: 43, Constant labels: 12\n",
      "Training variant-specific models...\n",
      "  Training original model...\n",
      "  Training blackmask model...\n",
      "  Training highlight model...\n",
      "  Training final model...\n",
      "Training advanced variant selector...\n",
      "Trained 43 variant selectors\n"
     ]
    },
    {
     "name": "stderr",
     "output_type": "stream",
     "text": [
      "[I 2025-05-26 19:07:05,316] Trial 58 finished with value: 0.7700786081505556 and parameters: {'original_max_depth': 8, 'original_learning_rate': 0.027064523184071272, 'original_n_estimators': 175, 'original_subsample': 0.9350305709888054, 'original_colsample_bytree': 0.9775564007767343, 'original_reg_alpha': 0.010439618681112902, 'original_reg_lambda': 0.001374725051730059, 'blackmask_max_depth': 5, 'blackmask_learning_rate': 0.1396300648672965, 'blackmask_n_estimators': 226, 'blackmask_subsample': 0.900833605269776, 'blackmask_colsample_bytree': 0.9997657600539419, 'blackmask_reg_alpha': 0.02866664519902266, 'blackmask_reg_lambda': 0.027022238833272934, 'highlight_max_depth': 9, 'highlight_learning_rate': 0.017507365585730295, 'highlight_n_estimators': 126, 'highlight_subsample': 0.9735855575943066, 'highlight_colsample_bytree': 0.7714707089243749, 'highlight_reg_alpha': 0.039120776742003316, 'highlight_reg_lambda': 0.3382034261392208, 'final_max_depth': 8, 'final_learning_rate': 0.057094919102601206, 'final_n_estimators': 321, 'final_subsample': 0.8648920294341749, 'final_colsample_bytree': 0.9252912163859157, 'final_reg_alpha': 0.002040433283850638, 'final_reg_lambda': 0.006928675789520962, 'weight_original': 0.8159083191579977, 'weight_blackmask': 0.33984941347577025, 'weight_highlight': 0.3588994337009274, 'weight_final': 1.0867152247518255, 'adaptive_weight_factor': 1.9617111693030282, 'confidence_threshold': 0.629297655428587, 'threshold_group_0': 0.3104019963883626, 'threshold_group_1': 0.2537591525890897, 'threshold_group_2': 0.5463728574171087, 'threshold_group_3': 0.5031158367424108, 'threshold_group_4': 0.5219305711331138}. Best is trial 54 with value: 0.7723988236355921.\n"
     ]
    },
    {
     "name": "stdout",
     "output_type": "stream",
     "text": [
      "Valid labels: 43, Constant labels: 12\n",
      "Training variant-specific models...\n",
      "  Training original model...\n",
      "  Training blackmask model...\n",
      "  Training highlight model...\n",
      "  Training final model...\n",
      "Training advanced variant selector...\n",
      "Trained 43 variant selectors\n"
     ]
    },
    {
     "name": "stderr",
     "output_type": "stream",
     "text": [
      "[I 2025-05-26 19:09:36,405] Trial 59 finished with value: 0.7718113179099901 and parameters: {'original_max_depth': 8, 'original_learning_rate': 0.015915732655718565, 'original_n_estimators': 216, 'original_subsample': 0.9665194285137677, 'original_colsample_bytree': 0.9457585185584362, 'original_reg_alpha': 0.018883587014344973, 'original_reg_lambda': 0.002582363626758164, 'blackmask_max_depth': 6, 'blackmask_learning_rate': 0.0656833395805856, 'blackmask_n_estimators': 195, 'blackmask_subsample': 0.9473348734455053, 'blackmask_colsample_bytree': 0.9821585152990143, 'blackmask_reg_alpha': 0.10375981703028551, 'blackmask_reg_lambda': 0.00766868523939894, 'highlight_max_depth': 8, 'highlight_learning_rate': 0.024482478715170952, 'highlight_n_estimators': 155, 'highlight_subsample': 0.9400669758667345, 'highlight_colsample_bytree': 0.7118296631719461, 'highlight_reg_alpha': 0.16991120088944653, 'highlight_reg_lambda': 0.11998141993512104, 'final_max_depth': 7, 'final_learning_rate': 0.047537936996668216, 'final_n_estimators': 306, 'final_subsample': 0.8845396245514536, 'final_colsample_bytree': 0.9390762839554485, 'final_reg_alpha': 0.007332261457667423, 'final_reg_lambda': 0.0014744231186608874, 'weight_original': 0.9467214705890816, 'weight_blackmask': 0.5377560036237166, 'weight_highlight': 0.31342299460119827, 'weight_final': 1.0408467145889981, 'adaptive_weight_factor': 2.1417169371596025, 'confidence_threshold': 0.6918646987834637, 'threshold_group_0': 0.27181602832379265, 'threshold_group_1': 0.3362738126954148, 'threshold_group_2': 0.46562308415211906, 'threshold_group_3': 0.4131639861667009, 'threshold_group_4': 0.44664341530768936}. Best is trial 54 with value: 0.7723988236355921.\n"
     ]
    },
    {
     "name": "stdout",
     "output_type": "stream",
     "text": [
      "Valid labels: 43, Constant labels: 12\n",
      "Training variant-specific models...\n",
      "  Training original model...\n",
      "  Training blackmask model...\n",
      "  Training highlight model...\n",
      "  Training final model...\n",
      "Training advanced variant selector...\n",
      "Trained 43 variant selectors\n"
     ]
    },
    {
     "name": "stderr",
     "output_type": "stream",
     "text": [
      "[I 2025-05-26 19:12:03,152] Trial 60 finished with value: 0.7623280244528926 and parameters: {'original_max_depth': 8, 'original_learning_rate': 0.016646523401130268, 'original_n_estimators': 216, 'original_subsample': 0.9998356397441812, 'original_colsample_bytree': 0.9490632050672458, 'original_reg_alpha': 0.046989247358444196, 'original_reg_lambda': 0.01050901207715759, 'blackmask_max_depth': 6, 'blackmask_learning_rate': 0.056423744294834724, 'blackmask_n_estimators': 196, 'blackmask_subsample': 0.9524396446344351, 'blackmask_colsample_bytree': 0.9234305044488851, 'blackmask_reg_alpha': 0.03671709463523718, 'blackmask_reg_lambda': 0.00739578229038884, 'highlight_max_depth': 8, 'highlight_learning_rate': 0.025242223556487576, 'highlight_n_estimators': 151, 'highlight_subsample': 0.9386556609789961, 'highlight_colsample_bytree': 0.7122580578479661, 'highlight_reg_alpha': 0.2504086334275876, 'highlight_reg_lambda': 0.09629700325392569, 'final_max_depth': 7, 'final_learning_rate': 0.048552385991212185, 'final_n_estimators': 283, 'final_subsample': 0.8836525359812465, 'final_colsample_bytree': 0.9378520026313213, 'final_reg_alpha': 0.007120238342131971, 'final_reg_lambda': 0.0012134852190628703, 'weight_original': 0.9388281625227568, 'weight_blackmask': 0.5334079005950092, 'weight_highlight': 0.14663876434643736, 'weight_final': 0.991525774538858, 'adaptive_weight_factor': 2.1520347725219917, 'confidence_threshold': 0.693782839652827, 'threshold_group_0': 0.7070064861374075, 'threshold_group_1': 0.3430545466167757, 'threshold_group_2': 0.4612661777435146, 'threshold_group_3': 0.48864993535875356, 'threshold_group_4': 0.44993688653388325}. Best is trial 54 with value: 0.7723988236355921.\n"
     ]
    },
    {
     "name": "stdout",
     "output_type": "stream",
     "text": [
      "Valid labels: 43, Constant labels: 12\n",
      "Training variant-specific models...\n",
      "  Training original model...\n",
      "  Training blackmask model...\n",
      "  Training highlight model...\n",
      "  Training final model...\n",
      "Training advanced variant selector...\n",
      "Trained 43 variant selectors\n"
     ]
    },
    {
     "name": "stderr",
     "output_type": "stream",
     "text": [
      "[I 2025-05-26 19:14:26,627] Trial 61 finished with value: 0.7719489552157 and parameters: {'original_max_depth': 8, 'original_learning_rate': 0.013758418260858937, 'original_n_estimators': 203, 'original_subsample': 0.9682491387228379, 'original_colsample_bytree': 0.9777678819445199, 'original_reg_alpha': 0.020305734728913533, 'original_reg_lambda': 0.0027146445276862415, 'blackmask_max_depth': 6, 'blackmask_learning_rate': 0.08730545024838403, 'blackmask_n_estimators': 176, 'blackmask_subsample': 0.9402898546426052, 'blackmask_colsample_bytree': 0.982528997985654, 'blackmask_reg_alpha': 0.10442676757660906, 'blackmask_reg_lambda': 0.012213241119401662, 'highlight_max_depth': 8, 'highlight_learning_rate': 0.022827232384182453, 'highlight_n_estimators': 144, 'highlight_subsample': 0.9245909369902366, 'highlight_colsample_bytree': 0.7080979498644329, 'highlight_reg_alpha': 0.4558420924067093, 'highlight_reg_lambda': 0.23444723337516912, 'final_max_depth': 6, 'final_learning_rate': 0.042268055497029784, 'final_n_estimators': 307, 'final_subsample': 0.8444248982671247, 'final_colsample_bytree': 0.9247097738021589, 'final_reg_alpha': 0.0038673839762452047, 'final_reg_lambda': 0.00837596547194336, 'weight_original': 0.7501416650838997, 'weight_blackmask': 0.3017792901986389, 'weight_highlight': 0.3180731392754442, 'weight_final': 1.030687415937203, 'adaptive_weight_factor': 1.8890740086340292, 'confidence_threshold': 0.6014023298086184, 'threshold_group_0': 0.27919105798897215, 'threshold_group_1': 0.3468400353790923, 'threshold_group_2': 0.41556679555350784, 'threshold_group_3': 0.41650995785342765, 'threshold_group_4': 0.4475089107061896}. Best is trial 54 with value: 0.7723988236355921.\n"
     ]
    },
    {
     "name": "stdout",
     "output_type": "stream",
     "text": [
      "Valid labels: 43, Constant labels: 12\n",
      "Training variant-specific models...\n",
      "  Training original model...\n",
      "  Training blackmask model...\n",
      "  Training highlight model...\n",
      "  Training final model...\n",
      "Training advanced variant selector...\n",
      "Trained 43 variant selectors\n"
     ]
    },
    {
     "name": "stderr",
     "output_type": "stream",
     "text": [
      "[I 2025-05-26 19:16:52,682] Trial 62 finished with value: 0.7715668761082232 and parameters: {'original_max_depth': 8, 'original_learning_rate': 0.012255755531954194, 'original_n_estimators': 212, 'original_subsample': 0.9253366669785871, 'original_colsample_bytree': 0.9719832074740793, 'original_reg_alpha': 0.02507419655287644, 'original_reg_lambda': 0.0028073448949912138, 'blackmask_max_depth': 6, 'blackmask_learning_rate': 0.08774704483601015, 'blackmask_n_estimators': 179, 'blackmask_subsample': 0.9316996257428483, 'blackmask_colsample_bytree': 0.9679184619876957, 'blackmask_reg_alpha': 0.07476850653142969, 'blackmask_reg_lambda': 0.010625401042791818, 'highlight_max_depth': 8, 'highlight_learning_rate': 0.028552247481243048, 'highlight_n_estimators': 143, 'highlight_subsample': 0.9902361360153277, 'highlight_colsample_bytree': 0.7071128175890635, 'highlight_reg_alpha': 0.5830390486351084, 'highlight_reg_lambda': 0.2202399817801967, 'final_max_depth': 6, 'final_learning_rate': 0.0412648304395695, 'final_n_estimators': 308, 'final_subsample': 0.8420785571761039, 'final_colsample_bytree': 0.923365279032798, 'final_reg_alpha': 0.004107373044162073, 'final_reg_lambda': 0.007711352988454649, 'weight_original': 0.6446179453690555, 'weight_blackmask': 0.2981309057169519, 'weight_highlight': 0.4357472379774457, 'weight_final': 1.0309494314744978, 'adaptive_weight_factor': 1.83594100090162, 'confidence_threshold': 0.6459723016179968, 'threshold_group_0': 0.27230080595717093, 'threshold_group_1': 0.347185219390329, 'threshold_group_2': 0.4066522350067755, 'threshold_group_3': 0.42149686390149305, 'threshold_group_4': 0.4864883188892637}. Best is trial 54 with value: 0.7723988236355921.\n"
     ]
    },
    {
     "name": "stdout",
     "output_type": "stream",
     "text": [
      "Valid labels: 43, Constant labels: 12\n",
      "Training variant-specific models...\n",
      "  Training original model...\n",
      "  Training blackmask model...\n",
      "  Training highlight model...\n",
      "  Training final model...\n",
      "Training advanced variant selector...\n",
      "Trained 43 variant selectors\n"
     ]
    },
    {
     "name": "stderr",
     "output_type": "stream",
     "text": [
      "[I 2025-05-26 19:19:18,368] Trial 63 finished with value: 0.770057502066533 and parameters: {'original_max_depth': 8, 'original_learning_rate': 0.012908584877323338, 'original_n_estimators': 203, 'original_subsample': 0.9832623073837871, 'original_colsample_bytree': 0.9730655231885654, 'original_reg_alpha': 0.01864917535750833, 'original_reg_lambda': 0.0026798139722024627, 'blackmask_max_depth': 6, 'blackmask_learning_rate': 0.058734179238471365, 'blackmask_n_estimators': 179, 'blackmask_subsample': 0.9496423233708354, 'blackmask_colsample_bytree': 0.9719642233333183, 'blackmask_reg_alpha': 0.07229521379574443, 'blackmask_reg_lambda': 0.005253550765410498, 'highlight_max_depth': 8, 'highlight_learning_rate': 0.028625575742806088, 'highlight_n_estimators': 144, 'highlight_subsample': 0.9906581118440003, 'highlight_colsample_bytree': 0.7073025709023769, 'highlight_reg_alpha': 0.6310369983188359, 'highlight_reg_lambda': 0.1250088772807779, 'final_max_depth': 6, 'final_learning_rate': 0.04384604751232928, 'final_n_estimators': 308, 'final_subsample': 0.8450501922156622, 'final_colsample_bytree': 0.9225084701643752, 'final_reg_alpha': 0.004710438302454994, 'final_reg_lambda': 0.008224391139655637, 'weight_original': 0.6317889619606691, 'weight_blackmask': 0.31726659640540933, 'weight_highlight': 0.31628924702437916, 'weight_final': 1.0181287571596698, 'adaptive_weight_factor': 2.0570904300755273, 'confidence_threshold': 0.6572462890627009, 'threshold_group_0': 0.27461123131436216, 'threshold_group_1': 0.3043046053129036, 'threshold_group_2': 0.3950925231573117, 'threshold_group_3': 0.42110687229675714, 'threshold_group_4': 0.5010850932366313}. Best is trial 54 with value: 0.7723988236355921.\n"
     ]
    },
    {
     "name": "stdout",
     "output_type": "stream",
     "text": [
      "Valid labels: 43, Constant labels: 12\n",
      "Training variant-specific models...\n",
      "  Training original model...\n",
      "  Training blackmask model...\n",
      "  Training highlight model...\n",
      "  Training final model...\n",
      "Training advanced variant selector...\n",
      "Trained 43 variant selectors\n"
     ]
    },
    {
     "name": "stderr",
     "output_type": "stream",
     "text": [
      "[I 2025-05-26 19:21:49,546] Trial 64 finished with value: 0.7701356265660151 and parameters: {'original_max_depth': 8, 'original_learning_rate': 0.01138799053567621, 'original_n_estimators': 233, 'original_subsample': 0.9422351848930868, 'original_colsample_bytree': 0.962373882861291, 'original_reg_alpha': 0.0415887164799995, 'original_reg_lambda': 0.0019157645934212081, 'blackmask_max_depth': 5, 'blackmask_learning_rate': 0.06604230691191373, 'blackmask_n_estimators': 183, 'blackmask_subsample': 0.9359684737858404, 'blackmask_colsample_bytree': 0.9399110530360023, 'blackmask_reg_alpha': 0.08495612098381616, 'blackmask_reg_lambda': 0.008112115784361891, 'highlight_max_depth': 9, 'highlight_learning_rate': 0.02198142608343654, 'highlight_n_estimators': 156, 'highlight_subsample': 0.9600289684971102, 'highlight_colsample_bytree': 0.7200599573837824, 'highlight_reg_alpha': 0.36860659202825397, 'highlight_reg_lambda': 0.18267145542817098, 'final_max_depth': 6, 'final_learning_rate': 0.03130268396195809, 'final_n_estimators': 295, 'final_subsample': 0.821564347087249, 'final_colsample_bytree': 0.8613646835330344, 'final_reg_alpha': 0.0039001658439096563, 'final_reg_lambda': 0.0017442122379558143, 'weight_original': 0.5358688612425191, 'weight_blackmask': 0.23611654095036338, 'weight_highlight': 0.42396377890707126, 'weight_final': 1.1855141350969747, 'adaptive_weight_factor': 1.8422210832344283, 'confidence_threshold': 0.6005019562693913, 'threshold_group_0': 0.26499998767661215, 'threshold_group_1': 0.3429559054461815, 'threshold_group_2': 0.4148223011074437, 'threshold_group_3': 0.4469338948665507, 'threshold_group_4': 0.47543284038491807}. Best is trial 54 with value: 0.7723988236355921.\n"
     ]
    },
    {
     "name": "stdout",
     "output_type": "stream",
     "text": [
      "Valid labels: 43, Constant labels: 12\n",
      "Training variant-specific models...\n",
      "  Training original model...\n",
      "  Training blackmask model...\n",
      "  Training highlight model...\n",
      "  Training final model...\n",
      "Training advanced variant selector...\n",
      "Trained 43 variant selectors\n"
     ]
    },
    {
     "name": "stderr",
     "output_type": "stream",
     "text": [
      "[I 2025-05-26 19:24:06,548] Trial 65 finished with value: 0.7680864823417483 and parameters: {'original_max_depth': 8, 'original_learning_rate': 0.015261269819602715, 'original_n_estimators': 224, 'original_subsample': 0.9273466719207929, 'original_colsample_bytree': 0.9840895906280007, 'original_reg_alpha': 0.021794240470415727, 'original_reg_lambda': 0.0034538610695527797, 'blackmask_max_depth': 6, 'blackmask_learning_rate': 0.07446054430269498, 'blackmask_n_estimators': 172, 'blackmask_subsample': 0.9419786833913909, 'blackmask_colsample_bytree': 0.965862680925859, 'blackmask_reg_alpha': 0.06378420334105515, 'blackmask_reg_lambda': 0.011481957963440977, 'highlight_max_depth': 8, 'highlight_learning_rate': 0.028440552525765682, 'highlight_n_estimators': 125, 'highlight_subsample': 0.9242103314119458, 'highlight_colsample_bytree': 0.7214794617238256, 'highlight_reg_alpha': 0.46854471613757687, 'highlight_reg_lambda': 0.2261302835591182, 'final_max_depth': 6, 'final_learning_rate': 0.05344086892375221, 'final_n_estimators': 222, 'final_subsample': 0.8133968484116193, 'final_colsample_bytree': 0.9070470926673314, 'final_reg_alpha': 0.0018458885379642079, 'final_reg_lambda': 0.004400636990622489, 'weight_original': 0.7684516113681081, 'weight_blackmask': 0.382607560853862, 'weight_highlight': 0.28636877500112556, 'weight_final': 1.2347844359914, 'adaptive_weight_factor': 1.91047941096215, 'confidence_threshold': 0.6404663664121099, 'threshold_group_0': 0.33676768453702616, 'threshold_group_1': 0.37731760860042046, 'threshold_group_2': 0.32420309070736775, 'threshold_group_3': 0.4657343430665558, 'threshold_group_4': 0.4435919622998782}. Best is trial 54 with value: 0.7723988236355921.\n"
     ]
    },
    {
     "name": "stdout",
     "output_type": "stream",
     "text": [
      "Valid labels: 43, Constant labels: 12\n",
      "Training variant-specific models...\n",
      "  Training original model...\n",
      "  Training blackmask model...\n",
      "  Training highlight model...\n",
      "  Training final model...\n",
      "Training advanced variant selector...\n",
      "Trained 43 variant selectors\n"
     ]
    },
    {
     "name": "stderr",
     "output_type": "stream",
     "text": [
      "[I 2025-05-26 19:26:29,925] Trial 66 finished with value: 0.7711395544316679 and parameters: {'original_max_depth': 8, 'original_learning_rate': 0.12135474138127353, 'original_n_estimators': 211, 'original_subsample': 0.9146714109022586, 'original_colsample_bytree': 0.9103414906351669, 'original_reg_alpha': 0.02726428544012308, 'original_reg_lambda': 0.0049388347768224905, 'blackmask_max_depth': 6, 'blackmask_learning_rate': 0.08344061281815246, 'blackmask_n_estimators': 194, 'blackmask_subsample': 0.9236565981727706, 'blackmask_colsample_bytree': 0.9547905867840545, 'blackmask_reg_alpha': 0.10111379761792186, 'blackmask_reg_lambda': 0.003624154675448299, 'highlight_max_depth': 8, 'highlight_learning_rate': 0.022761726108897685, 'highlight_n_estimators': 142, 'highlight_subsample': 0.9864969347044062, 'highlight_colsample_bytree': 0.7067215074247597, 'highlight_reg_alpha': 0.1684563853435258, 'highlight_reg_lambda': 0.37834762355164714, 'final_max_depth': 7, 'final_learning_rate': 0.021220205333384753, 'final_n_estimators': 306, 'final_subsample': 0.840363137696056, 'final_colsample_bytree': 0.9355213229237704, 'final_reg_alpha': 0.0010985419764744477, 'final_reg_lambda': 0.0024719816266514185, 'weight_original': 0.6237022695005796, 'weight_blackmask': 0.48863823588011257, 'weight_highlight': 0.24995964522375944, 'weight_final': 1.047558080987645, 'adaptive_weight_factor': 2.284836260013403, 'confidence_threshold': 0.6296648027352314, 'threshold_group_0': 0.26982045022849943, 'threshold_group_1': 0.3136260069888484, 'threshold_group_2': 0.3635827720978247, 'threshold_group_3': 0.43238904809743695, 'threshold_group_4': 0.5473902109186808}. Best is trial 54 with value: 0.7723988236355921.\n"
     ]
    },
    {
     "name": "stdout",
     "output_type": "stream",
     "text": [
      "Valid labels: 43, Constant labels: 12\n",
      "Training variant-specific models...\n",
      "  Training original model...\n",
      "  Training blackmask model...\n",
      "  Training highlight model...\n",
      "  Training final model...\n",
      "Training advanced variant selector...\n",
      "Trained 43 variant selectors\n"
     ]
    },
    {
     "name": "stderr",
     "output_type": "stream",
     "text": [
      "[I 2025-05-26 19:28:52,614] Trial 67 finished with value: 0.7719543462815653 and parameters: {'original_max_depth': 8, 'original_learning_rate': 0.12117014511455707, 'original_n_estimators': 216, 'original_subsample': 0.913851722223671, 'original_colsample_bytree': 0.9061495382899792, 'original_reg_alpha': 0.02717701821218364, 'original_reg_lambda': 0.004580977085447516, 'blackmask_max_depth': 5, 'blackmask_learning_rate': 0.08642559230388125, 'blackmask_n_estimators': 191, 'blackmask_subsample': 0.9269077238939274, 'blackmask_colsample_bytree': 0.9580214872139451, 'blackmask_reg_alpha': 0.10811845392286423, 'blackmask_reg_lambda': 0.004273896802794228, 'highlight_max_depth': 9, 'highlight_learning_rate': 0.02213268375830294, 'highlight_n_estimators': 138, 'highlight_subsample': 0.9771402471092397, 'highlight_colsample_bytree': 0.7073144907068203, 'highlight_reg_alpha': 0.18248280694362462, 'highlight_reg_lambda': 0.14108564531209214, 'final_max_depth': 7, 'final_learning_rate': 0.01614622156078546, 'final_n_estimators': 294, 'final_subsample': 0.8420325450600482, 'final_colsample_bytree': 0.8878769308772028, 'final_reg_alpha': 0.0010200061129148528, 'final_reg_lambda': 0.0028783818601967903, 'weight_original': 0.4637451974591926, 'weight_blackmask': 0.2863766428681046, 'weight_highlight': 0.25798188086817325, 'weight_final': 1.0521337685124208, 'adaptive_weight_factor': 2.351023174749536, 'confidence_threshold': 0.6649457581448146, 'threshold_group_0': 0.27023535890003947, 'threshold_group_1': 0.32492291177140364, 'threshold_group_2': 0.37760805620426513, 'threshold_group_3': 0.4223203766265308, 'threshold_group_4': 0.5080986145235189}. Best is trial 54 with value: 0.7723988236355921.\n"
     ]
    },
    {
     "name": "stdout",
     "output_type": "stream",
     "text": [
      "Valid labels: 43, Constant labels: 12\n",
      "Training variant-specific models...\n",
      "  Training original model...\n",
      "  Training blackmask model...\n",
      "  Training highlight model...\n",
      "  Training final model...\n",
      "Training advanced variant selector...\n",
      "Trained 43 variant selectors\n"
     ]
    },
    {
     "name": "stderr",
     "output_type": "stream",
     "text": [
      "[I 2025-05-26 19:31:05,791] Trial 68 finished with value: 0.7713831519154997 and parameters: {'original_max_depth': 8, 'original_learning_rate': 0.014164451649454105, 'original_n_estimators': 219, 'original_subsample': 0.9665104095460997, 'original_colsample_bytree': 0.883957256090381, 'original_reg_alpha': 0.013253586965485075, 'original_reg_lambda': 0.00781321031363772, 'blackmask_max_depth': 5, 'blackmask_learning_rate': 0.051326749137915635, 'blackmask_n_estimators': 173, 'blackmask_subsample': 0.9754426297769089, 'blackmask_colsample_bytree': 0.9097440984620913, 'blackmask_reg_alpha': 0.052440350192058165, 'blackmask_reg_lambda': 0.0023547791565507264, 'highlight_max_depth': 9, 'highlight_learning_rate': 0.018864385780656988, 'highlight_n_estimators': 110, 'highlight_subsample': 0.9701673603158321, 'highlight_colsample_bytree': 0.7134831613818273, 'highlight_reg_alpha': 0.8552356644352738, 'highlight_reg_lambda': 0.10147676348287557, 'final_max_depth': 6, 'final_learning_rate': 0.010044610418708374, 'final_n_estimators': 292, 'final_subsample': 0.868002646222059, 'final_colsample_bytree': 0.8846152336032277, 'final_reg_alpha': 0.003630169520749414, 'final_reg_lambda': 0.0016198996882601186, 'weight_original': 0.4443147569880664, 'weight_blackmask': 0.17411465662845516, 'weight_highlight': 0.469061580900347, 'weight_final': 1.1353422334994223, 'adaptive_weight_factor': 2.5686219892962767, 'confidence_threshold': 0.668178935181963, 'threshold_group_0': 0.3139985767784151, 'threshold_group_1': 0.3494628694312867, 'threshold_group_2': 0.4468117547134416, 'threshold_group_3': 0.3383701127223477, 'threshold_group_4': 0.4870048487097644}. Best is trial 54 with value: 0.7723988236355921.\n"
     ]
    },
    {
     "name": "stdout",
     "output_type": "stream",
     "text": [
      "Valid labels: 43, Constant labels: 12\n",
      "Training variant-specific models...\n",
      "  Training original model...\n",
      "  Training blackmask model...\n",
      "  Training highlight model...\n",
      "  Training final model...\n",
      "Training advanced variant selector...\n",
      "Trained 43 variant selectors\n"
     ]
    },
    {
     "name": "stderr",
     "output_type": "stream",
     "text": [
      "[I 2025-05-26 19:33:16,539] Trial 69 finished with value: 0.7715359950734109 and parameters: {'original_max_depth': 8, 'original_learning_rate': 0.19905737113402597, 'original_n_estimators': 216, 'original_subsample': 0.8889550947902696, 'original_colsample_bytree': 0.8860400348320481, 'original_reg_alpha': 0.013217637775535217, 'original_reg_lambda': 0.008833604202293774, 'blackmask_max_depth': 5, 'blackmask_learning_rate': 0.050432533082819135, 'blackmask_n_estimators': 155, 'blackmask_subsample': 0.9778381076072394, 'blackmask_colsample_bytree': 0.8618024972596272, 'blackmask_reg_alpha': 0.039986099365314394, 'blackmask_reg_lambda': 0.0014718470201154352, 'highlight_max_depth': 9, 'highlight_learning_rate': 0.01904840223286865, 'highlight_n_estimators': 114, 'highlight_subsample': 0.9785516405689559, 'highlight_colsample_bytree': 0.7142687333483079, 'highlight_reg_alpha': 0.8124355972918247, 'highlight_reg_lambda': 0.10489089777132096, 'final_max_depth': 6, 'final_learning_rate': 0.010506760562110877, 'final_n_estimators': 269, 'final_subsample': 0.8640268186037996, 'final_colsample_bytree': 0.8443825879106155, 'final_reg_alpha': 0.00416019034134008, 'final_reg_lambda': 0.0015943058712552043, 'weight_original': 0.40077067459162996, 'weight_blackmask': 0.28026791193050654, 'weight_highlight': 0.4645618888323448, 'weight_final': 1.139466600742646, 'adaptive_weight_factor': 2.5844570823514266, 'confidence_threshold': 0.6723257745187424, 'threshold_group_0': 0.31364155360333357, 'threshold_group_1': 0.35063007622174197, 'threshold_group_2': 0.46132904260515095, 'threshold_group_3': 0.3402223780519178, 'threshold_group_4': 0.4879005452574908}. Best is trial 54 with value: 0.7723988236355921.\n"
     ]
    },
    {
     "name": "stdout",
     "output_type": "stream",
     "text": [
      "Valid labels: 43, Constant labels: 12\n",
      "Training variant-specific models...\n",
      "  Training original model...\n",
      "  Training blackmask model...\n",
      "  Training highlight model...\n",
      "  Training final model...\n",
      "Training advanced variant selector...\n",
      "Trained 43 variant selectors\n"
     ]
    },
    {
     "name": "stderr",
     "output_type": "stream",
     "text": [
      "[I 2025-05-26 19:35:30,940] Trial 70 finished with value: 0.7683145752834255 and parameters: {'original_max_depth': 8, 'original_learning_rate': 0.15317570805569675, 'original_n_estimators': 239, 'original_subsample': 0.8808561899747896, 'original_colsample_bytree': 0.8992872864941319, 'original_reg_alpha': 0.03530800603997203, 'original_reg_lambda': 0.011307085236177511, 'blackmask_max_depth': 5, 'blackmask_learning_rate': 0.04109520327755181, 'blackmask_n_estimators': 153, 'blackmask_subsample': 0.9772544217430582, 'blackmask_colsample_bytree': 0.8953990182052404, 'blackmask_reg_alpha': 0.0350419010499026, 'blackmask_reg_lambda': 0.0013447479701779955, 'highlight_max_depth': 9, 'highlight_learning_rate': 0.02035731357751729, 'highlight_n_estimators': 132, 'highlight_subsample': 0.9439521989086922, 'highlight_colsample_bytree': 0.7003613919080477, 'highlight_reg_alpha': 0.594157000027313, 'highlight_reg_lambda': 0.13670932981446532, 'final_max_depth': 7, 'final_learning_rate': 0.014468211890615163, 'final_n_estimators': 270, 'final_subsample': 0.8572320106528736, 'final_colsample_bytree': 0.8409600272744515, 'final_reg_alpha': 0.002231281015869797, 'final_reg_lambda': 0.0010248450348530201, 'weight_original': 0.41874897346271334, 'weight_blackmask': 0.2797371039848069, 'weight_highlight': 0.40522933108507453, 'weight_final': 1.2573482478053544, 'adaptive_weight_factor': 2.7733530747098305, 'confidence_threshold': 0.6962176150484001, 'threshold_group_0': 0.4574218327703515, 'threshold_group_1': 0.2691520905122855, 'threshold_group_2': 0.4821343009303415, 'threshold_group_3': 0.3763925211669509, 'threshold_group_4': 0.5023281151977975}. Best is trial 54 with value: 0.7723988236355921.\n"
     ]
    },
    {
     "name": "stdout",
     "output_type": "stream",
     "text": [
      "Valid labels: 43, Constant labels: 12\n",
      "Training variant-specific models...\n",
      "  Training original model...\n",
      "  Training blackmask model...\n",
      "  Training highlight model...\n",
      "  Training final model...\n",
      "Training advanced variant selector...\n",
      "Trained 43 variant selectors\n"
     ]
    },
    {
     "name": "stderr",
     "output_type": "stream",
     "text": [
      "[I 2025-05-26 19:37:46,349] Trial 71 finished with value: 0.7720706566072305 and parameters: {'original_max_depth': 8, 'original_learning_rate': 0.10893975118642056, 'original_n_estimators': 219, 'original_subsample': 0.8910554717047029, 'original_colsample_bytree': 0.8826585770742321, 'original_reg_alpha': 0.012972623034728695, 'original_reg_lambda': 0.005555611887267737, 'blackmask_max_depth': 5, 'blackmask_learning_rate': 0.05354901754249502, 'blackmask_n_estimators': 177, 'blackmask_subsample': 0.9583576163303998, 'blackmask_colsample_bytree': 0.8650476698628474, 'blackmask_reg_alpha': 0.04526399194533099, 'blackmask_reg_lambda': 0.001904128481551938, 'highlight_max_depth': 9, 'highlight_learning_rate': 0.018638373959837744, 'highlight_n_estimators': 111, 'highlight_subsample': 0.9625314176050659, 'highlight_colsample_bytree': 0.712236074279882, 'highlight_reg_alpha': 0.9703473586027114, 'highlight_reg_lambda': 0.0932009253666733, 'final_max_depth': 6, 'final_learning_rate': 0.010013745509311663, 'final_n_estimators': 279, 'final_subsample': 0.8661095329906903, 'final_colsample_bytree': 0.8828272223575462, 'final_reg_alpha': 0.9183626343046057, 'final_reg_lambda': 0.0014003163245983395, 'weight_original': 0.38813229778538966, 'weight_blackmask': 0.16401054328490938, 'weight_highlight': 0.4650491661137747, 'weight_final': 1.14735031708927, 'adaptive_weight_factor': 2.5774433947027675, 'confidence_threshold': 0.6727052493358698, 'threshold_group_0': 0.3175495565058492, 'threshold_group_1': 0.3509815785588751, 'threshold_group_2': 0.44948009063487543, 'threshold_group_3': 0.3389050058641899, 'threshold_group_4': 0.48424655912436637}. Best is trial 54 with value: 0.7723988236355921.\n"
     ]
    },
    {
     "name": "stdout",
     "output_type": "stream",
     "text": [
      "Valid labels: 43, Constant labels: 12\n",
      "Training variant-specific models...\n",
      "  Training original model...\n",
      "  Training blackmask model...\n",
      "  Training highlight model...\n",
      "  Training final model...\n",
      "Training advanced variant selector...\n",
      "Trained 43 variant selectors\n"
     ]
    },
    {
     "name": "stderr",
     "output_type": "stream",
     "text": [
      "[I 2025-05-26 19:39:58,904] Trial 72 finished with value: 0.7724624669548461 and parameters: {'original_max_depth': 8, 'original_learning_rate': 0.19547376596997215, 'original_n_estimators': 206, 'original_subsample': 0.8895073242641002, 'original_colsample_bytree': 0.8834541588774084, 'original_reg_alpha': 0.05697475610467867, 'original_reg_lambda': 0.006170191277170431, 'blackmask_max_depth': 5, 'blackmask_learning_rate': 0.05298017653053817, 'blackmask_n_estimators': 167, 'blackmask_subsample': 0.9939601188680554, 'blackmask_colsample_bytree': 0.8554799998596454, 'blackmask_reg_alpha': 0.04355706364991028, 'blackmask_reg_lambda': 0.0017469951648268688, 'highlight_max_depth': 9, 'highlight_learning_rate': 0.017062085685266473, 'highlight_n_estimators': 117, 'highlight_subsample': 0.9770627793422373, 'highlight_colsample_bytree': 0.7188952880403527, 'highlight_reg_alpha': 0.2611256320394491, 'highlight_reg_lambda': 0.193989650943844, 'final_max_depth': 6, 'final_learning_rate': 0.0128078247078151, 'final_n_estimators': 259, 'final_subsample': 0.8364129575850889, 'final_colsample_bytree': 0.8580642607072606, 'final_reg_alpha': 0.008448950918280866, 'final_reg_lambda': 0.0032168859986948526, 'weight_original': 0.3730396196201599, 'weight_blackmask': 0.1091313837121855, 'weight_highlight': 0.5260697064492441, 'weight_final': 1.333954629778463, 'adaptive_weight_factor': 2.680152616973669, 'confidence_threshold': 0.6751720877899945, 'threshold_group_0': 0.2656037182851962, 'threshold_group_1': 0.32464897017757144, 'threshold_group_2': 0.42058802126406075, 'threshold_group_3': 0.3125233762582247, 'threshold_group_4': 0.4478699802948746}. Best is trial 72 with value: 0.7724624669548461.\n"
     ]
    },
    {
     "name": "stdout",
     "output_type": "stream",
     "text": [
      "Valid labels: 43, Constant labels: 12\n",
      "Training variant-specific models...\n",
      "  Training original model...\n",
      "  Training blackmask model...\n",
      "  Training highlight model...\n",
      "  Training final model...\n",
      "Training advanced variant selector...\n",
      "Trained 43 variant selectors\n"
     ]
    },
    {
     "name": "stderr",
     "output_type": "stream",
     "text": [
      "[I 2025-05-26 19:42:16,807] Trial 73 finished with value: 0.771719109153317 and parameters: {'original_max_depth': 8, 'original_learning_rate': 0.11178435787309014, 'original_n_estimators': 229, 'original_subsample': 0.9043995436858423, 'original_colsample_bytree': 0.8427588180168646, 'original_reg_alpha': 0.061974592985119, 'original_reg_lambda': 0.0060913760358733155, 'blackmask_max_depth': 5, 'blackmask_learning_rate': 0.0662542627085212, 'blackmask_n_estimators': 168, 'blackmask_subsample': 0.9884814328315048, 'blackmask_colsample_bytree': 0.8485909873748925, 'blackmask_reg_alpha': 0.0010233659966781552, 'blackmask_reg_lambda': 0.002998767885754855, 'highlight_max_depth': 9, 'highlight_learning_rate': 0.016934872307352772, 'highlight_n_estimators': 127, 'highlight_subsample': 0.995182657076408, 'highlight_colsample_bytree': 0.7227131470938502, 'highlight_reg_alpha': 0.253265123456321, 'highlight_reg_lambda': 0.20275240298297936, 'final_max_depth': 6, 'final_learning_rate': 0.01973614404750845, 'final_n_estimators': 279, 'final_subsample': 0.801604781093004, 'final_colsample_bytree': 0.8602009617246293, 'final_reg_alpha': 0.9233775236868383, 'final_reg_lambda': 0.0028057728524260406, 'weight_original': 0.3119516260223301, 'weight_blackmask': 0.15349436694215526, 'weight_highlight': 0.33209748512768156, 'weight_final': 1.348487944301457, 'adaptive_weight_factor': 2.396462693209632, 'confidence_threshold': 0.6821636035720713, 'threshold_group_0': 0.26200865677197777, 'threshold_group_1': 0.3283798806400455, 'threshold_group_2': 0.41736914719151924, 'threshold_group_3': 0.31268084384914446, 'threshold_group_4': 0.44692158424920386}. Best is trial 72 with value: 0.7724624669548461.\n"
     ]
    },
    {
     "name": "stdout",
     "output_type": "stream",
     "text": [
      "Valid labels: 43, Constant labels: 12\n",
      "Training variant-specific models...\n",
      "  Training original model...\n",
      "  Training blackmask model...\n",
      "  Training highlight model...\n",
      "  Training final model...\n",
      "Training advanced variant selector...\n",
      "Trained 43 variant selectors\n"
     ]
    },
    {
     "name": "stderr",
     "output_type": "stream",
     "text": [
      "[I 2025-05-26 19:44:36,929] Trial 74 finished with value: 0.7709186396499651 and parameters: {'original_max_depth': 8, 'original_learning_rate': 0.12741939540379207, 'original_n_estimators': 229, 'original_subsample': 0.9079224984088785, 'original_colsample_bytree': 0.8364607916463987, 'original_reg_alpha': 0.07402137728185568, 'original_reg_lambda': 0.006564189589847647, 'blackmask_max_depth': 5, 'blackmask_learning_rate': 0.06709551278970045, 'blackmask_n_estimators': 168, 'blackmask_subsample': 0.991338029612086, 'blackmask_colsample_bytree': 0.8565449769898089, 'blackmask_reg_alpha': 0.013363294503517337, 'blackmask_reg_lambda': 0.003375652973678815, 'highlight_max_depth': 9, 'highlight_learning_rate': 0.016723036945082, 'highlight_n_estimators': 124, 'highlight_subsample': 0.9985356392244019, 'highlight_colsample_bytree': 0.7253605775165771, 'highlight_reg_alpha': 0.23884669792985963, 'highlight_reg_lambda': 0.18316473031713468, 'final_max_depth': 7, 'final_learning_rate': 0.01241681309482253, 'final_n_estimators': 280, 'final_subsample': 0.7989469508858905, 'final_colsample_bytree': 0.8282035897240965, 'final_reg_alpha': 0.952703086885319, 'final_reg_lambda': 0.003043187396640411, 'weight_original': 0.10193114683788737, 'weight_blackmask': 0.1016124965070569, 'weight_highlight': 0.3340550382235021, 'weight_final': 1.432455730315371, 'adaptive_weight_factor': 2.39134266121425, 'confidence_threshold': 0.6813404110280694, 'threshold_group_0': 0.2680185481532877, 'threshold_group_1': 0.3234606627190757, 'threshold_group_2': 0.4268311314758844, 'threshold_group_3': 0.31993220672091094, 'threshold_group_4': 0.44164931748893604}. Best is trial 72 with value: 0.7724624669548461.\n"
     ]
    },
    {
     "name": "stdout",
     "output_type": "stream",
     "text": [
      "Valid labels: 43, Constant labels: 12\n",
      "Training variant-specific models...\n",
      "  Training original model...\n",
      "  Training blackmask model...\n",
      "  Training highlight model...\n",
      "  Training final model...\n",
      "Training advanced variant selector...\n",
      "Trained 43 variant selectors\n"
     ]
    },
    {
     "name": "stderr",
     "output_type": "stream",
     "text": [
      "[I 2025-05-26 19:46:55,577] Trial 75 finished with value: 0.7734452926992603 and parameters: {'original_max_depth': 8, 'original_learning_rate': 0.07815673034688067, 'original_n_estimators': 205, 'original_subsample': 0.8950234294161344, 'original_colsample_bytree': 0.8405737691898925, 'original_reg_alpha': 0.10379568138771071, 'original_reg_lambda': 0.004623919206810253, 'blackmask_max_depth': 5, 'blackmask_learning_rate': 0.0426046806157573, 'blackmask_n_estimators': 206, 'blackmask_subsample': 0.989016325775133, 'blackmask_colsample_bytree': 0.8419077479787297, 'blackmask_reg_alpha': 0.029451943604229976, 'blackmask_reg_lambda': 0.0019217632583825685, 'highlight_max_depth': 9, 'highlight_learning_rate': 0.017716437629276195, 'highlight_n_estimators': 119, 'highlight_subsample': 0.9627037248454714, 'highlight_colsample_bytree': 0.7537102944613567, 'highlight_reg_alpha': 0.1675715645065834, 'highlight_reg_lambda': 0.3028932044282068, 'final_max_depth': 6, 'final_learning_rate': 0.019742840236622736, 'final_n_estimators': 251, 'final_subsample': 0.8130620342797891, 'final_colsample_bytree': 0.851896620772498, 'final_reg_alpha': 0.8511393227033116, 'final_reg_lambda': 0.004052149857616702, 'weight_original': 0.28838329928065526, 'weight_blackmask': 0.2058798997324252, 'weight_highlight': 0.5278341716373077, 'weight_final': 1.325763266876788, 'adaptive_weight_factor': 2.445399120910062, 'confidence_threshold': 0.6952639598412089, 'threshold_group_0': 0.2645690073862065, 'threshold_group_1': 0.2806041440839247, 'threshold_group_2': 0.3827471868029044, 'threshold_group_3': 0.2805602823263663, 'threshold_group_4': 0.4176279884582442}. Best is trial 75 with value: 0.7734452926992603.\n"
     ]
    },
    {
     "name": "stdout",
     "output_type": "stream",
     "text": [
      "Valid labels: 43, Constant labels: 12\n",
      "Training variant-specific models...\n",
      "  Training original model...\n",
      "  Training blackmask model...\n",
      "  Training highlight model...\n",
      "  Training final model...\n",
      "Training advanced variant selector...\n",
      "Trained 43 variant selectors\n"
     ]
    },
    {
     "name": "stderr",
     "output_type": "stream",
     "text": [
      "[I 2025-05-26 19:49:14,074] Trial 76 finished with value: 0.7718983169005095 and parameters: {'original_max_depth': 8, 'original_learning_rate': 0.10405659956914912, 'original_n_estimators': 205, 'original_subsample': 0.8776251785944653, 'original_colsample_bytree': 0.8154752308822664, 'original_reg_alpha': 0.10207360633117288, 'original_reg_lambda': 0.004324874610844681, 'blackmask_max_depth': 5, 'blackmask_learning_rate': 0.054363216859839324, 'blackmask_n_estimators': 207, 'blackmask_subsample': 0.9576390809663686, 'blackmask_colsample_bytree': 0.827093073186702, 'blackmask_reg_alpha': 0.0229996308325659, 'blackmask_reg_lambda': 0.002124443852952983, 'highlight_max_depth': 9, 'highlight_learning_rate': 0.024677124044415428, 'highlight_n_estimators': 137, 'highlight_subsample': 0.9586822282945834, 'highlight_colsample_bytree': 0.7544831141923689, 'highlight_reg_alpha': 0.1221885262594109, 'highlight_reg_lambda': 0.2682154718206923, 'final_max_depth': 7, 'final_learning_rate': 0.012655390630091199, 'final_n_estimators': 233, 'final_subsample': 0.8206303564973143, 'final_colsample_bytree': 0.7987970017024593, 'final_reg_alpha': 0.6303881943958143, 'final_reg_lambda': 0.002134811728420124, 'weight_original': 0.21872600676658682, 'weight_blackmask': 0.22093550903418124, 'weight_highlight': 0.5396878802011983, 'weight_final': 1.3086731918518772, 'adaptive_weight_factor': 2.470135096764507, 'confidence_threshold': 0.6915392211985296, 'threshold_group_0': 0.32744977848155465, 'threshold_group_1': 0.2827162261959965, 'threshold_group_2': 0.36405395591254053, 'threshold_group_3': 0.2854979700998998, 'threshold_group_4': 0.40579398264307}. Best is trial 75 with value: 0.7734452926992603.\n"
     ]
    },
    {
     "name": "stdout",
     "output_type": "stream",
     "text": [
      "Valid labels: 43, Constant labels: 12\n",
      "Training variant-specific models...\n",
      "  Training original model...\n",
      "  Training blackmask model...\n",
      "  Training highlight model...\n",
      "  Training final model...\n",
      "Training advanced variant selector...\n",
      "Trained 43 variant selectors\n"
     ]
    },
    {
     "name": "stderr",
     "output_type": "stream",
     "text": [
      "[I 2025-05-26 19:51:31,373] Trial 77 finished with value: 0.7724766252369479 and parameters: {'original_max_depth': 8, 'original_learning_rate': 0.08011381798567706, 'original_n_estimators': 205, 'original_subsample': 0.8944119458686638, 'original_colsample_bytree': 0.8048240896318557, 'original_reg_alpha': 0.13067493976026254, 'original_reg_lambda': 0.004617844375439323, 'blackmask_max_depth': 5, 'blackmask_learning_rate': 0.04144527965027428, 'blackmask_n_estimators': 207, 'blackmask_subsample': 0.9592543413625828, 'blackmask_colsample_bytree': 0.8119248668118347, 'blackmask_reg_alpha': 0.03220209317508643, 'blackmask_reg_lambda': 0.001616061949141983, 'highlight_max_depth': 9, 'highlight_learning_rate': 0.02153401117753978, 'highlight_n_estimators': 117, 'highlight_subsample': 0.9611393623231622, 'highlight_colsample_bytree': 0.7548525852175725, 'highlight_reg_alpha': 0.13616455981604703, 'highlight_reg_lambda': 0.29117951843530143, 'final_max_depth': 7, 'final_learning_rate': 0.012069946402919822, 'final_n_estimators': 243, 'final_subsample': 0.8089185176595969, 'final_colsample_bytree': 0.8276816850294367, 'final_reg_alpha': 0.544544225920028, 'final_reg_lambda': 0.004489788528233917, 'weight_original': 0.24896708426812703, 'weight_blackmask': 0.20342543910042016, 'weight_highlight': 0.5379185070509471, 'weight_final': 1.3402837525040505, 'adaptive_weight_factor': 2.514827559261489, 'confidence_threshold': 0.7139763178430619, 'threshold_group_0': 0.3321069605245728, 'threshold_group_1': 0.28435214798499636, 'threshold_group_2': 0.3785862882407702, 'threshold_group_3': 0.2809740144447314, 'threshold_group_4': 0.4012524658089092}. Best is trial 75 with value: 0.7734452926992603.\n"
     ]
    },
    {
     "name": "stdout",
     "output_type": "stream",
     "text": [
      "Valid labels: 43, Constant labels: 12\n",
      "Training variant-specific models...\n",
      "  Training original model...\n",
      "  Training blackmask model...\n",
      "  Training highlight model...\n",
      "  Training final model...\n",
      "Training advanced variant selector...\n",
      "Trained 43 variant selectors\n"
     ]
    },
    {
     "name": "stderr",
     "output_type": "stream",
     "text": [
      "[I 2025-05-26 19:53:49,011] Trial 78 finished with value: 0.7711455712202022 and parameters: {'original_max_depth': 8, 'original_learning_rate': 0.07815448148708298, 'original_n_estimators': 198, 'original_subsample': 0.8859428231787609, 'original_colsample_bytree': 0.880198547200526, 'original_reg_alpha': 0.1289081627108519, 'original_reg_lambda': 0.01694855034116568, 'blackmask_max_depth': 5, 'blackmask_learning_rate': 0.04311142328627283, 'blackmask_n_estimators': 200, 'blackmask_subsample': 0.9927048057051597, 'blackmask_colsample_bytree': 0.8148123376520588, 'blackmask_reg_alpha': 0.04454659758695651, 'blackmask_reg_lambda': 0.0016287093942305255, 'highlight_max_depth': 9, 'highlight_learning_rate': 0.018134896648515114, 'highlight_n_estimators': 120, 'highlight_subsample': 0.9805888159605999, 'highlight_colsample_bytree': 0.7633836184766086, 'highlight_reg_alpha': 0.3845302847649448, 'highlight_reg_lambda': 0.30453479837933606, 'final_max_depth': 6, 'final_learning_rate': 0.015772990596945164, 'final_n_estimators': 257, 'final_subsample': 0.762961642958439, 'final_colsample_bytree': 0.829409678930405, 'final_reg_alpha': 0.38142622965724593, 'final_reg_lambda': 0.004508283878125793, 'weight_original': 0.36015451539689247, 'weight_blackmask': 0.14468664578500942, 'weight_highlight': 0.6299962361210466, 'weight_final': 1.3776182578677156, 'adaptive_weight_factor': 2.6677626448080165, 'confidence_threshold': 0.718063896842352, 'threshold_group_0': 0.3729260118985111, 'threshold_group_1': 0.2568263469832834, 'threshold_group_2': 0.3220540768517979, 'threshold_group_3': 0.2775136695747661, 'threshold_group_4': 0.4224716032580768}. Best is trial 75 with value: 0.7734452926992603.\n"
     ]
    },
    {
     "name": "stdout",
     "output_type": "stream",
     "text": [
      "Valid labels: 43, Constant labels: 12\n",
      "Training variant-specific models...\n",
      "  Training original model...\n",
      "  Training blackmask model...\n",
      "  Training highlight model...\n",
      "  Training final model...\n",
      "Training advanced variant selector...\n",
      "Trained 43 variant selectors\n"
     ]
    },
    {
     "name": "stderr",
     "output_type": "stream",
     "text": [
      "[I 2025-05-26 19:56:01,317] Trial 79 finished with value: 0.7732998730869814 and parameters: {'original_max_depth': 8, 'original_learning_rate': 0.0841128074243691, 'original_n_estimators': 220, 'original_subsample': 0.8920868567627314, 'original_colsample_bytree': 0.796962068260432, 'original_reg_alpha': 0.09148744512219359, 'original_reg_lambda': 0.02969551422403487, 'blackmask_max_depth': 5, 'blackmask_learning_rate': 0.0328592899924628, 'blackmask_n_estimators': 189, 'blackmask_subsample': 0.9855656754815549, 'blackmask_colsample_bytree': 0.7958252117843919, 'blackmask_reg_alpha': 0.028428851377194815, 'blackmask_reg_lambda': 0.0010076140140715976, 'highlight_max_depth': 9, 'highlight_learning_rate': 0.0155524219098383, 'highlight_n_estimators': 118, 'highlight_subsample': 0.9529846260913115, 'highlight_colsample_bytree': 0.7879042393220199, 'highlight_reg_alpha': 0.06069146154460087, 'highlight_reg_lambda': 0.14795946132601331, 'final_max_depth': 6, 'final_learning_rate': 0.013553010786270012, 'final_n_estimators': 239, 'final_subsample': 0.8100973188152051, 'final_colsample_bytree': 0.875992978583032, 'final_reg_alpha': 0.7075432855003074, 'final_reg_lambda': 0.0035798475223483795, 'weight_original': 0.25572020378742455, 'weight_blackmask': 0.2165278520816926, 'weight_highlight': 0.5546532926377052, 'weight_final': 1.4919642274224114, 'adaptive_weight_factor': 2.497687789036427, 'confidence_threshold': 0.7012400291112846, 'threshold_group_0': 0.2851406804863801, 'threshold_group_1': 0.3106388172852905, 'threshold_group_2': 0.38057082168384204, 'threshold_group_3': 0.30536221452692164, 'threshold_group_4': 0.4687913508814653}. Best is trial 75 with value: 0.7734452926992603.\n"
     ]
    },
    {
     "name": "stdout",
     "output_type": "stream",
     "text": [
      "Valid labels: 43, Constant labels: 12\n",
      "Training variant-specific models...\n",
      "  Training original model...\n",
      "  Training blackmask model...\n",
      "  Training highlight model...\n",
      "  Training final model...\n",
      "Training advanced variant selector...\n",
      "Trained 43 variant selectors\n"
     ]
    },
    {
     "name": "stderr",
     "output_type": "stream",
     "text": [
      "[I 2025-05-26 19:58:12,616] Trial 80 finished with value: 0.7715762397505233 and parameters: {'original_max_depth': 8, 'original_learning_rate': 0.08487853915943239, 'original_n_estimators': 221, 'original_subsample': 0.8924848167476633, 'original_colsample_bytree': 0.7931419216333995, 'original_reg_alpha': 0.16930550334455624, 'original_reg_lambda': 0.024624077968690913, 'blackmask_max_depth': 5, 'blackmask_learning_rate': 0.032619261182561664, 'blackmask_n_estimators': 184, 'blackmask_subsample': 0.9841280356403164, 'blackmask_colsample_bytree': 0.791207212985084, 'blackmask_reg_alpha': 0.02648096525970356, 'blackmask_reg_lambda': 0.0010739879736645318, 'highlight_max_depth': 9, 'highlight_learning_rate': 0.015496656276908702, 'highlight_n_estimators': 117, 'highlight_subsample': 0.95143424432372, 'highlight_colsample_bytree': 0.7959397931428622, 'highlight_reg_alpha': 0.0674487925641818, 'highlight_reg_lambda': 0.14872774634538646, 'final_max_depth': 6, 'final_learning_rate': 0.014153613033106775, 'final_n_estimators': 240, 'final_subsample': 0.7893665906684438, 'final_colsample_bytree': 0.8545365870633396, 'final_reg_alpha': 0.728556753791559, 'final_reg_lambda': 0.005876429773074615, 'weight_original': 0.254411316593793, 'weight_blackmask': 0.1875232172974265, 'weight_highlight': 0.5496764029470491, 'weight_final': 1.4866737575912996, 'adaptive_weight_factor': 2.6321773864196425, 'confidence_threshold': 0.7011374080062098, 'threshold_group_0': 0.34805807786621057, 'threshold_group_1': 0.31259752314575306, 'threshold_group_2': 0.38433258260298075, 'threshold_group_3': 0.2727604450413117, 'threshold_group_4': 0.4701105528936512}. Best is trial 75 with value: 0.7734452926992603.\n"
     ]
    },
    {
     "name": "stdout",
     "output_type": "stream",
     "text": [
      "Valid labels: 43, Constant labels: 12\n",
      "Training variant-specific models...\n",
      "  Training original model...\n",
      "  Training blackmask model...\n",
      "  Training highlight model...\n",
      "  Training final model...\n",
      "Training advanced variant selector...\n",
      "Trained 43 variant selectors\n"
     ]
    },
    {
     "name": "stderr",
     "output_type": "stream",
     "text": [
      "[I 2025-05-26 20:00:25,057] Trial 81 finished with value: 0.7717769279161356 and parameters: {'original_max_depth': 8, 'original_learning_rate': 0.0922820866734752, 'original_n_estimators': 208, 'original_subsample': 0.8952231273913055, 'original_colsample_bytree': 0.8071871682919972, 'original_reg_alpha': 0.08507655764575618, 'original_reg_lambda': 0.005392206522540796, 'blackmask_max_depth': 5, 'blackmask_learning_rate': 0.03351750314156092, 'blackmask_n_estimators': 191, 'blackmask_subsample': 0.9999477586608734, 'blackmask_colsample_bytree': 0.8079589672206351, 'blackmask_reg_alpha': 0.03175728311090119, 'blackmask_reg_lambda': 0.0018628606573822335, 'highlight_max_depth': 9, 'highlight_learning_rate': 0.020116209838511964, 'highlight_n_estimators': 110, 'highlight_subsample': 0.9639689137291962, 'highlight_colsample_bytree': 0.7725433198394317, 'highlight_reg_alpha': 0.13203136907667362, 'highlight_reg_lambda': 0.08610718843073924, 'final_max_depth': 6, 'final_learning_rate': 0.01860749413305398, 'final_n_estimators': 252, 'final_subsample': 0.8349274564884439, 'final_colsample_bytree': 0.8771592803783874, 'final_reg_alpha': 0.35095451075545636, 'final_reg_lambda': 0.0034341612977616225, 'weight_original': 0.2762455582591681, 'weight_blackmask': 0.22481356315327022, 'weight_highlight': 0.5107496206052882, 'weight_final': 1.421738255957413, 'adaptive_weight_factor': 2.4955600678059677, 'confidence_threshold': 0.7147161843953453, 'threshold_group_0': 0.3051584669176849, 'threshold_group_1': 0.2820677019579054, 'threshold_group_2': 0.37948738411837757, 'threshold_group_3': 0.3008913120861851, 'threshold_group_4': 0.5142850396792027}. Best is trial 75 with value: 0.7734452926992603.\n"
     ]
    },
    {
     "name": "stdout",
     "output_type": "stream",
     "text": [
      "Valid labels: 43, Constant labels: 12\n",
      "Training variant-specific models...\n",
      "  Training original model...\n",
      "  Training blackmask model...\n",
      "  Training highlight model...\n",
      "  Training final model...\n",
      "Training advanced variant selector...\n",
      "Trained 43 variant selectors\n"
     ]
    },
    {
     "name": "stderr",
     "output_type": "stream",
     "text": [
      "[I 2025-05-26 20:02:32,439] Trial 82 finished with value: 0.7725803124160096 and parameters: {'original_max_depth': 8, 'original_learning_rate': 0.15076111617750323, 'original_n_estimators': 206, 'original_subsample': 0.8715194865877225, 'original_colsample_bytree': 0.7846474453321726, 'original_reg_alpha': 0.10541263186191253, 'original_reg_lambda': 0.009376865166349266, 'blackmask_max_depth': 5, 'blackmask_learning_rate': 0.02773511127065585, 'blackmask_n_estimators': 206, 'blackmask_subsample': 0.9616717755652042, 'blackmask_colsample_bytree': 0.7720430914759238, 'blackmask_reg_alpha': 0.019519350144760934, 'blackmask_reg_lambda': 0.0012284398130904524, 'highlight_max_depth': 9, 'highlight_learning_rate': 0.021827865573699107, 'highlight_n_estimators': 121, 'highlight_subsample': 0.9491396916938888, 'highlight_colsample_bytree': 0.7827973836791443, 'highlight_reg_alpha': 0.2077211903860362, 'highlight_reg_lambda': 0.4289426503540735, 'final_max_depth': 7, 'final_learning_rate': 0.011371639022180543, 'final_n_estimators': 214, 'final_subsample': 0.8125080730953499, 'final_colsample_bytree': 0.8903473549346509, 'final_reg_alpha': 0.47605189453007374, 'final_reg_lambda': 0.004064874926698692, 'weight_original': 0.1759788804325622, 'weight_blackmask': 0.24710855865317186, 'weight_highlight': 0.3936813572659015, 'weight_final': 1.3291637739113336, 'adaptive_weight_factor': 2.7478024158378536, 'confidence_threshold': 0.7468035653079232, 'threshold_group_0': 0.32897020053981213, 'threshold_group_1': 0.3098650255498174, 'threshold_group_2': 0.344377445756653, 'threshold_group_3': 0.30961830652261274, 'threshold_group_4': 0.4583040482055274}. Best is trial 75 with value: 0.7734452926992603.\n"
     ]
    },
    {
     "name": "stdout",
     "output_type": "stream",
     "text": [
      "Valid labels: 43, Constant labels: 12\n",
      "Training variant-specific models...\n",
      "  Training original model...\n",
      "  Training blackmask model...\n",
      "  Training highlight model...\n",
      "  Training final model...\n",
      "Training advanced variant selector...\n",
      "Trained 43 variant selectors\n"
     ]
    },
    {
     "name": "stderr",
     "output_type": "stream",
     "text": [
      "[I 2025-05-26 20:04:36,571] Trial 83 finished with value: 0.7732895597701606 and parameters: {'original_max_depth': 8, 'original_learning_rate': 0.14057051478557675, 'original_n_estimators': 207, 'original_subsample': 0.8733823606387108, 'original_colsample_bytree': 0.7885687754855392, 'original_reg_alpha': 0.1076499358964124, 'original_reg_lambda': 0.013209508192553761, 'blackmask_max_depth': 5, 'blackmask_learning_rate': 0.028967145455124965, 'blackmask_n_estimators': 187, 'blackmask_subsample': 0.9707358376353823, 'blackmask_colsample_bytree': 0.7724231028678346, 'blackmask_reg_alpha': 0.02129589881888195, 'blackmask_reg_lambda': 0.0013882484720870363, 'highlight_max_depth': 9, 'highlight_learning_rate': 0.021860284155202848, 'highlight_n_estimators': 122, 'highlight_subsample': 0.9503617025364629, 'highlight_colsample_bytree': 0.8231765795284592, 'highlight_reg_alpha': 0.320749347873839, 'highlight_reg_lambda': 0.4170209311427146, 'final_max_depth': 7, 'final_learning_rate': 0.011481114807902362, 'final_n_estimators': 211, 'final_subsample': 0.8076027960311695, 'final_colsample_bytree': 0.8894567777029243, 'final_reg_alpha': 0.5018237453949997, 'final_reg_lambda': 0.005096390352640913, 'weight_original': 0.19476767293500064, 'weight_blackmask': 0.2488541589384969, 'weight_highlight': 0.6428444622973492, 'weight_final': 1.3232773519547254, 'adaptive_weight_factor': 2.7736327631633295, 'confidence_threshold': 0.7435835614649368, 'threshold_group_0': 0.28575513543680653, 'threshold_group_1': 0.3137450699596549, 'threshold_group_2': 0.3443811674599273, 'threshold_group_3': 0.34718315239801284, 'threshold_group_4': 0.46143253414825064}. Best is trial 75 with value: 0.7734452926992603.\n"
     ]
    },
    {
     "name": "stdout",
     "output_type": "stream",
     "text": [
      "Valid labels: 43, Constant labels: 12\n",
      "Training variant-specific models...\n",
      "  Training original model...\n",
      "  Training blackmask model...\n",
      "  Training highlight model...\n",
      "  Training final model...\n",
      "Training advanced variant selector...\n",
      "Trained 43 variant selectors\n"
     ]
    },
    {
     "name": "stderr",
     "output_type": "stream",
     "text": [
      "[I 2025-05-26 20:06:36,774] Trial 84 finished with value: 0.7713013956048571 and parameters: {'original_max_depth': 8, 'original_learning_rate': 0.14853208906211354, 'original_n_estimators': 237, 'original_subsample': 0.8743685890852344, 'original_colsample_bytree': 0.7864166624486975, 'original_reg_alpha': 0.09765703673945746, 'original_reg_lambda': 0.012503497160775348, 'blackmask_max_depth': 5, 'blackmask_learning_rate': 0.021048154302462707, 'blackmask_n_estimators': 188, 'blackmask_subsample': 0.9683989469851083, 'blackmask_colsample_bytree': 0.7641866993636369, 'blackmask_reg_alpha': 0.02066418276809379, 'blackmask_reg_lambda': 0.0012983073330225402, 'highlight_max_depth': 9, 'highlight_learning_rate': 0.015967602631301286, 'highlight_n_estimators': 122, 'highlight_subsample': 0.9749228728884372, 'highlight_colsample_bytree': 0.8269386979150573, 'highlight_reg_alpha': 0.19554260721398065, 'highlight_reg_lambda': 0.5786568584726886, 'final_max_depth': 7, 'final_learning_rate': 0.011681858065663594, 'final_n_estimators': 199, 'final_subsample': 0.8100452430534939, 'final_colsample_bytree': 0.8666906870207081, 'final_reg_alpha': 0.2872975505184212, 'final_reg_lambda': 0.004972464890904338, 'weight_original': 0.16994063916450985, 'weight_blackmask': 0.25389243708476406, 'weight_highlight': 0.655491171953162, 'weight_final': 1.3167833866277523, 'adaptive_weight_factor': 2.7546040159406995, 'confidence_threshold': 0.7460991926118181, 'threshold_group_0': 0.3298527540198367, 'threshold_group_1': 0.31241372841846177, 'threshold_group_2': 0.29107389511016885, 'threshold_group_3': 0.343957582315605, 'threshold_group_4': 0.41442904617496507}. Best is trial 75 with value: 0.7734452926992603.\n"
     ]
    },
    {
     "name": "stdout",
     "output_type": "stream",
     "text": [
      "Valid labels: 43, Constant labels: 12\n",
      "Training variant-specific models...\n",
      "  Training original model...\n",
      "  Training blackmask model...\n",
      "  Training highlight model...\n",
      "  Training final model...\n",
      "Training advanced variant selector...\n",
      "Trained 43 variant selectors\n"
     ]
    },
    {
     "name": "stderr",
     "output_type": "stream",
     "text": [
      "[I 2025-05-26 20:08:43,340] Trial 85 finished with value: 0.7734860130810627 and parameters: {'original_max_depth': 8, 'original_learning_rate': 0.13673776586073547, 'original_n_estimators': 219, 'original_subsample': 0.8518493360793007, 'original_colsample_bytree': 0.7794946891138259, 'original_reg_alpha': 0.17510740874359843, 'original_reg_lambda': 0.030045152030420366, 'blackmask_max_depth': 5, 'blackmask_learning_rate': 0.027940699500865643, 'blackmask_n_estimators': 200, 'blackmask_subsample': 0.959327288438744, 'blackmask_colsample_bytree': 0.7454120984064424, 'blackmask_reg_alpha': 0.00875421961174466, 'blackmask_reg_lambda': 0.0010008807225256042, 'highlight_max_depth': 9, 'highlight_learning_rate': 0.0210461131274427, 'highlight_n_estimators': 116, 'highlight_subsample': 0.9507164504936294, 'highlight_colsample_bytree': 0.7852607747131569, 'highlight_reg_alpha': 0.0911055856744989, 'highlight_reg_lambda': 0.28168351998765845, 'final_max_depth': 7, 'final_learning_rate': 0.01344840202929116, 'final_n_estimators': 213, 'final_subsample': 0.7732358271951866, 'final_colsample_bytree': 0.885407098446881, 'final_reg_alpha': 0.48108589200017826, 'final_reg_lambda': 0.0025265619244621684, 'weight_original': 0.35401816206298875, 'weight_blackmask': 0.19552015017895896, 'weight_highlight': 0.6216978348004785, 'weight_final': 1.2326301198261103, 'adaptive_weight_factor': 2.8364748983460304, 'confidence_threshold': 0.7605179890234508, 'threshold_group_0': 0.2875864726138246, 'threshold_group_1': 0.26417635408721307, 'threshold_group_2': 0.3444803064520028, 'threshold_group_3': 0.3101061789991611, 'threshold_group_4': 0.4612384241650068}. Best is trial 85 with value: 0.7734860130810627.\n"
     ]
    },
    {
     "name": "stdout",
     "output_type": "stream",
     "text": [
      "Valid labels: 43, Constant labels: 12\n",
      "Training variant-specific models...\n",
      "  Training original model...\n",
      "  Training blackmask model...\n",
      "  Training highlight model...\n",
      "  Training final model...\n",
      "Training advanced variant selector...\n",
      "Trained 43 variant selectors\n"
     ]
    },
    {
     "name": "stderr",
     "output_type": "stream",
     "text": [
      "[I 2025-05-26 20:10:47,519] Trial 86 finished with value: 0.7730066038023626 and parameters: {'original_max_depth': 8, 'original_learning_rate': 0.16935090576065184, 'original_n_estimators': 207, 'original_subsample': 0.844830455032812, 'original_colsample_bytree': 0.761130957718018, 'original_reg_alpha': 0.2020862574608595, 'original_reg_lambda': 0.024586951039098463, 'blackmask_max_depth': 5, 'blackmask_learning_rate': 0.02662035827933395, 'blackmask_n_estimators': 208, 'blackmask_subsample': 0.9571684436660626, 'blackmask_colsample_bytree': 0.7412445260200887, 'blackmask_reg_alpha': 0.0066633879350707055, 'blackmask_reg_lambda': 0.0018152870879257783, 'highlight_max_depth': 9, 'highlight_learning_rate': 0.02171396234757277, 'highlight_n_estimators': 116, 'highlight_subsample': 0.9523621700158431, 'highlight_colsample_bytree': 0.8036787376526233, 'highlight_reg_alpha': 0.10038034504116304, 'highlight_reg_lambda': 0.4583882372383807, 'final_max_depth': 7, 'final_learning_rate': 0.010996522308528845, 'final_n_estimators': 204, 'final_subsample': 0.7815273155585059, 'final_colsample_bytree': 0.87199157134763, 'final_reg_alpha': 0.5122753597280078, 'final_reg_lambda': 0.006629325764458793, 'weight_original': 0.16665143345093697, 'weight_blackmask': 0.13938433288463956, 'weight_highlight': 0.6602642430169408, 'weight_final': 1.2613889572363588, 'adaptive_weight_factor': 2.9346127865316802, 'confidence_threshold': 0.7652454096638568, 'threshold_group_0': 0.28866843897116634, 'threshold_group_1': 0.25878592791200994, 'threshold_group_2': 0.34235966126770095, 'threshold_group_3': 0.3059818650420309, 'threshold_group_4': 0.462263749242626}. Best is trial 85 with value: 0.7734860130810627.\n"
     ]
    },
    {
     "name": "stdout",
     "output_type": "stream",
     "text": [
      "Valid labels: 43, Constant labels: 12\n",
      "Training variant-specific models...\n",
      "  Training original model...\n",
      "  Training blackmask model...\n",
      "  Training highlight model...\n",
      "  Training final model...\n",
      "Training advanced variant selector...\n",
      "Trained 43 variant selectors\n"
     ]
    },
    {
     "name": "stderr",
     "output_type": "stream",
     "text": [
      "[I 2025-05-26 20:12:51,155] Trial 87 finished with value: 0.7726309343133739 and parameters: {'original_max_depth': 8, 'original_learning_rate': 0.16411678099568627, 'original_n_estimators': 198, 'original_subsample': 0.8470034443003402, 'original_colsample_bytree': 0.7569756940232836, 'original_reg_alpha': 0.18975109610478497, 'original_reg_lambda': 0.025186701772720324, 'blackmask_max_depth': 5, 'blackmask_learning_rate': 0.02559334156118088, 'blackmask_n_estimators': 207, 'blackmask_subsample': 0.9694858273969222, 'blackmask_colsample_bytree': 0.7367717312399444, 'blackmask_reg_alpha': 0.008615684686584685, 'blackmask_reg_lambda': 0.001202583445175445, 'highlight_max_depth': 9, 'highlight_learning_rate': 0.02147557103525128, 'highlight_n_estimators': 116, 'highlight_subsample': 0.9508561556799479, 'highlight_colsample_bytree': 0.7860910458203847, 'highlight_reg_alpha': 0.08794961866517874, 'highlight_reg_lambda': 0.4610062358188488, 'final_max_depth': 7, 'final_learning_rate': 0.013424151787280292, 'final_n_estimators': 210, 'final_subsample': 0.7730409501869733, 'final_colsample_bytree': 0.7651685985760451, 'final_reg_alpha': 0.48230231751409497, 'final_reg_lambda': 0.006656535142266363, 'weight_original': 0.15294395363905114, 'weight_blackmask': 0.13064930402972114, 'weight_highlight': 0.8038021572760362, 'weight_final': 1.2465085468001271, 'adaptive_weight_factor': 2.9533584002108215, 'confidence_threshold': 0.7760489486563682, 'threshold_group_0': 0.28513593247195584, 'threshold_group_1': 0.26308876721786095, 'threshold_group_2': 0.34501609158445107, 'threshold_group_3': 0.3156756730660667, 'threshold_group_4': 0.45993595791332015}. Best is trial 85 with value: 0.7734860130810627.\n"
     ]
    },
    {
     "name": "stdout",
     "output_type": "stream",
     "text": [
      "Valid labels: 43, Constant labels: 12\n",
      "Training variant-specific models...\n",
      "  Training original model...\n",
      "  Training blackmask model...\n",
      "  Training highlight model...\n",
      "  Training final model...\n",
      "Training advanced variant selector...\n",
      "Trained 43 variant selectors\n"
     ]
    },
    {
     "name": "stderr",
     "output_type": "stream",
     "text": [
      "[I 2025-05-26 20:14:55,511] Trial 88 finished with value: 0.7642321540694981 and parameters: {'original_max_depth': 8, 'original_learning_rate': 0.15952725338925516, 'original_n_estimators': 207, 'original_subsample': 0.8383995409072718, 'original_colsample_bytree': 0.7590098647576989, 'original_reg_alpha': 0.18171974077657385, 'original_reg_lambda': 0.03170822660839572, 'blackmask_max_depth': 5, 'blackmask_learning_rate': 0.026620763427117416, 'blackmask_n_estimators': 207, 'blackmask_subsample': 0.9689850859115572, 'blackmask_colsample_bytree': 0.7372113211829644, 'blackmask_reg_alpha': 0.007185363367892574, 'blackmask_reg_lambda': 0.0010280653364513326, 'highlight_max_depth': 9, 'highlight_learning_rate': 0.026646009866356686, 'highlight_n_estimators': 116, 'highlight_subsample': 0.9551626510130505, 'highlight_colsample_bytree': 0.7851874430857236, 'highlight_reg_alpha': 0.09977252599874044, 'highlight_reg_lambda': 0.4138534844021157, 'final_max_depth': 7, 'final_learning_rate': 0.012890675196810097, 'final_n_estimators': 203, 'final_subsample': 0.7713390105874974, 'final_colsample_bytree': 0.7640729736239144, 'final_reg_alpha': 0.5210389265596969, 'final_reg_lambda': 0.00629204191695015, 'weight_original': 0.15719505483681892, 'weight_blackmask': 0.13699320799449927, 'weight_highlight': 0.8028260627006388, 'weight_final': 1.265307029383269, 'adaptive_weight_factor': 2.987930755879667, 'confidence_threshold': 0.7681891950602081, 'threshold_group_0': 0.5912322868019744, 'threshold_group_1': 0.26480405143586294, 'threshold_group_2': 0.3401631483876237, 'threshold_group_3': 0.3072791399530191, 'threshold_group_4': 0.3956380078342961}. Best is trial 85 with value: 0.7734860130810627.\n"
     ]
    },
    {
     "name": "stdout",
     "output_type": "stream",
     "text": [
      "Valid labels: 43, Constant labels: 12\n",
      "Training variant-specific models...\n",
      "  Training original model...\n",
      "  Training blackmask model...\n",
      "  Training highlight model...\n",
      "  Training final model...\n",
      "Training advanced variant selector...\n",
      "Trained 43 variant selectors\n"
     ]
    },
    {
     "name": "stderr",
     "output_type": "stream",
     "text": [
      "[I 2025-05-26 20:17:02,522] Trial 89 finished with value: 0.773050918014381 and parameters: {'original_max_depth': 8, 'original_learning_rate': 0.1332057548245406, 'original_n_estimators': 198, 'original_subsample': 0.8463005628635684, 'original_colsample_bytree': 0.7356625968101237, 'original_reg_alpha': 0.2426100672656092, 'original_reg_lambda': 0.02307786580582881, 'blackmask_max_depth': 5, 'blackmask_learning_rate': 0.02812465477862248, 'blackmask_n_estimators': 198, 'blackmask_subsample': 0.9855858854464761, 'blackmask_colsample_bytree': 0.7469504378835309, 'blackmask_reg_alpha': 0.004218067225283598, 'blackmask_reg_lambda': 0.0012519142890404572, 'highlight_max_depth': 9, 'highlight_learning_rate': 0.02130211379607826, 'highlight_n_estimators': 130, 'highlight_subsample': 0.9473623181009043, 'highlight_colsample_bytree': 0.8092591073084493, 'highlight_reg_alpha': 0.07898022668700111, 'highlight_reg_lambda': 0.44616395291712146, 'final_max_depth': 7, 'final_learning_rate': 0.011124230027971941, 'final_n_estimators': 210, 'final_subsample': 0.7797241359417995, 'final_colsample_bytree': 0.7059311629634528, 'final_reg_alpha': 0.18677165974143728, 'final_reg_lambda': 0.0035697630468775818, 'weight_original': 0.22446837917348114, 'weight_blackmask': 0.2094432209612292, 'weight_highlight': 0.6333009120497458, 'weight_final': 1.3560626150535282, 'adaptive_weight_factor': 2.903476040311855, 'confidence_threshold': 0.7600180861161693, 'threshold_group_0': 0.29061195594288425, 'threshold_group_1': 0.27626078143106797, 'threshold_group_2': 0.3106378061259154, 'threshold_group_3': 0.288221834003185, 'threshold_group_4': 0.4190931862288322}. Best is trial 85 with value: 0.7734860130810627.\n"
     ]
    },
    {
     "name": "stdout",
     "output_type": "stream",
     "text": [
      "Valid labels: 43, Constant labels: 12\n",
      "Training variant-specific models...\n",
      "  Training original model...\n",
      "  Training blackmask model...\n",
      "  Training highlight model...\n",
      "  Training final model...\n",
      "Training advanced variant selector...\n",
      "Trained 43 variant selectors\n"
     ]
    },
    {
     "name": "stderr",
     "output_type": "stream",
     "text": [
      "[I 2025-05-26 20:19:10,706] Trial 90 finished with value: 0.7733481959513117 and parameters: {'original_max_depth': 8, 'original_learning_rate': 0.13715072128124686, 'original_n_estimators': 198, 'original_subsample': 0.8476618692981208, 'original_colsample_bytree': 0.7383679784363362, 'original_reg_alpha': 0.2535589530113048, 'original_reg_lambda': 0.06062491278733802, 'blackmask_max_depth': 5, 'blackmask_learning_rate': 0.028752774288048677, 'blackmask_n_estimators': 200, 'blackmask_subsample': 0.9840331727245092, 'blackmask_colsample_bytree': 0.74298328871899, 'blackmask_reg_alpha': 0.004029848151198133, 'blackmask_reg_lambda': 0.0012664383095885988, 'highlight_max_depth': 9, 'highlight_learning_rate': 0.020842567486557214, 'highlight_n_estimators': 129, 'highlight_subsample': 0.9473321097802949, 'highlight_colsample_bytree': 0.8079209247879935, 'highlight_reg_alpha': 0.059791383475555564, 'highlight_reg_lambda': 0.43568871541841303, 'final_max_depth': 7, 'final_learning_rate': 0.011341239562910835, 'final_n_estimators': 211, 'final_subsample': 0.7519000868591517, 'final_colsample_bytree': 0.7263787840740592, 'final_reg_alpha': 0.1993249163301221, 'final_reg_lambda': 0.005312986359863059, 'weight_original': 0.2040807474459317, 'weight_blackmask': 0.19532898310542945, 'weight_highlight': 0.6858017494544514, 'weight_final': 1.4501674904567172, 'adaptive_weight_factor': 2.9001901890831703, 'confidence_threshold': 0.7570435623080015, 'threshold_group_0': 0.28879498204226556, 'threshold_group_1': 0.2761047718271235, 'threshold_group_2': 0.32189830913255746, 'threshold_group_3': 0.29104061483593896, 'threshold_group_4': 0.4312032198283572}. Best is trial 85 with value: 0.7734860130810627.\n"
     ]
    },
    {
     "name": "stdout",
     "output_type": "stream",
     "text": [
      "Valid labels: 43, Constant labels: 12\n",
      "Training variant-specific models...\n",
      "  Training original model...\n",
      "  Training blackmask model...\n",
      "  Training highlight model...\n",
      "  Training final model...\n",
      "Training advanced variant selector...\n",
      "Trained 43 variant selectors\n"
     ]
    },
    {
     "name": "stderr",
     "output_type": "stream",
     "text": [
      "[I 2025-05-26 20:21:17,964] Trial 91 finished with value: 0.7729515341734365 and parameters: {'original_max_depth': 8, 'original_learning_rate': 0.13544690393667227, 'original_n_estimators': 198, 'original_subsample': 0.8493601028311079, 'original_colsample_bytree': 0.7313600263104345, 'original_reg_alpha': 0.27277913419402644, 'original_reg_lambda': 0.06776685953159167, 'blackmask_max_depth': 5, 'blackmask_learning_rate': 0.02781278329259027, 'blackmask_n_estimators': 199, 'blackmask_subsample': 0.9820532815197714, 'blackmask_colsample_bytree': 0.7439118819505667, 'blackmask_reg_alpha': 0.004831439244176756, 'blackmask_reg_lambda': 0.0012849288825914245, 'highlight_max_depth': 9, 'highlight_learning_rate': 0.020394160291292457, 'highlight_n_estimators': 130, 'highlight_subsample': 0.9460852379425241, 'highlight_colsample_bytree': 0.809886183357554, 'highlight_reg_alpha': 0.07574077234016019, 'highlight_reg_lambda': 0.4221271120543198, 'final_max_depth': 7, 'final_learning_rate': 0.011150769751189324, 'final_n_estimators': 212, 'final_subsample': 0.7507482736347829, 'final_colsample_bytree': 0.7013511877603563, 'final_reg_alpha': 0.1563822505264557, 'final_reg_lambda': 0.010793825020534775, 'weight_original': 0.20505372412906225, 'weight_blackmask': 0.1910237462293608, 'weight_highlight': 0.6781208665994782, 'weight_final': 1.4401449185553017, 'adaptive_weight_factor': 2.9083732334084895, 'confidence_threshold': 0.7575963221503851, 'threshold_group_0': 0.2910908659611953, 'threshold_group_1': 0.25073901287853195, 'threshold_group_2': 0.2957447454519005, 'threshold_group_3': 0.2893479371160865, 'threshold_group_4': 0.42465473418478994}. Best is trial 85 with value: 0.7734860130810627.\n"
     ]
    },
    {
     "name": "stdout",
     "output_type": "stream",
     "text": [
      "Valid labels: 43, Constant labels: 12\n",
      "Training variant-specific models...\n",
      "  Training original model...\n",
      "  Training blackmask model...\n",
      "  Training highlight model...\n",
      "  Training final model...\n",
      "Training advanced variant selector...\n",
      "Trained 43 variant selectors\n"
     ]
    },
    {
     "name": "stderr",
     "output_type": "stream",
     "text": [
      "[I 2025-05-26 20:23:26,346] Trial 92 finished with value: 0.771980790492544 and parameters: {'original_max_depth': 8, 'original_learning_rate': 0.13714781915657726, 'original_n_estimators': 193, 'original_subsample': 0.8484813163499815, 'original_colsample_bytree': 0.7287150965656364, 'original_reg_alpha': 0.2816761140740068, 'original_reg_lambda': 0.07102849413350557, 'blackmask_max_depth': 5, 'blackmask_learning_rate': 0.027992582863126156, 'blackmask_n_estimators': 200, 'blackmask_subsample': 0.9831367626094341, 'blackmask_colsample_bytree': 0.741486476857314, 'blackmask_reg_alpha': 0.004161409717576846, 'blackmask_reg_lambda': 0.0012104225634178066, 'highlight_max_depth': 9, 'highlight_learning_rate': 0.0197479689304159, 'highlight_n_estimators': 131, 'highlight_subsample': 0.9452368219594028, 'highlight_colsample_bytree': 0.8024229311135408, 'highlight_reg_alpha': 0.0730741965762323, 'highlight_reg_lambda': 0.43919715208456894, 'final_max_depth': 7, 'final_learning_rate': 0.011071199904372515, 'final_n_estimators': 211, 'final_subsample': 0.7499572771259072, 'final_colsample_bytree': 0.7067659350953183, 'final_reg_alpha': 0.18740787989338265, 'final_reg_lambda': 0.010037478368893635, 'weight_original': 0.11289686890677997, 'weight_blackmask': 0.19265209943607153, 'weight_highlight': 0.857282993646951, 'weight_final': 1.3829651877376457, 'adaptive_weight_factor': 2.9023508512674314, 'confidence_threshold': 0.7575826559768601, 'threshold_group_0': 0.29028150946324993, 'threshold_group_1': 0.25208630215853955, 'threshold_group_2': 0.28903255385392884, 'threshold_group_3': 0.29177912387119376, 'threshold_group_4': 0.427095412224489}. Best is trial 85 with value: 0.7734860130810627.\n"
     ]
    },
    {
     "name": "stdout",
     "output_type": "stream",
     "text": [
      "Valid labels: 43, Constant labels: 12\n",
      "Training variant-specific models...\n",
      "  Training original model...\n",
      "  Training blackmask model...\n",
      "  Training highlight model...\n",
      "  Training final model...\n",
      "Training advanced variant selector...\n",
      "Trained 43 variant selectors\n"
     ]
    },
    {
     "name": "stderr",
     "output_type": "stream",
     "text": [
      "[I 2025-05-26 20:25:28,177] Trial 93 finished with value: 0.7728250312884822 and parameters: {'original_max_depth': 8, 'original_learning_rate': 0.1657262243037744, 'original_n_estimators': 200, 'original_subsample': 0.8199540985800796, 'original_colsample_bytree': 0.7355175366916354, 'original_reg_alpha': 0.22483616204793752, 'original_reg_lambda': 0.04905166986067995, 'blackmask_max_depth': 5, 'blackmask_learning_rate': 0.023208839328590813, 'blackmask_n_estimators': 202, 'blackmask_subsample': 0.984818439454168, 'blackmask_colsample_bytree': 0.7170315954700878, 'blackmask_reg_alpha': 0.00814637338265998, 'blackmask_reg_lambda': 0.0012167521160389263, 'highlight_max_depth': 9, 'highlight_learning_rate': 0.021298548566543705, 'highlight_n_estimators': 128, 'highlight_subsample': 0.9327421206026039, 'highlight_colsample_bytree': 0.8116078703372894, 'highlight_reg_alpha': 0.051428817139038366, 'highlight_reg_lambda': 0.549523029777099, 'final_max_depth': 7, 'final_learning_rate': 0.014341649928094799, 'final_n_estimators': 184, 'final_subsample': 0.7414450684155616, 'final_colsample_bytree': 0.7210259087351042, 'final_reg_alpha': 0.2099148970460631, 'final_reg_lambda': 0.005547435786799876, 'weight_original': 0.19708574878235455, 'weight_blackmask': 0.25727177727499895, 'weight_highlight': 0.7625952585034789, 'weight_final': 1.456367974020321, 'adaptive_weight_factor': 2.9112781798804135, 'confidence_threshold': 0.7749023631823194, 'threshold_group_0': 0.3058708994156615, 'threshold_group_1': 0.27339894183390323, 'threshold_group_2': 0.3037622678912089, 'threshold_group_3': 0.2668345307020589, 'threshold_group_4': 0.46439654778727346}. Best is trial 85 with value: 0.7734860130810627.\n"
     ]
    },
    {
     "name": "stdout",
     "output_type": "stream",
     "text": [
      "Valid labels: 43, Constant labels: 12\n",
      "Training variant-specific models...\n",
      "  Training original model...\n",
      "  Training blackmask model...\n",
      "  Training highlight model...\n",
      "  Training final model...\n",
      "Training advanced variant selector...\n",
      "Trained 43 variant selectors\n"
     ]
    },
    {
     "name": "stderr",
     "output_type": "stream",
     "text": [
      "[I 2025-05-26 20:27:27,649] Trial 94 finished with value: 0.7720112950351457 and parameters: {'original_max_depth': 8, 'original_learning_rate': 0.16946349238258793, 'original_n_estimators': 197, 'original_subsample': 0.8204983725949202, 'original_colsample_bytree': 0.7348954402720309, 'original_reg_alpha': 0.23210468561410053, 'original_reg_lambda': 0.05233167345775878, 'blackmask_max_depth': 5, 'blackmask_learning_rate': 0.022556909422639798, 'blackmask_n_estimators': 202, 'blackmask_subsample': 0.9843003721518746, 'blackmask_colsample_bytree': 0.7180867758909457, 'blackmask_reg_alpha': 0.007757125631373365, 'blackmask_reg_lambda': 0.0027120834676462513, 'highlight_max_depth': 9, 'highlight_learning_rate': 0.026129964940628848, 'highlight_n_estimators': 129, 'highlight_subsample': 0.9320869589975749, 'highlight_colsample_bytree': 0.8254911748176028, 'highlight_reg_alpha': 0.057169376146337096, 'highlight_reg_lambda': 0.5424926068501288, 'final_max_depth': 7, 'final_learning_rate': 0.01390027043982419, 'final_n_estimators': 170, 'final_subsample': 0.7315776655705385, 'final_colsample_bytree': 0.7224285252046774, 'final_reg_alpha': 0.2260672121451949, 'final_reg_lambda': 0.01128841642064435, 'weight_original': 0.19734942097984406, 'weight_blackmask': 0.21330065488529595, 'weight_highlight': 0.7616417433900502, 'weight_final': 1.464989580066462, 'adaptive_weight_factor': 2.9087255850469296, 'confidence_threshold': 0.7736690400756768, 'threshold_group_0': 0.3033988082543917, 'threshold_group_1': 0.27221143323162506, 'threshold_group_2': 0.29669737190422735, 'threshold_group_3': 0.2597832327186018, 'threshold_group_4': 0.4298621130860935}. Best is trial 85 with value: 0.7734860130810627.\n"
     ]
    },
    {
     "name": "stdout",
     "output_type": "stream",
     "text": [
      "Valid labels: 43, Constant labels: 12\n",
      "Training variant-specific models...\n",
      "  Training original model...\n",
      "  Training blackmask model...\n",
      "  Training highlight model...\n",
      "  Training final model...\n",
      "Training advanced variant selector...\n",
      "Trained 43 variant selectors\n"
     ]
    },
    {
     "name": "stderr",
     "output_type": "stream",
     "text": [
      "[I 2025-05-26 20:29:32,112] Trial 95 finished with value: 0.7716855065566093 and parameters: {'original_max_depth': 8, 'original_learning_rate': 0.13455867619115555, 'original_n_estimators': 211, 'original_subsample': 0.8379430579622431, 'original_colsample_bytree': 0.7183956115965691, 'original_reg_alpha': 0.3285630946048297, 'original_reg_lambda': 0.026961435058305505, 'blackmask_max_depth': 5, 'blackmask_learning_rate': 0.023828398056182386, 'blackmask_n_estimators': 198, 'blackmask_subsample': 0.9727755395841107, 'blackmask_colsample_bytree': 0.7495410684016031, 'blackmask_reg_alpha': 0.0025910258055030547, 'blackmask_reg_lambda': 0.0015073749391459029, 'highlight_max_depth': 9, 'highlight_learning_rate': 0.023694649915307658, 'highlight_n_estimators': 134, 'highlight_subsample': 0.9422350298659882, 'highlight_colsample_bytree': 0.8148815180248548, 'highlight_reg_alpha': 0.0848783164344904, 'highlight_reg_lambda': 0.6818978343530184, 'final_max_depth': 8, 'final_learning_rate': 0.017575257093507917, 'final_n_estimators': 184, 'final_subsample': 0.755081111575994, 'final_colsample_bytree': 0.7436725679223792, 'final_reg_alpha': 0.12466730431258938, 'final_reg_lambda': 0.006967743068496298, 'weight_original': 0.13065180591521375, 'weight_blackmask': 0.1707918537570581, 'weight_highlight': 0.69673657174465, 'weight_final': 1.4222327361666716, 'adaptive_weight_factor': 2.867367505034649, 'confidence_threshold': 0.800663685144253, 'threshold_group_0': 0.2868500406689845, 'threshold_group_1': 0.2686177165812893, 'threshold_group_2': 0.27048158337896083, 'threshold_group_3': 0.26842953030016986, 'threshold_group_4': 0.41736926965347537}. Best is trial 85 with value: 0.7734860130810627.\n"
     ]
    },
    {
     "name": "stdout",
     "output_type": "stream",
     "text": [
      "Valid labels: 43, Constant labels: 12\n",
      "Training variant-specific models...\n",
      "  Training original model...\n",
      "  Training blackmask model...\n",
      "  Training highlight model...\n",
      "  Training final model...\n",
      "Training advanced variant selector...\n",
      "Trained 43 variant selectors\n"
     ]
    },
    {
     "name": "stderr",
     "output_type": "stream",
     "text": [
      "[I 2025-05-26 20:31:32,214] Trial 96 finished with value: 0.7727496840710689 and parameters: {'original_max_depth': 4, 'original_learning_rate': 0.16481162116585932, 'original_n_estimators': 199, 'original_subsample': 0.8010108734214704, 'original_colsample_bytree': 0.7546007110241364, 'original_reg_alpha': 0.15791635843303914, 'original_reg_lambda': 0.09811671533903651, 'blackmask_max_depth': 5, 'blackmask_learning_rate': 0.02986893807267551, 'blackmask_n_estimators': 188, 'blackmask_subsample': 0.9984501173721267, 'blackmask_colsample_bytree': 0.7546913044560594, 'blackmask_reg_alpha': 0.0054686649667407975, 'blackmask_reg_lambda': 0.002251601367893514, 'highlight_max_depth': 9, 'highlight_learning_rate': 0.020968667505686985, 'highlight_n_estimators': 128, 'highlight_subsample': 0.7364353836185804, 'highlight_colsample_bytree': 0.8543697007490253, 'highlight_reg_alpha': 0.05259278832892238, 'highlight_reg_lambda': 0.5292080216910386, 'final_max_depth': 7, 'final_learning_rate': 0.015062973464238384, 'final_n_estimators': 187, 'final_subsample': 0.727765726070928, 'final_colsample_bytree': 0.7012978952559755, 'final_reg_alpha': 0.7365264492243873, 'final_reg_lambda': 0.0053636780330048464, 'weight_original': 0.3352841051880352, 'weight_blackmask': 0.1298050340509023, 'weight_highlight': 0.6578658251748397, 'weight_final': 1.4946166146895201, 'adaptive_weight_factor': 2.9491847173308403, 'confidence_threshold': 0.7644025757341023, 'threshold_group_0': 0.28767169881755306, 'threshold_group_1': 0.26113385558218066, 'threshold_group_2': 0.3204290602509556, 'threshold_group_3': 0.28833780968187483, 'threshold_group_4': 0.47190440082682117}. Best is trial 85 with value: 0.7734860130810627.\n"
     ]
    },
    {
     "name": "stdout",
     "output_type": "stream",
     "text": [
      "Valid labels: 43, Constant labels: 12\n",
      "Training variant-specific models...\n",
      "  Training original model...\n",
      "  Training blackmask model...\n",
      "  Training highlight model...\n",
      "  Training final model...\n",
      "Training advanced variant selector...\n",
      "Trained 43 variant selectors\n"
     ]
    },
    {
     "name": "stderr",
     "output_type": "stream",
     "text": [
      "[I 2025-05-26 20:33:34,813] Trial 97 finished with value: 0.7732615270464989 and parameters: {'original_max_depth': 4, 'original_learning_rate': 0.1828978670188934, 'original_n_estimators': 200, 'original_subsample': 0.8222461180680527, 'original_colsample_bytree': 0.7451311382758669, 'original_reg_alpha': 0.46998790531679124, 'original_reg_lambda': 0.09612433709345171, 'blackmask_max_depth': 5, 'blackmask_learning_rate': 0.029780267696689098, 'blackmask_n_estimators': 186, 'blackmask_subsample': 0.9982349514746841, 'blackmask_colsample_bytree': 0.7240180090996226, 'blackmask_reg_alpha': 0.005802339488177256, 'blackmask_reg_lambda': 0.002144528590294129, 'highlight_max_depth': 9, 'highlight_learning_rate': 0.017755193929057146, 'highlight_n_estimators': 128, 'highlight_subsample': 0.7764984273419759, 'highlight_colsample_bytree': 0.8483751709806217, 'highlight_reg_alpha': 0.04995469993856374, 'highlight_reg_lambda': 0.8253978755770486, 'final_max_depth': 8, 'final_learning_rate': 0.015459080868022881, 'final_n_estimators': 183, 'final_subsample': 0.7320677732911173, 'final_colsample_bytree': 0.7012878298001949, 'final_reg_alpha': 0.07153975344697575, 'final_reg_lambda': 0.005438230993003747, 'weight_original': 0.2326737111129274, 'weight_blackmask': 0.2623107087003401, 'weight_highlight': 0.6365872702567806, 'weight_final': 1.4446300281003832, 'adaptive_weight_factor': 2.836323168194003, 'confidence_threshold': 0.7642143785757478, 'threshold_group_0': 0.30310837889225056, 'threshold_group_1': 0.27719982235411417, 'threshold_group_2': 0.315482018039235, 'threshold_group_3': 0.28805512718835286, 'threshold_group_4': 0.38312063002}. Best is trial 85 with value: 0.7734860130810627.\n"
     ]
    },
    {
     "name": "stdout",
     "output_type": "stream",
     "text": [
      "Valid labels: 43, Constant labels: 12\n",
      "Training variant-specific models...\n",
      "  Training original model...\n",
      "  Training blackmask model...\n",
      "  Training highlight model...\n",
      "  Training final model...\n",
      "Training advanced variant selector...\n",
      "Trained 43 variant selectors\n"
     ]
    },
    {
     "name": "stderr",
     "output_type": "stream",
     "text": [
      "[I 2025-05-26 20:35:40,521] Trial 98 finished with value: 0.7663184211057134 and parameters: {'original_max_depth': 5, 'original_learning_rate': 0.18454704268633718, 'original_n_estimators': 191, 'original_subsample': 0.8224121552220114, 'original_colsample_bytree': 0.7375853504631855, 'original_reg_alpha': 0.46675427286841314, 'original_reg_lambda': 0.04025479887971125, 'blackmask_max_depth': 5, 'blackmask_learning_rate': 0.03578379737327557, 'blackmask_n_estimators': 183, 'blackmask_subsample': 0.9858218218208336, 'blackmask_colsample_bytree': 0.7018678390962104, 'blackmask_reg_alpha': 0.003644228607402627, 'blackmask_reg_lambda': 0.0010177781814976724, 'highlight_max_depth': 9, 'highlight_learning_rate': 0.019172883219798965, 'highlight_n_estimators': 123, 'highlight_subsample': 0.9151374029009479, 'highlight_colsample_bytree': 0.8407572066612249, 'highlight_reg_alpha': 0.11943632853742218, 'highlight_reg_lambda': 0.6209513180476196, 'final_max_depth': 8, 'final_learning_rate': 0.010997117891426388, 'final_n_estimators': 189, 'final_subsample': 0.7809494616955642, 'final_colsample_bytree': 0.7242805475454499, 'final_reg_alpha': 0.17117009951433287, 'final_reg_lambda': 0.0037153318512317467, 'weight_original': 0.22285906414613044, 'weight_blackmask': 0.3265074435753632, 'weight_highlight': 0.6224956839517025, 'weight_final': 1.44525759414597, 'adaptive_weight_factor': 2.844497444155099, 'confidence_threshold': 0.7368229304450088, 'threshold_group_0': 0.5157826288166552, 'threshold_group_1': 0.27812868970210414, 'threshold_group_2': 0.31123582009586914, 'threshold_group_3': 0.30035494127316714, 'threshold_group_4': 0.37711106440060005}. Best is trial 85 with value: 0.7734860130810627.\n"
     ]
    },
    {
     "name": "stdout",
     "output_type": "stream",
     "text": [
      "Valid labels: 43, Constant labels: 12\n",
      "Training variant-specific models...\n",
      "  Training original model...\n",
      "  Training blackmask model...\n",
      "  Training highlight model...\n",
      "  Training final model...\n",
      "Training advanced variant selector...\n",
      "Trained 43 variant selectors\n"
     ]
    },
    {
     "name": "stderr",
     "output_type": "stream",
     "text": [
      "[I 2025-05-26 20:37:52,549] Trial 99 finished with value: 0.7717142688284915 and parameters: {'original_max_depth': 4, 'original_learning_rate': 0.13973098483444205, 'original_n_estimators': 213, 'original_subsample': 0.8550792529139939, 'original_colsample_bytree': 0.7010644109408272, 'original_reg_alpha': 0.2242061442466881, 'original_reg_lambda': 0.06757064719971635, 'blackmask_max_depth': 5, 'blackmask_learning_rate': 0.029862436613215103, 'blackmask_n_estimators': 223, 'blackmask_subsample': 0.9811535551209984, 'blackmask_colsample_bytree': 0.7204294860350305, 'blackmask_reg_alpha': 0.0055739730768640606, 'blackmask_reg_lambda': 0.0019982779522903713, 'highlight_max_depth': 9, 'highlight_learning_rate': 0.017836431828438616, 'highlight_n_estimators': 134, 'highlight_subsample': 0.7713383769693661, 'highlight_colsample_bytree': 0.8117092758640055, 'highlight_reg_alpha': 0.07526565575794826, 'highlight_reg_lambda': 0.8497552995451891, 'final_max_depth': 8, 'final_learning_rate': 0.017291082264918125, 'final_n_estimators': 193, 'final_subsample': 0.7090911661223225, 'final_colsample_bytree': 0.7162373711794529, 'final_reg_alpha': 0.06645465762952651, 'final_reg_lambda': 0.005126090655839762, 'weight_original': 0.2880872792246067, 'weight_blackmask': 0.25745845611231194, 'weight_highlight': 0.7240899299851492, 'weight_final': 1.373423277735313, 'adaptive_weight_factor': 2.802815009150232, 'confidence_threshold': 0.7546566624561966, 'threshold_group_0': 0.30457910813324324, 'threshold_group_1': 0.29807056748966876, 'threshold_group_2': 0.252525902300684, 'threshold_group_3': 0.3259857724078301, 'threshold_group_4': 0.39134449375406904}. Best is trial 85 with value: 0.7734860130810627.\n"
     ]
    },
    {
     "name": "stdout",
     "output_type": "stream",
     "text": [
      "Valid labels: 43, Constant labels: 12\n",
      "Training variant-specific models...\n",
      "  Training original model...\n",
      "  Training blackmask model...\n",
      "  Training highlight model...\n",
      "  Training final model...\n",
      "Training advanced variant selector...\n",
      "Trained 43 variant selectors\n"
     ]
    },
    {
     "name": "stderr",
     "output_type": "stream",
     "text": [
      "[I 2025-05-26 20:40:02,353] Trial 100 finished with value: 0.771100388154824 and parameters: {'original_max_depth': 5, 'original_learning_rate': 0.18133814270672519, 'original_n_estimators': 201, 'original_subsample': 0.8332118384565415, 'original_colsample_bytree': 0.7719845340153966, 'original_reg_alpha': 0.7235753879425134, 'original_reg_lambda': 0.033053052633449535, 'blackmask_max_depth': 5, 'blackmask_learning_rate': 0.024142199325710913, 'blackmask_n_estimators': 218, 'blackmask_subsample': 0.9948933091342546, 'blackmask_colsample_bytree': 0.7275274794231392, 'blackmask_reg_alpha': 0.0019994171719173734, 'blackmask_reg_lambda': 0.0014217407644079782, 'highlight_max_depth': 9, 'highlight_learning_rate': 0.023541368712847732, 'highlight_n_estimators': 130, 'highlight_subsample': 0.9654920440929936, 'highlight_colsample_bytree': 0.7952885912212897, 'highlight_reg_alpha': 0.05114291155170311, 'highlight_reg_lambda': 0.718064420396366, 'final_max_depth': 7, 'final_learning_rate': 0.02413783418492578, 'final_n_estimators': 227, 'final_subsample': 0.7436409917993029, 'final_colsample_bytree': 0.7436474626110013, 'final_reg_alpha': 0.30501726604918467, 'final_reg_lambda': 0.001999502119322229, 'weight_original': 0.25050401321238475, 'weight_blackmask': 0.3754582291043303, 'weight_highlight': 0.5721765963327052, 'weight_final': 1.2901999866894565, 'adaptive_weight_factor': 2.915568690056268, 'confidence_threshold': 0.7284028503242069, 'threshold_group_0': 0.3454787786061671, 'threshold_group_1': 0.28733813383139334, 'threshold_group_2': 0.30346036801422155, 'threshold_group_3': 0.2702253269678691, 'threshold_group_4': 0.43744713537001323}. Best is trial 85 with value: 0.7734860130810627.\n"
     ]
    },
    {
     "name": "stdout",
     "output_type": "stream",
     "text": [
      "Valid labels: 43, Constant labels: 12\n",
      "Training variant-specific models...\n",
      "  Training original model...\n",
      "  Training blackmask model...\n",
      "  Training highlight model...\n",
      "  Training final model...\n",
      "Training advanced variant selector...\n",
      "Trained 43 variant selectors\n"
     ]
    },
    {
     "name": "stderr",
     "output_type": "stream",
     "text": [
      "[I 2025-05-26 20:42:01,621] Trial 101 finished with value: 0.7729804721309306 and parameters: {'original_max_depth': 4, 'original_learning_rate': 0.12710858418721277, 'original_n_estimators': 199, 'original_subsample': 0.7878720805783846, 'original_colsample_bytree': 0.7489740296288411, 'original_reg_alpha': 0.15435730164525824, 'original_reg_lambda': 0.10186520003767714, 'blackmask_max_depth': 5, 'blackmask_learning_rate': 0.030271124023438463, 'blackmask_n_estimators': 187, 'blackmask_subsample': 0.9998351885969905, 'blackmask_colsample_bytree': 0.754284149848795, 'blackmask_reg_alpha': 0.005642246585507985, 'blackmask_reg_lambda': 0.0024906602152433848, 'highlight_max_depth': 9, 'highlight_learning_rate': 0.020716706549473968, 'highlight_n_estimators': 127, 'highlight_subsample': 0.7111529317346681, 'highlight_colsample_bytree': 0.8627126186646008, 'highlight_reg_alpha': 0.0541486775378899, 'highlight_reg_lambda': 0.5536200621000845, 'final_max_depth': 7, 'final_learning_rate': 0.014835360563458634, 'final_n_estimators': 174, 'final_subsample': 0.725193325257485, 'final_colsample_bytree': 0.7077700492303293, 'final_reg_alpha': 0.742380790634788, 'final_reg_lambda': 0.005373949563037937, 'weight_original': 0.33772750927324025, 'weight_blackmask': 0.19490130370801134, 'weight_highlight': 0.6736514550654384, 'weight_final': 1.4907717292326728, 'adaptive_weight_factor': 2.949961802434174, 'confidence_threshold': 0.7643139868231131, 'threshold_group_0': 0.25840548328275253, 'threshold_group_1': 0.2522503261487332, 'threshold_group_2': 0.31860605274054726, 'threshold_group_3': 0.2864576788570143, 'threshold_group_4': 0.4757538332064559}. Best is trial 85 with value: 0.7734860130810627.\n"
     ]
    },
    {
     "name": "stdout",
     "output_type": "stream",
     "text": [
      "Valid labels: 43, Constant labels: 12\n",
      "Training variant-specific models...\n",
      "  Training original model...\n",
      "  Training blackmask model...\n",
      "  Training highlight model...\n",
      "  Training final model...\n",
      "Training advanced variant selector...\n",
      "Trained 43 variant selectors\n"
     ]
    },
    {
     "name": "stderr",
     "output_type": "stream",
     "text": [
      "[I 2025-05-26 20:44:00,678] Trial 102 finished with value: 0.7733321694649268 and parameters: {'original_max_depth': 4, 'original_learning_rate': 0.12814653688531824, 'original_n_estimators': 194, 'original_subsample': 0.814501218502575, 'original_colsample_bytree': 0.74629169551111, 'original_reg_alpha': 0.3073704761647737, 'original_reg_lambda': 0.10258796614627363, 'blackmask_max_depth': 5, 'blackmask_learning_rate': 0.029539452987179637, 'blackmask_n_estimators': 192, 'blackmask_subsample': 0.9884646992789358, 'blackmask_colsample_bytree': 0.7114606658437638, 'blackmask_reg_alpha': 0.004470671793290581, 'blackmask_reg_lambda': 0.0017092542106081458, 'highlight_max_depth': 9, 'highlight_learning_rate': 0.020027537925747817, 'highlight_n_estimators': 113, 'highlight_subsample': 0.7242775668280785, 'highlight_colsample_bytree': 0.844927113056359, 'highlight_reg_alpha': 0.06189046416265526, 'highlight_reg_lambda': 0.6058144670902025, 'final_max_depth': 7, 'final_learning_rate': 0.014695438215028212, 'final_n_estimators': 179, 'final_subsample': 0.7201865021286039, 'final_colsample_bytree': 0.7139160105355765, 'final_reg_alpha': 0.09287549291839896, 'final_reg_lambda': 0.009067645422497246, 'weight_original': 0.19615497259590065, 'weight_blackmask': 0.19809704544995152, 'weight_highlight': 0.6694762988840584, 'weight_final': 1.398751451519168, 'adaptive_weight_factor': 2.8598056097761972, 'confidence_threshold': 0.7802483491792542, 'threshold_group_0': 0.25888175823625237, 'threshold_group_1': 0.25442556270047245, 'threshold_group_2': 0.2795527094782278, 'threshold_group_3': 0.25057933355986756, 'threshold_group_4': 0.4136265208136609}. Best is trial 85 with value: 0.7734860130810627.\n"
     ]
    },
    {
     "name": "stdout",
     "output_type": "stream",
     "text": [
      "Valid labels: 43, Constant labels: 12\n",
      "Training variant-specific models...\n",
      "  Training original model...\n",
      "  Training blackmask model...\n",
      "  Training highlight model...\n",
      "  Training final model...\n",
      "Training advanced variant selector...\n",
      "Trained 43 variant selectors\n"
     ]
    },
    {
     "name": "stderr",
     "output_type": "stream",
     "text": [
      "[I 2025-05-26 20:46:02,790] Trial 103 finished with value: 0.7730668145056041 and parameters: {'original_max_depth': 4, 'original_learning_rate': 0.12489326478688022, 'original_n_estimators': 194, 'original_subsample': 0.8069447106640816, 'original_colsample_bytree': 0.7461708126716236, 'original_reg_alpha': 0.3033147889952383, 'original_reg_lambda': 0.10623013333109455, 'blackmask_max_depth': 5, 'blackmask_learning_rate': 0.03634751693925893, 'blackmask_n_estimators': 193, 'blackmask_subsample': 0.9766196585941759, 'blackmask_colsample_bytree': 0.7764200145900189, 'blackmask_reg_alpha': 0.004551501097087184, 'blackmask_reg_lambda': 0.0025757008536968786, 'highlight_max_depth': 9, 'highlight_learning_rate': 0.0177869003683691, 'highlight_n_estimators': 113, 'highlight_subsample': 0.7158882445508554, 'highlight_colsample_bytree': 0.8626816075617474, 'highlight_reg_alpha': 0.11013850788248127, 'highlight_reg_lambda': 0.41436620547251307, 'final_max_depth': 7, 'final_learning_rate': 0.01532450604976235, 'final_n_estimators': 165, 'final_subsample': 0.7149223004751497, 'final_colsample_bytree': 0.7001656790886364, 'final_reg_alpha': 0.11351453143081665, 'final_reg_lambda': 0.009581865569263895, 'weight_original': 0.3368107406547287, 'weight_blackmask': 0.19750608477885442, 'weight_highlight': 0.6727831118487144, 'weight_final': 1.4129024788592792, 'adaptive_weight_factor': 2.8591900807010493, 'confidence_threshold': 0.7418034372403529, 'threshold_group_0': 0.259822393336398, 'threshold_group_1': 0.25704022638839846, 'threshold_group_2': 0.2648809238194929, 'threshold_group_3': 0.2819635807470129, 'threshold_group_4': 0.4176786862673065}. Best is trial 85 with value: 0.7734860130810627.\n"
     ]
    },
    {
     "name": "stdout",
     "output_type": "stream",
     "text": [
      "Valid labels: 43, Constant labels: 12\n",
      "Training variant-specific models...\n",
      "  Training original model...\n",
      "  Training blackmask model...\n",
      "  Training highlight model...\n",
      "  Training final model...\n",
      "Training advanced variant selector...\n",
      "Trained 43 variant selectors\n"
     ]
    },
    {
     "name": "stderr",
     "output_type": "stream",
     "text": [
      "[I 2025-05-26 20:48:06,545] Trial 104 finished with value: 0.7731912981124631 and parameters: {'original_max_depth': 4, 'original_learning_rate': 0.07082657248959501, 'original_n_estimators': 195, 'original_subsample': 0.7875929722569427, 'original_colsample_bytree': 0.743185206695146, 'original_reg_alpha': 0.3283078002593838, 'original_reg_lambda': 0.10850247175173121, 'blackmask_max_depth': 5, 'blackmask_learning_rate': 0.03683825546950193, 'blackmask_n_estimators': 194, 'blackmask_subsample': 0.9912742743462917, 'blackmask_colsample_bytree': 0.7886221979620875, 'blackmask_reg_alpha': 0.006110834639756404, 'blackmask_reg_lambda': 0.0024196926492186205, 'highlight_max_depth': 9, 'highlight_learning_rate': 0.018074245380011494, 'highlight_n_estimators': 120, 'highlight_subsample': 0.7128800546802191, 'highlight_colsample_bytree': 0.8650175625303673, 'highlight_reg_alpha': 0.10188782399799065, 'highlight_reg_lambda': 0.822346985248036, 'final_max_depth': 7, 'final_learning_rate': 0.022292059643277948, 'final_n_estimators': 152, 'final_subsample': 0.7303323843388401, 'final_colsample_bytree': 0.7088002090375172, 'final_reg_alpha': 0.09162508419009475, 'final_reg_lambda': 0.008814424950133903, 'weight_original': 0.34200434530597257, 'weight_blackmask': 0.21338457074064238, 'weight_highlight': 0.6418217310647502, 'weight_final': 1.3947052665993238, 'adaptive_weight_factor': 2.857232789741141, 'confidence_threshold': 0.7933045766421725, 'threshold_group_0': 0.2569200937290587, 'threshold_group_1': 0.2921987832652826, 'threshold_group_2': 0.2776667239357902, 'threshold_group_3': 0.25330217522708287, 'threshold_group_4': 0.4120435833503821}. Best is trial 85 with value: 0.7734860130810627.\n"
     ]
    },
    {
     "name": "stdout",
     "output_type": "stream",
     "text": [
      "Valid labels: 43, Constant labels: 12\n",
      "Training variant-specific models...\n",
      "  Training original model...\n",
      "  Training blackmask model...\n",
      "  Training highlight model...\n",
      "  Training final model...\n",
      "Training advanced variant selector...\n",
      "Trained 43 variant selectors\n"
     ]
    },
    {
     "name": "stderr",
     "output_type": "stream",
     "text": [
      "[I 2025-05-26 20:50:11,148] Trial 105 finished with value: 0.7728992788469925 and parameters: {'original_max_depth': 4, 'original_learning_rate': 0.06206653018970383, 'original_n_estimators': 194, 'original_subsample': 0.7624418176483988, 'original_colsample_bytree': 0.7656908986405101, 'original_reg_alpha': 0.48445933897937743, 'original_reg_lambda': 0.14779995652878447, 'blackmask_max_depth': 5, 'blackmask_learning_rate': 0.034818952093510595, 'blackmask_n_estimators': 193, 'blackmask_subsample': 0.974077382439828, 'blackmask_colsample_bytree': 0.781038944174883, 'blackmask_reg_alpha': 0.009936654321598204, 'blackmask_reg_lambda': 0.003220930968505065, 'highlight_max_depth': 9, 'highlight_learning_rate': 0.01801675449892013, 'highlight_n_estimators': 113, 'highlight_subsample': 0.7201108977386503, 'highlight_colsample_bytree': 0.8778550991687565, 'highlight_reg_alpha': 0.1102519092485025, 'highlight_reg_lambda': 0.8342866558075116, 'final_max_depth': 8, 'final_learning_rate': 0.020469392863809478, 'final_n_estimators': 162, 'final_subsample': 0.7026682928877854, 'final_colsample_bytree': 0.732456451135715, 'final_reg_alpha': 0.08176048132746046, 'final_reg_lambda': 0.00941066495632873, 'weight_original': 0.29676008901235645, 'weight_blackmask': 0.23372093667540578, 'weight_highlight': 0.6299955726790946, 'weight_final': 1.4017999638677758, 'adaptive_weight_factor': 2.7106575863002593, 'confidence_threshold': 0.7968254586366413, 'threshold_group_0': 0.25237329760203114, 'threshold_group_1': 0.27707931790268325, 'threshold_group_2': 0.280299285626877, 'threshold_group_3': 0.25248845071220616, 'threshold_group_4': 0.38294476576063463}. Best is trial 85 with value: 0.7734860130810627.\n"
     ]
    },
    {
     "name": "stdout",
     "output_type": "stream",
     "text": [
      "Valid labels: 43, Constant labels: 12\n",
      "Training variant-specific models...\n",
      "  Training original model...\n",
      "  Training blackmask model...\n",
      "  Training highlight model...\n",
      "  Training final model...\n",
      "Training advanced variant selector...\n",
      "Trained 43 variant selectors\n"
     ]
    },
    {
     "name": "stderr",
     "output_type": "stream",
     "text": [
      "[I 2025-05-26 20:52:15,283] Trial 106 finished with value: 0.7736695065764642 and parameters: {'original_max_depth': 4, 'original_learning_rate': 0.06636402771030428, 'original_n_estimators': 190, 'original_subsample': 0.8026567520730103, 'original_colsample_bytree': 0.7414596238786753, 'original_reg_alpha': 0.33684171927368567, 'original_reg_lambda': 0.11735793037660326, 'blackmask_max_depth': 5, 'blackmask_learning_rate': 0.03764886418923231, 'blackmask_n_estimators': 196, 'blackmask_subsample': 0.9907901814850449, 'blackmask_colsample_bytree': 0.7104908917726949, 'blackmask_reg_alpha': 0.001997767627439428, 'blackmask_reg_lambda': 0.00167919012481548, 'highlight_max_depth': 9, 'highlight_learning_rate': 0.015135897957163903, 'highlight_n_estimators': 121, 'highlight_subsample': 0.7575581299906023, 'highlight_colsample_bytree': 0.8377342041210498, 'highlight_reg_alpha': 0.06330086139339192, 'highlight_reg_lambda': 0.6582601746585759, 'final_max_depth': 7, 'final_learning_rate': 0.017222983868559825, 'final_n_estimators': 151, 'final_subsample': 0.7181883736947996, 'final_colsample_bytree': 0.714901675090455, 'final_reg_alpha': 0.10703374124520042, 'final_reg_lambda': 0.008471355521023299, 'weight_original': 0.2657958008180771, 'weight_blackmask': 0.14962130172103577, 'weight_highlight': 0.6003503124058929, 'weight_final': 1.3623153723911055, 'adaptive_weight_factor': 2.832464931055738, 'confidence_threshold': 0.8118819216164259, 'threshold_group_0': 0.2601555066825021, 'threshold_group_1': 0.2868118707648442, 'threshold_group_2': 0.2779537750095628, 'threshold_group_3': 0.2510158329886557, 'threshold_group_4': 0.41505092859837533}. Best is trial 106 with value: 0.7736695065764642.\n"
     ]
    },
    {
     "name": "stdout",
     "output_type": "stream",
     "text": [
      "Valid labels: 43, Constant labels: 12\n",
      "Training variant-specific models...\n",
      "  Training original model...\n",
      "  Training blackmask model...\n",
      "  Training highlight model...\n",
      "  Training final model...\n",
      "Training advanced variant selector...\n",
      "Trained 43 variant selectors\n"
     ]
    },
    {
     "name": "stderr",
     "output_type": "stream",
     "text": [
      "[I 2025-05-26 20:54:18,666] Trial 107 finished with value: 0.7726018006233992 and parameters: {'original_max_depth': 4, 'original_learning_rate': 0.06646132044376385, 'original_n_estimators': 191, 'original_subsample': 0.8068099081811269, 'original_colsample_bytree': 0.742913464909451, 'original_reg_alpha': 0.3337978439659029, 'original_reg_lambda': 0.12283815056474612, 'blackmask_max_depth': 5, 'blackmask_learning_rate': 0.03828649864345392, 'blackmask_n_estimators': 182, 'blackmask_subsample': 0.9656339413806674, 'blackmask_colsample_bytree': 0.7065330855343926, 'blackmask_reg_alpha': 0.001729891917949788, 'blackmask_reg_lambda': 0.0027482531566006773, 'highlight_max_depth': 9, 'highlight_learning_rate': 0.015094258263402882, 'highlight_n_estimators': 120, 'highlight_subsample': 0.7529309085273863, 'highlight_colsample_bytree': 0.8438265039573641, 'highlight_reg_alpha': 0.06383360545867527, 'highlight_reg_lambda': 0.6524249269704991, 'final_max_depth': 8, 'final_learning_rate': 0.02324244657094174, 'final_n_estimators': 153, 'final_subsample': 0.7198221242432479, 'final_colsample_bytree': 0.7139808648253421, 'final_reg_alpha': 0.055434467069580634, 'final_reg_lambda': 0.008850506658920336, 'weight_original': 0.26721210692152175, 'weight_blackmask': 0.31467344610575115, 'weight_highlight': 0.5915734574805672, 'weight_final': 1.3569232579947428, 'adaptive_weight_factor': 2.8642547395835876, 'confidence_threshold': 0.8151136683535338, 'threshold_group_0': 0.26438657372717567, 'threshold_group_1': 0.2930994455860614, 'threshold_group_2': 0.2608627996924425, 'threshold_group_3': 0.2755609930683564, 'threshold_group_4': 0.3655355851047645}. Best is trial 106 with value: 0.7736695065764642.\n"
     ]
    },
    {
     "name": "stdout",
     "output_type": "stream",
     "text": [
      "Valid labels: 43, Constant labels: 12\n",
      "Training variant-specific models...\n",
      "  Training original model...\n",
      "  Training blackmask model...\n",
      "  Training highlight model...\n",
      "  Training final model...\n",
      "Training advanced variant selector...\n",
      "Trained 43 variant selectors\n"
     ]
    },
    {
     "name": "stderr",
     "output_type": "stream",
     "text": [
      "[I 2025-05-26 20:56:21,354] Trial 108 finished with value: 0.7744158762154614 and parameters: {'original_max_depth': 4, 'original_learning_rate': 0.07114802506682633, 'original_n_estimators': 186, 'original_subsample': 0.796932497812319, 'original_colsample_bytree': 0.7165013076324742, 'original_reg_alpha': 0.5374078318355413, 'original_reg_lambda': 0.08536698529488007, 'blackmask_max_depth': 5, 'blackmask_learning_rate': 0.032005210634704385, 'blackmask_n_estimators': 194, 'blackmask_subsample': 0.9893472183522514, 'blackmask_colsample_bytree': 0.7936570661594662, 'blackmask_reg_alpha': 0.0032090773461006298, 'blackmask_reg_lambda': 0.004235673845495153, 'highlight_max_depth': 9, 'highlight_learning_rate': 0.01601636839449689, 'highlight_n_estimators': 123, 'highlight_subsample': 0.7375864415616535, 'highlight_colsample_bytree': 0.8775028731423272, 'highlight_reg_alpha': 0.15201543474236393, 'highlight_reg_lambda': 0.38561509351451584, 'final_max_depth': 7, 'final_learning_rate': 0.017030661876005253, 'final_n_estimators': 150, 'final_subsample': 0.7134622344523417, 'final_colsample_bytree': 0.7286776179735089, 'final_reg_alpha': 0.11673570006208224, 'final_reg_lambda': 0.002577615347899993, 'weight_original': 0.31690539429878595, 'weight_blackmask': 0.16716144940399466, 'weight_highlight': 0.6110407356975909, 'weight_final': 1.2898778420690498, 'adaptive_weight_factor': 2.8061501705276357, 'confidence_threshold': 0.7439965054998305, 'threshold_group_0': 0.26029440371474377, 'threshold_group_1': 0.2930590764811322, 'threshold_group_2': 0.2758871813390111, 'threshold_group_3': 0.2507205327557684, 'threshold_group_4': 0.4135726095774988}. Best is trial 108 with value: 0.7744158762154614.\n"
     ]
    },
    {
     "name": "stdout",
     "output_type": "stream",
     "text": [
      "Valid labels: 43, Constant labels: 12\n",
      "Training variant-specific models...\n",
      "  Training original model...\n",
      "  Training blackmask model...\n",
      "  Training highlight model...\n",
      "  Training final model...\n",
      "Training advanced variant selector...\n",
      "Trained 43 variant selectors\n"
     ]
    },
    {
     "name": "stderr",
     "output_type": "stream",
     "text": [
      "[I 2025-05-26 20:58:23,532] Trial 109 finished with value: 0.7730832596702191 and parameters: {'original_max_depth': 4, 'original_learning_rate': 0.09964056136908703, 'original_n_estimators': 189, 'original_subsample': 0.7784297825742167, 'original_colsample_bytree': 0.7219785783415106, 'original_reg_alpha': 0.5316264100825759, 'original_reg_lambda': 0.11827907804645912, 'blackmask_max_depth': 5, 'blackmask_learning_rate': 0.03193256319427104, 'blackmask_n_estimators': 191, 'blackmask_subsample': 0.9906218354759027, 'blackmask_colsample_bytree': 0.7993326091085443, 'blackmask_reg_alpha': 0.002583574825207802, 'blackmask_reg_lambda': 0.004340717418710469, 'highlight_max_depth': 9, 'highlight_learning_rate': 0.016802237624833034, 'highlight_n_estimators': 123, 'highlight_subsample': 0.7461114393535934, 'highlight_colsample_bytree': 0.8811969123399898, 'highlight_reg_alpha': 0.1616338876607995, 'highlight_reg_lambda': 0.3674574884582164, 'final_max_depth': 7, 'final_learning_rate': 0.017851200725953545, 'final_n_estimators': 159, 'final_subsample': 0.7358417735392425, 'final_colsample_bytree': 0.7450660699875364, 'final_reg_alpha': 0.11132292428272433, 'final_reg_lambda': 0.0023568005553217903, 'weight_original': 0.3140743009177593, 'weight_blackmask': 0.16089842756451944, 'weight_highlight': 0.5630598964304859, 'weight_final': 1.408659942044921, 'adaptive_weight_factor': 2.8220383061327836, 'confidence_threshold': 0.8444797299354669, 'threshold_group_0': 0.25284558536739205, 'threshold_group_1': 0.30186291468910875, 'threshold_group_2': 0.275266783125982, 'threshold_group_3': 0.2524549628349968, 'threshold_group_4': 0.4089091887374213}. Best is trial 108 with value: 0.7744158762154614.\n"
     ]
    },
    {
     "name": "stdout",
     "output_type": "stream",
     "text": [
      "Valid labels: 43, Constant labels: 12\n",
      "Training variant-specific models...\n",
      "  Training original model...\n",
      "  Training blackmask model...\n",
      "  Training highlight model...\n",
      "  Training final model...\n",
      "Training advanced variant selector...\n",
      "Trained 43 variant selectors\n"
     ]
    },
    {
     "name": "stderr",
     "output_type": "stream",
     "text": [
      "[I 2025-05-26 21:00:26,663] Trial 110 finished with value: 0.7743529094420006 and parameters: {'original_max_depth': 4, 'original_learning_rate': 0.07030156037737943, 'original_n_estimators': 184, 'original_subsample': 0.76323882736489, 'original_colsample_bytree': 0.7171523531241317, 'original_reg_alpha': 0.5529814586336738, 'original_reg_lambda': 0.07811987009013319, 'blackmask_max_depth': 5, 'blackmask_learning_rate': 0.033170770638814885, 'blackmask_n_estimators': 190, 'blackmask_subsample': 0.9923406588282893, 'blackmask_colsample_bytree': 0.8042004765962255, 'blackmask_reg_alpha': 0.0031293078122479976, 'blackmask_reg_lambda': 0.004472083340904913, 'highlight_max_depth': 9, 'highlight_learning_rate': 0.01629266277184249, 'highlight_n_estimators': 123, 'highlight_subsample': 0.7389486154944855, 'highlight_colsample_bytree': 0.8826647535679404, 'highlight_reg_alpha': 0.15636449884062603, 'highlight_reg_lambda': 0.7696516304086574, 'final_max_depth': 8, 'final_learning_rate': 0.017212212444063103, 'final_n_estimators': 151, 'final_subsample': 0.7368262389346538, 'final_colsample_bytree': 0.7422773460448785, 'final_reg_alpha': 0.08452170054234101, 'final_reg_lambda': 0.0025035749992469818, 'weight_original': 0.29678157816255546, 'weight_blackmask': 0.16026663600067811, 'weight_highlight': 0.5676508155499325, 'weight_final': 1.284301081573237, 'adaptive_weight_factor': 2.821168016966361, 'confidence_threshold': 0.8308408994278905, 'threshold_group_0': 0.2500915383703281, 'threshold_group_1': 0.30089109768897304, 'threshold_group_2': 0.2799117096417002, 'threshold_group_3': 0.2517766884307413, 'threshold_group_4': 0.36885403988206844}. Best is trial 108 with value: 0.7744158762154614.\n"
     ]
    },
    {
     "name": "stdout",
     "output_type": "stream",
     "text": [
      "Valid labels: 43, Constant labels: 12\n",
      "Training variant-specific models...\n",
      "  Training original model...\n",
      "  Training blackmask model...\n",
      "  Training highlight model...\n",
      "  Training final model...\n",
      "Training advanced variant selector...\n",
      "Trained 43 variant selectors\n"
     ]
    },
    {
     "name": "stderr",
     "output_type": "stream",
     "text": [
      "[I 2025-05-26 21:02:29,299] Trial 111 finished with value: 0.7737966805400006 and parameters: {'original_max_depth': 4, 'original_learning_rate': 0.07004908745692016, 'original_n_estimators': 187, 'original_subsample': 0.7506661991542051, 'original_colsample_bytree': 0.7205591892143104, 'original_reg_alpha': 0.44003693609171246, 'original_reg_lambda': 0.0765432436472705, 'blackmask_max_depth': 5, 'blackmask_learning_rate': 0.03185036053229605, 'blackmask_n_estimators': 189, 'blackmask_subsample': 0.9906749785564184, 'blackmask_colsample_bytree': 0.7941413460665327, 'blackmask_reg_alpha': 0.0030628734942138437, 'blackmask_reg_lambda': 0.005581069162397627, 'highlight_max_depth': 9, 'highlight_learning_rate': 0.016328440292327454, 'highlight_n_estimators': 124, 'highlight_subsample': 0.7364004332868387, 'highlight_colsample_bytree': 0.8847876756161338, 'highlight_reg_alpha': 0.15259842950241448, 'highlight_reg_lambda': 0.35455540136405883, 'final_max_depth': 8, 'final_learning_rate': 0.016973893632873983, 'final_n_estimators': 158, 'final_subsample': 0.7361484635642146, 'final_colsample_bytree': 0.74014926393541, 'final_reg_alpha': 0.09076504716474312, 'final_reg_lambda': 0.00249832944529042, 'weight_original': 0.24059404827874767, 'weight_blackmask': 0.1581958565238092, 'weight_highlight': 0.5679738629656987, 'weight_final': 1.2959411487593877, 'adaptive_weight_factor': 2.792282578342509, 'confidence_threshold': 0.8332805924460093, 'threshold_group_0': 0.25001631930288276, 'threshold_group_1': 0.3020645251448641, 'threshold_group_2': 0.27823620400916077, 'threshold_group_3': 0.25277123415736535, 'threshold_group_4': 0.37306007732001634}. Best is trial 108 with value: 0.7744158762154614.\n"
     ]
    },
    {
     "name": "stdout",
     "output_type": "stream",
     "text": [
      "Valid labels: 43, Constant labels: 12\n",
      "Training variant-specific models...\n",
      "  Training original model...\n",
      "  Training blackmask model...\n",
      "  Training highlight model...\n",
      "  Training final model...\n",
      "Training advanced variant selector...\n",
      "Trained 43 variant selectors\n"
     ]
    },
    {
     "name": "stderr",
     "output_type": "stream",
     "text": [
      "[I 2025-05-26 21:04:31,279] Trial 112 finished with value: 0.7737809087978857 and parameters: {'original_max_depth': 4, 'original_learning_rate': 0.06897981003807865, 'original_n_estimators': 184, 'original_subsample': 0.7258228168411832, 'original_colsample_bytree': 0.709226562940282, 'original_reg_alpha': 0.4354533434663156, 'original_reg_lambda': 0.08332423457390202, 'blackmask_max_depth': 5, 'blackmask_learning_rate': 0.034269451331559043, 'blackmask_n_estimators': 185, 'blackmask_subsample': 0.9943644781882576, 'blackmask_colsample_bytree': 0.799611498132203, 'blackmask_reg_alpha': 0.0033551519491789175, 'blackmask_reg_lambda': 0.004401819268344207, 'highlight_max_depth': 9, 'highlight_learning_rate': 0.01582612481542044, 'highlight_n_estimators': 119, 'highlight_subsample': 0.7324716288466186, 'highlight_colsample_bytree': 0.889312727813411, 'highlight_reg_alpha': 0.03478623357779936, 'highlight_reg_lambda': 0.754597584529663, 'final_max_depth': 8, 'final_learning_rate': 0.018993621477004334, 'final_n_estimators': 153, 'final_subsample': 0.7004749611711251, 'final_colsample_bytree': 0.7375735745673376, 'final_reg_alpha': 0.08948306174570607, 'final_reg_lambda': 0.002756211546024011, 'weight_original': 0.2358598489215611, 'weight_blackmask': 0.10321305209586598, 'weight_highlight': 0.7174851391508588, 'weight_final': 1.2293657241352982, 'adaptive_weight_factor': 2.793142689688575, 'confidence_threshold': 0.8355249327839326, 'threshold_group_0': 0.25012352337564264, 'threshold_group_1': 0.33339081949296523, 'threshold_group_2': 0.3312398232448941, 'threshold_group_3': 0.26162829945488014, 'threshold_group_4': 0.37212048659914027}. Best is trial 108 with value: 0.7744158762154614.\n"
     ]
    },
    {
     "name": "stdout",
     "output_type": "stream",
     "text": [
      "Valid labels: 43, Constant labels: 12\n",
      "Training variant-specific models...\n",
      "  Training original model...\n",
      "  Training blackmask model...\n",
      "  Training highlight model...\n",
      "  Training final model...\n",
      "Training advanced variant selector...\n",
      "Trained 43 variant selectors\n"
     ]
    },
    {
     "name": "stderr",
     "output_type": "stream",
     "text": [
      "[I 2025-05-26 21:06:33,924] Trial 113 finished with value: 0.7738162357202542 and parameters: {'original_max_depth': 4, 'original_learning_rate': 0.05560464722358601, 'original_n_estimators': 184, 'original_subsample': 0.7248799963009274, 'original_colsample_bytree': 0.7143650197826277, 'original_reg_alpha': 0.4156443992025788, 'original_reg_lambda': 0.08454730650134266, 'blackmask_max_depth': 5, 'blackmask_learning_rate': 0.03381643428820086, 'blackmask_n_estimators': 186, 'blackmask_subsample': 0.9951264675144358, 'blackmask_colsample_bytree': 0.7968708486344672, 'blackmask_reg_alpha': 0.0031071194039926212, 'blackmask_reg_lambda': 0.006246934268239223, 'highlight_max_depth': 9, 'highlight_learning_rate': 0.016002014181753642, 'highlight_n_estimators': 124, 'highlight_subsample': 0.7315536452990697, 'highlight_colsample_bytree': 0.9053998399278463, 'highlight_reg_alpha': 0.035143118379469276, 'highlight_reg_lambda': 0.7544606670375037, 'final_max_depth': 8, 'final_learning_rate': 0.018987529216226078, 'final_n_estimators': 150, 'final_subsample': 0.7045465916661616, 'final_colsample_bytree': 0.7339012797786879, 'final_reg_alpha': 0.07136673500781929, 'final_reg_lambda': 0.0026084856322054315, 'weight_original': 0.1314174317716943, 'weight_blackmask': 0.1029031522127569, 'weight_highlight': 0.7148514870090219, 'weight_final': 1.222346928755421, 'adaptive_weight_factor': 2.790408800402312, 'confidence_threshold': 0.8320388859730726, 'threshold_group_0': 0.25013248703972335, 'threshold_group_1': 0.3177403068740755, 'threshold_group_2': 0.3343438502061858, 'threshold_group_3': 0.26314738982759495, 'threshold_group_4': 0.366185241870828}. Best is trial 108 with value: 0.7744158762154614.\n"
     ]
    },
    {
     "name": "stdout",
     "output_type": "stream",
     "text": [
      "Valid labels: 43, Constant labels: 12\n",
      "Training variant-specific models...\n",
      "  Training original model...\n",
      "  Training blackmask model...\n",
      "  Training highlight model...\n",
      "  Training final model...\n",
      "Training advanced variant selector...\n",
      "Trained 43 variant selectors\n"
     ]
    },
    {
     "name": "stderr",
     "output_type": "stream",
     "text": [
      "[I 2025-05-26 21:08:36,501] Trial 114 finished with value: 0.7733791448884899 and parameters: {'original_max_depth': 4, 'original_learning_rate': 0.05415799779692619, 'original_n_estimators': 173, 'original_subsample': 0.7395646919614811, 'original_colsample_bytree': 0.7058996804071419, 'original_reg_alpha': 0.3892594768420243, 'original_reg_lambda': 0.08506853898849348, 'blackmask_max_depth': 5, 'blackmask_learning_rate': 0.04607247483791445, 'blackmask_n_estimators': 189, 'blackmask_subsample': 0.9785008436267534, 'blackmask_colsample_bytree': 0.7983374610645648, 'blackmask_reg_alpha': 0.003300392085424968, 'blackmask_reg_lambda': 0.0058473113592393865, 'highlight_max_depth': 9, 'highlight_learning_rate': 0.015909210161107887, 'highlight_n_estimators': 124, 'highlight_subsample': 0.7291932372329216, 'highlight_colsample_bytree': 0.8901160003335847, 'highlight_reg_alpha': 0.15109376524116663, 'highlight_reg_lambda': 0.25365305470163924, 'final_max_depth': 8, 'final_learning_rate': 0.016766886049630995, 'final_n_estimators': 157, 'final_subsample': 0.7014999743365514, 'final_colsample_bytree': 0.7515111826604286, 'final_reg_alpha': 0.05565899771063307, 'final_reg_lambda': 0.002745277523150548, 'weight_original': 0.13426780939358945, 'weight_blackmask': 0.10235322683992118, 'weight_highlight': 0.7299121980248439, 'weight_final': 1.230600478064141, 'adaptive_weight_factor': 2.78987201080404, 'confidence_threshold': 0.8323166648041996, 'threshold_group_0': 0.2505419032605525, 'threshold_group_1': 0.3347463275750562, 'threshold_group_2': 0.33212838921761684, 'threshold_group_3': 0.2625255389982729, 'threshold_group_4': 0.3662042829962601}. Best is trial 108 with value: 0.7744158762154614.\n"
     ]
    },
    {
     "name": "stdout",
     "output_type": "stream",
     "text": [
      "Valid labels: 43, Constant labels: 12\n",
      "Training variant-specific models...\n",
      "  Training original model...\n",
      "  Training blackmask model...\n",
      "  Training highlight model...\n",
      "  Training final model...\n",
      "Training advanced variant selector...\n",
      "Trained 43 variant selectors\n"
     ]
    },
    {
     "name": "stderr",
     "output_type": "stream",
     "text": [
      "[I 2025-05-26 21:10:36,098] Trial 115 finished with value: 0.7723484848626276 and parameters: {'original_max_depth': 4, 'original_learning_rate': 0.05404288069354563, 'original_n_estimators': 173, 'original_subsample': 0.7241891742727201, 'original_colsample_bytree': 0.7064109777147961, 'original_reg_alpha': 0.40907916841490854, 'original_reg_lambda': 0.08273660192691998, 'blackmask_max_depth': 5, 'blackmask_learning_rate': 0.045298526552351885, 'blackmask_n_estimators': 181, 'blackmask_subsample': 0.977890017840664, 'blackmask_colsample_bytree': 0.8013934995333186, 'blackmask_reg_alpha': 0.003554373783512143, 'blackmask_reg_lambda': 0.006434899262269355, 'highlight_max_depth': 9, 'highlight_learning_rate': 0.01570409314254722, 'highlight_n_estimators': 113, 'highlight_subsample': 0.7320091662833417, 'highlight_colsample_bytree': 0.8890313785883772, 'highlight_reg_alpha': 0.148437251075591, 'highlight_reg_lambda': 0.33776568605705215, 'final_max_depth': 8, 'final_learning_rate': 0.027355497323072468, 'final_n_estimators': 150, 'final_subsample': 0.7010188090113105, 'final_colsample_bytree': 0.7559460409231415, 'final_reg_alpha': 0.03898541471644729, 'final_reg_lambda': 0.0027282281957249715, 'weight_original': 0.14228335266491127, 'weight_blackmask': 0.12578597595796723, 'weight_highlight': 0.7215092800625155, 'weight_final': 1.280903939222784, 'adaptive_weight_factor': 2.7129505718088947, 'confidence_threshold': 0.836044216649689, 'threshold_group_0': 0.2502670009544924, 'threshold_group_1': 0.35791222332537054, 'threshold_group_2': 0.326423351837074, 'threshold_group_3': 0.26334758697136035, 'threshold_group_4': 0.3395617080104713}. Best is trial 108 with value: 0.7744158762154614.\n"
     ]
    },
    {
     "name": "stdout",
     "output_type": "stream",
     "text": [
      "Valid labels: 43, Constant labels: 12\n",
      "Training variant-specific models...\n",
      "  Training original model...\n",
      "  Training blackmask model...\n",
      "  Training highlight model...\n",
      "  Training final model...\n",
      "Training advanced variant selector...\n",
      "Trained 43 variant selectors\n"
     ]
    },
    {
     "name": "stderr",
     "output_type": "stream",
     "text": [
      "[I 2025-05-26 21:12:42,257] Trial 116 finished with value: 0.7727459591741103 and parameters: {'original_max_depth': 4, 'original_learning_rate': 0.07019825353124805, 'original_n_estimators': 184, 'original_subsample': 0.7504156892567259, 'original_colsample_bytree': 0.7151908344952851, 'original_reg_alpha': 0.6576352056904623, 'original_reg_lambda': 0.05942477407361784, 'blackmask_max_depth': 5, 'blackmask_learning_rate': 0.039388044639452405, 'blackmask_n_estimators': 203, 'blackmask_subsample': 0.989451729486445, 'blackmask_colsample_bytree': 0.7949504639023762, 'blackmask_reg_alpha': 0.003170152975695914, 'blackmask_reg_lambda': 0.005205751062879976, 'highlight_max_depth': 9, 'highlight_learning_rate': 0.01637362479736959, 'highlight_n_estimators': 125, 'highlight_subsample': 0.7396395171625558, 'highlight_colsample_bytree': 0.9057756280555271, 'highlight_reg_alpha': 0.03490259109667099, 'highlight_reg_lambda': 0.6388481101324407, 'final_max_depth': 8, 'final_learning_rate': 0.019582262848808082, 'final_n_estimators': 156, 'final_subsample': 0.7096330319172921, 'final_colsample_bytree': 0.7388165996450183, 'final_reg_alpha': 0.05353177808032698, 'final_reg_lambda': 0.0018421391908778248, 'weight_original': 0.12688917524241963, 'weight_blackmask': 0.15071743989159558, 'weight_highlight': 0.589190010202818, 'weight_final': 1.2030349959568143, 'adaptive_weight_factor': 2.799379395477046, 'confidence_threshold': 0.8536734281230048, 'threshold_group_0': 0.26391780767876544, 'threshold_group_1': 0.3362146308647206, 'threshold_group_2': 0.359851833800818, 'threshold_group_3': 0.2626914796849629, 'threshold_group_4': 0.3691339936409389}. Best is trial 108 with value: 0.7744158762154614.\n"
     ]
    },
    {
     "name": "stdout",
     "output_type": "stream",
     "text": [
      "Valid labels: 43, Constant labels: 12\n",
      "Training variant-specific models...\n",
      "  Training original model...\n",
      "  Training blackmask model...\n",
      "  Training highlight model...\n",
      "  Training final model...\n",
      "Training advanced variant selector...\n",
      "Trained 43 variant selectors\n"
     ]
    },
    {
     "name": "stderr",
     "output_type": "stream",
     "text": [
      "[I 2025-05-26 21:14:44,564] Trial 117 finished with value: 0.7735828198171711 and parameters: {'original_max_depth': 4, 'original_learning_rate': 0.05365502219845429, 'original_n_estimators': 176, 'original_subsample': 0.7015685223151642, 'original_colsample_bytree': 0.7243053927626801, 'original_reg_alpha': 0.7652731540554516, 'original_reg_lambda': 0.08356199395488517, 'blackmask_max_depth': 5, 'blackmask_learning_rate': 0.03380369918907502, 'blackmask_n_estimators': 196, 'blackmask_subsample': 0.991720311670309, 'blackmask_colsample_bytree': 0.8323600149285326, 'blackmask_reg_alpha': 0.0019224654630502075, 'blackmask_reg_lambda': 0.006172977429040962, 'highlight_max_depth': 9, 'highlight_learning_rate': 0.015018333939476387, 'highlight_n_estimators': 110, 'highlight_subsample': 0.700206024021051, 'highlight_colsample_bytree': 0.9106946590029782, 'highlight_reg_alpha': 0.21013786016412175, 'highlight_reg_lambda': 0.7597987940315274, 'final_max_depth': 8, 'final_learning_rate': 0.016667016366142512, 'final_n_estimators': 164, 'final_subsample': 0.7205480876302834, 'final_colsample_bytree': 0.7537860987184497, 'final_reg_alpha': 0.13846481204863947, 'final_reg_lambda': 0.0024721555948902358, 'weight_original': 0.28687265320444133, 'weight_blackmask': 0.17046896542669776, 'weight_highlight': 0.737667765006044, 'weight_final': 1.2275283184513643, 'adaptive_weight_factor': 2.990195767060873, 'confidence_threshold': 0.8328843115400366, 'threshold_group_0': 0.2759936742664496, 'threshold_group_1': 0.3336599618650511, 'threshold_group_2': 0.3345339005570257, 'threshold_group_3': 0.2747834849020129, 'threshold_group_4': 0.30916596561746085}. Best is trial 108 with value: 0.7744158762154614.\n"
     ]
    },
    {
     "name": "stdout",
     "output_type": "stream",
     "text": [
      "Valid labels: 43, Constant labels: 12\n",
      "Training variant-specific models...\n",
      "  Training original model...\n",
      "  Training blackmask model...\n",
      "  Training highlight model...\n",
      "  Training final model...\n",
      "Training advanced variant selector...\n",
      "Trained 43 variant selectors\n"
     ]
    },
    {
     "name": "stderr",
     "output_type": "stream",
     "text": [
      "[I 2025-05-26 21:16:47,078] Trial 118 finished with value: 0.7719490152138684 and parameters: {'original_max_depth': 4, 'original_learning_rate': 0.05507429915401114, 'original_n_estimators': 168, 'original_subsample': 0.7191087353771717, 'original_colsample_bytree': 0.7263618728113554, 'original_reg_alpha': 0.6108356669407012, 'original_reg_lambda': 0.07644548090433415, 'blackmask_max_depth': 5, 'blackmask_learning_rate': 0.034291824983496325, 'blackmask_n_estimators': 196, 'blackmask_subsample': 0.9945552163784159, 'blackmask_colsample_bytree': 0.8404198790842964, 'blackmask_reg_alpha': 0.0018741829014845748, 'blackmask_reg_lambda': 0.009118432913707036, 'highlight_max_depth': 9, 'highlight_learning_rate': 0.015065291822993954, 'highlight_n_estimators': 110, 'highlight_subsample': 0.7263658389265082, 'highlight_colsample_bytree': 0.9138986731651467, 'highlight_reg_alpha': 0.043824142219983826, 'highlight_reg_lambda': 0.981972369352701, 'final_max_depth': 8, 'final_learning_rate': 0.016468062617429963, 'final_n_estimators': 168, 'final_subsample': 0.7210783809617302, 'final_colsample_bytree': 0.7536262391234221, 'final_reg_alpha': 0.1362813421915614, 'final_reg_lambda': 0.0012350661144826466, 'weight_original': 0.28153909219129536, 'weight_blackmask': 0.1189459482284008, 'weight_highlight': 0.8326972477369814, 'weight_final': 1.22159610365618, 'adaptive_weight_factor': 2.7262077147706876, 'confidence_threshold': 0.8778951400092208, 'threshold_group_0': 0.2728246090392646, 'threshold_group_1': 0.3305789859386281, 'threshold_group_2': 0.2846829195451042, 'threshold_group_3': 0.2500152367421448, 'threshold_group_4': 0.273048615634395}. Best is trial 108 with value: 0.7744158762154614.\n"
     ]
    },
    {
     "name": "stdout",
     "output_type": "stream",
     "text": [
      "Valid labels: 43, Constant labels: 12\n",
      "Training variant-specific models...\n",
      "  Training original model...\n",
      "  Training blackmask model...\n",
      "  Training highlight model...\n",
      "  Training final model...\n",
      "Training advanced variant selector...\n",
      "Trained 43 variant selectors\n"
     ]
    },
    {
     "name": "stderr",
     "output_type": "stream",
     "text": [
      "[I 2025-05-26 21:18:53,480] Trial 119 finished with value: 0.7679543078407187 and parameters: {'original_max_depth': 4, 'original_learning_rate': 0.06198818476203281, 'original_n_estimators': 176, 'original_subsample': 0.7346589651719947, 'original_colsample_bytree': 0.7078836450365895, 'original_reg_alpha': 0.3748747546770567, 'original_reg_lambda': 0.057329992916022775, 'blackmask_max_depth': 5, 'blackmask_learning_rate': 0.03894268307613192, 'blackmask_n_estimators': 211, 'blackmask_subsample': 0.9770570233377381, 'blackmask_colsample_bytree': 0.8294971564567161, 'blackmask_reg_alpha': 0.0028119900353157767, 'blackmask_reg_lambda': 0.006395205687665593, 'highlight_max_depth': 9, 'highlight_learning_rate': 0.016251386263249578, 'highlight_n_estimators': 134, 'highlight_subsample': 0.7036343543273054, 'highlight_colsample_bytree': 0.8885888096076436, 'highlight_reg_alpha': 0.22286923404146786, 'highlight_reg_lambda': 0.26591174530419887, 'final_max_depth': 8, 'final_learning_rate': 0.0185587356694476, 'final_n_estimators': 160, 'final_subsample': 0.7155336072947154, 'final_colsample_bytree': 0.7281030030636968, 'final_reg_alpha': 0.07951803660688347, 'final_reg_lambda': 0.002630598769570702, 'weight_original': 0.31094022943416905, 'weight_blackmask': 0.10068257483842628, 'weight_highlight': 0.7037621559283713, 'weight_final': 1.2320118109395028, 'adaptive_weight_factor': 2.781172118049625, 'confidence_threshold': 0.8266518647172613, 'threshold_group_0': 0.2502902523598669, 'threshold_group_1': 0.7079558426862738, 'threshold_group_2': 0.33423816399597767, 'threshold_group_3': 0.2755601034942682, 'threshold_group_4': 0.30642870325532573}. Best is trial 108 with value: 0.7744158762154614.\n"
     ]
    },
    {
     "name": "stdout",
     "output_type": "stream",
     "text": [
      "Valid labels: 43, Constant labels: 12\n",
      "Training variant-specific models...\n",
      "  Training original model...\n",
      "  Training blackmask model...\n",
      "  Training highlight model...\n",
      "  Training final model...\n",
      "Training advanced variant selector...\n",
      "Trained 43 variant selectors\n"
     ]
    },
    {
     "name": "stderr",
     "output_type": "stream",
     "text": [
      "[I 2025-05-26 21:20:53,445] Trial 120 finished with value: 0.773641352199878 and parameters: {'original_max_depth': 4, 'original_learning_rate': 0.05122574236219907, 'original_n_estimators': 177, 'original_subsample': 0.7010818821443391, 'original_colsample_bytree': 0.7240071834464534, 'original_reg_alpha': 0.42734193561443895, 'original_reg_lambda': 0.16570468238118044, 'blackmask_max_depth': 5, 'blackmask_learning_rate': 0.031356815392264134, 'blackmask_n_estimators': 175, 'blackmask_subsample': 0.9935821987847452, 'blackmask_colsample_bytree': 0.8176375390809761, 'blackmask_reg_alpha': 0.0015868047039761012, 'blackmask_reg_lambda': 0.0044718404946153595, 'highlight_max_depth': 9, 'highlight_learning_rate': 0.01633269843952105, 'highlight_n_estimators': 114, 'highlight_subsample': 0.7616849445993852, 'highlight_colsample_bytree': 0.8710358526131102, 'highlight_reg_alpha': 0.14602047505071594, 'highlight_reg_lambda': 0.7756032238179259, 'final_max_depth': 8, 'final_learning_rate': 0.016948864860533312, 'final_n_estimators': 177, 'final_subsample': 0.7081899457450344, 'final_colsample_bytree': 0.778326747149718, 'final_reg_alpha': 0.09523114377380586, 'final_reg_lambda': 0.002057786489005457, 'weight_original': 0.41374668034312184, 'weight_blackmask': 0.17107544153495882, 'weight_highlight': 0.7823715223424659, 'weight_final': 1.1698235979926543, 'adaptive_weight_factor': 2.881059420356433, 'confidence_threshold': 0.8279808038233545, 'threshold_group_0': 0.26179675634451716, 'threshold_group_1': 0.38190628833655504, 'threshold_group_2': 0.3549804453528985, 'threshold_group_3': 0.26607754974544356, 'threshold_group_4': 0.31639485610275925}. Best is trial 108 with value: 0.7744158762154614.\n"
     ]
    },
    {
     "name": "stdout",
     "output_type": "stream",
     "text": [
      "Valid labels: 43, Constant labels: 12\n",
      "Training variant-specific models...\n",
      "  Training original model...\n",
      "  Training blackmask model...\n",
      "  Training highlight model...\n",
      "  Training final model...\n",
      "Training advanced variant selector...\n",
      "Trained 43 variant selectors\n"
     ]
    },
    {
     "name": "stderr",
     "output_type": "stream",
     "text": [
      "[I 2025-05-26 21:22:53,757] Trial 121 finished with value: 0.7735187232353672 and parameters: {'original_max_depth': 4, 'original_learning_rate': 0.05153877797994849, 'original_n_estimators': 178, 'original_subsample': 0.7004024673630246, 'original_colsample_bytree': 0.7220775859409045, 'original_reg_alpha': 0.5649030020707838, 'original_reg_lambda': 0.3043860439187332, 'blackmask_max_depth': 5, 'blackmask_learning_rate': 0.03137559729218582, 'blackmask_n_estimators': 175, 'blackmask_subsample': 0.9930968005779753, 'blackmask_colsample_bytree': 0.8184393002178598, 'blackmask_reg_alpha': 0.0014998486665279845, 'blackmask_reg_lambda': 0.004136118928667371, 'highlight_max_depth': 9, 'highlight_learning_rate': 0.016437355933852253, 'highlight_n_estimators': 114, 'highlight_subsample': 0.7609577999526883, 'highlight_colsample_bytree': 0.8706906818355878, 'highlight_reg_alpha': 0.14173712211788772, 'highlight_reg_lambda': 0.7255881656248697, 'final_max_depth': 8, 'final_learning_rate': 0.021604120892471653, 'final_n_estimators': 173, 'final_subsample': 0.7062148273868118, 'final_colsample_bytree': 0.770056178373011, 'final_reg_alpha': 0.0635133935407884, 'final_reg_lambda': 0.0021235264706095307, 'weight_original': 0.42005112000694944, 'weight_blackmask': 0.16352791370721487, 'weight_highlight': 0.7460225822556884, 'weight_final': 1.1628693127103127, 'adaptive_weight_factor': 2.8756167282264813, 'confidence_threshold': 0.8291156280889289, 'threshold_group_0': 0.2620440362236118, 'threshold_group_1': 0.3735772421951694, 'threshold_group_2': 0.36898368820913113, 'threshold_group_3': 0.26292153494914583, 'threshold_group_4': 0.338156219816108}. Best is trial 108 with value: 0.7744158762154614.\n"
     ]
    },
    {
     "name": "stdout",
     "output_type": "stream",
     "text": [
      "Valid labels: 43, Constant labels: 12\n",
      "Training variant-specific models...\n",
      "  Training original model...\n",
      "  Training blackmask model...\n",
      "  Training highlight model...\n",
      "  Training final model...\n",
      "Training advanced variant selector...\n",
      "Trained 43 variant selectors\n"
     ]
    },
    {
     "name": "stderr",
     "output_type": "stream",
     "text": [
      "[I 2025-05-26 21:24:56,287] Trial 122 finished with value: 0.7734975517383877 and parameters: {'original_max_depth': 4, 'original_learning_rate': 0.04269306562967713, 'original_n_estimators': 177, 'original_subsample': 0.7036072603747989, 'original_colsample_bytree': 0.7207235211701432, 'original_reg_alpha': 0.8335164948636921, 'original_reg_lambda': 0.32026978556772323, 'blackmask_max_depth': 5, 'blackmask_learning_rate': 0.03210504102151446, 'blackmask_n_estimators': 175, 'blackmask_subsample': 0.9946905050359043, 'blackmask_colsample_bytree': 0.8192222236020951, 'blackmask_reg_alpha': 0.001494937529790484, 'blackmask_reg_lambda': 0.004401110801107953, 'highlight_max_depth': 9, 'highlight_learning_rate': 0.016133385543436202, 'highlight_n_estimators': 124, 'highlight_subsample': 0.7607059095371411, 'highlight_colsample_bytree': 0.8701823133575306, 'highlight_reg_alpha': 0.17257345073537306, 'highlight_reg_lambda': 0.7200009477219732, 'final_max_depth': 8, 'final_learning_rate': 0.019244951034938028, 'final_n_estimators': 165, 'final_subsample': 0.7071213785227565, 'final_colsample_bytree': 0.784802749910799, 'final_reg_alpha': 0.04296976723145459, 'final_reg_lambda': 0.0020753485623936276, 'weight_original': 0.4290935715665112, 'weight_blackmask': 0.16684468794971027, 'weight_highlight': 0.8909193908989488, 'weight_final': 1.1764248994535305, 'adaptive_weight_factor': 2.99419813711929, 'confidence_threshold': 0.830158613633046, 'threshold_group_0': 0.2666359366870439, 'threshold_group_1': 0.38005277907198415, 'threshold_group_2': 0.35207778687232194, 'threshold_group_3': 0.2659310963936327, 'threshold_group_4': 0.31655456272841753}. Best is trial 108 with value: 0.7744158762154614.\n"
     ]
    },
    {
     "name": "stdout",
     "output_type": "stream",
     "text": [
      "Valid labels: 43, Constant labels: 12\n",
      "Training variant-specific models...\n",
      "  Training original model...\n",
      "  Training blackmask model...\n",
      "  Training highlight model...\n",
      "  Training final model...\n",
      "Training advanced variant selector...\n",
      "Trained 43 variant selectors\n"
     ]
    },
    {
     "name": "stderr",
     "output_type": "stream",
     "text": [
      "[I 2025-05-26 21:26:57,260] Trial 123 finished with value: 0.7738584417754177 and parameters: {'original_max_depth': 4, 'original_learning_rate': 0.04336161820135816, 'original_n_estimators': 162, 'original_subsample': 0.7007652803688836, 'original_colsample_bytree': 0.7197971506814661, 'original_reg_alpha': 0.5389294538535393, 'original_reg_lambda': 0.16768179624173404, 'blackmask_max_depth': 5, 'blackmask_learning_rate': 0.031830940357533144, 'blackmask_n_estimators': 175, 'blackmask_subsample': 0.9949954479425962, 'blackmask_colsample_bytree': 0.8189650227493124, 'blackmask_reg_alpha': 0.0015375314183693409, 'blackmask_reg_lambda': 0.004381755513523199, 'highlight_max_depth': 9, 'highlight_learning_rate': 0.01615668117126322, 'highlight_n_estimators': 124, 'highlight_subsample': 0.7622606565747988, 'highlight_colsample_bytree': 0.8734145714501561, 'highlight_reg_alpha': 0.14351248845690318, 'highlight_reg_lambda': 0.7375954273079983, 'final_max_depth': 8, 'final_learning_rate': 0.01678748093117922, 'final_n_estimators': 166, 'final_subsample': 0.7070407767009856, 'final_colsample_bytree': 0.7715945013086124, 'final_reg_alpha': 0.04667433492317118, 'final_reg_lambda': 0.0022527678271370773, 'weight_original': 0.47825813316456833, 'weight_blackmask': 0.15932235921101628, 'weight_highlight': 0.8953708031229153, 'weight_final': 1.1619815911909885, 'adaptive_weight_factor': 2.970191340926243, 'confidence_threshold': 0.8297524753097034, 'threshold_group_0': 0.26371324840773164, 'threshold_group_1': 0.37078724953611875, 'threshold_group_2': 0.35366152603306933, 'threshold_group_3': 0.26386355300792963, 'threshold_group_4': 0.3167617193574411}. Best is trial 108 with value: 0.7744158762154614.\n"
     ]
    },
    {
     "name": "stdout",
     "output_type": "stream",
     "text": [
      "Valid labels: 43, Constant labels: 12\n",
      "Training variant-specific models...\n",
      "  Training original model...\n",
      "  Training blackmask model...\n",
      "  Training highlight model...\n",
      "  Training final model...\n",
      "Training advanced variant selector...\n",
      "Trained 43 variant selectors\n"
     ]
    },
    {
     "name": "stderr",
     "output_type": "stream",
     "text": [
      "[I 2025-05-26 21:28:59,873] Trial 124 finished with value: 0.7727049285463079 and parameters: {'original_max_depth': 4, 'original_learning_rate': 0.042533003686344426, 'original_n_estimators': 178, 'original_subsample': 0.7004034030397259, 'original_colsample_bytree': 0.7222561161803969, 'original_reg_alpha': 0.8493671070836842, 'original_reg_lambda': 0.16707329657903533, 'blackmask_max_depth': 5, 'blackmask_learning_rate': 0.03136580316297714, 'blackmask_n_estimators': 174, 'blackmask_subsample': 0.9999553382733054, 'blackmask_colsample_bytree': 0.8198860706841388, 'blackmask_reg_alpha': 0.0014164082783777417, 'blackmask_reg_lambda': 0.004113305527153871, 'highlight_max_depth': 9, 'highlight_learning_rate': 0.016640416815279183, 'highlight_n_estimators': 120, 'highlight_subsample': 0.7632418426493793, 'highlight_colsample_bytree': 0.8701929668741767, 'highlight_reg_alpha': 0.19256912634976284, 'highlight_reg_lambda': 0.7424995005188342, 'final_max_depth': 8, 'final_learning_rate': 0.021208003683452208, 'final_n_estimators': 174, 'final_subsample': 0.7081256662500828, 'final_colsample_bytree': 0.7719418282459308, 'final_reg_alpha': 0.025863198237094768, 'final_reg_lambda': 0.0019622693193580214, 'weight_original': 0.4395375242169802, 'weight_blackmask': 0.1720857116728779, 'weight_highlight': 0.9502738220912137, 'weight_final': 1.166859106374491, 'adaptive_weight_factor': 2.9991689163717705, 'confidence_threshold': 0.8073780575434703, 'threshold_group_0': 0.26792643783491105, 'threshold_group_1': 0.37747161522063455, 'threshold_group_2': 0.35335009625609387, 'threshold_group_3': 0.27206638171167546, 'threshold_group_4': 0.31692189335300225}. Best is trial 108 with value: 0.7744158762154614.\n"
     ]
    },
    {
     "name": "stdout",
     "output_type": "stream",
     "text": [
      "Valid labels: 43, Constant labels: 12\n",
      "Training variant-specific models...\n",
      "  Training original model...\n",
      "  Training blackmask model...\n",
      "  Training highlight model...\n",
      "  Training final model...\n",
      "Training advanced variant selector...\n",
      "Trained 43 variant selectors\n"
     ]
    },
    {
     "name": "stderr",
     "output_type": "stream",
     "text": [
      "[I 2025-05-26 21:30:57,824] Trial 125 finished with value: 0.762058863735574 and parameters: {'original_max_depth': 4, 'original_learning_rate': 0.05795208473049363, 'original_n_estimators': 162, 'original_subsample': 0.7096981099348655, 'original_colsample_bytree': 0.7133804019544869, 'original_reg_alpha': 0.7383039853329854, 'original_reg_lambda': 0.3143448827470773, 'blackmask_max_depth': 5, 'blackmask_learning_rate': 0.03414643285335171, 'blackmask_n_estimators': 164, 'blackmask_subsample': 0.9937132359445324, 'blackmask_colsample_bytree': 0.835392291144858, 'blackmask_reg_alpha': 0.001428218218126872, 'blackmask_reg_lambda': 0.004717680912126049, 'highlight_max_depth': 9, 'highlight_learning_rate': 0.01723406204658723, 'highlight_n_estimators': 115, 'highlight_subsample': 0.7519815843619885, 'highlight_colsample_bytree': 0.8835982909664147, 'highlight_reg_alpha': 0.15123141560982442, 'highlight_reg_lambda': 0.7067859525033485, 'final_max_depth': 8, 'final_learning_rate': 0.01843677987187227, 'final_n_estimators': 165, 'final_subsample': 0.7073448796459976, 'final_colsample_bytree': 0.7848477214420744, 'final_reg_alpha': 0.029853426647755296, 'final_reg_lambda': 0.0022681156489225097, 'weight_original': 0.5352737726362461, 'weight_blackmask': 0.16096854207979291, 'weight_highlight': 0.8727240260625125, 'weight_final': 1.1829709147000147, 'adaptive_weight_factor': 2.9722059204410094, 'confidence_threshold': 0.8457804706204068, 'threshold_group_0': 0.27810759538621643, 'threshold_group_1': 0.3904451609156325, 'threshold_group_2': 0.3648532849726639, 'threshold_group_3': 0.7302658181175661, 'threshold_group_4': 0.34281272687408093}. Best is trial 108 with value: 0.7744158762154614.\n"
     ]
    },
    {
     "name": "stdout",
     "output_type": "stream",
     "text": [
      "Valid labels: 43, Constant labels: 12\n",
      "Training variant-specific models...\n",
      "  Training original model...\n",
      "  Training blackmask model...\n",
      "  Training highlight model...\n",
      "  Training final model...\n",
      "Training advanced variant selector...\n",
      "Trained 43 variant selectors\n"
     ]
    },
    {
     "name": "stderr",
     "output_type": "stream",
     "text": [
      "[I 2025-05-26 21:32:57,886] Trial 126 finished with value: 0.7725962664444719 and parameters: {'original_max_depth': 4, 'original_learning_rate': 0.04730683897262359, 'original_n_estimators': 169, 'original_subsample': 0.7168863519754239, 'original_colsample_bytree': 0.7237150048974149, 'original_reg_alpha': 0.5341721502711012, 'original_reg_lambda': 0.2373644565989617, 'blackmask_max_depth': 5, 'blackmask_learning_rate': 0.03218554712144583, 'blackmask_n_estimators': 177, 'blackmask_subsample': 0.9923942173160643, 'blackmask_colsample_bytree': 0.8087093853142547, 'blackmask_reg_alpha': 0.002164373195269607, 'blackmask_reg_lambda': 0.0037822762753709233, 'highlight_max_depth': 9, 'highlight_learning_rate': 0.015135437322436902, 'highlight_n_estimators': 119, 'highlight_subsample': 0.7866866198379306, 'highlight_colsample_bytree': 0.8988079863773124, 'highlight_reg_alpha': 0.2929097467611835, 'highlight_reg_lambda': 0.7515862508552296, 'final_max_depth': 8, 'final_learning_rate': 0.026592690684283347, 'final_n_estimators': 169, 'final_subsample': 0.7154202554316289, 'final_colsample_bytree': 0.7842425354407915, 'final_reg_alpha': 0.04500024501572989, 'final_reg_lambda': 0.0013107452477843335, 'weight_original': 0.48083387352486234, 'weight_blackmask': 0.15596682440148615, 'weight_highlight': 0.9862353756660537, 'weight_final': 1.2018495343369702, 'adaptive_weight_factor': 2.8201814224551445, 'confidence_threshold': 0.8242713760996714, 'threshold_group_0': 0.263805982631018, 'threshold_group_1': 0.40361758614033333, 'threshold_group_2': 0.38985025593063244, 'threshold_group_3': 0.2617781651256769, 'threshold_group_4': 0.3136596074808428}. Best is trial 108 with value: 0.7744158762154614.\n"
     ]
    },
    {
     "name": "stdout",
     "output_type": "stream",
     "text": [
      "Valid labels: 43, Constant labels: 12\n",
      "Training variant-specific models...\n",
      "  Training original model...\n",
      "  Training blackmask model...\n",
      "  Training highlight model...\n",
      "  Training final model...\n",
      "Training advanced variant selector...\n",
      "Trained 43 variant selectors\n"
     ]
    },
    {
     "name": "stderr",
     "output_type": "stream",
     "text": [
      "[I 2025-05-26 21:34:53,165] Trial 127 finished with value: 0.7729301515698965 and parameters: {'original_max_depth': 4, 'original_learning_rate': 0.049965037204524505, 'original_n_estimators': 183, 'original_subsample': 0.705256910961642, 'original_colsample_bytree': 0.7168565157733905, 'original_reg_alpha': 0.6661773335395447, 'original_reg_lambda': 0.3200586612992745, 'blackmask_max_depth': 5, 'blackmask_learning_rate': 0.0310925531417425, 'blackmask_n_estimators': 159, 'blackmask_subsample': 0.9939668472980541, 'blackmask_colsample_bytree': 0.8192760584466783, 'blackmask_reg_alpha': 0.0011545660785771423, 'blackmask_reg_lambda': 0.006738111034893083, 'highlight_max_depth': 9, 'highlight_learning_rate': 0.01613561788927077, 'highlight_n_estimators': 125, 'highlight_subsample': 0.7575943816604731, 'highlight_colsample_bytree': 0.9093545885667688, 'highlight_reg_alpha': 0.12578334159242993, 'highlight_reg_lambda': 0.928506226784591, 'final_max_depth': 8, 'final_learning_rate': 0.019468649733866625, 'final_n_estimators': 154, 'final_subsample': 0.7238959048786487, 'final_colsample_bytree': 0.7784327152821557, 'final_reg_alpha': 0.06740600877176793, 'final_reg_lambda': 0.001638498639825858, 'weight_original': 0.40272951402316337, 'weight_blackmask': 0.14321032724646182, 'weight_highlight': 0.9193009229861233, 'weight_final': 1.105696191033924, 'adaptive_weight_factor': 2.87824992452637, 'confidence_threshold': 0.8531026057867601, 'threshold_group_0': 0.27895517268344167, 'threshold_group_1': 0.3732286702494353, 'threshold_group_2': 0.3528991896730825, 'threshold_group_3': 0.27792650785645096, 'threshold_group_4': 0.291388036843751}. Best is trial 108 with value: 0.7744158762154614.\n"
     ]
    },
    {
     "name": "stdout",
     "output_type": "stream",
     "text": [
      "Valid labels: 43, Constant labels: 12\n",
      "Training variant-specific models...\n",
      "  Training original model...\n",
      "  Training blackmask model...\n",
      "  Training highlight model...\n",
      "  Training final model...\n",
      "Training advanced variant selector...\n",
      "Trained 43 variant selectors\n"
     ]
    },
    {
     "name": "stderr",
     "output_type": "stream",
     "text": [
      "[I 2025-05-26 21:36:52,893] Trial 128 finished with value: 0.7742593268022768 and parameters: {'original_max_depth': 4, 'original_learning_rate': 0.06531419201856088, 'original_n_estimators': 187, 'original_subsample': 0.7272277297954822, 'original_colsample_bytree': 0.7004339165706724, 'original_reg_alpha': 0.7608215169240898, 'original_reg_lambda': 0.20153866962710124, 'blackmask_max_depth': 5, 'blackmask_learning_rate': 0.03570409462976012, 'blackmask_n_estimators': 172, 'blackmask_subsample': 0.9666719321680263, 'blackmask_colsample_bytree': 0.8483753943706609, 'blackmask_reg_alpha': 0.0015670591236612453, 'blackmask_reg_lambda': 0.004925338562608776, 'highlight_max_depth': 9, 'highlight_learning_rate': 0.019031545475556348, 'highlight_n_estimators': 110, 'highlight_subsample': 0.7652952907394777, 'highlight_colsample_bytree': 0.8739843289150113, 'highlight_reg_alpha': 0.17625187714395263, 'highlight_reg_lambda': 0.873331539911509, 'final_max_depth': 8, 'final_learning_rate': 0.02133255036209956, 'final_n_estimators': 150, 'final_subsample': 0.7385258732736765, 'final_colsample_bytree': 0.7968882490337644, 'final_reg_alpha': 0.03459843640627119, 'final_reg_lambda': 0.0020689263119730156, 'weight_original': 0.36141044672206635, 'weight_blackmask': 0.10224056712129914, 'weight_highlight': 0.7813348416045813, 'weight_final': 1.1709740344379918, 'adaptive_weight_factor': 2.9685805572785626, 'confidence_threshold': 0.8198211185230603, 'threshold_group_0': 0.2698378545124845, 'threshold_group_1': 0.3666562735707978, 'threshold_group_2': 0.40067269467324174, 'threshold_group_3': 0.2674281856108197, 'threshold_group_4': 0.33496076778292017}. Best is trial 108 with value: 0.7744158762154614.\n"
     ]
    },
    {
     "name": "stdout",
     "output_type": "stream",
     "text": [
      "Valid labels: 43, Constant labels: 12\n",
      "Training variant-specific models...\n",
      "  Training original model...\n",
      "  Training blackmask model...\n",
      "  Training highlight model...\n",
      "  Training final model...\n",
      "Training advanced variant selector...\n",
      "Trained 43 variant selectors\n"
     ]
    },
    {
     "name": "stderr",
     "output_type": "stream",
     "text": [
      "[I 2025-05-26 21:38:53,242] Trial 129 finished with value: 0.7654805694163944 and parameters: {'original_max_depth': 4, 'original_learning_rate': 0.06686911422788444, 'original_n_estimators': 180, 'original_subsample': 0.725208753036621, 'original_colsample_bytree': 0.702713138857057, 'original_reg_alpha': 0.807152175092558, 'original_reg_lambda': 0.20122214209145634, 'blackmask_max_depth': 5, 'blackmask_learning_rate': 0.03772583202510915, 'blackmask_n_estimators': 170, 'blackmask_subsample': 0.9669113371645491, 'blackmask_colsample_bytree': 0.8062676297447854, 'blackmask_reg_alpha': 0.001597661670317638, 'blackmask_reg_lambda': 0.005082661585560236, 'highlight_max_depth': 9, 'highlight_learning_rate': 0.018987871693475086, 'highlight_n_estimators': 114, 'highlight_subsample': 0.746287946864274, 'highlight_colsample_bytree': 0.8715482171862375, 'highlight_reg_alpha': 0.21740143058185857, 'highlight_reg_lambda': 0.8590790982211969, 'final_max_depth': 8, 'final_learning_rate': 0.022638300628283134, 'final_n_estimators': 150, 'final_subsample': 0.7380073538311072, 'final_colsample_bytree': 0.7628816676785823, 'final_reg_alpha': 0.033263112863884725, 'final_reg_lambda': 0.00198321129407028, 'weight_original': 0.3708223698319406, 'weight_blackmask': 0.13042778635685265, 'weight_highlight': 0.784454216630032, 'weight_final': 1.164127561216306, 'adaptive_weight_factor': 2.952723686885152, 'confidence_threshold': 0.8171591830554114, 'threshold_group_0': 0.2721638180937759, 'threshold_group_1': 0.3620492931824248, 'threshold_group_2': 0.3311508248779343, 'threshold_group_3': 0.6621059024528143, 'threshold_group_4': 0.32878502429407946}. Best is trial 108 with value: 0.7744158762154614.\n"
     ]
    },
    {
     "name": "stdout",
     "output_type": "stream",
     "text": [
      "Valid labels: 43, Constant labels: 12\n",
      "Training variant-specific models...\n",
      "  Training original model...\n",
      "  Training blackmask model...\n",
      "  Training highlight model...\n",
      "  Training final model...\n",
      "Training advanced variant selector...\n",
      "Trained 43 variant selectors\n"
     ]
    },
    {
     "name": "stderr",
     "output_type": "stream",
     "text": [
      "[I 2025-05-26 21:40:51,803] Trial 130 finished with value: 0.7734230593985824 and parameters: {'original_max_depth': 4, 'original_learning_rate': 0.04465579535268939, 'original_n_estimators': 157, 'original_subsample': 0.7155293381845903, 'original_colsample_bytree': 0.7083245446230246, 'original_reg_alpha': 0.5551322663385012, 'original_reg_lambda': 0.16947439906425746, 'blackmask_max_depth': 5, 'blackmask_learning_rate': 0.035088536043116104, 'blackmask_n_estimators': 179, 'blackmask_subsample': 0.9998124005855512, 'blackmask_colsample_bytree': 0.8478009306870188, 'blackmask_reg_alpha': 0.0023590200436191967, 'blackmask_reg_lambda': 0.005620969835227775, 'highlight_max_depth': 9, 'highlight_learning_rate': 0.016726312871693662, 'highlight_n_estimators': 110, 'highlight_subsample': 0.7792566420696306, 'highlight_colsample_bytree': 0.9227188791521943, 'highlight_reg_alpha': 0.18257071793084204, 'highlight_reg_lambda': 0.6636199859466981, 'final_max_depth': 8, 'final_learning_rate': 0.017252124357275116, 'final_n_estimators': 162, 'final_subsample': 0.700030850769916, 'final_colsample_bytree': 0.7954410713163096, 'final_reg_alpha': 0.022048378505706206, 'final_reg_lambda': 0.002375456184182785, 'weight_original': 0.5176234202552109, 'weight_blackmask': 0.1649501605511425, 'weight_highlight': 0.831089142819232, 'weight_final': 1.1092013735530761, 'adaptive_weight_factor': 2.9974468894764232, 'confidence_threshold': 0.8314873382066709, 'threshold_group_0': 0.2592571165201337, 'threshold_group_1': 0.3949974305210653, 'threshold_group_2': 0.4000107541755101, 'threshold_group_3': 0.26678453456080775, 'threshold_group_4': 0.27154448306410145}. Best is trial 108 with value: 0.7744158762154614.\n"
     ]
    },
    {
     "name": "stdout",
     "output_type": "stream",
     "text": [
      "Valid labels: 43, Constant labels: 12\n",
      "Training variant-specific models...\n",
      "  Training original model...\n",
      "  Training blackmask model...\n",
      "  Training highlight model...\n",
      "  Training final model...\n",
      "Training advanced variant selector...\n",
      "Trained 43 variant selectors\n"
     ]
    },
    {
     "name": "stderr",
     "output_type": "stream",
     "text": [
      "[I 2025-05-26 21:42:52,951] Trial 131 finished with value: 0.7740072030622405 and parameters: {'original_max_depth': 4, 'original_learning_rate': 0.07431998027094534, 'original_n_estimators': 176, 'original_subsample': 0.7306818334812636, 'original_colsample_bytree': 0.7123074461374149, 'original_reg_alpha': 0.9433962851474145, 'original_reg_lambda': 0.4601746638173159, 'blackmask_max_depth': 5, 'blackmask_learning_rate': 0.040895636013779324, 'blackmask_n_estimators': 164, 'blackmask_subsample': 0.9899676158377786, 'blackmask_colsample_bytree': 0.8244682520494319, 'blackmask_reg_alpha': 0.0016243190659602188, 'blackmask_reg_lambda': 0.003838354856965523, 'highlight_max_depth': 9, 'highlight_learning_rate': 0.017413586098279726, 'highlight_n_estimators': 119, 'highlight_subsample': 0.7644151971558795, 'highlight_colsample_bytree': 0.8968149820137062, 'highlight_reg_alpha': 0.13765157840922965, 'highlight_reg_lambda': 0.7850356840183913, 'final_max_depth': 8, 'final_learning_rate': 0.02131814130431631, 'final_n_estimators': 157, 'final_subsample': 0.713051229094585, 'final_colsample_bytree': 0.7366437884241677, 'final_reg_alpha': 0.059593956277197664, 'final_reg_lambda': 0.00310642923426438, 'weight_original': 0.4286024126521069, 'weight_blackmask': 0.10210766058474655, 'weight_highlight': 0.895592398828837, 'weight_final': 1.286090750694521, 'adaptive_weight_factor': 2.7458867380511025, 'confidence_threshold': 0.8107102654364367, 'threshold_group_0': 0.26523124175989243, 'threshold_group_1': 0.3732313513320403, 'threshold_group_2': 0.3727886660757514, 'threshold_group_3': 0.2976726743461702, 'threshold_group_4': 0.3340690614472396}. Best is trial 108 with value: 0.7744158762154614.\n"
     ]
    },
    {
     "name": "stdout",
     "output_type": "stream",
     "text": [
      "Valid labels: 43, Constant labels: 12\n",
      "Training variant-specific models...\n",
      "  Training original model...\n",
      "  Training blackmask model...\n",
      "  Training highlight model...\n",
      "  Training final model...\n",
      "Training advanced variant selector...\n",
      "Trained 43 variant selectors\n"
     ]
    },
    {
     "name": "stderr",
     "output_type": "stream",
     "text": [
      "[I 2025-05-26 21:44:52,994] Trial 132 finished with value: 0.7733025492338935 and parameters: {'original_max_depth': 4, 'original_learning_rate': 0.051603915879950696, 'original_n_estimators': 165, 'original_subsample': 0.7309294256167945, 'original_colsample_bytree': 0.7130948524725558, 'original_reg_alpha': 0.9616152085600324, 'original_reg_lambda': 0.4477728466191354, 'blackmask_max_depth': 5, 'blackmask_learning_rate': 0.033061651198909886, 'blackmask_n_estimators': 171, 'blackmask_subsample': 0.9800301831781386, 'blackmask_colsample_bytree': 0.8303742930615434, 'blackmask_reg_alpha': 0.0012226763580715381, 'blackmask_reg_lambda': 0.003970231918766388, 'highlight_max_depth': 9, 'highlight_learning_rate': 0.016004781096257133, 'highlight_n_estimators': 116, 'highlight_subsample': 0.7613782412639822, 'highlight_colsample_bytree': 0.8842473573261932, 'highlight_reg_alpha': 0.13981303170380063, 'highlight_reg_lambda': 0.9875928758781781, 'final_max_depth': 8, 'final_learning_rate': 0.02180935558149379, 'final_n_estimators': 157, 'final_subsample': 0.7110342000023967, 'final_colsample_bytree': 0.7382477503121456, 'final_reg_alpha': 0.047715074359104936, 'final_reg_lambda': 0.0015125493568643208, 'weight_original': 0.4128954484892035, 'weight_blackmask': 0.1054767976231284, 'weight_highlight': 0.9046852007218527, 'weight_final': 1.2778164389182025, 'adaptive_weight_factor': 2.8246498234814412, 'confidence_threshold': 0.8120318546924652, 'threshold_group_0': 0.27875934386837825, 'threshold_group_1': 0.37056934337727154, 'threshold_group_2': 0.36996751759166796, 'threshold_group_3': 0.29888437023849845, 'threshold_group_4': 0.3296726455152983}. Best is trial 108 with value: 0.7744158762154614.\n"
     ]
    },
    {
     "name": "stdout",
     "output_type": "stream",
     "text": [
      "Valid labels: 43, Constant labels: 12\n",
      "Training variant-specific models...\n",
      "  Training original model...\n",
      "  Training blackmask model...\n",
      "  Training highlight model...\n",
      "  Training final model...\n",
      "Training advanced variant selector...\n",
      "Trained 43 variant selectors\n"
     ]
    },
    {
     "name": "stderr",
     "output_type": "stream",
     "text": [
      "[I 2025-05-26 21:46:51,469] Trial 133 finished with value: 0.773001811156464 and parameters: {'original_max_depth': 4, 'original_learning_rate': 0.05890599995758915, 'original_n_estimators': 186, 'original_subsample': 0.7003243716439249, 'original_colsample_bytree': 0.7211022863990574, 'original_reg_alpha': 0.7805477724456281, 'original_reg_lambda': 0.13782364440447997, 'blackmask_max_depth': 5, 'blackmask_learning_rate': 0.025876515943097176, 'blackmask_n_estimators': 176, 'blackmask_subsample': 0.989468202048559, 'blackmask_colsample_bytree': 0.8185491288281489, 'blackmask_reg_alpha': 0.002070783493095204, 'blackmask_reg_lambda': 0.004579764080320135, 'highlight_max_depth': 9, 'highlight_learning_rate': 0.018960726099488998, 'highlight_n_estimators': 123, 'highlight_subsample': 0.7444666868639223, 'highlight_colsample_bytree': 0.8958616487760389, 'highlight_reg_alpha': 0.2896369500026779, 'highlight_reg_lambda': 0.5055705443032802, 'final_max_depth': 8, 'final_learning_rate': 0.016470217775741623, 'final_n_estimators': 173, 'final_subsample': 0.7185872272286719, 'final_colsample_bytree': 0.7736381327820947, 'final_reg_alpha': 0.07918297492516028, 'final_reg_lambda': 0.003102097379642136, 'weight_original': 0.438473308439846, 'weight_blackmask': 0.13673303720185465, 'weight_highlight': 0.7841989467373346, 'weight_final': 1.201603530827517, 'adaptive_weight_factor': 2.7488526767590136, 'confidence_threshold': 0.8063923918570006, 'threshold_group_0': 0.2691109418673624, 'threshold_group_1': 0.3872548887304695, 'threshold_group_2': 0.350503124936152, 'threshold_group_3': 0.2580075710057503, 'threshold_group_4': 0.34227129583379823}. Best is trial 108 with value: 0.7744158762154614.\n"
     ]
    },
    {
     "name": "stdout",
     "output_type": "stream",
     "text": [
      "Valid labels: 43, Constant labels: 12\n",
      "Training variant-specific models...\n",
      "  Training original model...\n",
      "  Training blackmask model...\n",
      "  Training highlight model...\n",
      "  Training final model...\n",
      "Training advanced variant selector...\n",
      "Trained 43 variant selectors\n"
     ]
    },
    {
     "name": "stderr",
     "output_type": "stream",
     "text": [
      "[I 2025-05-26 21:48:50,163] Trial 134 finished with value: 0.7720733080316455 and parameters: {'original_max_depth': 4, 'original_learning_rate': 0.06582340091765512, 'original_n_estimators': 172, 'original_subsample': 0.745941234345149, 'original_colsample_bytree': 0.7301306218917819, 'original_reg_alpha': 0.4558486503817278, 'original_reg_lambda': 0.28358899800838083, 'blackmask_max_depth': 5, 'blackmask_learning_rate': 0.03563320751488062, 'blackmask_n_estimators': 164, 'blackmask_subsample': 0.9732888115985041, 'blackmask_colsample_bytree': 0.8242102769561223, 'blackmask_reg_alpha': 0.0015943488984213276, 'blackmask_reg_lambda': 0.003155536652472994, 'highlight_max_depth': 9, 'highlight_learning_rate': 0.015119633893112707, 'highlight_n_estimators': 118, 'highlight_subsample': 0.7383907619646114, 'highlight_colsample_bytree': 0.8746849584800027, 'highlight_reg_alpha': 0.12889894552141756, 'highlight_reg_lambda': 0.7548460498043486, 'final_max_depth': 8, 'final_learning_rate': 0.01880362811468327, 'final_n_estimators': 165, 'final_subsample': 0.7051949849848411, 'final_colsample_bytree': 0.7487819759818692, 'final_reg_alpha': 0.06153227272570669, 'final_reg_lambda': 0.0017516848267951062, 'weight_original': 0.49782754426635684, 'weight_blackmask': 0.1722992653068048, 'weight_highlight': 0.8509631602456551, 'weight_final': 1.149750558550734, 'adaptive_weight_factor': 2.9359199720779947, 'confidence_threshold': 0.820306175662012, 'threshold_group_0': 0.2611423682732222, 'threshold_group_1': 0.40325739576313674, 'threshold_group_2': 0.3684688813160012, 'threshold_group_3': 0.27239637906030945, 'threshold_group_4': 0.35448867485236896}. Best is trial 108 with value: 0.7744158762154614.\n"
     ]
    },
    {
     "name": "stdout",
     "output_type": "stream",
     "text": [
      "Valid labels: 43, Constant labels: 12\n",
      "Training variant-specific models...\n",
      "  Training original model...\n",
      "  Training blackmask model...\n",
      "  Training highlight model...\n",
      "  Training final model...\n",
      "Training advanced variant selector...\n",
      "Trained 43 variant selectors\n"
     ]
    },
    {
     "name": "stderr",
     "output_type": "stream",
     "text": [
      "[I 2025-05-26 21:50:44,532] Trial 135 finished with value: 0.7725670041439945 and parameters: {'original_max_depth': 4, 'original_learning_rate': 0.07517335957845274, 'original_n_estimators': 177, 'original_subsample': 0.7628980012956433, 'original_colsample_bytree': 0.7129400152126388, 'original_reg_alpha': 0.60198658424265, 'original_reg_lambda': 0.3758347139872999, 'blackmask_max_depth': 5, 'blackmask_learning_rate': 0.030825686516941793, 'blackmask_n_estimators': 158, 'blackmask_subsample': 0.8408616711217628, 'blackmask_colsample_bytree': 0.8143548412033912, 'blackmask_reg_alpha': 0.0010451947409567234, 'blackmask_reg_lambda': 0.009297154591852918, 'highlight_max_depth': 9, 'highlight_learning_rate': 0.0171434427040083, 'highlight_n_estimators': 113, 'highlight_subsample': 0.7671470014300406, 'highlight_colsample_bytree': 0.9378901694468335, 'highlight_reg_alpha': 0.20542395653391243, 'highlight_reg_lambda': 0.6125514386081662, 'final_max_depth': 8, 'final_learning_rate': 0.02088173083537816, 'final_n_estimators': 178, 'final_subsample': 0.7258652356867944, 'final_colsample_bytree': 0.7352995869542206, 'final_reg_alpha': 0.1004897825260146, 'final_reg_lambda': 0.002444780749520588, 'weight_original': 0.3635492972229483, 'weight_blackmask': 0.1016853605653747, 'weight_highlight': 1.0421262058714167, 'weight_final': 1.2481998217593002, 'adaptive_weight_factor': 2.9773277361617936, 'confidence_threshold': 0.8541302884446709, 'threshold_group_0': 0.29858769293756005, 'threshold_group_1': 0.36260668664491236, 'threshold_group_2': 0.29968043908452163, 'threshold_group_3': 0.26082171640971674, 'threshold_group_4': 0.2988464462215328}. Best is trial 108 with value: 0.7744158762154614.\n"
     ]
    },
    {
     "name": "stdout",
     "output_type": "stream",
     "text": [
      "Valid labels: 43, Constant labels: 12\n",
      "Training variant-specific models...\n",
      "  Training original model...\n",
      "  Training blackmask model...\n",
      "  Training highlight model...\n",
      "  Training final model...\n",
      "Training advanced variant selector...\n",
      "Trained 43 variant selectors\n"
     ]
    },
    {
     "name": "stderr",
     "output_type": "stream",
     "text": [
      "[I 2025-05-26 21:52:45,261] Trial 136 finished with value: 0.7690365931222496 and parameters: {'original_max_depth': 4, 'original_learning_rate': 0.04051254452251106, 'original_n_estimators': 182, 'original_subsample': 0.7131980366616048, 'original_colsample_bytree': 0.717624293002623, 'original_reg_alpha': 0.42029561497726337, 'original_reg_lambda': 0.2119725372036263, 'blackmask_max_depth': 5, 'blackmask_learning_rate': 0.03950897943426746, 'blackmask_n_estimators': 148, 'blackmask_subsample': 0.980984577268609, 'blackmask_colsample_bytree': 0.7856924125571974, 'blackmask_reg_alpha': 0.0017614302789701365, 'blackmask_reg_lambda': 0.004729161898203839, 'highlight_max_depth': 9, 'highlight_learning_rate': 0.01824911457269652, 'highlight_n_estimators': 134, 'highlight_subsample': 0.756081933835276, 'highlight_colsample_bytree': 0.8684132113533279, 'highlight_reg_alpha': 0.016681198046454473, 'highlight_reg_lambda': 0.8519229112340186, 'final_max_depth': 8, 'final_learning_rate': 0.024627307132562948, 'final_n_estimators': 154, 'final_subsample': 0.7135297477503958, 'final_colsample_bytree': 0.799999863295056, 'final_reg_alpha': 0.04027412264371146, 'final_reg_lambda': 0.002128514887016941, 'weight_original': 0.4646329733827401, 'weight_blackmask': 0.597162476070062, 'weight_highlight': 0.9376633710160525, 'weight_final': 1.2854054011098481, 'adaptive_weight_factor': 2.889166328367922, 'confidence_threshold': 0.8377133572208784, 'threshold_group_0': 0.27758385493072085, 'threshold_group_1': 0.35763902660702596, 'threshold_group_2': 0.3723675487467378, 'threshold_group_3': 0.5521966607222755, 'threshold_group_4': 0.3110615747058339}. Best is trial 108 with value: 0.7744158762154614.\n"
     ]
    },
    {
     "name": "stdout",
     "output_type": "stream",
     "text": [
      "Valid labels: 43, Constant labels: 12\n",
      "Training variant-specific models...\n",
      "  Training original model...\n",
      "  Training blackmask model...\n",
      "  Training highlight model...\n",
      "  Training final model...\n",
      "Training advanced variant selector...\n",
      "Trained 43 variant selectors\n"
     ]
    },
    {
     "name": "stderr",
     "output_type": "stream",
     "text": [
      "[I 2025-05-26 21:54:47,734] Trial 137 finished with value: 0.7746658993750268 and parameters: {'original_max_depth': 4, 'original_learning_rate': 0.03733249073020109, 'original_n_estimators': 187, 'original_subsample': 0.7085184034924041, 'original_colsample_bytree': 0.70152377577507, 'original_reg_alpha': 0.7045742262032787, 'original_reg_lambda': 0.1364641923013307, 'blackmask_max_depth': 5, 'blackmask_learning_rate': 0.03386864861645072, 'blackmask_n_estimators': 165, 'blackmask_subsample': 0.9525360700564013, 'blackmask_colsample_bytree': 0.8050011271865734, 'blackmask_reg_alpha': 0.002311850045975313, 'blackmask_reg_lambda': 0.003664038091551058, 'highlight_max_depth': 9, 'highlight_learning_rate': 0.016307189728719744, 'highlight_n_estimators': 120, 'highlight_subsample': 0.781879752403793, 'highlight_colsample_bytree': 0.8569791607554443, 'highlight_reg_alpha': 0.11258446065231725, 'highlight_reg_lambda': 0.5115086244505229, 'final_max_depth': 8, 'final_learning_rate': 0.017755879429065022, 'final_n_estimators': 161, 'final_subsample': 0.7380709714508454, 'final_colsample_bytree': 0.7630249129812696, 'final_reg_alpha': 0.13615175209485159, 'final_reg_lambda': 0.0031044377046679696, 'weight_original': 0.5797556496394781, 'weight_blackmask': 0.23316819494854066, 'weight_highlight': 0.9019477252035325, 'weight_final': 1.1821834407560667, 'adaptive_weight_factor': 2.6911368983215995, 'confidence_threshold': 0.8267459621126004, 'threshold_group_0': 0.25187811288861794, 'threshold_group_1': 0.3808831734043651, 'threshold_group_2': 0.35610719793251533, 'threshold_group_3': 0.2968478731217432, 'threshold_group_4': 0.32203886569856516}. Best is trial 137 with value: 0.7746658993750268.\n"
     ]
    },
    {
     "name": "stdout",
     "output_type": "stream",
     "text": [
      "Valid labels: 43, Constant labels: 12\n",
      "Training variant-specific models...\n",
      "  Training original model...\n",
      "  Training blackmask model...\n",
      "  Training highlight model...\n",
      "  Training final model...\n",
      "Training advanced variant selector...\n",
      "Trained 43 variant selectors\n"
     ]
    },
    {
     "name": "stderr",
     "output_type": "stream",
     "text": [
      "[I 2025-05-26 21:56:48,563] Trial 138 finished with value: 0.7729229393137764 and parameters: {'original_max_depth': 4, 'original_learning_rate': 0.043431646107885954, 'original_n_estimators': 188, 'original_subsample': 0.7057578888133738, 'original_colsample_bytree': 0.7004237066566698, 'original_reg_alpha': 0.7176529962312325, 'original_reg_lambda': 0.4998338501926647, 'blackmask_max_depth': 5, 'blackmask_learning_rate': 0.033547254703687565, 'blackmask_n_estimators': 164, 'blackmask_subsample': 0.9943380585063172, 'blackmask_colsample_bytree': 0.8109944702828498, 'blackmask_reg_alpha': 0.001374010509123536, 'blackmask_reg_lambda': 0.003801625749126174, 'highlight_max_depth': 9, 'highlight_learning_rate': 0.016199907866432738, 'highlight_n_estimators': 122, 'highlight_subsample': 0.7672767403375085, 'highlight_colsample_bytree': 0.8574251206514523, 'highlight_reg_alpha': 0.11164826679675315, 'highlight_reg_lambda': 0.5060826682406371, 'final_max_depth': 8, 'final_learning_rate': 0.026845404896612975, 'final_n_estimators': 158, 'final_subsample': 0.736739323320763, 'final_colsample_bytree': 0.7594424507714669, 'final_reg_alpha': 0.13833443010107985, 'final_reg_lambda': 0.0032222105934605794, 'weight_original': 0.4136633150877544, 'weight_blackmask': 0.14506599472814719, 'weight_highlight': 0.990478723549603, 'weight_final': 1.1198349503154237, 'adaptive_weight_factor': 2.6482501727758807, 'confidence_threshold': 0.8278686090021701, 'threshold_group_0': 0.2517907143756202, 'threshold_group_1': 0.41406824779811685, 'threshold_group_2': 0.39046832888023386, 'threshold_group_3': 0.2802201653221603, 'threshold_group_4': 0.3262778740941132}. Best is trial 137 with value: 0.7746658993750268.\n"
     ]
    },
    {
     "name": "stdout",
     "output_type": "stream",
     "text": [
      "Valid labels: 43, Constant labels: 12\n",
      "Training variant-specific models...\n",
      "  Training original model...\n",
      "  Training blackmask model...\n",
      "  Training highlight model...\n",
      "  Training final model...\n",
      "Training advanced variant selector...\n",
      "Trained 43 variant selectors\n"
     ]
    },
    {
     "name": "stderr",
     "output_type": "stream",
     "text": [
      "[I 2025-05-26 21:58:44,854] Trial 139 finished with value: 0.7743765361836752 and parameters: {'original_max_depth': 4, 'original_learning_rate': 0.03642635726055923, 'original_n_estimators': 176, 'original_subsample': 0.7290255388875291, 'original_colsample_bytree': 0.7268416709978975, 'original_reg_alpha': 0.5542885874739646, 'original_reg_lambda': 0.1331657941779434, 'blackmask_max_depth': 5, 'blackmask_learning_rate': 0.03724671714082308, 'blackmask_n_estimators': 167, 'blackmask_subsample': 0.9883460536848178, 'blackmask_colsample_bytree': 0.8063433799852479, 'blackmask_reg_alpha': 0.0024175035767618307, 'blackmask_reg_lambda': 0.007103000893452016, 'highlight_max_depth': 9, 'highlight_learning_rate': 0.015090488770371356, 'highlight_n_estimators': 110, 'highlight_subsample': 0.7505028461182343, 'highlight_colsample_bytree': 0.8777009058967004, 'highlight_reg_alpha': 0.16178513453161855, 'highlight_reg_lambda': 0.7342656853346339, 'final_max_depth': 8, 'final_learning_rate': 0.01765941743522406, 'final_n_estimators': 162, 'final_subsample': 0.7448425597686502, 'final_colsample_bytree': 0.7689543044748076, 'final_reg_alpha': 0.12184832070683936, 'final_reg_lambda': 0.0011065307270831583, 'weight_original': 0.5979438294530326, 'weight_blackmask': 0.24236957665757347, 'weight_highlight': 0.8813261079416519, 'weight_final': 1.1773976684015994, 'adaptive_weight_factor': 2.73435529509847, 'confidence_threshold': 0.8607138861563466, 'threshold_group_0': 0.2679390559984119, 'threshold_group_1': 0.31939788139322073, 'threshold_group_2': 0.3345627685808051, 'threshold_group_3': 0.268857637983899, 'threshold_group_4': 0.338716433994221}. Best is trial 137 with value: 0.7746658993750268.\n"
     ]
    },
    {
     "name": "stdout",
     "output_type": "stream",
     "text": [
      "Valid labels: 43, Constant labels: 12\n",
      "Training variant-specific models...\n",
      "  Training original model...\n",
      "  Training blackmask model...\n",
      "  Training highlight model...\n",
      "  Training final model...\n",
      "Training advanced variant selector...\n",
      "Trained 43 variant selectors\n"
     ]
    },
    {
     "name": "stderr",
     "output_type": "stream",
     "text": [
      "[I 2025-05-26 22:00:40,707] Trial 140 finished with value: 0.7597118653308329 and parameters: {'original_max_depth': 4, 'original_learning_rate': 0.0352787958413245, 'original_n_estimators': 185, 'original_subsample': 0.7277297162163722, 'original_colsample_bytree': 0.7276606735737415, 'original_reg_alpha': 0.5410878655942308, 'original_reg_lambda': 0.13327819660496182, 'blackmask_max_depth': 5, 'blackmask_learning_rate': 0.04311522765937745, 'blackmask_n_estimators': 167, 'blackmask_subsample': 0.9876930161455969, 'blackmask_colsample_bytree': 0.8030282896997863, 'blackmask_reg_alpha': 0.002878459379721237, 'blackmask_reg_lambda': 0.005985273435120415, 'highlight_max_depth': 9, 'highlight_learning_rate': 0.017062568670010755, 'highlight_n_estimators': 110, 'highlight_subsample': 0.7837301886858571, 'highlight_colsample_bytree': 0.9033826423498145, 'highlight_reg_alpha': 0.14100365882190796, 'highlight_reg_lambda': 0.6288295615987656, 'final_max_depth': 9, 'final_learning_rate': 0.01759533710209016, 'final_n_estimators': 160, 'final_subsample': 0.7453981778714607, 'final_colsample_bytree': 0.7696902100585687, 'final_reg_alpha': 0.11957337523454814, 'final_reg_lambda': 0.0012316863576664052, 'weight_original': 0.5727484137840843, 'weight_blackmask': 0.23241569610834634, 'weight_highlight': 0.8097683306349545, 'weight_final': 1.0888677869269066, 'adaptive_weight_factor': 2.69643445267114, 'confidence_threshold': 0.8651115598617103, 'threshold_group_0': 0.7032632360233069, 'threshold_group_1': 0.3188978924121474, 'threshold_group_2': 0.25018450971462186, 'threshold_group_3': 0.250208673784808, 'threshold_group_4': 0.3608439926386948}. Best is trial 137 with value: 0.7746658993750268.\n"
     ]
    },
    {
     "name": "stdout",
     "output_type": "stream",
     "text": [
      "Valid labels: 43, Constant labels: 12\n",
      "Training variant-specific models...\n",
      "  Training original model...\n",
      "  Training blackmask model...\n",
      "  Training highlight model...\n",
      "  Training final model...\n",
      "Training advanced variant selector...\n",
      "Trained 43 variant selectors\n"
     ]
    },
    {
     "name": "stderr",
     "output_type": "stream",
     "text": [
      "[I 2025-05-26 22:02:39,220] Trial 141 finished with value: 0.7744607126975385 and parameters: {'original_max_depth': 4, 'original_learning_rate': 0.03721628656950897, 'original_n_estimators': 176, 'original_subsample': 0.7102050563619345, 'original_colsample_bytree': 0.7100249953578714, 'original_reg_alpha': 0.9827589737857862, 'original_reg_lambda': 0.15671086719439084, 'blackmask_max_depth': 5, 'blackmask_learning_rate': 0.036712267324490365, 'blackmask_n_estimators': 173, 'blackmask_subsample': 0.999953053660645, 'blackmask_colsample_bytree': 0.8335857755893651, 'blackmask_reg_alpha': 0.0023568253527281656, 'blackmask_reg_lambda': 0.0075343761685256055, 'highlight_max_depth': 9, 'highlight_learning_rate': 0.01592314255749926, 'highlight_n_estimators': 125, 'highlight_subsample': 0.7471759567912888, 'highlight_colsample_bytree': 0.8779232098036199, 'highlight_reg_alpha': 0.16972441615994333, 'highlight_reg_lambda': 0.7609744807863762, 'final_max_depth': 8, 'final_learning_rate': 0.02013772727659181, 'final_n_estimators': 167, 'final_subsample': 0.7594944954699273, 'final_colsample_bytree': 0.780194959925235, 'final_reg_alpha': 0.08044357402641154, 'final_reg_lambda': 0.0018701730565106657, 'weight_original': 0.5968017868388806, 'weight_blackmask': 0.17136251319921822, 'weight_highlight': 0.8966625858801262, 'weight_final': 1.1819197591386683, 'adaptive_weight_factor': 2.7434521542563677, 'confidence_threshold': 0.8491003565548642, 'threshold_group_0': 0.27012671483045825, 'threshold_group_1': 0.37491956783709546, 'threshold_group_2': 0.3594795743813862, 'threshold_group_3': 0.2705972381622868, 'threshold_group_4': 0.2821759212673523}. Best is trial 137 with value: 0.7746658993750268.\n"
     ]
    },
    {
     "name": "stdout",
     "output_type": "stream",
     "text": [
      "Valid labels: 43, Constant labels: 12\n",
      "Training variant-specific models...\n",
      "  Training original model...\n",
      "  Training blackmask model...\n",
      "  Training highlight model...\n",
      "  Training final model...\n",
      "Training advanced variant selector...\n",
      "Trained 43 variant selectors\n"
     ]
    },
    {
     "name": "stderr",
     "output_type": "stream",
     "text": [
      "[I 2025-05-26 22:04:37,432] Trial 142 finished with value: 0.7732385365207579 and parameters: {'original_max_depth': 4, 'original_learning_rate': 0.03773063016648908, 'original_n_estimators': 181, 'original_subsample': 0.7421028605154122, 'original_colsample_bytree': 0.7052748394046322, 'original_reg_alpha': 0.6467960884782065, 'original_reg_lambda': 0.15195297612702596, 'blackmask_max_depth': 5, 'blackmask_learning_rate': 0.03673665816891273, 'blackmask_n_estimators': 170, 'blackmask_subsample': 0.9868365698803203, 'blackmask_colsample_bytree': 0.83452696425052, 'blackmask_reg_alpha': 0.0022543259048593603, 'blackmask_reg_lambda': 0.007372743608488149, 'highlight_max_depth': 9, 'highlight_learning_rate': 0.015093722477230755, 'highlight_n_estimators': 119, 'highlight_subsample': 0.7492595417823877, 'highlight_colsample_bytree': 0.8356601591268632, 'highlight_reg_alpha': 0.1628953763531967, 'highlight_reg_lambda': 0.8820066286706042, 'final_max_depth': 8, 'final_learning_rate': 0.020608510610906943, 'final_n_estimators': 150, 'final_subsample': 0.7611235303940377, 'final_colsample_bytree': 0.7770459212897931, 'final_reg_alpha': 0.08779616892350504, 'final_reg_lambda': 0.001780800581748782, 'weight_original': 0.5657238336102904, 'weight_blackmask': 0.12561227492660637, 'weight_highlight': 0.8699136896459801, 'weight_final': 1.2184607473377178, 'adaptive_weight_factor': 2.6265223868845493, 'confidence_threshold': 0.8476783802617248, 'threshold_group_0': 0.2776075006119075, 'threshold_group_1': 0.3723611819664334, 'threshold_group_2': 0.3583789727960864, 'threshold_group_3': 0.29939835265389064, 'threshold_group_4': 0.2813726256207084}. Best is trial 137 with value: 0.7746658993750268.\n"
     ]
    },
    {
     "name": "stdout",
     "output_type": "stream",
     "text": [
      "Valid labels: 43, Constant labels: 12\n",
      "Training variant-specific models...\n",
      "  Training original model...\n",
      "  Training blackmask model...\n",
      "  Training highlight model...\n",
      "  Training final model...\n",
      "Training advanced variant selector...\n",
      "Trained 43 variant selectors\n"
     ]
    },
    {
     "name": "stderr",
     "output_type": "stream",
     "text": [
      "[I 2025-05-26 22:06:37,790] Trial 143 finished with value: 0.7748151325744147 and parameters: {'original_max_depth': 5, 'original_learning_rate': 0.057552279940227095, 'original_n_estimators': 170, 'original_subsample': 0.7133093883182111, 'original_colsample_bytree': 0.7121064659004602, 'original_reg_alpha': 0.9566396424153192, 'original_reg_lambda': 0.1866943917759507, 'blackmask_max_depth': 5, 'blackmask_learning_rate': 0.0405351901350081, 'blackmask_n_estimators': 184, 'blackmask_subsample': 0.9997730616746984, 'blackmask_colsample_bytree': 0.8436000291538134, 'blackmask_reg_alpha': 0.002486059168236148, 'blackmask_reg_lambda': 0.008558030682262071, 'highlight_max_depth': 9, 'highlight_learning_rate': 0.01751501911264282, 'highlight_n_estimators': 113, 'highlight_subsample': 0.7343492926080405, 'highlight_colsample_bytree': 0.8785530136654323, 'highlight_reg_alpha': 0.23674092864339763, 'highlight_reg_lambda': 0.9939400101154203, 'final_max_depth': 8, 'final_learning_rate': 0.01643808073624323, 'final_n_estimators': 169, 'final_subsample': 0.7331126324598207, 'final_colsample_bytree': 0.7590485688585425, 'final_reg_alpha': 0.1590557955673111, 'final_reg_lambda': 0.0011510017655909986, 'weight_original': 0.6050999642111006, 'weight_blackmask': 0.2781114901710617, 'weight_highlight': 0.9281595637969894, 'weight_final': 1.1827616935344052, 'adaptive_weight_factor': 2.750361246307598, 'confidence_threshold': 0.8952143096309955, 'threshold_group_0': 0.25069913105120384, 'threshold_group_1': 0.33875426753506505, 'threshold_group_2': 0.33510181733772154, 'threshold_group_3': 0.2719385165984135, 'threshold_group_4': 0.3366360392548732}. Best is trial 143 with value: 0.7748151325744147.\n"
     ]
    },
    {
     "name": "stdout",
     "output_type": "stream",
     "text": [
      "Valid labels: 43, Constant labels: 12\n",
      "Training variant-specific models...\n",
      "  Training original model...\n",
      "  Training blackmask model...\n",
      "  Training highlight model...\n",
      "  Training final model...\n",
      "Training advanced variant selector...\n",
      "Trained 43 variant selectors\n"
     ]
    },
    {
     "name": "stderr",
     "output_type": "stream",
     "text": [
      "[I 2025-05-26 22:08:41,627] Trial 144 finished with value: 0.7747515015200201 and parameters: {'original_max_depth': 5, 'original_learning_rate': 0.07465412968987357, 'original_n_estimators': 170, 'original_subsample': 0.7502074974118917, 'original_colsample_bytree': 0.710792785525951, 'original_reg_alpha': 0.9889228934241379, 'original_reg_lambda': 0.08879023504743704, 'blackmask_max_depth': 5, 'blackmask_learning_rate': 0.03978825935692442, 'blackmask_n_estimators': 185, 'blackmask_subsample': 0.7120739783448022, 'blackmask_colsample_bytree': 0.8433378431848519, 'blackmask_reg_alpha': 0.00255980223867137, 'blackmask_reg_lambda': 0.008898554205304297, 'highlight_max_depth': 9, 'highlight_learning_rate': 0.017396786199985713, 'highlight_n_estimators': 110, 'highlight_subsample': 0.7337917467500811, 'highlight_colsample_bytree': 0.893539520784862, 'highlight_reg_alpha': 0.2358161821790269, 'highlight_reg_lambda': 0.7971944835746748, 'final_max_depth': 8, 'final_learning_rate': 0.015820544847914664, 'final_n_estimators': 169, 'final_subsample': 0.7323990325605128, 'final_colsample_bytree': 0.7461984175000872, 'final_reg_alpha': 0.14841240898772323, 'final_reg_lambda': 0.0010722578260287403, 'weight_original': 0.5974871495863824, 'weight_blackmask': 0.23444395159245635, 'weight_highlight': 0.932083434649653, 'weight_final': 1.2972472149725978, 'adaptive_weight_factor': 2.7348279972226384, 'confidence_threshold': 0.8980081252315227, 'threshold_group_0': 0.2576279294666337, 'threshold_group_1': 0.3379383294071463, 'threshold_group_2': 0.33412142393568406, 'threshold_group_3': 0.27493781191720534, 'threshold_group_4': 0.3499115261644991}. Best is trial 143 with value: 0.7748151325744147.\n"
     ]
    },
    {
     "name": "stdout",
     "output_type": "stream",
     "text": [
      "Valid labels: 43, Constant labels: 12\n",
      "Training variant-specific models...\n",
      "  Training original model...\n",
      "  Training blackmask model...\n",
      "  Training highlight model...\n",
      "  Training final model...\n",
      "Training advanced variant selector...\n",
      "Trained 43 variant selectors\n"
     ]
    },
    {
     "name": "stderr",
     "output_type": "stream",
     "text": [
      "[I 2025-05-26 22:10:46,652] Trial 145 finished with value: 0.7737626284727619 and parameters: {'original_max_depth': 5, 'original_learning_rate': 0.07200451346473255, 'original_n_estimators': 170, 'original_subsample': 0.7510400173932203, 'original_colsample_bytree': 0.7108959932428622, 'original_reg_alpha': 0.9379807961383269, 'original_reg_lambda': 0.12625127740399805, 'blackmask_max_depth': 5, 'blackmask_learning_rate': 0.04036289997118432, 'blackmask_n_estimators': 184, 'blackmask_subsample': 0.7155782390651925, 'blackmask_colsample_bytree': 0.842268073859475, 'blackmask_reg_alpha': 0.002549001207412122, 'blackmask_reg_lambda': 0.014033711264427543, 'highlight_max_depth': 9, 'highlight_learning_rate': 0.018627064321566137, 'highlight_n_estimators': 126, 'highlight_subsample': 0.7316363245508793, 'highlight_colsample_bytree': 0.8786550952787087, 'highlight_reg_alpha': 0.030037650631292077, 'highlight_reg_lambda': 0.9692790463477651, 'final_max_depth': 8, 'final_learning_rate': 0.015881235564064067, 'final_n_estimators': 168, 'final_subsample': 0.7325943293126888, 'final_colsample_bytree': 0.7465859626528043, 'final_reg_alpha': 0.16115695829206633, 'final_reg_lambda': 0.0010476045539284866, 'weight_original': 0.5955923643974057, 'weight_blackmask': 0.2848527983308866, 'weight_highlight': 0.9248135273516246, 'weight_final': 1.3040487144820427, 'adaptive_weight_factor': 2.7320228636517934, 'confidence_threshold': 0.8913829239000154, 'threshold_group_0': 0.2582192148595049, 'threshold_group_1': 0.34355934580895825, 'threshold_group_2': 0.30921696338207916, 'threshold_group_3': 0.280157960297516, 'threshold_group_4': 0.3555703742658962}. Best is trial 143 with value: 0.7748151325744147.\n"
     ]
    },
    {
     "name": "stdout",
     "output_type": "stream",
     "text": [
      "Valid labels: 43, Constant labels: 12\n",
      "Training variant-specific models...\n",
      "  Training original model...\n",
      "  Training blackmask model...\n",
      "  Training highlight model...\n",
      "  Training final model...\n",
      "Training advanced variant selector...\n",
      "Trained 43 variant selectors\n"
     ]
    },
    {
     "name": "stderr",
     "output_type": "stream",
     "text": [
      "[I 2025-05-26 22:12:49,629] Trial 146 finished with value: 0.7727735415476495 and parameters: {'original_max_depth': 5, 'original_learning_rate': 0.0734750135084382, 'original_n_estimators': 159, 'original_subsample': 0.7555539739254464, 'original_colsample_bytree': 0.7115443838965273, 'original_reg_alpha': 0.9800400991366196, 'original_reg_lambda': 0.19332714481601682, 'blackmask_max_depth': 5, 'blackmask_learning_rate': 0.03991998401747062, 'blackmask_n_estimators': 184, 'blackmask_subsample': 0.7186728374389637, 'blackmask_colsample_bytree': 0.8723359289036913, 'blackmask_reg_alpha': 0.0025611334411125342, 'blackmask_reg_lambda': 0.01425682306302371, 'highlight_max_depth': 9, 'highlight_learning_rate': 0.019326507091148002, 'highlight_n_estimators': 126, 'highlight_subsample': 0.7339494239335189, 'highlight_colsample_bytree': 0.8920130904865121, 'highlight_reg_alpha': 0.031163772823575908, 'highlight_reg_lambda': 0.9961964195952852, 'final_max_depth': 8, 'final_learning_rate': 0.01785520057609744, 'final_n_estimators': 169, 'final_subsample': 0.7454326105290436, 'final_colsample_bytree': 0.7322348540422976, 'final_reg_alpha': 0.1595581373017837, 'final_reg_lambda': 0.001014174176783076, 'weight_original': 0.576785321243755, 'weight_blackmask': 0.26627231358216397, 'weight_highlight': 0.9615886641030343, 'weight_final': 1.292707797801615, 'adaptive_weight_factor': 2.7491839022003024, 'confidence_threshold': 0.8990559821083322, 'threshold_group_0': 0.2508938251506749, 'threshold_group_1': 0.35480218194360563, 'threshold_group_2': 0.26449307166590286, 'threshold_group_3': 0.2938696089520921, 'threshold_group_4': 0.3479462690182961}. Best is trial 143 with value: 0.7748151325744147.\n"
     ]
    },
    {
     "name": "stdout",
     "output_type": "stream",
     "text": [
      "Valid labels: 43, Constant labels: 12\n",
      "Training variant-specific models...\n",
      "  Training original model...\n",
      "  Training blackmask model...\n",
      "  Training highlight model...\n",
      "  Training final model...\n",
      "Training advanced variant selector...\n",
      "Trained 43 variant selectors\n"
     ]
    },
    {
     "name": "stderr",
     "output_type": "stream",
     "text": [
      "[I 2025-05-26 22:14:51,250] Trial 147 finished with value: 0.7748183811605805 and parameters: {'original_max_depth': 5, 'original_learning_rate': 0.08213410663763884, 'original_n_estimators': 166, 'original_subsample': 0.7337236043281918, 'original_colsample_bytree': 0.7099171951326319, 'original_reg_alpha': 0.8748282441228524, 'original_reg_lambda': 0.12279634174584136, 'blackmask_max_depth': 5, 'blackmask_learning_rate': 0.04209702239387373, 'blackmask_n_estimators': 180, 'blackmask_subsample': 0.7039324562996043, 'blackmask_colsample_bytree': 0.8442743626661718, 'blackmask_reg_alpha': 0.0029938527647272316, 'blackmask_reg_lambda': 0.008506018336166333, 'highlight_max_depth': 9, 'highlight_learning_rate': 0.01812326867434289, 'highlight_n_estimators': 121, 'highlight_subsample': 0.740692480793825, 'highlight_colsample_bytree': 0.8788857794536288, 'highlight_reg_alpha': 0.33447250721387284, 'highlight_reg_lambda': 0.013066180993075903, 'final_max_depth': 8, 'final_learning_rate': 0.015740173582343253, 'final_n_estimators': 155, 'final_subsample': 0.7328793558843328, 'final_colsample_bytree': 0.7483075926832206, 'final_reg_alpha': 0.12239650367148774, 'final_reg_lambda': 0.0014051522330157, 'weight_original': 0.666049393689147, 'weight_blackmask': 0.3102621844907556, 'weight_highlight': 1.0288691989423353, 'weight_final': 1.3076367453686102, 'adaptive_weight_factor': 2.724837545781562, 'confidence_threshold': 0.8907259385121578, 'threshold_group_0': 0.2500307987426977, 'threshold_group_1': 0.33871657569223024, 'threshold_group_2': 0.3023001597558428, 'threshold_group_3': 0.2804401747762486, 'threshold_group_4': 0.37431067167485993}. Best is trial 147 with value: 0.7748183811605805.\n"
     ]
    },
    {
     "name": "stdout",
     "output_type": "stream",
     "text": [
      "Valid labels: 43, Constant labels: 12\n",
      "Training variant-specific models...\n",
      "  Training original model...\n",
      "  Training blackmask model...\n",
      "  Training highlight model...\n",
      "  Training final model...\n",
      "Training advanced variant selector...\n",
      "Trained 43 variant selectors\n"
     ]
    },
    {
     "name": "stderr",
     "output_type": "stream",
     "text": [
      "[I 2025-05-26 22:16:52,582] Trial 148 finished with value: 0.7656553516047501 and parameters: {'original_max_depth': 5, 'original_learning_rate': 0.09077956098473584, 'original_n_estimators': 166, 'original_subsample': 0.7325425948727385, 'original_colsample_bytree': 0.7006474603247891, 'original_reg_alpha': 0.8867908266328883, 'original_reg_lambda': 0.08701736177539882, 'blackmask_max_depth': 5, 'blackmask_learning_rate': 0.04365674321332492, 'blackmask_n_estimators': 180, 'blackmask_subsample': 0.7082683527879882, 'blackmask_colsample_bytree': 0.8396003616163134, 'blackmask_reg_alpha': 0.003153975241121097, 'blackmask_reg_lambda': 0.008555399336624425, 'highlight_max_depth': 9, 'highlight_learning_rate': 0.18643464263536735, 'highlight_n_estimators': 132, 'highlight_subsample': 0.7398209207102793, 'highlight_colsample_bytree': 0.8783204033379984, 'highlight_reg_alpha': 0.3447867440627856, 'highlight_reg_lambda': 0.032921723269860405, 'final_max_depth': 8, 'final_learning_rate': 0.015741332139443853, 'final_n_estimators': 157, 'final_subsample': 0.7343741573030333, 'final_colsample_bytree': 0.7418675866490987, 'final_reg_alpha': 0.1253747537034613, 'final_reg_lambda': 0.0011274776792777608, 'weight_original': 0.6657292103824475, 'weight_blackmask': 0.3022025769712804, 'weight_highlight': 1.1327323721801168, 'weight_final': 1.2584598525146777, 'adaptive_weight_factor': 2.7204939262329173, 'confidence_threshold': 0.8972009848220457, 'threshold_group_0': 0.250247882189139, 'threshold_group_1': 0.3445673377236532, 'threshold_group_2': 0.3007516902949198, 'threshold_group_3': 0.32186327071536436, 'threshold_group_4': 0.37638412777970204}. Best is trial 147 with value: 0.7748183811605805.\n"
     ]
    },
    {
     "name": "stdout",
     "output_type": "stream",
     "text": [
      "Valid labels: 43, Constant labels: 12\n",
      "Training variant-specific models...\n",
      "  Training original model...\n",
      "  Training blackmask model...\n",
      "  Training highlight model...\n",
      "  Training final model...\n",
      "Training advanced variant selector...\n",
      "Trained 43 variant selectors\n"
     ]
    },
    {
     "name": "stderr",
     "output_type": "stream",
     "text": [
      "[I 2025-05-26 22:19:12,007] Trial 149 finished with value: 0.7727534854427442 and parameters: {'original_max_depth': 5, 'original_learning_rate': 0.08231765141416751, 'original_n_estimators': 168, 'original_subsample': 0.7497942100456367, 'original_colsample_bytree': 0.7097463007621129, 'original_reg_alpha': 0.9695034763461499, 'original_reg_lambda': 0.12542748421071356, 'blackmask_max_depth': 5, 'blackmask_learning_rate': 0.040089409638924246, 'blackmask_n_estimators': 183, 'blackmask_subsample': 0.7057012492176653, 'blackmask_colsample_bytree': 0.8475310373351236, 'blackmask_reg_alpha': 0.0028803748355109827, 'blackmask_reg_lambda': 0.010897814053782363, 'highlight_max_depth': 9, 'highlight_learning_rate': 0.018315212718925295, 'highlight_n_estimators': 269, 'highlight_subsample': 0.7203020669415452, 'highlight_colsample_bytree': 0.8851640754516884, 'highlight_reg_alpha': 0.26156242554943315, 'highlight_reg_lambda': 0.010470602499927721, 'final_max_depth': 8, 'final_learning_rate': 0.01570152251984119, 'final_n_estimators': 162, 'final_subsample': 0.7571839642443637, 'final_colsample_bytree': 0.7489767419860549, 'final_reg_alpha': 0.15547111027868765, 'final_reg_lambda': 0.0013805392857607385, 'weight_original': 0.7129508083680652, 'weight_blackmask': 0.2847730143853815, 'weight_highlight': 1.0314203965458435, 'weight_final': 1.299006252357016, 'adaptive_weight_factor': 2.684830279598543, 'confidence_threshold': 0.8883446304366063, 'threshold_group_0': 0.2691383583064872, 'threshold_group_1': 0.3381625077257302, 'threshold_group_2': 0.3151568885553453, 'threshold_group_3': 0.28059391122147154, 'threshold_group_4': 0.35766309191588813}. Best is trial 147 with value: 0.7748183811605805.\n"
     ]
    },
    {
     "name": "stdout",
     "output_type": "stream",
     "text": [
      "Valid labels: 43, Constant labels: 12\n",
      "Training variant-specific models...\n",
      "  Training original model...\n",
      "  Training blackmask model...\n",
      "  Training highlight model...\n",
      "  Training final model...\n",
      "Training advanced variant selector...\n",
      "Trained 43 variant selectors\n"
     ]
    },
    {
     "name": "stderr",
     "output_type": "stream",
     "text": [
      "[I 2025-05-26 22:21:11,321] Trial 150 finished with value: 0.7733744934578806 and parameters: {'original_max_depth': 5, 'original_learning_rate': 0.07801005697482997, 'original_n_estimators': 171, 'original_subsample': 0.7201647188299957, 'original_colsample_bytree': 0.7107524073876257, 'original_reg_alpha': 0.7100437189755505, 'original_reg_lambda': 0.13715327982356976, 'blackmask_max_depth': 5, 'blackmask_learning_rate': 0.04819565422610954, 'blackmask_n_estimators': 153, 'blackmask_subsample': 0.7483974949055402, 'blackmask_colsample_bytree': 0.8542064342571719, 'blackmask_reg_alpha': 0.0023320915748929966, 'blackmask_reg_lambda': 0.007367703573190197, 'highlight_max_depth': 9, 'highlight_learning_rate': 0.017507473282877953, 'highlight_n_estimators': 118, 'highlight_subsample': 0.7431957412013922, 'highlight_colsample_bytree': 0.8975733368374623, 'highlight_reg_alpha': 0.02354156991427895, 'highlight_reg_lambda': 0.5621653382325152, 'final_max_depth': 8, 'final_learning_rate': 0.019846705072805157, 'final_n_estimators': 154, 'final_subsample': 0.7288385938435268, 'final_colsample_bytree': 0.7615379003185815, 'final_reg_alpha': 0.07435634707593237, 'final_reg_lambda': 0.0011118532510458617, 'weight_original': 0.6024303862164502, 'weight_blackmask': 0.23284535831013192, 'weight_highlight': 0.9277602794101547, 'weight_final': 1.2029401892632061, 'adaptive_weight_factor': 2.626488414014984, 'confidence_threshold': 0.8758726038691472, 'threshold_group_0': 0.29784389605651734, 'threshold_group_1': 0.32134960571523913, 'threshold_group_2': 0.2881715634851428, 'threshold_group_3': 0.2980041957009193, 'threshold_group_4': 0.3703892491711168}. Best is trial 147 with value: 0.7748183811605805.\n"
     ]
    },
    {
     "name": "stdout",
     "output_type": "stream",
     "text": [
      "Valid labels: 43, Constant labels: 12\n",
      "Training variant-specific models...\n",
      "  Training original model...\n",
      "  Training blackmask model...\n",
      "  Training highlight model...\n",
      "  Training final model...\n",
      "Training advanced variant selector...\n",
      "Trained 43 variant selectors\n"
     ]
    },
    {
     "name": "stderr",
     "output_type": "stream",
     "text": [
      "[I 2025-05-26 22:23:13,026] Trial 151 finished with value: 0.7749754128504198 and parameters: {'original_max_depth': 5, 'original_learning_rate': 0.0668323140735643, 'original_n_estimators': 164, 'original_subsample': 0.7372762903021085, 'original_colsample_bytree': 0.7162840641751531, 'original_reg_alpha': 0.8623981735855738, 'original_reg_lambda': 0.11077490684262578, 'blackmask_max_depth': 5, 'blackmask_learning_rate': 0.038143789558335105, 'blackmask_n_estimators': 179, 'blackmask_subsample': 0.7209246617096162, 'blackmask_colsample_bytree': 0.7920631169051803, 'blackmask_reg_alpha': 0.0035555872831605695, 'blackmask_reg_lambda': 0.010329774016905047, 'highlight_max_depth': 9, 'highlight_learning_rate': 0.017317929598882148, 'highlight_n_estimators': 123, 'highlight_subsample': 0.7318851394400259, 'highlight_colsample_bytree': 0.8777371621725457, 'highlight_reg_alpha': 0.43087920000268093, 'highlight_reg_lambda': 0.014319853371277358, 'final_max_depth': 8, 'final_learning_rate': 0.01811188910429041, 'final_n_estimators': 154, 'final_subsample': 0.7442802878122897, 'final_colsample_bytree': 0.7476228291445546, 'final_reg_alpha': 0.2390318827174944, 'final_reg_lambda': 0.001434549243053519, 'weight_original': 0.6045391694402626, 'weight_blackmask': 0.2810740886761733, 'weight_highlight': 0.9574847309266799, 'weight_final': 1.321288065027448, 'adaptive_weight_factor': 2.758258195445533, 'confidence_threshold': 0.8828209389305707, 'threshold_group_0': 0.2607167242194277, 'threshold_group_1': 0.30808378843554013, 'threshold_group_2': 0.30779225348746314, 'threshold_group_3': 0.2731471007932679, 'threshold_group_4': 0.33387294237176135}. Best is trial 151 with value: 0.7749754128504198.\n"
     ]
    },
    {
     "name": "stdout",
     "output_type": "stream",
     "text": [
      "Valid labels: 43, Constant labels: 12\n",
      "Training variant-specific models...\n",
      "  Training original model...\n",
      "  Training blackmask model...\n",
      "  Training highlight model...\n",
      "  Training final model...\n",
      "Training advanced variant selector...\n",
      "Trained 43 variant selectors\n"
     ]
    },
    {
     "name": "stderr",
     "output_type": "stream",
     "text": [
      "[I 2025-05-26 22:25:16,039] Trial 152 finished with value: 0.7745516184625394 and parameters: {'original_max_depth': 5, 'original_learning_rate': 0.0708809519134427, 'original_n_estimators': 161, 'original_subsample': 0.7365608034016807, 'original_colsample_bytree': 0.7161453999893833, 'original_reg_alpha': 0.8752403713649443, 'original_reg_lambda': 0.09399729324186946, 'blackmask_max_depth': 5, 'blackmask_learning_rate': 0.04198254583414471, 'blackmask_n_estimators': 179, 'blackmask_subsample': 0.7200329589649914, 'blackmask_colsample_bytree': 0.79166668271664, 'blackmask_reg_alpha': 0.003500045690679587, 'blackmask_reg_lambda': 0.012948489524771602, 'highlight_max_depth': 9, 'highlight_learning_rate': 0.0196503207626451, 'highlight_n_estimators': 126, 'highlight_subsample': 0.728716865187264, 'highlight_colsample_bytree': 0.8789219241805354, 'highlight_reg_alpha': 0.30546902679911186, 'highlight_reg_lambda': 0.013892986427655709, 'final_max_depth': 8, 'final_learning_rate': 0.01855818281465056, 'final_n_estimators': 169, 'final_subsample': 0.7401575145099393, 'final_colsample_bytree': 0.7464681676785806, 'final_reg_alpha': 0.17508796758982698, 'final_reg_lambda': 0.0014301640282573247, 'weight_original': 0.6000416095866238, 'weight_blackmask': 0.3422134262975251, 'weight_highlight': 0.9756060927674749, 'weight_final': 1.300858630002245, 'adaptive_weight_factor': 2.7441518051720983, 'confidence_threshold': 0.8848530375738302, 'threshold_group_0': 0.2695430413487541, 'threshold_group_1': 0.3072555969952557, 'threshold_group_2': 0.3129049675586483, 'threshold_group_3': 0.28421088933793576, 'threshold_group_4': 0.3388517562558463}. Best is trial 151 with value: 0.7749754128504198.\n"
     ]
    },
    {
     "name": "stdout",
     "output_type": "stream",
     "text": [
      "Valid labels: 43, Constant labels: 12\n",
      "Training variant-specific models...\n",
      "  Training original model...\n",
      "  Training blackmask model...\n",
      "  Training highlight model...\n",
      "  Training final model...\n",
      "Training advanced variant selector...\n",
      "Trained 43 variant selectors\n"
     ]
    },
    {
     "name": "stderr",
     "output_type": "stream",
     "text": [
      "[I 2025-05-26 22:27:14,654] Trial 153 finished with value: 0.7735753611624971 and parameters: {'original_max_depth': 5, 'original_learning_rate': 0.06041667522968588, 'original_n_estimators': 152, 'original_subsample': 0.7347758919050146, 'original_colsample_bytree': 0.7169247356218571, 'original_reg_alpha': 0.7843904236792644, 'original_reg_lambda': 0.09275708227782677, 'blackmask_max_depth': 5, 'blackmask_learning_rate': 0.04401080772094, 'blackmask_n_estimators': 179, 'blackmask_subsample': 0.7333376063148299, 'blackmask_colsample_bytree': 0.7896692154627467, 'blackmask_reg_alpha': 0.0037913894432215723, 'blackmask_reg_lambda': 0.00985648229798081, 'highlight_max_depth': 9, 'highlight_learning_rate': 0.019464850288915737, 'highlight_n_estimators': 122, 'highlight_subsample': 0.7227892389209057, 'highlight_colsample_bytree': 0.8602129331894675, 'highlight_reg_alpha': 0.4318099855872397, 'highlight_reg_lambda': 0.015436265937726956, 'final_max_depth': 8, 'final_learning_rate': 0.023320543503526674, 'final_n_estimators': 160, 'final_subsample': 0.7407424274659565, 'final_colsample_bytree': 0.7576731360107651, 'final_reg_alpha': 0.2260919620956016, 'final_reg_lambda': 0.0014442447353462797, 'weight_original': 0.6324301819388509, 'weight_blackmask': 0.3491505388021669, 'weight_highlight': 0.9727355634256988, 'weight_final': 1.2625970758384761, 'adaptive_weight_factor': 2.7692095976566464, 'confidence_threshold': 0.8815232742065464, 'threshold_group_0': 0.2712701958405642, 'threshold_group_1': 0.3066067779033784, 'threshold_group_2': 0.32950456371351006, 'threshold_group_3': 0.2916974751247702, 'threshold_group_4': 0.33674947728450494}. Best is trial 151 with value: 0.7749754128504198.\n"
     ]
    },
    {
     "name": "stdout",
     "output_type": "stream",
     "text": [
      "Valid labels: 43, Constant labels: 12\n",
      "Training variant-specific models...\n",
      "  Training original model...\n",
      "  Training blackmask model...\n",
      "  Training highlight model...\n",
      "  Training final model...\n",
      "Training advanced variant selector...\n",
      "Trained 43 variant selectors\n"
     ]
    },
    {
     "name": "stderr",
     "output_type": "stream",
     "text": [
      "[I 2025-05-26 22:29:13,200] Trial 154 finished with value: 0.7739739091146562 and parameters: {'original_max_depth': 5, 'original_learning_rate': 0.06818183309410156, 'original_n_estimators': 160, 'original_subsample': 0.7409705131952451, 'original_colsample_bytree': 0.7050456844378296, 'original_reg_alpha': 0.6393693307363089, 'original_reg_lambda': 0.07413983988819602, 'blackmask_max_depth': 5, 'blackmask_learning_rate': 0.048342880699950054, 'blackmask_n_estimators': 161, 'blackmask_subsample': 0.7189798099722742, 'blackmask_colsample_bytree': 0.7807661048071552, 'blackmask_reg_alpha': 0.0032185977348428187, 'blackmask_reg_lambda': 0.012644647306211657, 'highlight_max_depth': 9, 'highlight_learning_rate': 0.018237578728996062, 'highlight_n_estimators': 117, 'highlight_subsample': 0.7303200215682261, 'highlight_colsample_bytree': 0.8542154695095546, 'highlight_reg_alpha': 0.5408011081914836, 'highlight_reg_lambda': 0.007672007979304553, 'final_max_depth': 8, 'final_learning_rate': 0.018204127126106105, 'final_n_estimators': 154, 'final_subsample': 0.7495810066408716, 'final_colsample_bytree': 0.7377112646522829, 'final_reg_alpha': 0.25342087544868275, 'final_reg_lambda': 0.0015685124948628215, 'weight_original': 0.6504918616662583, 'weight_blackmask': 0.31281495274228643, 'weight_highlight': 1.0151844783155703, 'weight_final': 1.3211738483254667, 'adaptive_weight_factor': 2.7948568829640754, 'confidence_threshold': 0.8592989720167192, 'threshold_group_0': 0.27897734599276414, 'threshold_group_1': 0.31762703454908914, 'threshold_group_2': 0.3063819046639361, 'threshold_group_3': 0.2725132666623832, 'threshold_group_4': 0.3461626106091281}. Best is trial 151 with value: 0.7749754128504198.\n"
     ]
    },
    {
     "name": "stdout",
     "output_type": "stream",
     "text": [
      "Valid labels: 43, Constant labels: 12\n",
      "Training variant-specific models...\n",
      "  Training original model...\n",
      "  Training blackmask model...\n",
      "  Training highlight model...\n",
      "  Training final model...\n",
      "Training advanced variant selector...\n",
      "Trained 43 variant selectors\n"
     ]
    },
    {
     "name": "stderr",
     "output_type": "stream",
     "text": [
      "[I 2025-05-26 22:31:15,013] Trial 155 finished with value: 0.767618437432362 and parameters: {'original_max_depth': 5, 'original_learning_rate': 0.07630096416717613, 'original_n_estimators': 161, 'original_subsample': 0.7424380970556194, 'original_colsample_bytree': 0.7311370077922201, 'original_reg_alpha': 0.6312528148301491, 'original_reg_lambda': 0.25107166387429486, 'blackmask_max_depth': 5, 'blackmask_learning_rate': 0.04819037722328413, 'blackmask_n_estimators': 161, 'blackmask_subsample': 0.7255126632307024, 'blackmask_colsample_bytree': 0.7801670628022931, 'blackmask_reg_alpha': 0.002951852647697804, 'blackmask_reg_lambda': 0.012543499903956735, 'highlight_max_depth': 9, 'highlight_learning_rate': 0.01729604381758395, 'highlight_n_estimators': 137, 'highlight_subsample': 0.7487769351117487, 'highlight_colsample_bytree': 0.8531893499937582, 'highlight_reg_alpha': 0.5125364806031919, 'highlight_reg_lambda': 0.005624425258922885, 'final_max_depth': 8, 'final_learning_rate': 0.014669785572733397, 'final_n_estimators': 157, 'final_subsample': 0.7486227852722701, 'final_colsample_bytree': 0.7299651482230154, 'final_reg_alpha': 0.10889395783369589, 'final_reg_lambda': 0.0015887714514197051, 'weight_original': 0.656587811894915, 'weight_blackmask': 0.32618403153878495, 'weight_highlight': 1.0074376643656633, 'weight_final': 1.3088981572639184, 'adaptive_weight_factor': 2.684658646438233, 'confidence_threshold': 0.867383998381611, 'threshold_group_0': 0.4701052017049148, 'threshold_group_1': 0.31795677269187667, 'threshold_group_2': 0.2939760488075363, 'threshold_group_3': 0.2733312647563024, 'threshold_group_4': 0.32510599931580575}. Best is trial 151 with value: 0.7749754128504198.\n"
     ]
    },
    {
     "name": "stdout",
     "output_type": "stream",
     "text": [
      "Valid labels: 43, Constant labels: 12\n",
      "Training variant-specific models...\n",
      "  Training original model...\n",
      "  Training blackmask model...\n",
      "  Training highlight model...\n",
      "  Training final model...\n",
      "Training advanced variant selector...\n",
      "Trained 43 variant selectors\n"
     ]
    },
    {
     "name": "stderr",
     "output_type": "stream",
     "text": [
      "[I 2025-05-26 22:33:11,772] Trial 156 finished with value: 0.7727128168865707 and parameters: {'original_max_depth': 5, 'original_learning_rate': 0.08738794325328166, 'original_n_estimators': 148, 'original_subsample': 0.7600857036667465, 'original_colsample_bytree': 0.7022340209524932, 'original_reg_alpha': 0.8207079911897824, 'original_reg_lambda': 0.06707141080614887, 'blackmask_max_depth': 5, 'blackmask_learning_rate': 0.041330741316364765, 'blackmask_n_estimators': 156, 'blackmask_subsample': 0.7128790816092692, 'blackmask_colsample_bytree': 0.7909624675729098, 'blackmask_reg_alpha': 0.0022763932283026275, 'blackmask_reg_lambda': 0.016201672708007087, 'highlight_max_depth': 9, 'highlight_learning_rate': 0.01964544740524433, 'highlight_n_estimators': 116, 'highlight_subsample': 0.740418436502093, 'highlight_colsample_bytree': 0.8791228344319288, 'highlight_reg_alpha': 0.7331245594112701, 'highlight_reg_lambda': 0.015693528352186962, 'final_max_depth': 8, 'final_learning_rate': 0.018113974708177567, 'final_n_estimators': 167, 'final_subsample': 0.7642520151493076, 'final_colsample_bytree': 0.7663978308568493, 'final_reg_alpha': 0.28440560173706886, 'final_reg_lambda': 0.0012748019817982765, 'weight_original': 0.6846146282354999, 'weight_blackmask': 0.40320442730385664, 'weight_highlight': 1.0495443141165548, 'weight_final': 1.2689284586587475, 'adaptive_weight_factor': 2.7597019406333483, 'confidence_threshold': 0.8597781135334722, 'threshold_group_0': 0.282251131347952, 'threshold_group_1': 0.3026130092365686, 'threshold_group_2': 0.30751316188969524, 'threshold_group_3': 0.2843180076969601, 'threshold_group_4': 0.2632577103544044}. Best is trial 151 with value: 0.7749754128504198.\n"
     ]
    },
    {
     "name": "stdout",
     "output_type": "stream",
     "text": [
      "Valid labels: 43, Constant labels: 12\n",
      "Training variant-specific models...\n",
      "  Training original model...\n",
      "  Training blackmask model...\n",
      "  Training highlight model...\n",
      "  Training final model...\n",
      "Training advanced variant selector...\n",
      "Trained 43 variant selectors\n"
     ]
    },
    {
     "name": "stderr",
     "output_type": "stream",
     "text": [
      "[I 2025-05-26 22:35:12,690] Trial 157 finished with value: 0.7731810241800591 and parameters: {'original_max_depth': 5, 'original_learning_rate': 0.06406834961049311, 'original_n_estimators': 154, 'original_subsample': 0.7380784213781916, 'original_colsample_bytree': 0.7163483477989194, 'original_reg_alpha': 0.9997737971565288, 'original_reg_lambda': 0.15692464212435786, 'blackmask_max_depth': 5, 'blackmask_learning_rate': 0.03789319303233837, 'blackmask_n_estimators': 169, 'blackmask_subsample': 0.7040669787162388, 'blackmask_colsample_bytree': 0.7677350535242379, 'blackmask_reg_alpha': 0.0037816582218686235, 'blackmask_reg_lambda': 0.008076155761033406, 'highlight_max_depth': 9, 'highlight_learning_rate': 0.018019688664258904, 'highlight_n_estimators': 127, 'highlight_subsample': 0.7264225063306482, 'highlight_colsample_bytree': 0.863723147140983, 'highlight_reg_alpha': 0.38096043899739135, 'highlight_reg_lambda': 0.008611202488590566, 'final_max_depth': 9, 'final_learning_rate': 0.020696798540447987, 'final_n_estimators': 162, 'final_subsample': 0.7585342756484176, 'final_colsample_bytree': 0.7515837791175811, 'final_reg_alpha': 0.2541312869843675, 'final_reg_lambda': 0.001427208495462278, 'weight_original': 0.6214275322332232, 'weight_blackmask': 0.23991980338634264, 'weight_highlight': 1.086930132002954, 'weight_final': 1.3309267424376894, 'adaptive_weight_factor': 2.6572047169967115, 'confidence_threshold': 0.8938577182984853, 'threshold_group_0': 0.2708302542165703, 'threshold_group_1': 0.32284668948255224, 'threshold_group_2': 0.3186106248701638, 'threshold_group_3': 0.27014607500647625, 'threshold_group_4': 0.3347031166217078}. Best is trial 151 with value: 0.7749754128504198.\n"
     ]
    },
    {
     "name": "stdout",
     "output_type": "stream",
     "text": [
      "Valid labels: 43, Constant labels: 12\n",
      "Training variant-specific models...\n",
      "  Training original model...\n",
      "  Training blackmask model...\n",
      "  Training highlight model...\n",
      "  Training final model...\n",
      "Training advanced variant selector...\n",
      "Trained 43 variant selectors\n"
     ]
    },
    {
     "name": "stderr",
     "output_type": "stream",
     "text": [
      "[I 2025-05-26 22:37:05,807] Trial 158 finished with value: 0.7729130976047263 and parameters: {'original_max_depth': 5, 'original_learning_rate': 0.037906246359457156, 'original_n_estimators': 160, 'original_subsample': 0.7704875639789676, 'original_colsample_bytree': 0.7000011639192192, 'original_reg_alpha': 0.516006714562905, 'original_reg_lambda': 0.7969584893391762, 'blackmask_max_depth': 5, 'blackmask_learning_rate': 0.041955079550935484, 'blackmask_n_estimators': 167, 'blackmask_subsample': 0.7367598622961594, 'blackmask_colsample_bytree': 0.7836714782184437, 'blackmask_reg_alpha': 0.00276463686576566, 'blackmask_reg_lambda': 0.006913710472075638, 'highlight_max_depth': 9, 'highlight_learning_rate': 0.018466407255307186, 'highlight_n_estimators': 122, 'highlight_subsample': 0.7994993423242759, 'highlight_colsample_bytree': 0.8934032372573998, 'highlight_reg_alpha': 0.3174686068262663, 'highlight_reg_lambda': 0.019590541095216556, 'final_max_depth': 8, 'final_learning_rate': 0.018140809624602967, 'final_n_estimators': 150, 'final_subsample': 0.7391144342579875, 'final_colsample_bytree': 0.7387669438001557, 'final_reg_alpha': 0.1812540356605349, 'final_reg_lambda': 0.0016839189325183507, 'weight_original': 0.7061434359739183, 'weight_blackmask': 0.3568339807506782, 'weight_highlight': 1.004614299975881, 'weight_final': 1.350912809773582, 'adaptive_weight_factor': 2.606557127189246, 'confidence_threshold': 0.8852083252559537, 'threshold_group_0': 0.2940036732542031, 'threshold_group_1': 0.30976483276126066, 'threshold_group_2': 0.2906163997370934, 'threshold_group_3': 0.29533439758579755, 'threshold_group_4': 0.34725291911054795}. Best is trial 151 with value: 0.7749754128504198.\n"
     ]
    },
    {
     "name": "stdout",
     "output_type": "stream",
     "text": [
      "Valid labels: 43, Constant labels: 12\n",
      "Training variant-specific models...\n",
      "  Training original model...\n",
      "  Training blackmask model...\n",
      "  Training highlight model...\n",
      "  Training final model...\n",
      "Training advanced variant selector...\n",
      "Trained 43 variant selectors\n"
     ]
    },
    {
     "name": "stderr",
     "output_type": "stream",
     "text": [
      "[I 2025-05-26 22:38:59,621] Trial 159 finished with value: 0.7716661125916466 and parameters: {'original_max_depth': 5, 'original_learning_rate': 0.07201290052363422, 'original_n_estimators': 165, 'original_subsample': 0.7123013148209276, 'original_colsample_bytree': 0.7079289139899853, 'original_reg_alpha': 0.6742058373741344, 'original_reg_lambda': 0.10346715031786975, 'blackmask_max_depth': 5, 'blackmask_learning_rate': 0.035964954651292326, 'blackmask_n_estimators': 150, 'blackmask_subsample': 0.7220613128835325, 'blackmask_colsample_bytree': 0.7932209883839196, 'blackmask_reg_alpha': 0.0033961251876584364, 'blackmask_reg_lambda': 0.009810848742588677, 'highlight_max_depth': 9, 'highlight_learning_rate': 0.017198353283622455, 'highlight_n_estimators': 113, 'highlight_subsample': 0.7175994850151682, 'highlight_colsample_bytree': 0.8767504571642805, 'highlight_reg_alpha': 0.24224817193705112, 'highlight_reg_lambda': 0.007112096064564194, 'final_max_depth': 8, 'final_learning_rate': 0.013908024554969884, 'final_n_estimators': 171, 'final_subsample': 0.7525419054174497, 'final_colsample_bytree': 0.7597911671382958, 'final_reg_alpha': 0.2447800913178406, 'final_reg_lambda': 0.0011726582263356018, 'weight_original': 0.5411525627072383, 'weight_blackmask': 0.3081909284091181, 'weight_highlight': 0.8801054006870521, 'weight_final': 1.131986315954011, 'adaptive_weight_factor': 2.7237773757955277, 'confidence_threshold': 0.873121467879403, 'threshold_group_0': 0.2823831535378975, 'threshold_group_1': 0.35506716096567054, 'threshold_group_2': 0.26926180113403125, 'threshold_group_3': 0.3066287850491636, 'threshold_group_4': 0.30013989893773985}. Best is trial 151 with value: 0.7749754128504198.\n"
     ]
    },
    {
     "name": "stdout",
     "output_type": "stream",
     "text": [
      "Valid labels: 43, Constant labels: 12\n",
      "Training variant-specific models...\n",
      "  Training original model...\n",
      "  Training blackmask model...\n",
      "  Training highlight model...\n",
      "  Training final model...\n",
      "Training advanced variant selector...\n",
      "Trained 43 variant selectors\n"
     ]
    },
    {
     "name": "stderr",
     "output_type": "stream",
     "text": [
      "[I 2025-05-26 22:41:01,626] Trial 160 finished with value: 0.7744790911995199 and parameters: {'original_max_depth': 5, 'original_learning_rate': 0.08031542407346774, 'original_n_estimators': 165, 'original_subsample': 0.7287742187111759, 'original_colsample_bytree': 0.7299839869303936, 'original_reg_alpha': 0.8369244367353541, 'original_reg_lambda': 0.18633299130446399, 'blackmask_max_depth': 5, 'blackmask_learning_rate': 0.04564280966278873, 'blackmask_n_estimators': 172, 'blackmask_subsample': 0.7103172083601892, 'blackmask_colsample_bytree': 0.864907532004791, 'blackmask_reg_alpha': 0.004851815214269253, 'blackmask_reg_lambda': 0.0054131813636083366, 'highlight_max_depth': 9, 'highlight_learning_rate': 0.01757821434364802, 'highlight_n_estimators': 132, 'highlight_subsample': 0.7513329677881015, 'highlight_colsample_bytree': 0.9016746171585456, 'highlight_reg_alpha': 0.5332364103565265, 'highlight_reg_lambda': 0.010521981774153607, 'final_max_depth': 8, 'final_learning_rate': 0.016265749238701194, 'final_n_estimators': 155, 'final_subsample': 0.7438297329974781, 'final_colsample_bytree': 0.7196846689081403, 'final_reg_alpha': 0.12619510193085545, 'final_reg_lambda': 0.0014297904523069471, 'weight_original': 0.4977835754449307, 'weight_blackmask': 0.2708030586972634, 'weight_highlight': 0.9050938649219269, 'weight_final': 1.0677654267776175, 'adaptive_weight_factor': 2.788229025572843, 'confidence_threshold': 0.8805161063237534, 'threshold_group_0': 0.2605784926988728, 'threshold_group_1': 0.328474122223787, 'threshold_group_2': 0.33875039492655684, 'threshold_group_3': 0.2865895942035801, 'threshold_group_4': 0.34625346955322805}. Best is trial 151 with value: 0.7749754128504198.\n"
     ]
    },
    {
     "name": "stdout",
     "output_type": "stream",
     "text": [
      "Valid labels: 43, Constant labels: 12\n",
      "Training variant-specific models...\n",
      "  Training original model...\n",
      "  Training blackmask model...\n",
      "  Training highlight model...\n",
      "  Training final model...\n",
      "Training advanced variant selector...\n",
      "Trained 43 variant selectors\n"
     ]
    },
    {
     "name": "stderr",
     "output_type": "stream",
     "text": [
      "[I 2025-05-26 22:43:03,227] Trial 161 finished with value: 0.7751989903287179 and parameters: {'original_max_depth': 5, 'original_learning_rate': 0.08238942185207676, 'original_n_estimators': 165, 'original_subsample': 0.7290021096243464, 'original_colsample_bytree': 0.7168036261052153, 'original_reg_alpha': 0.8899098578876299, 'original_reg_lambda': 0.1904703382643971, 'blackmask_max_depth': 5, 'blackmask_learning_rate': 0.049252819603733414, 'blackmask_n_estimators': 172, 'blackmask_subsample': 0.7112952113701047, 'blackmask_colsample_bytree': 0.8637935796088003, 'blackmask_reg_alpha': 0.002407615672586889, 'blackmask_reg_lambda': 0.008281949245908604, 'highlight_max_depth': 9, 'highlight_learning_rate': 0.017274634759707162, 'highlight_n_estimators': 132, 'highlight_subsample': 0.7358435073680899, 'highlight_colsample_bytree': 0.9014681386013553, 'highlight_reg_alpha': 0.5745525252578371, 'highlight_reg_lambda': 0.009309370718441274, 'final_max_depth': 8, 'final_learning_rate': 0.016251953713957542, 'final_n_estimators': 155, 'final_subsample': 0.7454079803343767, 'final_colsample_bytree': 0.7212962960105358, 'final_reg_alpha': 0.12420343371761824, 'final_reg_lambda': 0.0014074259049598374, 'weight_original': 0.6058525670194396, 'weight_blackmask': 0.27626685329272727, 'weight_highlight': 0.9492513633783402, 'weight_final': 1.200626001024593, 'adaptive_weight_factor': 2.7957746904839373, 'confidence_threshold': 0.8818939254088665, 'threshold_group_0': 0.2630319074958613, 'threshold_group_1': 0.3186542496049299, 'threshold_group_2': 0.3424657377266836, 'threshold_group_3': 0.28546055507904633, 'threshold_group_4': 0.34964371880864886}. Best is trial 161 with value: 0.7751989903287179.\n"
     ]
    },
    {
     "name": "stdout",
     "output_type": "stream",
     "text": [
      "Valid labels: 43, Constant labels: 12\n",
      "Training variant-specific models...\n",
      "  Training original model...\n",
      "  Training blackmask model...\n",
      "  Training highlight model...\n",
      "  Training final model...\n",
      "Training advanced variant selector...\n",
      "Trained 43 variant selectors\n"
     ]
    },
    {
     "name": "stderr",
     "output_type": "stream",
     "text": [
      "[I 2025-05-26 22:45:04,485] Trial 162 finished with value: 0.7695599920323186 and parameters: {'original_max_depth': 5, 'original_learning_rate': 0.08396846198773034, 'original_n_estimators': 163, 'original_subsample': 0.7224446581583861, 'original_colsample_bytree': 0.7306160688980705, 'original_reg_alpha': 0.8519448036729512, 'original_reg_lambda': 0.22162693308810316, 'blackmask_max_depth': 5, 'blackmask_learning_rate': 0.05018915848101608, 'blackmask_n_estimators': 172, 'blackmask_subsample': 0.711516646660535, 'blackmask_colsample_bytree': 0.8625204649419537, 'blackmask_reg_alpha': 0.0018286498159694002, 'blackmask_reg_lambda': 0.008532244243748655, 'highlight_max_depth': 9, 'highlight_learning_rate': 0.017256666356530483, 'highlight_n_estimators': 131, 'highlight_subsample': 0.7513493474497777, 'highlight_colsample_bytree': 0.9039698605668725, 'highlight_reg_alpha': 0.5150794495499919, 'highlight_reg_lambda': 0.01299517430574251, 'final_max_depth': 8, 'final_learning_rate': 0.015342315642955526, 'final_n_estimators': 154, 'final_subsample': 0.7471021399003445, 'final_colsample_bytree': 0.7217339499514217, 'final_reg_alpha': 0.1405913029225403, 'final_reg_lambda': 0.0013728928766444026, 'weight_original': 0.5424497913347698, 'weight_blackmask': 0.27170640840077875, 'weight_highlight': 0.9510288146838571, 'weight_final': 1.0711571817316066, 'adaptive_weight_factor': 2.7464683014864875, 'confidence_threshold': 0.8827434074005974, 'threshold_group_0': 0.42190112469918584, 'threshold_group_1': 0.32899079679628995, 'threshold_group_2': 0.34256409805500865, 'threshold_group_3': 0.28444273742674175, 'threshold_group_4': 0.3466172912594693}. Best is trial 161 with value: 0.7751989903287179.\n"
     ]
    },
    {
     "name": "stdout",
     "output_type": "stream",
     "text": [
      "Valid labels: 43, Constant labels: 12\n",
      "Training variant-specific models...\n",
      "  Training original model...\n",
      "  Training blackmask model...\n",
      "  Training highlight model...\n",
      "  Training final model...\n",
      "Training advanced variant selector...\n",
      "Trained 43 variant selectors\n"
     ]
    },
    {
     "name": "stderr",
     "output_type": "stream",
     "text": [
      "[I 2025-05-26 22:47:22,962] Trial 163 finished with value: 0.7733215888558854 and parameters: {'original_max_depth': 5, 'original_learning_rate': 0.07906432854961438, 'original_n_estimators': 158, 'original_subsample': 0.7300705888334674, 'original_colsample_bytree': 0.715666122257059, 'original_reg_alpha': 0.7285891128130807, 'original_reg_lambda': 0.1965267934815609, 'blackmask_max_depth': 5, 'blackmask_learning_rate': 0.044981588777032684, 'blackmask_n_estimators': 164, 'blackmask_subsample': 0.7196643971188382, 'blackmask_colsample_bytree': 0.8700328013096079, 'blackmask_reg_alpha': 0.0024109259288337794, 'blackmask_reg_lambda': 0.017250776120251936, 'highlight_max_depth': 9, 'highlight_learning_rate': 0.01961757017924391, 'highlight_n_estimators': 279, 'highlight_subsample': 0.7290021057718947, 'highlight_colsample_bytree': 0.8977303437217603, 'highlight_reg_alpha': 0.6251167398725606, 'highlight_reg_lambda': 0.010459664437616234, 'final_max_depth': 8, 'final_learning_rate': 0.016396187016638124, 'final_n_estimators': 163, 'final_subsample': 0.7416930500312474, 'final_colsample_bytree': 0.7312265746791428, 'final_reg_alpha': 0.12689399883220545, 'final_reg_lambda': 0.001786628662559252, 'weight_original': 0.6025567572671318, 'weight_blackmask': 0.3319564678122042, 'weight_highlight': 0.899620206048902, 'weight_final': 1.1905526587109725, 'adaptive_weight_factor': 2.701501750470826, 'confidence_threshold': 0.8594302552586743, 'threshold_group_0': 0.26389219699567396, 'threshold_group_1': 0.3187493159760016, 'threshold_group_2': 0.3396260852020068, 'threshold_group_3': 0.31791987997136323, 'threshold_group_4': 0.3247555551388205}. Best is trial 161 with value: 0.7751989903287179.\n"
     ]
    },
    {
     "name": "stdout",
     "output_type": "stream",
     "text": [
      "Valid labels: 43, Constant labels: 12\n",
      "Training variant-specific models...\n",
      "  Training original model...\n",
      "  Training blackmask model...\n",
      "  Training highlight model...\n",
      "  Training final model...\n",
      "Training advanced variant selector...\n",
      "Trained 43 variant selectors\n"
     ]
    },
    {
     "name": "stderr",
     "output_type": "stream",
     "text": [
      "[I 2025-05-26 22:49:22,774] Trial 164 finished with value: 0.7740056266011779 and parameters: {'original_max_depth': 5, 'original_learning_rate': 0.09532136032657233, 'original_n_estimators': 166, 'original_subsample': 0.710332306631236, 'original_colsample_bytree': 0.7079930626416084, 'original_reg_alpha': 0.5931905306254462, 'original_reg_lambda': 0.18541471315378563, 'blackmask_max_depth': 5, 'blackmask_learning_rate': 0.04797902772590447, 'blackmask_n_estimators': 171, 'blackmask_subsample': 0.7009693332641748, 'blackmask_colsample_bytree': 0.8785466520489804, 'blackmask_reg_alpha': 0.0021754899183156315, 'blackmask_reg_lambda': 0.012098228387255805, 'highlight_max_depth': 9, 'highlight_learning_rate': 0.017500514063582932, 'highlight_n_estimators': 117, 'highlight_subsample': 0.7423348882706422, 'highlight_colsample_bytree': 0.9214777917003094, 'highlight_reg_alpha': 0.4023734673540273, 'highlight_reg_lambda': 0.007747862815461876, 'final_max_depth': 8, 'final_learning_rate': 0.01924982495532517, 'final_n_estimators': 156, 'final_subsample': 0.7264436528184878, 'final_colsample_bytree': 0.746701389081494, 'final_reg_alpha': 0.20001764208704073, 'final_reg_lambda': 0.0015007832000739586, 'weight_original': 0.5125125505531152, 'weight_blackmask': 0.2968500960680442, 'weight_highlight': 1.0118318117608354, 'weight_final': 1.2458985335712538, 'adaptive_weight_factor': 2.7678538249975064, 'confidence_threshold': 0.8888496504788533, 'threshold_group_0': 0.2702447289886058, 'threshold_group_1': 0.3529527969452391, 'threshold_group_2': 0.32335701927889493, 'threshold_group_3': 0.2738381618620535, 'threshold_group_4': 0.3570929157423886}. Best is trial 161 with value: 0.7751989903287179.\n"
     ]
    },
    {
     "name": "stdout",
     "output_type": "stream",
     "text": [
      "Valid labels: 43, Constant labels: 12\n",
      "Training variant-specific models...\n",
      "  Training original model...\n",
      "  Training blackmask model...\n",
      "  Training highlight model...\n",
      "  Training final model...\n",
      "Training advanced variant selector...\n",
      "Trained 43 variant selectors\n"
     ]
    },
    {
     "name": "stderr",
     "output_type": "stream",
     "text": [
      "[I 2025-05-26 22:51:21,457] Trial 165 finished with value: 0.7673143430539191 and parameters: {'original_max_depth': 5, 'original_learning_rate': 0.0857579735798279, 'original_n_estimators': 168, 'original_subsample': 0.7103318942926566, 'original_colsample_bytree': 0.7061893931240817, 'original_reg_alpha': 0.6015880872477128, 'original_reg_lambda': 0.18190196828177313, 'blackmask_max_depth': 5, 'blackmask_learning_rate': 0.04606832462944893, 'blackmask_n_estimators': 161, 'blackmask_subsample': 0.7016061925222702, 'blackmask_colsample_bytree': 0.8512635813874524, 'blackmask_reg_alpha': 0.0021202631543141685, 'blackmask_reg_lambda': 0.011318794717958745, 'highlight_max_depth': 9, 'highlight_learning_rate': 0.018344463904078102, 'highlight_n_estimators': 117, 'highlight_subsample': 0.7735287172301837, 'highlight_colsample_bytree': 0.9195231310508116, 'highlight_reg_alpha': 0.41615155034974477, 'highlight_reg_lambda': 0.004038651873423138, 'final_max_depth': 9, 'final_learning_rate': 0.019870049620409138, 'final_n_estimators': 155, 'final_subsample': 0.76722033221587, 'final_colsample_bytree': 0.7488415223454321, 'final_reg_alpha': 0.19875090091341674, 'final_reg_lambda': 0.001535865368508706, 'weight_original': 0.5230858500610311, 'weight_blackmask': 0.36854808251654814, 'weight_highlight': 1.1247570435930998, 'weight_final': 1.250734894359835, 'adaptive_weight_factor': 2.766108236529074, 'confidence_threshold': 0.890572562583235, 'threshold_group_0': 0.2836428424537533, 'threshold_group_1': 0.3487161722873542, 'threshold_group_2': 0.32310815834655265, 'threshold_group_3': 0.6054017344515225, 'threshold_group_4': 0.3373112612274008}. Best is trial 161 with value: 0.7751989903287179.\n"
     ]
    },
    {
     "name": "stdout",
     "output_type": "stream",
     "text": [
      "Valid labels: 43, Constant labels: 12\n",
      "Training variant-specific models...\n",
      "  Training original model...\n",
      "  Training blackmask model...\n",
      "  Training highlight model...\n",
      "  Training final model...\n",
      "Training advanced variant selector...\n",
      "Trained 43 variant selectors\n"
     ]
    },
    {
     "name": "stderr",
     "output_type": "stream",
     "text": [
      "[I 2025-05-26 22:53:22,187] Trial 166 finished with value: 0.7730342221321438 and parameters: {'original_max_depth': 5, 'original_learning_rate': 0.09205556204069144, 'original_n_estimators': 165, 'original_subsample': 0.7179982485662287, 'original_colsample_bytree': 0.705906743894458, 'original_reg_alpha': 0.8624590172549679, 'original_reg_lambda': 0.15181525198182852, 'blackmask_max_depth': 5, 'blackmask_learning_rate': 0.059878341307676004, 'blackmask_n_estimators': 173, 'blackmask_subsample': 0.7299223081238564, 'blackmask_colsample_bytree': 0.8808435330980733, 'blackmask_reg_alpha': 0.004816022200593311, 'blackmask_reg_lambda': 0.02038433166870504, 'highlight_max_depth': 9, 'highlight_learning_rate': 0.017746699534149018, 'highlight_n_estimators': 112, 'highlight_subsample': 0.7442578423424363, 'highlight_colsample_bytree': 0.8844435300930651, 'highlight_reg_alpha': 0.5256645796272845, 'highlight_reg_lambda': 0.006906148878309446, 'final_max_depth': 8, 'final_learning_rate': 0.0146547160446988, 'final_n_estimators': 161, 'final_subsample': 0.7273148473358854, 'final_colsample_bytree': 0.79190437874481, 'final_reg_alpha': 0.18333315309708048, 'final_reg_lambda': 0.0012330391395369148, 'weight_original': 0.487627004844555, 'weight_blackmask': 0.29909433050570133, 'weight_highlight': 1.0175012992026229, 'weight_final': 1.1323878497754063, 'adaptive_weight_factor': 2.816451268033136, 'confidence_threshold': 0.8805798216402322, 'threshold_group_0': 0.26975762506270334, 'threshold_group_1': 0.36754602881042464, 'threshold_group_2': 0.30795353457273494, 'threshold_group_3': 0.29081530653378185, 'threshold_group_4': 0.3322606059026934}. Best is trial 161 with value: 0.7751989903287179.\n"
     ]
    },
    {
     "name": "stdout",
     "output_type": "stream",
     "text": [
      "Valid labels: 43, Constant labels: 12\n",
      "Training variant-specific models...\n",
      "  Training original model...\n",
      "  Training blackmask model...\n",
      "  Training highlight model...\n",
      "  Training final model...\n",
      "Training advanced variant selector...\n",
      "Trained 43 variant selectors\n"
     ]
    },
    {
     "name": "stderr",
     "output_type": "stream",
     "text": [
      "[I 2025-05-26 22:55:23,296] Trial 167 finished with value: 0.7747081477579268 and parameters: {'original_max_depth': 5, 'original_learning_rate': 0.09668083135496476, 'original_n_estimators': 156, 'original_subsample': 0.7356380854262381, 'original_colsample_bytree': 0.7269053971544511, 'original_reg_alpha': 0.703314304796774, 'original_reg_lambda': 0.11301829918751942, 'blackmask_max_depth': 5, 'blackmask_learning_rate': 0.04808020002856222, 'blackmask_n_estimators': 167, 'blackmask_subsample': 0.7106600674100474, 'blackmask_colsample_bytree': 0.8633574834496474, 'blackmask_reg_alpha': 0.0017746538507838591, 'blackmask_reg_lambda': 0.012807089618176164, 'highlight_max_depth': 9, 'highlight_learning_rate': 0.01965716196596561, 'highlight_n_estimators': 119, 'highlight_subsample': 0.7529110693250243, 'highlight_colsample_bytree': 0.8531498993260367, 'highlight_reg_alpha': 0.2794848971757313, 'highlight_reg_lambda': 0.012902918376376409, 'final_max_depth': 8, 'final_learning_rate': 0.017982733223537786, 'final_n_estimators': 167, 'final_subsample': 0.7538309565451937, 'final_colsample_bytree': 0.7557159939762216, 'final_reg_alpha': 0.33402228426191116, 'final_reg_lambda': 0.0010381269740886419, 'weight_original': 0.5726505512418345, 'weight_blackmask': 0.26770150965642703, 'weight_highlight': 0.966193612528423, 'weight_final': 1.3234255412631588, 'adaptive_weight_factor': 2.6802432196648858, 'confidence_threshold': 0.8678015371126915, 'threshold_group_0': 0.2616128130134351, 'threshold_group_1': 0.36194379896831136, 'threshold_group_2': 0.3474611016580835, 'threshold_group_3': 0.2747467139721699, 'threshold_group_4': 0.3556563192488065}. Best is trial 161 with value: 0.7751989903287179.\n"
     ]
    },
    {
     "name": "stdout",
     "output_type": "stream",
     "text": [
      "Valid labels: 43, Constant labels: 12\n",
      "Training variant-specific models...\n",
      "  Training original model...\n",
      "  Training blackmask model...\n",
      "  Training highlight model...\n",
      "  Training final model...\n",
      "Training advanced variant selector...\n",
      "Trained 43 variant selectors\n"
     ]
    },
    {
     "name": "stderr",
     "output_type": "stream",
     "text": [
      "[I 2025-05-26 22:57:21,768] Trial 168 finished with value: 0.7730004367593912 and parameters: {'original_max_depth': 5, 'original_learning_rate': 0.0960518440098209, 'original_n_estimators': 154, 'original_subsample': 0.7339802227163285, 'original_colsample_bytree': 0.7300883049598261, 'original_reg_alpha': 0.7189412048302654, 'original_reg_lambda': 0.10857494733570067, 'blackmask_max_depth': 5, 'blackmask_learning_rate': 0.04739954804790829, 'blackmask_n_estimators': 167, 'blackmask_subsample': 0.7075120754239685, 'blackmask_colsample_bytree': 0.8832144297751845, 'blackmask_reg_alpha': 0.0018378118544378607, 'blackmask_reg_lambda': 0.010223146347860316, 'highlight_max_depth': 9, 'highlight_learning_rate': 0.019747909343066014, 'highlight_n_estimators': 119, 'highlight_subsample': 0.7375920587519244, 'highlight_colsample_bytree': 0.9323637731753446, 'highlight_reg_alpha': 0.721784750507653, 'highlight_reg_lambda': 0.007926500508646173, 'final_max_depth': 8, 'final_learning_rate': 0.018173155086051843, 'final_n_estimators': 159, 'final_subsample': 0.7536967757572607, 'final_colsample_bytree': 0.743432956131996, 'final_reg_alpha': 0.1565576084172561, 'final_reg_lambda': 0.001022151462333899, 'weight_original': 0.5844735845271187, 'weight_blackmask': 0.3309956328140654, 'weight_highlight': 0.9707623241449753, 'weight_final': 1.3231972581541718, 'adaptive_weight_factor': 2.6583125123501383, 'confidence_threshold': 0.8700366924481904, 'threshold_group_0': 0.2933609524916432, 'threshold_group_1': 0.3424696372132728, 'threshold_group_2': 0.32653040950289985, 'threshold_group_3': 0.30224948036976496, 'threshold_group_4': 0.3558772993773496}. Best is trial 161 with value: 0.7751989903287179.\n"
     ]
    },
    {
     "name": "stdout",
     "output_type": "stream",
     "text": [
      "Valid labels: 43, Constant labels: 12\n",
      "Training variant-specific models...\n",
      "  Training original model...\n",
      "  Training blackmask model...\n",
      "  Training highlight model...\n",
      "  Training final model...\n",
      "Training advanced variant selector...\n",
      "Trained 43 variant selectors\n"
     ]
    },
    {
     "name": "stderr",
     "output_type": "stream",
     "text": [
      "[I 2025-05-26 22:59:21,913] Trial 169 finished with value: 0.7742193336055259 and parameters: {'original_max_depth': 5, 'original_learning_rate': 0.1038100460167254, 'original_n_estimators': 173, 'original_subsample': 0.7453060253320362, 'original_colsample_bytree': 0.7273326567450727, 'original_reg_alpha': 0.8550424629524448, 'original_reg_lambda': 0.11640304473834005, 'blackmask_max_depth': 5, 'blackmask_learning_rate': 0.05136332517509051, 'blackmask_n_estimators': 171, 'blackmask_subsample': 0.7148094824190986, 'blackmask_colsample_bytree': 0.8612426743832927, 'blackmask_reg_alpha': 0.003946804654688966, 'blackmask_reg_lambda': 0.01222149221383466, 'highlight_max_depth': 9, 'highlight_learning_rate': 0.018825142811628937, 'highlight_n_estimators': 116, 'highlight_subsample': 0.7532575754015542, 'highlight_colsample_bytree': 0.8528679230823525, 'highlight_reg_alpha': 0.34176163477556404, 'highlight_reg_lambda': 0.012792297187191184, 'final_max_depth': 8, 'final_learning_rate': 0.021848294282480293, 'final_n_estimators': 156, 'final_subsample': 0.7438587434214838, 'final_colsample_bytree': 0.7540265329344604, 'final_reg_alpha': 0.37419697497756527, 'final_reg_lambda': 0.0013515911444585552, 'weight_original': 0.5611961430476026, 'weight_blackmask': 0.2720284877492752, 'weight_highlight': 0.9469901788442301, 'weight_final': 1.2817082598131324, 'adaptive_weight_factor': 2.7054770961697328, 'confidence_threshold': 0.8728772923790874, 'threshold_group_0': 0.27723440337675187, 'threshold_group_1': 0.33123621091498673, 'threshold_group_2': 0.3405803875100001, 'threshold_group_3': 0.27655015693938056, 'threshold_group_4': 0.38707810021724837}. Best is trial 161 with value: 0.7751989903287179.\n"
     ]
    },
    {
     "name": "stdout",
     "output_type": "stream",
     "text": [
      "Valid labels: 43, Constant labels: 12\n",
      "Training variant-specific models...\n",
      "  Training original model...\n",
      "  Training blackmask model...\n",
      "  Training highlight model...\n",
      "  Training final model...\n",
      "Training advanced variant selector...\n",
      "Trained 43 variant selectors\n"
     ]
    },
    {
     "name": "stderr",
     "output_type": "stream",
     "text": [
      "[I 2025-05-26 23:01:24,823] Trial 170 finished with value: 0.7743867959054996 and parameters: {'original_max_depth': 5, 'original_learning_rate': 0.10164157946596669, 'original_n_estimators': 174, 'original_subsample': 0.7451124383967717, 'original_colsample_bytree': 0.7359007997101894, 'original_reg_alpha': 0.9997178457954891, 'original_reg_lambda': 0.13128955768372835, 'blackmask_max_depth': 5, 'blackmask_learning_rate': 0.052081368128867614, 'blackmask_n_estimators': 179, 'blackmask_subsample': 0.7013992410537252, 'blackmask_colsample_bytree': 0.8672735459914581, 'blackmask_reg_alpha': 0.003864358310043854, 'blackmask_reg_lambda': 0.008669042425026873, 'highlight_max_depth': 9, 'highlight_learning_rate': 0.0200891442080501, 'highlight_n_estimators': 110, 'highlight_subsample': 0.7504139928131043, 'highlight_colsample_bytree': 0.8672128437351064, 'highlight_reg_alpha': 0.356317280251698, 'highlight_reg_lambda': 0.012616937352278593, 'final_max_depth': 8, 'final_learning_rate': 0.022600924142783908, 'final_n_estimators': 179, 'final_subsample': 0.743331546751248, 'final_colsample_bytree': 0.7533438749072369, 'final_reg_alpha': 0.3620462614621074, 'final_reg_lambda': 0.001322919864749716, 'weight_original': 0.5601922498460918, 'weight_blackmask': 0.26945274965430144, 'weight_highlight': 1.0634003529019436, 'weight_final': 1.2767274159766688, 'adaptive_weight_factor': 2.707271578212707, 'confidence_threshold': 0.8743180184839713, 'threshold_group_0': 0.2599315822805476, 'threshold_group_1': 0.3317500030148901, 'threshold_group_2': 0.3389347452781467, 'threshold_group_3': 0.2809243197978487, 'threshold_group_4': 0.3849623271258253}. Best is trial 161 with value: 0.7751989903287179.\n"
     ]
    },
    {
     "name": "stdout",
     "output_type": "stream",
     "text": [
      "Valid labels: 43, Constant labels: 12\n",
      "Training variant-specific models...\n",
      "  Training original model...\n",
      "  Training blackmask model...\n",
      "  Training highlight model...\n",
      "  Training final model...\n",
      "Training advanced variant selector...\n",
      "Trained 43 variant selectors\n"
     ]
    },
    {
     "name": "stderr",
     "output_type": "stream",
     "text": [
      "[I 2025-05-26 23:03:26,905] Trial 171 finished with value: 0.7732106559249483 and parameters: {'original_max_depth': 5, 'original_learning_rate': 0.10943534320850345, 'original_n_estimators': 174, 'original_subsample': 0.7572767432268062, 'original_colsample_bytree': 0.7346048829584284, 'original_reg_alpha': 0.9898167909881389, 'original_reg_lambda': 0.1177898892099982, 'blackmask_max_depth': 5, 'blackmask_learning_rate': 0.05554930828479495, 'blackmask_n_estimators': 178, 'blackmask_subsample': 0.7005796966406532, 'blackmask_colsample_bytree': 0.8702034091280806, 'blackmask_reg_alpha': 0.0037217734536410083, 'blackmask_reg_lambda': 0.008188956357254926, 'highlight_max_depth': 9, 'highlight_learning_rate': 0.020129104130251388, 'highlight_n_estimators': 110, 'highlight_subsample': 0.7540831040635336, 'highlight_colsample_bytree': 0.8495978949155696, 'highlight_reg_alpha': 0.33692970116725174, 'highlight_reg_lambda': 0.011310206153193145, 'final_max_depth': 8, 'final_learning_rate': 0.02315458348164332, 'final_n_estimators': 177, 'final_subsample': 0.7414419737125244, 'final_colsample_bytree': 0.7571033146402696, 'final_reg_alpha': 0.3405056481634099, 'final_reg_lambda': 0.0011553726413176325, 'weight_original': 0.5477923463281852, 'weight_blackmask': 0.2688803430061186, 'weight_highlight': 1.067782384608333, 'weight_final': 1.277917420362403, 'adaptive_weight_factor': 2.6977285295444866, 'confidence_threshold': 0.8736833390368561, 'threshold_group_0': 0.2624879201798762, 'threshold_group_1': 0.3318378390337057, 'threshold_group_2': 0.34051725027723245, 'threshold_group_3': 0.28277769177802436, 'threshold_group_4': 0.3898484787219485}. Best is trial 161 with value: 0.7751989903287179.\n"
     ]
    },
    {
     "name": "stdout",
     "output_type": "stream",
     "text": [
      "Valid labels: 43, Constant labels: 12\n",
      "Training variant-specific models...\n",
      "  Training original model...\n",
      "  Training blackmask model...\n",
      "  Training highlight model...\n",
      "  Training final model...\n",
      "Training advanced variant selector...\n",
      "Trained 43 variant selectors\n"
     ]
    },
    {
     "name": "stderr",
     "output_type": "stream",
     "text": [
      "[I 2025-05-26 23:05:29,489] Trial 172 finished with value: 0.7739261711197826 and parameters: {'original_max_depth': 5, 'original_learning_rate': 0.10112039623073894, 'original_n_estimators': 172, 'original_subsample': 0.7383618526235711, 'original_colsample_bytree': 0.7264671227654631, 'original_reg_alpha': 0.8489030289792222, 'original_reg_lambda': 0.14666109540764727, 'blackmask_max_depth': 5, 'blackmask_learning_rate': 0.05245509501031731, 'blackmask_n_estimators': 166, 'blackmask_subsample': 0.713012417300496, 'blackmask_colsample_bytree': 0.8591096876827082, 'blackmask_reg_alpha': 0.00416014335530087, 'blackmask_reg_lambda': 0.013306586688039407, 'highlight_max_depth': 9, 'highlight_learning_rate': 0.01873957328841388, 'highlight_n_estimators': 114, 'highlight_subsample': 0.7479375979993413, 'highlight_colsample_bytree': 0.8656730088522264, 'highlight_reg_alpha': 0.43236447017711815, 'highlight_reg_lambda': 0.012952309081431742, 'final_max_depth': 8, 'final_learning_rate': 0.021886579153004047, 'final_n_estimators': 170, 'final_subsample': 0.7328360397548283, 'final_colsample_bytree': 0.7478593731556058, 'final_reg_alpha': 0.11627093348805617, 'final_reg_lambda': 0.0013842026943957772, 'weight_original': 0.508294794165529, 'weight_blackmask': 0.23823977892673742, 'weight_highlight': 0.9290784734038274, 'weight_final': 1.266820928131461, 'adaptive_weight_factor': 2.726264549762974, 'confidence_threshold': 0.8915602667316385, 'threshold_group_0': 0.2722530515592629, 'threshold_group_1': 0.3529087848000233, 'threshold_group_2': 0.346362028683776, 'threshold_group_3': 0.2768750767469904, 'threshold_group_4': 0.38280408702795987}. Best is trial 161 with value: 0.7751989903287179.\n"
     ]
    },
    {
     "name": "stdout",
     "output_type": "stream",
     "text": [
      "Valid labels: 43, Constant labels: 12\n",
      "Training variant-specific models...\n",
      "  Training original model...\n",
      "  Training blackmask model...\n",
      "  Training highlight model...\n",
      "  Training final model...\n",
      "Training advanced variant selector...\n",
      "Trained 43 variant selectors\n"
     ]
    },
    {
     "name": "stderr",
     "output_type": "stream",
     "text": [
      "[I 2025-05-26 23:07:29,329] Trial 173 finished with value: 0.7678808902349069 and parameters: {'original_max_depth': 5, 'original_learning_rate': 0.11284000314035411, 'original_n_estimators': 166, 'original_subsample': 0.7451220888955281, 'original_colsample_bytree': 0.7169828893617318, 'original_reg_alpha': 0.7818646765564226, 'original_reg_lambda': 0.1293794914882046, 'blackmask_max_depth': 5, 'blackmask_learning_rate': 0.049490387876180035, 'blackmask_n_estimators': 171, 'blackmask_subsample': 0.7253604971788528, 'blackmask_colsample_bytree': 0.8891081407259505, 'blackmask_reg_alpha': 0.0026602104604975347, 'blackmask_reg_lambda': 0.009198067749547427, 'highlight_max_depth': 9, 'highlight_learning_rate': 0.14041390418727784, 'highlight_n_estimators': 120, 'highlight_subsample': 0.7404118867141265, 'highlight_colsample_bytree': 0.8612359545491293, 'highlight_reg_alpha': 0.2848728491296023, 'highlight_reg_lambda': 0.014028317442522848, 'final_max_depth': 8, 'final_learning_rate': 0.028959547770149193, 'final_n_estimators': 157, 'final_subsample': 0.7453416776985969, 'final_colsample_bytree': 0.7653698592841455, 'final_reg_alpha': 0.3962809509584317, 'final_reg_lambda': 0.0012107946763609142, 'weight_original': 0.569437387133492, 'weight_blackmask': 0.28122897360486904, 'weight_highlight': 0.9573150124995677, 'weight_final': 1.245944978374168, 'adaptive_weight_factor': 2.6657900634035223, 'confidence_threshold': 0.8999594720178532, 'threshold_group_0': 0.26082095188342236, 'threshold_group_1': 0.33863105875926225, 'threshold_group_2': 0.3589348438625584, 'threshold_group_3': 0.2913008969110544, 'threshold_group_4': 0.39920160362347773}. Best is trial 161 with value: 0.7751989903287179.\n"
     ]
    },
    {
     "name": "stdout",
     "output_type": "stream",
     "text": [
      "Valid labels: 43, Constant labels: 12\n",
      "Training variant-specific models...\n",
      "  Training original model...\n",
      "  Training blackmask model...\n",
      "  Training highlight model...\n",
      "  Training final model...\n",
      "Training advanced variant selector...\n",
      "Trained 43 variant selectors\n"
     ]
    },
    {
     "name": "stderr",
     "output_type": "stream",
     "text": [
      "[I 2025-05-26 23:09:31,566] Trial 174 finished with value: 0.7738566772768359 and parameters: {'original_max_depth': 5, 'original_learning_rate': 0.0977056597542279, 'original_n_estimators': 174, 'original_subsample': 0.7303686077495112, 'original_colsample_bytree': 0.7255820390427744, 'original_reg_alpha': 0.8831055988343458, 'original_reg_lambda': 0.18827044673884916, 'blackmask_max_depth': 5, 'blackmask_learning_rate': 0.0442904034820116, 'blackmask_n_estimators': 181, 'blackmask_subsample': 0.7065732539183075, 'blackmask_colsample_bytree': 0.8665006461489029, 'blackmask_reg_alpha': 0.0023615775318457178, 'blackmask_reg_lambda': 0.010823403619479408, 'highlight_max_depth': 9, 'highlight_learning_rate': 0.017219359919208064, 'highlight_n_estimators': 110, 'highlight_subsample': 0.7699012952660603, 'highlight_colsample_bytree': 0.8921801954734967, 'highlight_reg_alpha': 0.35088436896650194, 'highlight_reg_lambda': 0.017761792774823582, 'final_max_depth': 8, 'final_learning_rate': 0.0205143969166691, 'final_n_estimators': 165, 'final_subsample': 0.7257125543972954, 'final_colsample_bytree': 0.7565236369966072, 'final_reg_alpha': 0.33143076247559256, 'final_reg_lambda': 0.0013253829858016863, 'weight_original': 0.6274990519954334, 'weight_blackmask': 0.25502858447007376, 'weight_highlight': 1.1768054492635822, 'weight_final': 1.342506179811746, 'adaptive_weight_factor': 2.753994129490413, 'confidence_threshold': 0.8847308938722823, 'threshold_group_0': 0.2592476232579608, 'threshold_group_1': 0.35968590802502237, 'threshold_group_2': 0.3182374537939836, 'threshold_group_3': 0.3107878923216995, 'threshold_group_4': 0.36084647674319364}. Best is trial 161 with value: 0.7751989903287179.\n"
     ]
    },
    {
     "name": "stdout",
     "output_type": "stream",
     "text": [
      "Valid labels: 43, Constant labels: 12\n",
      "Training variant-specific models...\n",
      "  Training original model...\n",
      "  Training blackmask model...\n",
      "  Training highlight model...\n",
      "  Training final model...\n",
      "Training advanced variant selector...\n",
      "Trained 43 variant selectors\n"
     ]
    },
    {
     "name": "stderr",
     "output_type": "stream",
     "text": [
      "[I 2025-05-26 23:11:34,088] Trial 175 finished with value: 0.7743947252190839 and parameters: {'original_max_depth': 5, 'original_learning_rate': 0.0911497250942046, 'original_n_estimators': 168, 'original_subsample': 0.7219476508398461, 'original_colsample_bytree': 0.7126089817543961, 'original_reg_alpha': 0.9928332991456905, 'original_reg_lambda': 0.24480489222764507, 'blackmask_max_depth': 5, 'blackmask_learning_rate': 0.04199986914677414, 'blackmask_n_estimators': 171, 'blackmask_subsample': 0.7002003953027667, 'blackmask_colsample_bytree': 0.8771145953226827, 'blackmask_reg_alpha': 0.0020617190154044725, 'blackmask_reg_lambda': 0.00714825287462952, 'highlight_max_depth': 9, 'highlight_learning_rate': 0.020498302133934578, 'highlight_n_estimators': 116, 'highlight_subsample': 0.7548091285103795, 'highlight_colsample_bytree': 0.8762985599467296, 'highlight_reg_alpha': 0.2763414542298626, 'highlight_reg_lambda': 0.024702608607207292, 'final_max_depth': 8, 'final_learning_rate': 0.02382212925047589, 'final_n_estimators': 162, 'final_subsample': 0.736480721136309, 'final_colsample_bytree': 0.7248442488667428, 'final_reg_alpha': 0.21865133373505957, 'final_reg_lambda': 0.0010041640618401796, 'weight_original': 0.601523068334864, 'weight_blackmask': 0.22272145769450136, 'weight_highlight': 0.985203847866246, 'weight_final': 1.2054369062093047, 'adaptive_weight_factor': 2.700468483286285, 'confidence_threshold': 0.8770853481587183, 'threshold_group_0': 0.2706031913736084, 'threshold_group_1': 0.3445531266966535, 'threshold_group_2': 0.3350543783988964, 'threshold_group_3': 0.2836326725054163, 'threshold_group_4': 0.35200514685711026}. Best is trial 161 with value: 0.7751989903287179.\n"
     ]
    },
    {
     "name": "stdout",
     "output_type": "stream",
     "text": [
      "Valid labels: 43, Constant labels: 12\n",
      "Training variant-specific models...\n",
      "  Training original model...\n",
      "  Training blackmask model...\n",
      "  Training highlight model...\n",
      "  Training final model...\n",
      "Training advanced variant selector...\n",
      "Trained 43 variant selectors\n"
     ]
    },
    {
     "name": "stderr",
     "output_type": "stream",
     "text": [
      "[I 2025-05-26 23:13:35,576] Trial 176 finished with value: 0.7739185161824361 and parameters: {'original_max_depth': 5, 'original_learning_rate': 0.10471914907904975, 'original_n_estimators': 170, 'original_subsample': 0.7215139636321101, 'original_colsample_bytree': 0.7362457824074915, 'original_reg_alpha': 0.8790837403701547, 'original_reg_lambda': 0.11310127254148805, 'blackmask_max_depth': 5, 'blackmask_learning_rate': 0.05813873865814124, 'blackmask_n_estimators': 178, 'blackmask_subsample': 0.7109961944044358, 'blackmask_colsample_bytree': 0.84662749730614, 'blackmask_reg_alpha': 0.001983403135605058, 'blackmask_reg_lambda': 0.007466387995383302, 'highlight_max_depth': 6, 'highlight_learning_rate': 0.02336895294640936, 'highlight_n_estimators': 115, 'highlight_subsample': 0.7547074842624554, 'highlight_colsample_bytree': 0.8809973698349306, 'highlight_reg_alpha': 0.28205447494113445, 'highlight_reg_lambda': 0.023996760601598385, 'final_max_depth': 8, 'final_learning_rate': 0.023971955599548716, 'final_n_estimators': 173, 'final_subsample': 0.7576725280217016, 'final_colsample_bytree': 0.7192511440981709, 'final_reg_alpha': 0.41561360297939287, 'final_reg_lambda': 0.0010254939883140868, 'weight_original': 0.5965239036677166, 'weight_blackmask': 0.22546830438204968, 'weight_highlight': 0.976447676836419, 'weight_final': 1.193196976780891, 'adaptive_weight_factor': 2.6022094179832016, 'confidence_threshold': 0.8678218476408448, 'threshold_group_0': 0.28256020931673914, 'threshold_group_1': 0.2971161319955103, 'threshold_group_2': 0.3375698232828899, 'threshold_group_3': 0.29792640351144695, 'threshold_group_4': 0.3790489196107438}. Best is trial 161 with value: 0.7751989903287179.\n"
     ]
    },
    {
     "name": "stdout",
     "output_type": "stream",
     "text": [
      "Valid labels: 43, Constant labels: 12\n",
      "Training variant-specific models...\n",
      "  Training original model...\n",
      "  Training blackmask model...\n",
      "  Training highlight model...\n",
      "  Training final model...\n",
      "Training advanced variant selector...\n",
      "Trained 43 variant selectors\n"
     ]
    },
    {
     "name": "stderr",
     "output_type": "stream",
     "text": [
      "[I 2025-05-26 23:15:38,819] Trial 177 finished with value: 0.7737315939410148 and parameters: {'original_max_depth': 5, 'original_learning_rate': 0.08808402019714132, 'original_n_estimators': 169, 'original_subsample': 0.7293162849839219, 'original_colsample_bytree': 0.7146624724200986, 'original_reg_alpha': 0.9865954267594246, 'original_reg_lambda': 0.21275735035951218, 'blackmask_max_depth': 5, 'blackmask_learning_rate': 0.042084040864751864, 'blackmask_n_estimators': 173, 'blackmask_subsample': 0.7183324991700166, 'blackmask_colsample_bytree': 0.8583217227813771, 'blackmask_reg_alpha': 0.004429239007857003, 'blackmask_reg_lambda': 0.006969805907071253, 'highlight_max_depth': 9, 'highlight_learning_rate': 0.022604717099420125, 'highlight_n_estimators': 127, 'highlight_subsample': 0.7493182451215911, 'highlight_colsample_bytree': 0.8750588629760624, 'highlight_reg_alpha': 0.23681695599677277, 'highlight_reg_lambda': 0.009781184102098288, 'final_max_depth': 8, 'final_learning_rate': 0.025410314913140244, 'final_n_estimators': 162, 'final_subsample': 0.7380972632713368, 'final_colsample_bytree': 0.7254898002267054, 'final_reg_alpha': 0.3096196724603929, 'final_reg_lambda': 0.0011578756366632862, 'weight_original': 0.5570094259044385, 'weight_blackmask': 0.21789749925599466, 'weight_highlight': 1.061064946266868, 'weight_final': 1.3004000880783448, 'adaptive_weight_factor': 2.695055413345469, 'confidence_threshold': 0.8772931718812204, 'threshold_group_0': 0.2597753250388641, 'threshold_group_1': 0.32700474147932523, 'threshold_group_2': 0.3482613505572701, 'threshold_group_3': 0.2860805272182807, 'threshold_group_4': 0.34328228655223886}. Best is trial 161 with value: 0.7751989903287179.\n"
     ]
    },
    {
     "name": "stdout",
     "output_type": "stream",
     "text": [
      "Valid labels: 43, Constant labels: 12\n",
      "Training variant-specific models...\n",
      "  Training original model...\n",
      "  Training blackmask model...\n",
      "  Training highlight model...\n",
      "  Training final model...\n",
      "Training advanced variant selector...\n",
      "Trained 43 variant selectors\n"
     ]
    },
    {
     "name": "stderr",
     "output_type": "stream",
     "text": [
      "[I 2025-05-26 23:17:43,550] Trial 178 finished with value: 0.7638043612311124 and parameters: {'original_max_depth': 5, 'original_learning_rate': 0.07978414442026481, 'original_n_estimators': 156, 'original_subsample': 0.7659861194584983, 'original_colsample_bytree': 0.724785183109135, 'original_reg_alpha': 0.7173632919205896, 'original_reg_lambda': 0.09594498575762589, 'blackmask_max_depth': 5, 'blackmask_learning_rate': 0.03924367877039246, 'blackmask_n_estimators': 181, 'blackmask_subsample': 0.713987882463497, 'blackmask_colsample_bytree': 0.8643731158067562, 'blackmask_reg_alpha': 0.003617459907108448, 'blackmask_reg_lambda': 0.005396795973746586, 'highlight_max_depth': 9, 'highlight_learning_rate': 0.01981238004073304, 'highlight_n_estimators': 121, 'highlight_subsample': 0.7662667514657222, 'highlight_colsample_bytree': 0.8578715737682091, 'highlight_reg_alpha': 0.32443826771908485, 'highlight_reg_lambda': 0.011473373060659852, 'final_max_depth': 8, 'final_learning_rate': 0.02195216260062619, 'final_n_estimators': 180, 'final_subsample': 0.7447117240334559, 'final_colsample_bytree': 0.7552753445968734, 'final_reg_alpha': 0.10220433578940132, 'final_reg_lambda': 0.001006901046655679, 'weight_original': 0.6222890095993352, 'weight_blackmask': 0.2674487725666543, 'weight_highlight': 0.8435101236222166, 'weight_final': 1.3682055844913872, 'adaptive_weight_factor': 2.727814532937779, 'confidence_threshold': 0.8706752272476125, 'threshold_group_0': 0.6447037467780364, 'threshold_group_1': 0.3391938343623377, 'threshold_group_2': 0.3617112725611082, 'threshold_group_3': 0.2717888486828699, 'threshold_group_4': 0.3684140559766046}. Best is trial 161 with value: 0.7751989903287179.\n"
     ]
    },
    {
     "name": "stdout",
     "output_type": "stream",
     "text": [
      "Valid labels: 43, Constant labels: 12\n",
      "Training variant-specific models...\n",
      "  Training original model...\n",
      "  Training blackmask model...\n",
      "  Training highlight model...\n",
      "  Training final model...\n",
      "Training advanced variant selector...\n",
      "Trained 43 variant selectors\n"
     ]
    },
    {
     "name": "stderr",
     "output_type": "stream",
     "text": [
      "[I 2025-05-26 23:19:46,308] Trial 179 finished with value: 0.7754392992478418 and parameters: {'original_max_depth': 5, 'original_learning_rate': 0.07393006058355062, 'original_n_estimators': 174, 'original_subsample': 0.744354720958467, 'original_colsample_bytree': 0.7195290562544201, 'original_reg_alpha': 0.7824238647928372, 'original_reg_lambda': 0.2507079924899983, 'blackmask_max_depth': 5, 'blackmask_learning_rate': 0.04176652942582577, 'blackmask_n_estimators': 170, 'blackmask_subsample': 0.740528924579381, 'blackmask_colsample_bytree': 0.8523247097313997, 'blackmask_reg_alpha': 0.0026869199784432234, 'blackmask_reg_lambda': 0.003467032290808148, 'highlight_max_depth': 9, 'highlight_learning_rate': 0.020639387435744793, 'highlight_n_estimators': 113, 'highlight_subsample': 0.756920487695852, 'highlight_colsample_bytree': 0.8868871641917049, 'highlight_reg_alpha': 0.19813377248053232, 'highlight_reg_lambda': 0.016014912757223554, 'final_max_depth': 8, 'final_learning_rate': 0.01317018722125503, 'final_n_estimators': 167, 'final_subsample': 0.7352022938928653, 'final_colsample_bytree': 0.7267939344511768, 'final_reg_alpha': 0.2712974722435627, 'final_reg_lambda': 0.0017671367250365311, 'weight_original': 0.6796539564681824, 'weight_blackmask': 0.24100677618007205, 'weight_highlight': 0.9072524513956036, 'weight_final': 1.2070581350328133, 'adaptive_weight_factor': 2.679149575299415, 'confidence_threshold': 0.8781099623588682, 'threshold_group_0': 0.2760703772538711, 'threshold_group_1': 0.30785427856219383, 'threshold_group_2': 0.37278395874046344, 'threshold_group_3': 0.25882639688973946, 'threshold_group_4': 0.38859221159068486}. Best is trial 179 with value: 0.7754392992478418.\n"
     ]
    },
    {
     "name": "stdout",
     "output_type": "stream",
     "text": [
      "Valid labels: 43, Constant labels: 12\n",
      "Training variant-specific models...\n",
      "  Training original model...\n",
      "  Training blackmask model...\n",
      "  Training highlight model...\n",
      "  Training final model...\n",
      "Training advanced variant selector...\n",
      "Trained 43 variant selectors\n"
     ]
    },
    {
     "name": "stderr",
     "output_type": "stream",
     "text": [
      "[I 2025-05-26 23:21:41,620] Trial 180 finished with value: 0.7740132747779805 and parameters: {'original_max_depth': 5, 'original_learning_rate': 0.0346572158589183, 'original_n_estimators': 173, 'original_subsample': 0.7463659652346103, 'original_colsample_bytree': 0.7195289107466862, 'original_reg_alpha': 0.7798228926998682, 'original_reg_lambda': 0.2574276148666197, 'blackmask_max_depth': 5, 'blackmask_learning_rate': 0.04565510550310311, 'blackmask_n_estimators': 176, 'blackmask_subsample': 0.7468219392200299, 'blackmask_colsample_bytree': 0.8749352201365498, 'blackmask_reg_alpha': 0.0027929766206894807, 'blackmask_reg_lambda': 0.008614644448862962, 'highlight_max_depth': 9, 'highlight_learning_rate': 0.020658265199276125, 'highlight_n_estimators': 113, 'highlight_subsample': 0.7556945969843427, 'highlight_colsample_bytree': 0.8861694348303395, 'highlight_reg_alpha': 0.1921924451150414, 'highlight_reg_lambda': 0.016979092891665534, 'final_max_depth': 8, 'final_learning_rate': 0.01401108958616569, 'final_n_estimators': 168, 'final_subsample': 0.7339304174554835, 'final_colsample_bytree': 0.7266936337787095, 'final_reg_alpha': 0.28066456817709545, 'final_reg_lambda': 0.0015896572815335588, 'weight_original': 0.682525163701357, 'weight_blackmask': 0.24566998975316706, 'weight_highlight': 0.9430625036688366, 'weight_final': 1.205376642613142, 'adaptive_weight_factor': 2.678897431241073, 'confidence_threshold': 0.8805002996619012, 'threshold_group_0': 0.2911215821829996, 'threshold_group_1': 0.3083562907290871, 'threshold_group_2': 0.3337442277705522, 'threshold_group_3': 0.25673019687699344, 'threshold_group_4': 0.3862632736637389}. Best is trial 179 with value: 0.7754392992478418.\n"
     ]
    },
    {
     "name": "stdout",
     "output_type": "stream",
     "text": [
      "Valid labels: 43, Constant labels: 12\n",
      "Training variant-specific models...\n",
      "  Training original model...\n",
      "  Training blackmask model...\n",
      "  Training highlight model...\n",
      "  Training final model...\n",
      "Training advanced variant selector...\n",
      "Trained 43 variant selectors\n"
     ]
    },
    {
     "name": "stderr",
     "output_type": "stream",
     "text": [
      "[I 2025-05-26 23:23:37,306] Trial 181 finished with value: 0.7744059348359976 and parameters: {'original_max_depth': 5, 'original_learning_rate': 0.03568648916252791, 'original_n_estimators': 173, 'original_subsample': 0.7477820436275306, 'original_colsample_bytree': 0.7200373864404745, 'original_reg_alpha': 0.7702655336735915, 'original_reg_lambda': 0.2653074558691094, 'blackmask_max_depth': 5, 'blackmask_learning_rate': 0.04550862464866278, 'blackmask_n_estimators': 176, 'blackmask_subsample': 0.7484776737405576, 'blackmask_colsample_bytree': 0.8550215739161285, 'blackmask_reg_alpha': 0.002734228891395181, 'blackmask_reg_lambda': 0.009563424440904066, 'highlight_max_depth': 9, 'highlight_learning_rate': 0.02071166394884698, 'highlight_n_estimators': 113, 'highlight_subsample': 0.7559776776916252, 'highlight_colsample_bytree': 0.8879760017476912, 'highlight_reg_alpha': 0.21946185956204, 'highlight_reg_lambda': 0.017295694192467556, 'final_max_depth': 8, 'final_learning_rate': 0.013039190126855034, 'final_n_estimators': 169, 'final_subsample': 0.734188539387098, 'final_colsample_bytree': 0.728317584383266, 'final_reg_alpha': 0.2570719231408491, 'final_reg_lambda': 0.0018370636338545655, 'weight_original': 0.6781801880163997, 'weight_blackmask': 0.24461459662570623, 'weight_highlight': 0.9448166436519441, 'weight_final': 1.200428414713697, 'adaptive_weight_factor': 2.6722649947523602, 'confidence_threshold': 0.8790786038028077, 'threshold_group_0': 0.27639587970088053, 'threshold_group_1': 0.31139396464789987, 'threshold_group_2': 0.3351616352994825, 'threshold_group_3': 0.25867007552171006, 'threshold_group_4': 0.39085229428312207}. Best is trial 179 with value: 0.7754392992478418.\n"
     ]
    },
    {
     "name": "stdout",
     "output_type": "stream",
     "text": [
      "Valid labels: 43, Constant labels: 12\n",
      "Training variant-specific models...\n",
      "  Training original model...\n",
      "  Training blackmask model...\n",
      "  Training highlight model...\n",
      "  Training final model...\n",
      "Training advanced variant selector...\n",
      "Trained 43 variant selectors\n"
     ]
    },
    {
     "name": "stderr",
     "output_type": "stream",
     "text": [
      "[I 2025-05-26 23:25:36,385] Trial 182 finished with value: 0.7747825722455189 and parameters: {'original_max_depth': 5, 'original_learning_rate': 0.03346894351187605, 'original_n_estimators': 171, 'original_subsample': 0.7523682294182518, 'original_colsample_bytree': 0.7282327165519709, 'original_reg_alpha': 0.7032736315957181, 'original_reg_lambda': 0.2274112929896257, 'blackmask_max_depth': 10, 'blackmask_learning_rate': 0.037743848044513896, 'blackmask_n_estimators': 168, 'blackmask_subsample': 0.7285566006190037, 'blackmask_colsample_bytree': 0.850267943694573, 'blackmask_reg_alpha': 0.0025670753586419346, 'blackmask_reg_lambda': 0.006762821935126006, 'highlight_max_depth': 9, 'highlight_learning_rate': 0.019078038235004816, 'highlight_n_estimators': 112, 'highlight_subsample': 0.7463855125352266, 'highlight_colsample_bytree': 0.8677881380464135, 'highlight_reg_alpha': 0.23029928784817857, 'highlight_reg_lambda': 0.02233454736653721, 'final_max_depth': 8, 'final_learning_rate': 0.012769928082510752, 'final_n_estimators': 175, 'final_subsample': 0.7500885773338763, 'final_colsample_bytree': 0.7175754625887153, 'final_reg_alpha': 0.2334531606996663, 'final_reg_lambda': 0.001797141459477293, 'weight_original': 0.7250101401603269, 'weight_blackmask': 0.2127318131913815, 'weight_highlight': 0.9067142608307175, 'weight_final': 1.1824802174501459, 'adaptive_weight_factor': 2.7069444692608298, 'confidence_threshold': 0.8759047134369637, 'threshold_group_0': 0.27749195269407473, 'threshold_group_1': 0.3253670193276432, 'threshold_group_2': 0.3280475592676841, 'threshold_group_3': 0.2590538709629737, 'threshold_group_4': 0.3973466227723061}. Best is trial 179 with value: 0.7754392992478418.\n"
     ]
    },
    {
     "name": "stdout",
     "output_type": "stream",
     "text": [
      "Valid labels: 43, Constant labels: 12\n",
      "Training variant-specific models...\n",
      "  Training original model...\n",
      "  Training blackmask model...\n",
      "  Training highlight model...\n",
      "  Training final model...\n",
      "Training advanced variant selector...\n",
      "Trained 43 variant selectors\n"
     ]
    },
    {
     "name": "stderr",
     "output_type": "stream",
     "text": [
      "[I 2025-05-26 23:27:30,292] Trial 183 finished with value: 0.7746188937497953 and parameters: {'original_max_depth': 5, 'original_learning_rate': 0.02948873390932492, 'original_n_estimators': 168, 'original_subsample': 0.7371180734165151, 'original_colsample_bytree': 0.7336187282711555, 'original_reg_alpha': 0.6997777540400107, 'original_reg_lambda': 0.25990677666698875, 'blackmask_max_depth': 5, 'blackmask_learning_rate': 0.037597469451370456, 'blackmask_n_estimators': 168, 'blackmask_subsample': 0.7438700761621183, 'blackmask_colsample_bytree': 0.8543793162211101, 'blackmask_reg_alpha': 0.002668964764721031, 'blackmask_reg_lambda': 0.006875518335256166, 'highlight_max_depth': 9, 'highlight_learning_rate': 0.018738133359123943, 'highlight_n_estimators': 110, 'highlight_subsample': 0.7373886689713935, 'highlight_colsample_bytree': 0.8673059707945211, 'highlight_reg_alpha': 0.23671494456006845, 'highlight_reg_lambda': 0.021630385662316842, 'final_max_depth': 8, 'final_learning_rate': 0.012319110789546135, 'final_n_estimators': 175, 'final_subsample': 0.7528162994299579, 'final_colsample_bytree': 0.7179259040741423, 'final_reg_alpha': 0.22629692863128678, 'final_reg_lambda': 0.001879539109866645, 'weight_original': 0.6477168338290407, 'weight_blackmask': 0.21756660991603788, 'weight_highlight': 0.9869120493207176, 'weight_final': 1.1433031580605066, 'adaptive_weight_factor': 2.6429212469044026, 'confidence_threshold': 0.8630826303123975, 'threshold_group_0': 0.2722646561007763, 'threshold_group_1': 0.29110617493149604, 'threshold_group_2': 0.31572454887764484, 'threshold_group_3': 0.258218013165958, 'threshold_group_4': 0.397372507645056}. Best is trial 179 with value: 0.7754392992478418.\n"
     ]
    },
    {
     "name": "stdout",
     "output_type": "stream",
     "text": [
      "Valid labels: 43, Constant labels: 12\n",
      "Training variant-specific models...\n",
      "  Training original model...\n",
      "  Training blackmask model...\n",
      "  Training highlight model...\n",
      "  Training final model...\n",
      "Training advanced variant selector...\n",
      "Trained 43 variant selectors\n"
     ]
    },
    {
     "name": "stderr",
     "output_type": "stream",
     "text": [
      "[I 2025-05-26 23:29:26,547] Trial 184 finished with value: 0.7748850097289205 and parameters: {'original_max_depth': 5, 'original_learning_rate': 0.032827576881327286, 'original_n_estimators': 163, 'original_subsample': 0.7536139052996994, 'original_colsample_bytree': 0.7389200038496796, 'original_reg_alpha': 0.6721455058906498, 'original_reg_lambda': 0.2720625259192574, 'blackmask_max_depth': 5, 'blackmask_learning_rate': 0.04214498361026933, 'blackmask_n_estimators': 168, 'blackmask_subsample': 0.7426982074301949, 'blackmask_colsample_bytree': 0.8540723246749355, 'blackmask_reg_alpha': 0.002668935418750875, 'blackmask_reg_lambda': 0.006874071651455683, 'highlight_max_depth': 9, 'highlight_learning_rate': 0.020568234526871034, 'highlight_n_estimators': 113, 'highlight_subsample': 0.7364578918984357, 'highlight_colsample_bytree': 0.8671826888230485, 'highlight_reg_alpha': 0.25084821375130545, 'highlight_reg_lambda': 0.028453111913274105, 'final_max_depth': 8, 'final_learning_rate': 0.01242113258660048, 'final_n_estimators': 182, 'final_subsample': 0.7525635229031192, 'final_colsample_bytree': 0.7166784426248167, 'final_reg_alpha': 0.21948617218204863, 'final_reg_lambda': 0.001797778208721603, 'weight_original': 0.7320852207554167, 'weight_blackmask': 0.21175080716397607, 'weight_highlight': 0.9157907864696643, 'weight_final': 1.1524730506170673, 'adaptive_weight_factor': 2.537296179547037, 'confidence_threshold': 0.8622521414283327, 'threshold_group_0': 0.25764048476969403, 'threshold_group_1': 0.3036605911374096, 'threshold_group_2': 0.31435949679556935, 'threshold_group_3': 0.25732335263234263, 'threshold_group_4': 0.39824875572877283}. Best is trial 179 with value: 0.7754392992478418.\n"
     ]
    },
    {
     "name": "stdout",
     "output_type": "stream",
     "text": [
      "Valid labels: 43, Constant labels: 12\n",
      "Training variant-specific models...\n",
      "  Training original model...\n",
      "  Training blackmask model...\n",
      "  Training highlight model...\n",
      "  Training final model...\n",
      "Training advanced variant selector...\n",
      "Trained 43 variant selectors\n"
     ]
    },
    {
     "name": "stderr",
     "output_type": "stream",
     "text": [
      "[I 2025-05-26 23:31:21,270] Trial 185 finished with value: 0.7739885824313091 and parameters: {'original_max_depth': 5, 'original_learning_rate': 0.029584642467365172, 'original_n_estimators': 164, 'original_subsample': 0.7540915915309819, 'original_colsample_bytree': 0.752987491761935, 'original_reg_alpha': 0.6695423323643875, 'original_reg_lambda': 0.26744420065279595, 'blackmask_max_depth': 9, 'blackmask_learning_rate': 0.042648256538911, 'blackmask_n_estimators': 167, 'blackmask_subsample': 0.7617910165181779, 'blackmask_colsample_bytree': 0.8535976262635907, 'blackmask_reg_alpha': 0.002599053169756669, 'blackmask_reg_lambda': 0.007552488816512284, 'highlight_max_depth': 9, 'highlight_learning_rate': 0.02219635336215536, 'highlight_n_estimators': 113, 'highlight_subsample': 0.7358586062877696, 'highlight_colsample_bytree': 0.8668795046096751, 'highlight_reg_alpha': 0.25245674399988344, 'highlight_reg_lambda': 0.026799609569491095, 'final_max_depth': 8, 'final_learning_rate': 0.012215392330592609, 'final_n_estimators': 181, 'final_subsample': 0.7686513311775001, 'final_colsample_bytree': 0.7191002983373731, 'final_reg_alpha': 0.2276025781004863, 'final_reg_lambda': 0.47680628673730796, 'weight_original': 0.7339265056548749, 'weight_blackmask': 0.20594100718511235, 'weight_highlight': 0.9140861767821231, 'weight_final': 1.1436511466288362, 'adaptive_weight_factor': 2.6459665706718822, 'confidence_threshold': 0.8619379790173295, 'threshold_group_0': 0.3090519053709434, 'threshold_group_1': 0.294119323493239, 'threshold_group_2': 0.31482719193784464, 'threshold_group_3': 0.2596836517888229, 'threshold_group_4': 0.39848078310845947}. Best is trial 179 with value: 0.7754392992478418.\n"
     ]
    },
    {
     "name": "stdout",
     "output_type": "stream",
     "text": [
      "Valid labels: 43, Constant labels: 12\n",
      "Training variant-specific models...\n",
      "  Training original model...\n",
      "  Training blackmask model...\n",
      "  Training highlight model...\n",
      "  Training final model...\n",
      "Training advanced variant selector...\n",
      "Trained 43 variant selectors\n"
     ]
    },
    {
     "name": "stderr",
     "output_type": "stream",
     "text": [
      "[I 2025-05-26 23:33:17,735] Trial 186 finished with value: 0.774619047044409 and parameters: {'original_max_depth': 5, 'original_learning_rate': 0.032083831452876195, 'original_n_estimators': 168, 'original_subsample': 0.7347713668483475, 'original_colsample_bytree': 0.7373408721948537, 'original_reg_alpha': 0.7076981675591705, 'original_reg_lambda': 0.3841142801671941, 'blackmask_max_depth': 10, 'blackmask_learning_rate': 0.0389253413627468, 'blackmask_n_estimators': 159, 'blackmask_subsample': 0.7340658311329713, 'blackmask_colsample_bytree': 0.8539122519322586, 'blackmask_reg_alpha': 0.0024210374364882596, 'blackmask_reg_lambda': 0.006453088990470648, 'highlight_max_depth': 9, 'highlight_learning_rate': 0.020662029287041955, 'highlight_n_estimators': 110, 'highlight_subsample': 0.7463819962539665, 'highlight_colsample_bytree': 0.8684236460219839, 'highlight_reg_alpha': 0.22263140087890684, 'highlight_reg_lambda': 0.02218438015816878, 'final_max_depth': 8, 'final_learning_rate': 0.01296226929167899, 'final_n_estimators': 176, 'final_subsample': 0.7532063919903597, 'final_colsample_bytree': 0.7203333069039356, 'final_reg_alpha': 0.2724599520621059, 'final_reg_lambda': 0.001772501079763463, 'weight_original': 0.7313610771001448, 'weight_blackmask': 0.23977318636086298, 'weight_highlight': 0.9867464120613243, 'weight_final': 1.105077898981463, 'adaptive_weight_factor': 2.618948616561833, 'confidence_threshold': 0.8777578777657151, 'threshold_group_0': 0.28337748267670404, 'threshold_group_1': 0.31111346238461723, 'threshold_group_2': 0.33026226142199316, 'threshold_group_3': 0.26159861909927606, 'threshold_group_4': 0.39609751962848155}. Best is trial 179 with value: 0.7754392992478418.\n"
     ]
    },
    {
     "name": "stdout",
     "output_type": "stream",
     "text": [
      "Valid labels: 43, Constant labels: 12\n",
      "Training variant-specific models...\n",
      "  Training original model...\n",
      "  Training blackmask model...\n",
      "  Training highlight model...\n",
      "  Training final model...\n",
      "Training advanced variant selector...\n",
      "Trained 43 variant selectors\n"
     ]
    },
    {
     "name": "stderr",
     "output_type": "stream",
     "text": [
      "[I 2025-05-26 23:35:27,185] Trial 187 finished with value: 0.7736696022185601 and parameters: {'original_max_depth': 5, 'original_learning_rate': 0.03184048881767592, 'original_n_estimators': 168, 'original_subsample': 0.7378965911000162, 'original_colsample_bytree': 0.7364186666956144, 'original_reg_alpha': 0.6725639995850078, 'original_reg_lambda': 0.3352352696229394, 'blackmask_max_depth': 10, 'blackmask_learning_rate': 0.03860450444736414, 'blackmask_n_estimators': 158, 'blackmask_subsample': 0.7509162909931566, 'blackmask_colsample_bytree': 0.842742911348024, 'blackmask_reg_alpha': 0.0029185352476946624, 'blackmask_reg_lambda': 0.006231436062374508, 'highlight_max_depth': 9, 'highlight_learning_rate': 0.020768376718783087, 'highlight_n_estimators': 212, 'highlight_subsample': 0.7460469347734086, 'highlight_colsample_bytree': 0.8663580242026285, 'highlight_reg_alpha': 0.2196948408482718, 'highlight_reg_lambda': 0.024574474373610627, 'final_max_depth': 8, 'final_learning_rate': 0.012720055871332873, 'final_n_estimators': 175, 'final_subsample': 0.7538640555048995, 'final_colsample_bytree': 0.7096761293374254, 'final_reg_alpha': 0.21815442486777842, 'final_reg_lambda': 0.0017046833086158605, 'weight_original': 0.7760313140722148, 'weight_blackmask': 0.21843523183298594, 'weight_highlight': 0.9777082994665944, 'weight_final': 1.1084271259224263, 'adaptive_weight_factor': 2.602646880506113, 'confidence_threshold': 0.8847972568477588, 'threshold_group_0': 0.284258750835734, 'threshold_group_1': 0.31093720117388146, 'threshold_group_2': 0.3231648419595054, 'threshold_group_3': 0.2616345686334521, 'threshold_group_4': 0.39504679355126837}. Best is trial 179 with value: 0.7754392992478418.\n"
     ]
    },
    {
     "name": "stdout",
     "output_type": "stream",
     "text": [
      "Valid labels: 43, Constant labels: 12\n",
      "Training variant-specific models...\n",
      "  Training original model...\n",
      "  Training blackmask model...\n",
      "  Training highlight model...\n",
      "  Training final model...\n",
      "Training advanced variant selector...\n",
      "Trained 43 variant selectors\n"
     ]
    },
    {
     "name": "stderr",
     "output_type": "stream",
     "text": [
      "[I 2025-05-26 23:37:22,718] Trial 188 finished with value: 0.7742739925332425 and parameters: {'original_max_depth': 5, 'original_learning_rate': 0.026962969289274188, 'original_n_estimators': 163, 'original_subsample': 0.7363367239895339, 'original_colsample_bytree': 0.7316163943349434, 'original_reg_alpha': 0.783176700396888, 'original_reg_lambda': 0.38697272064353144, 'blackmask_max_depth': 7, 'blackmask_learning_rate': 0.04170739989976627, 'blackmask_n_estimators': 177, 'blackmask_subsample': 0.7362883848719749, 'blackmask_colsample_bytree': 0.8560001821362755, 'blackmask_reg_alpha': 0.002084158842206457, 'blackmask_reg_lambda': 0.009488023765248764, 'highlight_max_depth': 9, 'highlight_learning_rate': 0.025111930721215862, 'highlight_n_estimators': 113, 'highlight_subsample': 0.7225386526548911, 'highlight_colsample_bytree': 0.8609058063471516, 'highlight_reg_alpha': 0.26948514096187015, 'highlight_reg_lambda': 0.020692581026141414, 'final_max_depth': 8, 'final_learning_rate': 0.013492229656867217, 'final_n_estimators': 190, 'final_subsample': 0.7609070513086404, 'final_colsample_bytree': 0.7152406192865087, 'final_reg_alpha': 0.2638120090175692, 'final_reg_lambda': 0.001744523687933134, 'weight_original': 0.7233378001912681, 'weight_blackmask': 0.292581354398222, 'weight_highlight': 0.9932153380374673, 'weight_final': 1.0906295149718335, 'adaptive_weight_factor': 2.576817184097294, 'confidence_threshold': 0.8947965168746552, 'threshold_group_0': 0.3009997400592545, 'threshold_group_1': 0.28995308455677754, 'threshold_group_2': 0.3111085742696157, 'threshold_group_3': 0.28012221370665125, 'threshold_group_4': 0.405400881202228}. Best is trial 179 with value: 0.7754392992478418.\n"
     ]
    },
    {
     "name": "stdout",
     "output_type": "stream",
     "text": [
      "Valid labels: 43, Constant labels: 12\n",
      "Training variant-specific models...\n",
      "  Training original model...\n",
      "  Training blackmask model...\n",
      "  Training highlight model...\n",
      "  Training final model...\n",
      "Training advanced variant selector...\n",
      "Trained 43 variant selectors\n"
     ]
    },
    {
     "name": "stderr",
     "output_type": "stream",
     "text": [
      "[I 2025-05-26 23:39:18,068] Trial 189 finished with value: 0.7739396403975211 and parameters: {'original_max_depth': 5, 'original_learning_rate': 0.03035696586036211, 'original_n_estimators': 168, 'original_subsample': 0.7458836831314432, 'original_colsample_bytree': 0.7418943759622381, 'original_reg_alpha': 0.9951726160402892, 'original_reg_lambda': 0.23760824383623186, 'blackmask_max_depth': 10, 'blackmask_learning_rate': 0.044243816707031806, 'blackmask_n_estimators': 164, 'blackmask_subsample': 0.7446723238684081, 'blackmask_colsample_bytree': 0.8672267714868862, 'blackmask_reg_alpha': 0.002510344194706746, 'blackmask_reg_lambda': 0.008361215635725687, 'highlight_max_depth': 9, 'highlight_learning_rate': 0.022558314893981333, 'highlight_n_estimators': 116, 'highlight_subsample': 0.726530846362723, 'highlight_colsample_bytree': 0.8704868515181159, 'highlight_reg_alpha': 0.22543163546554199, 'highlight_reg_lambda': 0.018327225218450316, 'final_max_depth': 8, 'final_learning_rate': 0.012793530436149956, 'final_n_estimators': 176, 'final_subsample': 0.7511940350538795, 'final_colsample_bytree': 0.7236426235086484, 'final_reg_alpha': 0.170147978588229, 'final_reg_lambda': 0.001868684304010858, 'weight_original': 0.6624877790822077, 'weight_blackmask': 0.2521632161813243, 'weight_highlight': 0.9187158791906943, 'weight_final': 1.064240374343806, 'adaptive_weight_factor': 2.630882218240428, 'confidence_threshold': 0.8777922194219201, 'threshold_group_0': 0.2774264777838768, 'threshold_group_1': 0.3099915234703659, 'threshold_group_2': 0.3005673393323754, 'threshold_group_3': 0.2575883528734729, 'threshold_group_4': 0.40407851128177646}. Best is trial 179 with value: 0.7754392992478418.\n"
     ]
    },
    {
     "name": "stdout",
     "output_type": "stream",
     "text": [
      "Valid labels: 43, Constant labels: 12\n",
      "Training variant-specific models...\n",
      "  Training original model...\n",
      "  Training blackmask model...\n",
      "  Training highlight model...\n",
      "  Training final model...\n",
      "Training advanced variant selector...\n",
      "Trained 43 variant selectors\n"
     ]
    },
    {
     "name": "stderr",
     "output_type": "stream",
     "text": [
      "[I 2025-05-26 23:41:09,987] Trial 190 finished with value: 0.7745401453139173 and parameters: {'original_max_depth': 5, 'original_learning_rate': 0.028146353878024135, 'original_n_estimators': 158, 'original_subsample': 0.7560823658451331, 'original_colsample_bytree': 0.7498145415492916, 'original_reg_alpha': 0.84980948644289, 'original_reg_lambda': 0.35910856743445996, 'blackmask_max_depth': 10, 'blackmask_learning_rate': 0.04623803695296119, 'blackmask_n_estimators': 170, 'blackmask_subsample': 0.7393195259353829, 'blackmask_colsample_bytree': 0.8549015052351797, 'blackmask_reg_alpha': 0.0033180194310400445, 'blackmask_reg_lambda': 0.005543871373243514, 'highlight_max_depth': 9, 'highlight_learning_rate': 0.020199924027059793, 'highlight_n_estimators': 113, 'highlight_subsample': 0.7350289616206246, 'highlight_colsample_bytree': 0.8819158247907761, 'highlight_reg_alpha': 0.30109866887484543, 'highlight_reg_lambda': 0.03938794465126696, 'final_max_depth': 8, 'final_learning_rate': 0.012079485176511456, 'final_n_estimators': 172, 'final_subsample': 0.7554469691163169, 'final_colsample_bytree': 0.7125681702570708, 'final_reg_alpha': 0.2206692793202692, 'final_reg_lambda': 0.0018805733143055143, 'weight_original': 0.6929461769267722, 'weight_blackmask': 0.19551771087413333, 'weight_highlight': 1.0465833673410005, 'weight_final': 1.148641341638139, 'adaptive_weight_factor': 2.533495192302637, 'confidence_threshold': 0.8668037423209143, 'threshold_group_0': 0.25887749806648713, 'threshold_group_1': 0.29896231887832947, 'threshold_group_2': 0.3263821618695623, 'threshold_group_3': 0.25173404036510894, 'threshold_group_4': 0.38829324622641115}. Best is trial 179 with value: 0.7754392992478418.\n"
     ]
    },
    {
     "name": "stdout",
     "output_type": "stream",
     "text": [
      "Valid labels: 43, Constant labels: 12\n",
      "Training variant-specific models...\n",
      "  Training original model...\n",
      "  Training blackmask model...\n",
      "  Training highlight model...\n",
      "  Training final model...\n",
      "Training advanced variant selector...\n",
      "Trained 43 variant selectors\n"
     ]
    },
    {
     "name": "stderr",
     "output_type": "stream",
     "text": [
      "[I 2025-05-26 23:43:03,795] Trial 191 finished with value: 0.7751289819615732 and parameters: {'original_max_depth': 5, 'original_learning_rate': 0.03351979538459421, 'original_n_estimators': 160, 'original_subsample': 0.7548174161514967, 'original_colsample_bytree': 0.7392042000196052, 'original_reg_alpha': 0.8583297071956069, 'original_reg_lambda': 0.26939701547011474, 'blackmask_max_depth': 9, 'blackmask_learning_rate': 0.04667997537978047, 'blackmask_n_estimators': 169, 'blackmask_subsample': 0.7291204469964344, 'blackmask_colsample_bytree': 0.8517365922251775, 'blackmask_reg_alpha': 0.003409831554104151, 'blackmask_reg_lambda': 0.005495302068767411, 'highlight_max_depth': 9, 'highlight_learning_rate': 0.020802812932735386, 'highlight_n_estimators': 110, 'highlight_subsample': 0.7328586776645158, 'highlight_colsample_bytree': 0.8893806606940206, 'highlight_reg_alpha': 0.2951075226044126, 'highlight_reg_lambda': 0.03947561136221311, 'final_max_depth': 8, 'final_learning_rate': 0.011949543412108944, 'final_n_estimators': 172, 'final_subsample': 0.7562526526693238, 'final_colsample_bytree': 0.7106580240277373, 'final_reg_alpha': 0.23941665983505483, 'final_reg_lambda': 0.0018389728258307162, 'weight_original': 0.749895063618952, 'weight_blackmask': 0.19948680591216666, 'weight_highlight': 1.033282675654514, 'weight_final': 1.15846704944777, 'adaptive_weight_factor': 2.676552492266934, 'confidence_threshold': 0.8662755133896715, 'threshold_group_0': 0.25800737117631356, 'threshold_group_1': 0.298160216844252, 'threshold_group_2': 0.32622720093387036, 'threshold_group_3': 0.25207493572810624, 'threshold_group_4': 0.384297076991983}. Best is trial 179 with value: 0.7754392992478418.\n"
     ]
    },
    {
     "name": "stdout",
     "output_type": "stream",
     "text": [
      "Valid labels: 43, Constant labels: 12\n",
      "Training variant-specific models...\n",
      "  Training original model...\n",
      "  Training blackmask model...\n",
      "  Training highlight model...\n",
      "  Training final model...\n",
      "Training advanced variant selector...\n",
      "Trained 43 variant selectors\n"
     ]
    },
    {
     "name": "stderr",
     "output_type": "stream",
     "text": [
      "[I 2025-05-26 23:44:56,204] Trial 192 finished with value: 0.7750228217852904 and parameters: {'original_max_depth': 5, 'original_learning_rate': 0.033457524513607215, 'original_n_estimators': 149, 'original_subsample': 0.7534999763846014, 'original_colsample_bytree': 0.7497446086722571, 'original_reg_alpha': 0.712503086924704, 'original_reg_lambda': 0.28909441364083893, 'blackmask_max_depth': 10, 'blackmask_learning_rate': 0.045654075402394294, 'blackmask_n_estimators': 169, 'blackmask_subsample': 0.7395035594143472, 'blackmask_colsample_bytree': 0.8493149956134244, 'blackmask_reg_alpha': 0.00338317030120857, 'blackmask_reg_lambda': 0.005556589132689476, 'highlight_max_depth': 9, 'highlight_learning_rate': 0.021065600821341422, 'highlight_n_estimators': 113, 'highlight_subsample': 0.7371131260323006, 'highlight_colsample_bytree': 0.8891355040748727, 'highlight_reg_alpha': 0.300956561777414, 'highlight_reg_lambda': 0.038666529009722526, 'final_max_depth': 8, 'final_learning_rate': 0.01233969713820435, 'final_n_estimators': 172, 'final_subsample': 0.7569432929858293, 'final_colsample_bytree': 0.7115427814786354, 'final_reg_alpha': 0.23051592219956518, 'final_reg_lambda': 0.001811415568708068, 'weight_original': 0.7505000900953019, 'weight_blackmask': 0.1976786784687916, 'weight_highlight': 0.9926634709949719, 'weight_final': 1.1407346201913386, 'adaptive_weight_factor': 2.5666524666034056, 'confidence_threshold': 0.8661099102814189, 'threshold_group_0': 0.2591131205582511, 'threshold_group_1': 0.2952888727364937, 'threshold_group_2': 0.33025424485977894, 'threshold_group_3': 0.25089935414479175, 'threshold_group_4': 0.39206534887004457}. Best is trial 179 with value: 0.7754392992478418.\n"
     ]
    },
    {
     "name": "stdout",
     "output_type": "stream",
     "text": [
      "Valid labels: 43, Constant labels: 12\n",
      "Training variant-specific models...\n",
      "  Training original model...\n",
      "  Training blackmask model...\n",
      "  Training highlight model...\n",
      "  Training final model...\n",
      "Training advanced variant selector...\n",
      "Trained 43 variant selectors\n"
     ]
    },
    {
     "name": "stderr",
     "output_type": "stream",
     "text": [
      "[I 2025-05-26 23:46:50,237] Trial 193 finished with value: 0.774730415322987 and parameters: {'original_max_depth': 5, 'original_learning_rate': 0.0326878958234953, 'original_n_estimators': 157, 'original_subsample': 0.7752306152949974, 'original_colsample_bytree': 0.7466032546524708, 'original_reg_alpha': 0.6863639278394127, 'original_reg_lambda': 0.38159994582923135, 'blackmask_max_depth': 10, 'blackmask_learning_rate': 0.04555342171876573, 'blackmask_n_estimators': 168, 'blackmask_subsample': 0.7571750059271631, 'blackmask_colsample_bytree': 0.8520157768248628, 'blackmask_reg_alpha': 0.003310597208553525, 'blackmask_reg_lambda': 0.005548091328345321, 'highlight_max_depth': 9, 'highlight_learning_rate': 0.02154454814330043, 'highlight_n_estimators': 114, 'highlight_subsample': 0.7343722372524897, 'highlight_colsample_bytree': 0.8893663000013394, 'highlight_reg_alpha': 0.29473437168484373, 'highlight_reg_lambda': 0.04208132714115287, 'final_max_depth': 8, 'final_learning_rate': 0.012002981590095522, 'final_n_estimators': 172, 'final_subsample': 0.7644019826244041, 'final_colsample_bytree': 0.7117707783159138, 'final_reg_alpha': 0.24569407092493245, 'final_reg_lambda': 0.0018708614636193685, 'weight_original': 0.7624524936098498, 'weight_blackmask': 0.19664169218311026, 'weight_highlight': 1.0278890518129504, 'weight_final': 1.1275730617159965, 'adaptive_weight_factor': 2.5338977374234197, 'confidence_threshold': 0.867367354664195, 'threshold_group_0': 0.25009324360193097, 'threshold_group_1': 0.29042933652800584, 'threshold_group_2': 0.3157952616588479, 'threshold_group_3': 0.2515291768966577, 'threshold_group_4': 0.3942043376062861}. Best is trial 179 with value: 0.7754392992478418.\n"
     ]
    },
    {
     "name": "stdout",
     "output_type": "stream",
     "text": [
      "Valid labels: 43, Constant labels: 12\n",
      "Training variant-specific models...\n",
      "  Training original model...\n",
      "  Training blackmask model...\n",
      "  Training highlight model...\n",
      "  Training final model...\n",
      "Training advanced variant selector...\n",
      "Trained 43 variant selectors\n"
     ]
    },
    {
     "name": "stderr",
     "output_type": "stream",
     "text": [
      "[I 2025-05-26 23:48:44,413] Trial 194 finished with value: 0.7750810061020695 and parameters: {'original_max_depth': 5, 'original_learning_rate': 0.03322673192045186, 'original_n_estimators': 150, 'original_subsample': 0.7748861588340861, 'original_colsample_bytree': 0.7467601156768298, 'original_reg_alpha': 0.6753764471938495, 'original_reg_lambda': 0.3559079054255926, 'blackmask_max_depth': 10, 'blackmask_learning_rate': 0.039716892263027, 'blackmask_n_estimators': 158, 'blackmask_subsample': 0.741345168416749, 'blackmask_colsample_bytree': 0.8455370037698972, 'blackmask_reg_alpha': 0.0033938899599801576, 'blackmask_reg_lambda': 0.005509889340888666, 'highlight_max_depth': 9, 'highlight_learning_rate': 0.02211756126604394, 'highlight_n_estimators': 119, 'highlight_subsample': 0.734440144550586, 'highlight_colsample_bytree': 0.892041429067395, 'highlight_reg_alpha': 0.31200179130799893, 'highlight_reg_lambda': 0.03730653270380285, 'final_max_depth': 8, 'final_learning_rate': 0.010351827708684706, 'final_n_estimators': 172, 'final_subsample': 0.7608694323056636, 'final_colsample_bytree': 0.7121965520986084, 'final_reg_alpha': 0.28797430337107427, 'final_reg_lambda': 0.0017980692110232451, 'weight_original': 0.8173881618856593, 'weight_blackmask': 0.2002016573488463, 'weight_highlight': 1.0286895207676197, 'weight_final': 1.1361342792430844, 'adaptive_weight_factor': 2.540204089436029, 'confidence_threshold': 0.865661524577365, 'threshold_group_0': 0.25912774674066485, 'threshold_group_1': 0.28672731374735205, 'threshold_group_2': 0.32533110426432393, 'threshold_group_3': 0.25164538751066345, 'threshold_group_4': 0.3986104853500513}. Best is trial 179 with value: 0.7754392992478418.\n"
     ]
    },
    {
     "name": "stdout",
     "output_type": "stream",
     "text": [
      "Valid labels: 43, Constant labels: 12\n",
      "Training variant-specific models...\n",
      "  Training original model...\n",
      "  Training blackmask model...\n",
      "  Training highlight model...\n",
      "  Training final model...\n",
      "Training advanced variant selector...\n",
      "Trained 43 variant selectors\n"
     ]
    },
    {
     "name": "stderr",
     "output_type": "stream",
     "text": [
      "[I 2025-05-26 23:50:37,862] Trial 195 finished with value: 0.7749341073177229 and parameters: {'original_max_depth': 5, 'original_learning_rate': 0.03336910746763099, 'original_n_estimators': 148, 'original_subsample': 0.7740934207581489, 'original_colsample_bytree': 0.7534115621481373, 'original_reg_alpha': 0.6359060369490752, 'original_reg_lambda': 0.3499225605135941, 'blackmask_max_depth': 10, 'blackmask_learning_rate': 0.03993745751175295, 'blackmask_n_estimators': 155, 'blackmask_subsample': 0.7399759807257373, 'blackmask_colsample_bytree': 0.844008633086011, 'blackmask_reg_alpha': 0.005000094514528, 'blackmask_reg_lambda': 0.005286448833162126, 'highlight_max_depth': 9, 'highlight_learning_rate': 0.02394960799420542, 'highlight_n_estimators': 114, 'highlight_subsample': 0.7139864333967443, 'highlight_colsample_bytree': 0.8932084804291125, 'highlight_reg_alpha': 0.3067768215439757, 'highlight_reg_lambda': 0.036101282517224116, 'final_max_depth': 8, 'final_learning_rate': 0.011886114394947314, 'final_n_estimators': 172, 'final_subsample': 0.756325774856704, 'final_colsample_bytree': 0.7106744045538568, 'final_reg_alpha': 0.19666946400913995, 'final_reg_lambda': 0.0019260991024378524, 'weight_original': 0.8266997769226762, 'weight_blackmask': 0.2050908068077803, 'weight_highlight': 1.0299737136728258, 'weight_final': 1.0088130356894967, 'adaptive_weight_factor': 2.468791045694257, 'confidence_threshold': 0.8656116656201739, 'threshold_group_0': 0.25134827712129737, 'threshold_group_1': 0.2851913860939392, 'threshold_group_2': 0.3227689743517128, 'threshold_group_3': 0.25145140184700854, 'threshold_group_4': 0.3961766864550177}. Best is trial 179 with value: 0.7754392992478418.\n"
     ]
    },
    {
     "name": "stdout",
     "output_type": "stream",
     "text": [
      "Valid labels: 43, Constant labels: 12\n",
      "Training variant-specific models...\n",
      "  Training original model...\n",
      "  Training blackmask model...\n",
      "  Training highlight model...\n",
      "  Training final model...\n",
      "Training advanced variant selector...\n",
      "Trained 43 variant selectors\n"
     ]
    },
    {
     "name": "stderr",
     "output_type": "stream",
     "text": [
      "[I 2025-05-26 23:52:30,800] Trial 196 finished with value: 0.7746286350687452 and parameters: {'original_max_depth': 5, 'original_learning_rate': 0.03340195703608402, 'original_n_estimators': 148, 'original_subsample': 0.7754336722268261, 'original_colsample_bytree': 0.7496702707744136, 'original_reg_alpha': 0.6430114736367165, 'original_reg_lambda': 0.39519255998779335, 'blackmask_max_depth': 10, 'blackmask_learning_rate': 0.04036725514441824, 'blackmask_n_estimators': 146, 'blackmask_subsample': 0.7406211042592976, 'blackmask_colsample_bytree': 0.8513565396917114, 'blackmask_reg_alpha': 0.004964453893704754, 'blackmask_reg_lambda': 0.005795921696100505, 'highlight_max_depth': 9, 'highlight_learning_rate': 0.023912916108197808, 'highlight_n_estimators': 110, 'highlight_subsample': 0.7131388508093589, 'highlight_colsample_bytree': 0.9007359852222849, 'highlight_reg_alpha': 0.3183325040310481, 'highlight_reg_lambda': 0.04005813803113661, 'final_max_depth': 8, 'final_learning_rate': 0.010677661253636842, 'final_n_estimators': 172, 'final_subsample': 0.7744066481509811, 'final_colsample_bytree': 0.7107854331413385, 'final_reg_alpha': 0.19626569128437593, 'final_reg_lambda': 0.0015550343234956054, 'weight_original': 0.8235600098906893, 'weight_blackmask': 0.19809668812267603, 'weight_highlight': 1.1101730781535013, 'weight_final': 1.1192179700935996, 'adaptive_weight_factor': 2.5223289550326697, 'confidence_threshold': 0.8644251278931874, 'threshold_group_0': 0.2555476244548641, 'threshold_group_1': 0.2857825613986845, 'threshold_group_2': 0.3157415263226356, 'threshold_group_3': 0.2500571645897845, 'threshold_group_4': 0.39872219604119263}. Best is trial 179 with value: 0.7754392992478418.\n"
     ]
    },
    {
     "name": "stdout",
     "output_type": "stream",
     "text": [
      "Valid labels: 43, Constant labels: 12\n",
      "Training variant-specific models...\n",
      "  Training original model...\n",
      "  Training blackmask model...\n",
      "  Training highlight model...\n",
      "  Training final model...\n",
      "Training advanced variant selector...\n",
      "Trained 43 variant selectors\n"
     ]
    },
    {
     "name": "stderr",
     "output_type": "stream",
     "text": [
      "[I 2025-05-26 23:54:23,693] Trial 197 finished with value: 0.7742074958704344 and parameters: {'original_max_depth': 5, 'original_learning_rate': 0.03350348668312528, 'original_n_estimators': 148, 'original_subsample': 0.77446846205069, 'original_colsample_bytree': 0.7519327054714543, 'original_reg_alpha': 0.6311227944072868, 'original_reg_lambda': 0.3763754581946953, 'blackmask_max_depth': 10, 'blackmask_learning_rate': 0.03966804901910272, 'blackmask_n_estimators': 142, 'blackmask_subsample': 0.7591660164521585, 'blackmask_colsample_bytree': 0.8446609488609075, 'blackmask_reg_alpha': 0.0033331240234352366, 'blackmask_reg_lambda': 0.005666645242625399, 'highlight_max_depth': 9, 'highlight_learning_rate': 0.026031587823569048, 'highlight_n_estimators': 110, 'highlight_subsample': 0.7089674667984909, 'highlight_colsample_bytree': 0.8941122618210577, 'highlight_reg_alpha': 0.31063503354898453, 'highlight_reg_lambda': 0.040290779317337856, 'final_max_depth': 8, 'final_learning_rate': 0.010547905111636138, 'final_n_estimators': 173, 'final_subsample': 0.766236980038559, 'final_colsample_bytree': 0.7086083912863718, 'final_reg_alpha': 0.3007132792452021, 'final_reg_lambda': 0.0015834678488905155, 'weight_original': 0.8177237020905374, 'weight_blackmask': 0.20620901383323856, 'weight_highlight': 1.1059447012572137, 'weight_final': 1.11473422870304, 'adaptive_weight_factor': 2.531143147179383, 'confidence_threshold': 0.8643145258323822, 'threshold_group_0': 0.2520165858979932, 'threshold_group_1': 0.2817938604782067, 'threshold_group_2': 0.3146062904993491, 'threshold_group_3': 0.25014797791915727, 'threshold_group_4': 0.3992573860593769}. Best is trial 179 with value: 0.7754392992478418.\n"
     ]
    },
    {
     "name": "stdout",
     "output_type": "stream",
     "text": [
      "Valid labels: 43, Constant labels: 12\n",
      "Training variant-specific models...\n",
      "  Training original model...\n",
      "  Training blackmask model...\n",
      "  Training highlight model...\n",
      "  Training final model...\n",
      "Training advanced variant selector...\n",
      "Trained 43 variant selectors\n"
     ]
    },
    {
     "name": "stderr",
     "output_type": "stream",
     "text": [
      "[I 2025-05-26 23:56:16,031] Trial 198 finished with value: 0.7746245895196141 and parameters: {'original_max_depth': 5, 'original_learning_rate': 0.028443747150258464, 'original_n_estimators': 144, 'original_subsample': 0.7775478191931191, 'original_colsample_bytree': 0.757494641803075, 'original_reg_alpha': 0.6861543064474537, 'original_reg_lambda': 0.525077262437666, 'blackmask_max_depth': 10, 'blackmask_learning_rate': 0.03853173412991349, 'blackmask_n_estimators': 145, 'blackmask_subsample': 0.7391495182760899, 'blackmask_colsample_bytree': 0.8521798095182181, 'blackmask_reg_alpha': 0.003398436072422606, 'blackmask_reg_lambda': 0.005226791779442237, 'highlight_max_depth': 9, 'highlight_learning_rate': 0.02408184672775635, 'highlight_n_estimators': 114, 'highlight_subsample': 0.7133060480363507, 'highlight_colsample_bytree': 0.9124387892785661, 'highlight_reg_alpha': 0.3054895134252536, 'highlight_reg_lambda': 0.04464730107102612, 'final_max_depth': 8, 'final_learning_rate': 0.010029662498226285, 'final_n_estimators': 186, 'final_subsample': 0.7637044954410868, 'final_colsample_bytree': 0.7122059084105199, 'final_reg_alpha': 0.23210539612530007, 'final_reg_lambda': 0.001960579747900356, 'weight_original': 0.8770111126432729, 'weight_blackmask': 0.19774414950123026, 'weight_highlight': 1.0358628328220756, 'weight_final': 1.128042510402982, 'adaptive_weight_factor': 2.5504536942815004, 'confidence_threshold': 0.8551179805237392, 'threshold_group_0': 0.2500379784541185, 'threshold_group_1': 0.2900191205256426, 'threshold_group_2': 0.3270293951298631, 'threshold_group_3': 0.25848822504330404, 'threshold_group_4': 0.3778641421590607}. Best is trial 179 with value: 0.7754392992478418.\n"
     ]
    },
    {
     "name": "stdout",
     "output_type": "stream",
     "text": [
      "Valid labels: 43, Constant labels: 12\n",
      "Training variant-specific models...\n",
      "  Training original model...\n",
      "  Training blackmask model...\n",
      "  Training highlight model...\n",
      "  Training final model...\n",
      "Training advanced variant selector...\n",
      "Trained 43 variant selectors\n"
     ]
    },
    {
     "name": "stderr",
     "output_type": "stream",
     "text": [
      "[I 2025-05-26 23:58:07,574] Trial 199 finished with value: 0.7741122192245586 and parameters: {'original_max_depth': 5, 'original_learning_rate': 0.024764032649397184, 'original_n_estimators': 143, 'original_subsample': 0.786439158209444, 'original_colsample_bytree': 0.7585123789162904, 'original_reg_alpha': 0.6639900565741917, 'original_reg_lambda': 0.5647688055421465, 'blackmask_max_depth': 10, 'blackmask_learning_rate': 0.03842805374868354, 'blackmask_n_estimators': 143, 'blackmask_subsample': 0.7291670882029907, 'blackmask_colsample_bytree': 0.837723101998055, 'blackmask_reg_alpha': 0.0035746443351059648, 'blackmask_reg_lambda': 0.006431520087038142, 'highlight_max_depth': 9, 'highlight_learning_rate': 0.02371609566704195, 'highlight_n_estimators': 116, 'highlight_subsample': 0.7085213073264035, 'highlight_colsample_bytree': 0.9048293787835854, 'highlight_reg_alpha': 0.3808716517113311, 'highlight_reg_lambda': 0.046827154369545675, 'final_max_depth': 8, 'final_learning_rate': 0.01011625899409819, 'final_n_estimators': 187, 'final_subsample': 0.7698655774218026, 'final_colsample_bytree': 0.7055263577892432, 'final_reg_alpha': 0.18350253073221237, 'final_reg_lambda': 0.002136899290618034, 'weight_original': 0.7516635829563387, 'weight_blackmask': 0.195243274550543, 'weight_highlight': 1.0193684489024566, 'weight_final': 0.9892634900823697, 'adaptive_weight_factor': 2.4731752321876828, 'confidence_threshold': 0.8538666531252499, 'threshold_group_0': 0.2502363065764697, 'threshold_group_1': 0.2891167803431753, 'threshold_group_2': 0.30048641535744236, 'threshold_group_3': 0.26166859474207055, 'threshold_group_4': 0.3760246785957402}. Best is trial 179 with value: 0.7754392992478418.\n"
     ]
    },
    {
     "name": "stdout",
     "output_type": "stream",
     "text": [
      "\n",
      "======================================================================\n",
      "ULTRA-OPTIMIZED META-STACKING RESULTS\n",
      "======================================================================\n",
      "Best Combined Score: 0.775439\n",
      "Number of completed trials: 200\n",
      "\n",
      "Best Hyperparameters:\n",
      "  adaptive_weight_factor   : 2.6791\n",
      "  blackmask_colsample_bytree: 0.8523\n",
      "  blackmask_learning_rate  : 0.0418\n",
      "  blackmask_max_depth      : 5\n",
      "  blackmask_n_estimators   : 170\n",
      "  blackmask_reg_alpha      : 0.0027\n",
      "  blackmask_reg_lambda     : 0.0035\n",
      "  blackmask_subsample      : 0.7405\n",
      "  confidence_threshold     : 0.8781\n",
      "  final_colsample_bytree   : 0.7268\n",
      "  final_learning_rate      : 0.0132\n",
      "  final_max_depth          : 8\n",
      "  final_n_estimators       : 167\n",
      "  final_reg_alpha          : 0.2713\n",
      "  final_reg_lambda         : 0.0018\n",
      "  final_subsample          : 0.7352\n",
      "  highlight_colsample_bytree: 0.8869\n",
      "  highlight_learning_rate  : 0.0206\n",
      "  highlight_max_depth      : 9\n",
      "  highlight_n_estimators   : 113\n",
      "  highlight_reg_alpha      : 0.1981\n",
      "  highlight_reg_lambda     : 0.0160\n",
      "  highlight_subsample      : 0.7569\n",
      "  original_colsample_bytree: 0.7195\n",
      "  original_learning_rate   : 0.0739\n",
      "  original_max_depth       : 5\n",
      "  original_n_estimators    : 174\n",
      "  original_reg_alpha       : 0.7824\n",
      "  original_reg_lambda      : 0.2507\n",
      "  original_subsample       : 0.7444\n",
      "  threshold_group_0        : 0.2761\n",
      "  threshold_group_1        : 0.3079\n",
      "  threshold_group_2        : 0.3728\n",
      "  threshold_group_3        : 0.2588\n",
      "  threshold_group_4        : 0.3886\n",
      "  weight_blackmask         : 0.2410\n",
      "  weight_final             : 1.2071\n",
      "  weight_highlight         : 0.9073\n",
      "  weight_original          : 0.6797\n",
      "\n",
      "======================================================================\n",
      "FINAL MODEL EVALUATION\n",
      "======================================================================\n",
      "Valid labels: 43, Constant labels: 12\n",
      "Training variant-specific models...\n",
      "  Training original model...\n",
      "  Training blackmask model...\n",
      "  Training highlight model...\n",
      "  Training final model...\n",
      "Training advanced variant selector...\n",
      "Trained 43 variant selectors\n",
      "Final Test Metrics:\n",
      "  F1 Score (samples): 0.892183\n",
      "  F1 Score (macro):   0.490999\n",
      "  F1 Score (micro):   0.884999\n",
      "  Accuracy:           0.830702\n",
      "  Combined Score:     0.775439\n",
      "\n",
      "======================================================================\n",
      "VARIANT SELECTION ANALYSIS\n",
      "======================================================================\n",
      "Variant Selection Statistics:\n",
      "  original    : 541994 selections ( 45.6%) | Avg per label: 12604.5\n",
      "  blackmask   : 645666 selections ( 54.4%) | Avg per label: 15015.5\n",
      "  highlight   :      0 selections (  0.0%) | Avg per label: 0.0\n",
      "  final       :      0 selections (  0.0%) | Avg per label: 0.0\n",
      "\n",
      "Variant Performance Statistics:\n",
      "  original    : Mean Score = 0.9984, Std = 0.0185, Best Count = 72634\n",
      "  blackmask   : Mean Score = 0.9986, Std = 0.0155, Best Count = 81969\n",
      "  highlight   : Mean Score = 0.9880, Std = 0.0353, Best Count = 127\n",
      "  final       : Mean Score = 0.9863, Std = 0.0387, Best Count = 70\n",
      "\n",
      "Optimization completed successfully!\n",
      "Expected improvement over baseline: 55.1%\n"
     ]
    }
   ],
   "source": [
    "import os, ast, warnings, subprocess\n",
    "import numpy as np, pandas as pd\n",
    "from sklearn.multioutput import MultiOutputClassifier\n",
    "from sklearn.ensemble import RandomForestClassifier\n",
    "from sklearn.metrics import f1_score, accuracy_score, log_loss\n",
    "from sklearn.model_selection import StratifiedKFold\n",
    "import optuna\n",
    "import logging\n",
    "from concurrent.futures import ThreadPoolExecutor\n",
    "import pickle\n",
    "from typing import Dict, Tuple, Optional, List\n",
    "import gc\n",
    "\n",
    "# Base models\n",
    "from xgboost import XGBClassifier\n",
    "from lightgbm import LGBMClassifier\n",
    "\n",
    "# Setup\n",
    "warnings.filterwarnings('ignore')\n",
    "for logger_name in ['xgboost', 'lightgbm', 'catboost']:\n",
    "    logging.getLogger(logger_name).setLevel(logging.ERROR)\n",
    "\n",
    "def has_gpu() -> bool:\n",
    "    try:\n",
    "        return \"GPU\" in subprocess.check_output([\"nvidia-smi\", \"-L\"]).decode()\n",
    "    except:\n",
    "        return False\n",
    "\n",
    "USE_GPU = has_gpu()\n",
    "print(f\"GPU available: {USE_GPU}\")\n",
    "\n",
    "# Enhanced Configuration\n",
    "BASE_DIR = \"/kaggle/input/all-prediction\"\n",
    "VARIANTS = [\"original\", \"blackmask\", \"highlight\", \"final\"]\n",
    "FVAL, FTEST = \"val_preds.csv\", \"test_preds.csv\"\n",
    "FEATURES = [\n",
    "    '0','1','11-20mm','2','3','4','5','5-10mm','< 5mm','>20mm','barretts',\n",
    "    'biopsy forceps','black','blue','brown','capsule endoscopy','cecum',\n",
    "    'center','center-left','center-right','colonoscopy','flesh','gastroscopy',\n",
    "    'green','grey','hemorrhoids','ileum','injection needle','lower-center',\n",
    "    'lower-left','lower-right','metal clip','no','not relevant',\n",
    "    'oesophagitis','orange','paris iia','paris ip','paris is','pink','polyp',\n",
    "    'polyp snare','purple','pylorus','red','short-segment barretts','tube',\n",
    "    'ulcerative colitis','upper-center','upper-left','upper-right','white',\n",
    "    'yellow','yes','z-line'\n",
    "]\n",
    "\n",
    "# Smart data loading with validation\n",
    "def load_and_validate_data() -> Dict[str, Dict[str, pd.DataFrame]]:\n",
    "    \"\"\"Load and validate prediction data with error checking\"\"\"\n",
    "    all_preds = {}\n",
    "    for v in VARIANTS:\n",
    "        pv = os.path.join(BASE_DIR, v, FVAL)\n",
    "        pt = os.path.join(BASE_DIR, v, FTEST)\n",
    "        \n",
    "        if not (os.path.exists(pv) and os.path.exists(pt)):\n",
    "            raise FileNotFoundError(f\"Missing files for variant {v}\")\n",
    "            \n",
    "        val_df = pd.read_csv(pv)\n",
    "        test_df = pd.read_csv(pt)\n",
    "        \n",
    "        # Validate data consistency\n",
    "        if len(val_df) == 0 or len(test_df) == 0:\n",
    "            raise ValueError(f\"Empty dataframe for variant {v}\")\n",
    "            \n",
    "        all_preds[v] = {\"val\": val_df, \"test\": test_df}\n",
    "        \n",
    "    print(f\"Successfully loaded {len(VARIANTS)} variants with validation\")\n",
    "    return all_preds\n",
    "\n",
    "all_preds = load_and_validate_data()\n",
    "\n",
    "def parse_labels(col: pd.Series) -> np.ndarray:\n",
    "    \"\"\"Optimized label parsing with error handling\"\"\"\n",
    "    try:\n",
    "        return np.vstack([ast.literal_eval(x) for x in col])\n",
    "    except Exception as e:\n",
    "        raise ValueError(f\"Error parsing labels: {e}\")\n",
    "\n",
    "# ================================================================\n",
    "# ENHANCED VARIANT SELECTOR WITH ADVANCED FEATURES\n",
    "# ================================================================\n",
    "\n",
    "class AdvancedVariantSelector:\n",
    "    \"\"\"\n",
    "    Intelligent variant selector with sophisticated meta-features\n",
    "    and cross-validation based training\n",
    "    \"\"\"\n",
    "    \n",
    "    def __init__(self, n_labels: int, cv_folds: int = 3):\n",
    "        self.n_labels = n_labels\n",
    "        self.cv_folds = cv_folds\n",
    "        self.selectors = {}\n",
    "        self.feature_importance = {}\n",
    "        self.variant_stats = {}\n",
    "        self._feature_cache = {}\n",
    "        \n",
    "    def _compute_advanced_meta_features(self, predictions_dict: Dict[str, pd.DataFrame]) -> np.ndarray:\n",
    "        \"\"\"\n",
    "        Compute sophisticated meta-features for variant selection\n",
    "        \"\"\"\n",
    "        n_samples = len(next(iter(predictions_dict.values())))\n",
    "        cache_key = (n_samples, tuple(sorted(predictions_dict.keys())))\n",
    "        if cache_key in self._feature_cache:\n",
    "            return self._feature_cache[cache_key]\n",
    "            \n",
    "        n_samples = len(next(iter(predictions_dict.values())))\n",
    "        n_features_per_variant = 8  # Increased feature count\n",
    "        meta_features = np.zeros((n_samples, len(VARIANTS) * n_features_per_variant), dtype=np.float32)\n",
    "        \n",
    "        for i, variant in enumerate(VARIANTS):\n",
    "            probs = predictions_dict[variant].values\n",
    "            \n",
    "            # Enhanced feature set\n",
    "            max_conf = np.max(probs, axis=1)\n",
    "            min_conf = np.min(probs, axis=1)\n",
    "            entropy = -np.sum(probs * np.log(probs + 1e-12), axis=1)\n",
    "            high_conf_count = np.sum(probs > 0.7, axis=1)\n",
    "            low_conf_count = np.sum(probs < 0.3, axis=1)\n",
    "            avg_conf = np.mean(probs, axis=1)\n",
    "            std_conf = np.std(probs, axis=1)\n",
    "            conf_range = max_conf - min_conf\n",
    "            \n",
    "            start_idx = i * n_features_per_variant\n",
    "            meta_features[:, start_idx:start_idx + n_features_per_variant] = np.column_stack([\n",
    "                max_conf, min_conf, entropy, high_conf_count, \n",
    "                low_conf_count, avg_conf, std_conf, conf_range\n",
    "            ])\n",
    "        \n",
    "        # Cross-variant features\n",
    "        cross_features = self._compute_cross_variant_features(predictions_dict)\n",
    "        meta_features = np.hstack([meta_features, cross_features])\n",
    "        \n",
    "        self._feature_cache[cache_key] = meta_features\n",
    "        return meta_features\n",
    "    \n",
    "    def _compute_cross_variant_features(self, predictions_dict: Dict[str, pd.DataFrame]) -> np.ndarray:\n",
    "        \"\"\"Compute features comparing across variants\"\"\"\n",
    "        n_samples = len(next(iter(predictions_dict.values())))\n",
    "        \n",
    "        # Stack all variant predictions\n",
    "        all_preds = np.stack([predictions_dict[v].values for v in VARIANTS], axis=0)  # (4, N, L)\n",
    "        \n",
    "        # Agreement features\n",
    "        pred_agreement = np.std(all_preds, axis=0).mean(axis=1)  # How much variants agree\n",
    "        max_disagreement = np.max(all_preds, axis=0).max(axis=1) - np.min(all_preds, axis=0).min(axis=1)\n",
    "        \n",
    "        # Confidence-based features\n",
    "        conf_consistency = 1.0 / (1.0 + np.var(all_preds, axis=0).mean(axis=1))\n",
    "        \n",
    "        return np.column_stack([pred_agreement, max_disagreement, conf_consistency])\n",
    "    \n",
    "    def _compute_variant_performance_scores(self, predictions_dict: Dict[str, pd.DataFrame], \n",
    "                                          labels: np.ndarray) -> np.ndarray:\n",
    "        \"\"\"\n",
    "        Compute sophisticated performance scores for each variant\n",
    "        \"\"\"\n",
    "        n_samples, n_labels = labels.shape\n",
    "        scores = np.zeros((n_samples, n_labels, len(VARIANTS)))\n",
    "        \n",
    "        for i, variant in enumerate(VARIANTS):\n",
    "            probs = predictions_dict[variant].values\n",
    "            \n",
    "            for label_idx in range(n_labels):\n",
    "                true_labels = labels[:, label_idx]\n",
    "                pred_probs = probs[:, label_idx]\n",
    "                \n",
    "                # Multiple scoring metrics\n",
    "                binary_preds = (pred_probs > 0.5).astype(int)\n",
    "                correctness = (true_labels == binary_preds).astype(float)\n",
    "                \n",
    "                # Confidence-weighted correctness\n",
    "                confidence = np.maximum(pred_probs, 1 - pred_probs)\n",
    "                conf_weighted_score = correctness * confidence\n",
    "                \n",
    "                # Log loss component (inverted)\n",
    "                log_loss_score = np.where(\n",
    "                    true_labels == 1,\n",
    "                    -np.log(pred_probs + 1e-12),\n",
    "                    -np.log(1 - pred_probs + 1e-12)\n",
    "                )\n",
    "                log_loss_score = 1.0 / (1.0 + log_loss_score)  # Invert so higher is better\n",
    "                \n",
    "                # Combined score\n",
    "                combined_score = 0.4 * correctness + 0.4 * conf_weighted_score + 0.2 * log_loss_score\n",
    "                scores[:, label_idx, i] = combined_score\n",
    "                \n",
    "        return scores\n",
    "    \n",
    "    def fit(self, val_predictions: Dict[str, pd.DataFrame], val_labels: np.ndarray) -> 'AdvancedVariantSelector':\n",
    "        \"\"\"\n",
    "        Train variant selectors with cross-validation\n",
    "        \"\"\"\n",
    "        print(\"Training advanced variant selector...\")\n",
    "        \n",
    "        meta_features = self._compute_advanced_meta_features(val_predictions)\n",
    "        performance_scores = self._compute_variant_performance_scores(val_predictions, val_labels)\n",
    "        \n",
    "        # Best variant for each sample-label based on performance scores\n",
    "        best_variants = np.argmax(performance_scores, axis=2)\n",
    "        \n",
    "        # Train selectors with cross-validation\n",
    "        skf = StratifiedKFold(n_splits=self.cv_folds, shuffle=True, random_state=42)\n",
    "        \n",
    "        for label_idx in range(self.n_labels):\n",
    "            target = best_variants[:, label_idx]\n",
    "            \n",
    "            if len(np.unique(target)) > 1:  # Only train if there's variation\n",
    "                # Use more sophisticated model\n",
    "                self.selectors[label_idx] = RandomForestClassifier(\n",
    "                    n_estimators=150,\n",
    "                    max_depth=12,\n",
    "                    min_samples_split=5,\n",
    "                    min_samples_leaf=2,\n",
    "                    max_features='sqrt',\n",
    "                    random_state=42,\n",
    "                    n_jobs=-1\n",
    "                )\n",
    "                \n",
    "                try:\n",
    "                    self.selectors[label_idx].fit(meta_features, target)\n",
    "                    \n",
    "                    # Store feature importance\n",
    "                    self.feature_importance[label_idx] = self.selectors[label_idx].feature_importances_\n",
    "                    \n",
    "                except Exception as e:\n",
    "                    print(f\"Warning: Failed to train selector for label {label_idx}: {e}\")\n",
    "                    continue\n",
    "        \n",
    "        # Compute variant statistics\n",
    "        self._compute_variant_statistics(performance_scores)\n",
    "        \n",
    "        print(f\"Trained {len(self.selectors)} variant selectors\")\n",
    "        return self\n",
    "    \n",
    "    def _compute_variant_statistics(self, performance_scores: np.ndarray):\n",
    "        \"\"\"Compute and store variant performance statistics\"\"\"\n",
    "        for i, variant in enumerate(VARIANTS):\n",
    "            variant_scores = performance_scores[:, :, i]\n",
    "            self.variant_stats[variant] = {\n",
    "                'mean_score': np.mean(variant_scores),\n",
    "                'std_score': np.std(variant_scores),\n",
    "                'best_label_count': np.sum(np.argmax(performance_scores, axis=2) == i)\n",
    "            }\n",
    "    \n",
    "    def predict_best_variants(self, test_predictions: Dict[str, pd.DataFrame]) -> np.ndarray:\n",
    "        \"\"\"\n",
    "        Predict best variant for each sample-label combination\n",
    "        \"\"\"\n",
    "        meta_features = self._compute_advanced_meta_features(test_predictions)\n",
    "        n_samples = meta_features.shape[0]\n",
    "        \n",
    "        predicted_variants = np.zeros((n_samples, self.n_labels), dtype=int)\n",
    "        \n",
    "        for label_idx in range(self.n_labels):\n",
    "            if label_idx in self.selectors:\n",
    "                try:\n",
    "                    predicted_variants[:, label_idx] = self.selectors[label_idx].predict(meta_features)\n",
    "                except Exception as e:\n",
    "                    print(f\"Warning: Prediction failed for label {label_idx}, using fallback\")\n",
    "                    predicted_variants[:, label_idx] = self._fallback_variant_selection(\n",
    "                        test_predictions, label_idx\n",
    "                    )\n",
    "            else:\n",
    "                predicted_variants[:, label_idx] = self._fallback_variant_selection(\n",
    "                    test_predictions, label_idx\n",
    "                )\n",
    "        \n",
    "        return predicted_variants\n",
    "    \n",
    "    def _fallback_variant_selection(self, test_predictions: Dict[str, pd.DataFrame], \n",
    "                                  label_idx: int) -> int:\n",
    "        \"\"\"Fallback variant selection based on statistics\"\"\"\n",
    "        if hasattr(self, 'variant_stats') and self.variant_stats:\n",
    "            # Use variant with best average performance\n",
    "            best_variant = max(self.variant_stats.keys(), \n",
    "                             key=lambda v: self.variant_stats[v]['mean_score'])\n",
    "            return VARIANTS.index(best_variant)\n",
    "        else:\n",
    "            # Default fallback: use variant with highest confidence\n",
    "            confidences = np.zeros(len(VARIANTS))\n",
    "            for i, variant in enumerate(VARIANTS):\n",
    "                preds = test_predictions[variant].values[:, label_idx]\n",
    "                confidences[i] = np.mean(np.maximum(preds, 1 - preds))\n",
    "            return np.argmax(confidences)\n",
    "\n",
    "# ================================================================\n",
    "# ULTRA-ENHANCED META-STACKING WITH VARIANT-SPECIFIC OPTIMIZATION\n",
    "# ================================================================\n",
    "\n",
    "class UltraEnhancedMetaStacking:\n",
    "    \"\"\"\n",
    "    Ultra-optimized meta-stacking with variant-specific models and adaptive ensemble\n",
    "    \"\"\"\n",
    "    \n",
    "    def __init__(self):\n",
    "        self.base_models = {}\n",
    "        self.variant_selector = None\n",
    "        self.ensemble_weights = None\n",
    "        self.adaptive_thresholds = None\n",
    "        self.valid_labels = None\n",
    "        self.const_labels = {}\n",
    "        self.variant_specific_params = {}\n",
    "        self._prediction_cache = {}\n",
    "        \n",
    "    def _get_variant_specific_params(self, variant: str, trial: optuna.Trial) -> Dict:\n",
    "        \"\"\"\n",
    "        Get optimized parameters for each specific variant\n",
    "        \"\"\"\n",
    "        base_params = {\n",
    "            \"objective\": \"binary:logistic\",\n",
    "            \"tree_method\": \"hist\",\n",
    "            \"device\": \"cuda\" if USE_GPU else \"cpu\",\n",
    "            \"verbosity\": 0,\n",
    "            \"random_state\": 42,\n",
    "            \"eval_metric\": \"logloss\",\n",
    "        }\n",
    "        \n",
    "        # Variant-specific parameter optimization\n",
    "        variant_prefix = f\"{variant}_\"\n",
    "        \n",
    "        # Different parameter ranges for different variants\n",
    "        if variant == \"original\":\n",
    "            depth_range = (4, 8)\n",
    "            lr_range = (0.01, 0.2)\n",
    "            est_range = (100, 250)\n",
    "        elif variant == \"blackmask\":\n",
    "            depth_range = (5, 10)\n",
    "            lr_range = (0.02, 0.25)\n",
    "            est_range = (120, 300)\n",
    "        elif variant == \"highlight\":\n",
    "            depth_range = (4, 9)\n",
    "            lr_range = (0.015, 0.22)\n",
    "            est_range = (110, 280)\n",
    "        else:  # final\n",
    "            depth_range = (6, 12)\n",
    "            lr_range = (0.01, 0.3)\n",
    "            est_range = (150, 350)\n",
    "        \n",
    "        variant_params = {\n",
    "            \"max_depth\": trial.suggest_int(f\"{variant_prefix}max_depth\", *depth_range),\n",
    "            \"learning_rate\": trial.suggest_loguniform(f\"{variant_prefix}learning_rate\", *lr_range),\n",
    "            \"n_estimators\": trial.suggest_int(f\"{variant_prefix}n_estimators\", *est_range),\n",
    "            \"subsample\": trial.suggest_float(f\"{variant_prefix}subsample\", 0.7, 1.0),\n",
    "            \"colsample_bytree\": trial.suggest_float(f\"{variant_prefix}colsample_bytree\", 0.7, 1.0),\n",
    "            \"reg_alpha\": trial.suggest_loguniform(f\"{variant_prefix}reg_alpha\", 1e-3, 1.0),\n",
    "            \"reg_lambda\": trial.suggest_loguniform(f\"{variant_prefix}reg_lambda\", 1e-3, 1.0),\n",
    "        }\n",
    "        \n",
    "        return {**base_params, **variant_params}\n",
    "    \n",
    "    def train_variant_specific_models(self, X_val_dict: Dict[str, np.ndarray], \n",
    "                                    y_val: np.ndarray, trial: optuna.Trial):\n",
    "        \"\"\"\n",
    "        Train variant-specific models with individual optimization\n",
    "        \"\"\"\n",
    "        print(\"Training variant-specific models...\")\n",
    "        \n",
    "        for variant in VARIANTS:\n",
    "            print(f\"  Training {variant} model...\")\n",
    "            \n",
    "            params = self._get_variant_specific_params(variant, trial)\n",
    "            self.variant_specific_params[variant] = params\n",
    "            \n",
    "            self.base_models[variant] = MultiOutputClassifier(\n",
    "                XGBClassifier(**params),\n",
    "                n_jobs=-1\n",
    "            )\n",
    "            \n",
    "            # Train with early stopping simulation (reduced overfitting)\n",
    "            self.base_models[variant].fit(X_val_dict[variant], y_val)\n",
    "    \n",
    "    def fit(self, X_val_dict: Dict[str, np.ndarray], y_val: np.ndarray, \n",
    "            trial: optuna.Trial) -> 'UltraEnhancedMetaStacking':\n",
    "        \"\"\"\n",
    "        Complete optimized training pipeline\n",
    "        \"\"\"\n",
    "        # 1. Identify valid and constant labels\n",
    "        self.valid_labels = [j for j in range(y_val.shape[1]) \n",
    "                           if y_val[:, j].min() < y_val[:, j].max()]\n",
    "        self.const_labels = {j: int(y_val[0, j]) for j in range(y_val.shape[1]) \n",
    "                           if j not in self.valid_labels}\n",
    "        \n",
    "        print(f\"Valid labels: {len(self.valid_labels)}, Constant labels: {len(self.const_labels)}\")\n",
    "        \n",
    "        # Work only with valid labels\n",
    "        y_val_valid = y_val[:, self.valid_labels]\n",
    "        \n",
    "        # 2. Train variant-specific models\n",
    "        self.train_variant_specific_models(X_val_dict, y_val_valid, trial)\n",
    "        \n",
    "        # 3. Generate validation predictions for variant selector\n",
    "        val_predictions = self._generate_validation_predictions(X_val_dict)\n",
    "        \n",
    "        # 4. Train advanced variant selector\n",
    "        self.variant_selector = AdvancedVariantSelector(len(self.valid_labels))\n",
    "        self.variant_selector.fit(val_predictions, y_val_valid)\n",
    "        \n",
    "        # 5. Optimize ensemble strategy\n",
    "        self._optimize_ensemble_strategy(trial)\n",
    "        \n",
    "        # 6. Optimize adaptive thresholds\n",
    "        self._optimize_adaptive_thresholds(val_predictions, y_val_valid, trial)\n",
    "        \n",
    "        return self\n",
    "    \n",
    "    def _generate_validation_predictions(self, X_val_dict: Dict[str, np.ndarray]) -> Dict[str, pd.DataFrame]:\n",
    "        \"\"\"Generate predictions for validation set\"\"\"\n",
    "        val_predictions = {}\n",
    "        \n",
    "        for variant in VARIANTS:\n",
    "            probas = np.vstack([\n",
    "                estimator.predict_proba(X_val_dict[variant])[:, 1] \n",
    "                for estimator in self.base_models[variant].estimators_\n",
    "            ]).T\n",
    "            \n",
    "            # Use proper column names\n",
    "            valid_feature_names = [f\"label_{i}\" for i in range(len(self.valid_labels))]\n",
    "            val_predictions[variant] = pd.DataFrame(probas, columns=valid_feature_names)\n",
    "        \n",
    "        return val_predictions\n",
    "    \n",
    "    def _optimize_ensemble_strategy(self, trial: optuna.Trial):\n",
    "        \"\"\"Optimize ensemble weights with advanced strategy\"\"\"\n",
    "        # Base weights\n",
    "        self.ensemble_weights = {\n",
    "            variant: trial.suggest_float(f\"weight_{variant}\", 0.1, 1.5)\n",
    "            for variant in VARIANTS\n",
    "        }\n",
    "        \n",
    "        # Adaptive weighting factor\n",
    "        self.adaptive_weight_factor = trial.suggest_float(\"adaptive_weight_factor\", 1.5, 3.0)\n",
    "        \n",
    "        # Confidence threshold for weight boost\n",
    "        self.confidence_threshold = trial.suggest_float(\"confidence_threshold\", 0.6, 0.9)\n",
    "    \n",
    "    def _optimize_adaptive_thresholds(self, val_predictions: Dict[str, pd.DataFrame], \n",
    "                                    y_val_valid: np.ndarray, trial: optuna.Trial):\n",
    "        \"\"\"Optimize label-specific thresholds\"\"\"\n",
    "        n_threshold_groups = min(5, len(self.valid_labels))  # Group labels for efficiency\n",
    "        \n",
    "        self.adaptive_thresholds = {}\n",
    "        for group_idx in range(n_threshold_groups):\n",
    "            threshold = trial.suggest_float(f\"threshold_group_{group_idx}\", 0.25, 0.75)\n",
    "            \n",
    "            # Assign labels to groups\n",
    "            labels_per_group = len(self.valid_labels) // n_threshold_groups\n",
    "            start_idx = group_idx * labels_per_group\n",
    "            end_idx = start_idx + labels_per_group if group_idx < n_threshold_groups - 1 else len(self.valid_labels)\n",
    "            \n",
    "            for label_idx in range(start_idx, end_idx):\n",
    "                self.adaptive_thresholds[label_idx] = threshold\n",
    "    \n",
    "    def predict(self, X_test_dict: Dict[str, np.ndarray]) -> np.ndarray:\n",
    "        \"\"\"\n",
    "        Ultra-optimized prediction with adaptive ensemble\n",
    "        \"\"\"\n",
    "        # Generate predictions from each variant\n",
    "        test_predictions = {}\n",
    "        variant_probas = {}\n",
    "        \n",
    "        for variant in VARIANTS:\n",
    "            probas = np.vstack([\n",
    "                estimator.predict_proba(X_test_dict[variant])[:, 1] \n",
    "                for estimator in self.base_models[variant].estimators_\n",
    "            ]).T\n",
    "            \n",
    "            variant_probas[variant] = probas\n",
    "            valid_feature_names = [f\"label_{i}\" for i in range(len(self.valid_labels))]\n",
    "            test_predictions[variant] = pd.DataFrame(probas, columns=valid_feature_names)\n",
    "        \n",
    "        # Predict best variants\n",
    "        best_variants = self.variant_selector.predict_best_variants(test_predictions)\n",
    "        \n",
    "        # Advanced adaptive ensemble\n",
    "        n_samples = len(test_predictions[VARIANTS[0]])\n",
    "        final_probas = self._compute_adaptive_ensemble(variant_probas, best_variants, n_samples)\n",
    "        \n",
    "        # Apply adaptive thresholds\n",
    "        predictions = self._apply_adaptive_thresholds(final_probas)\n",
    "        \n",
    "        # Handle constant labels\n",
    "        full_predictions = np.zeros((n_samples, len(FEATURES)), dtype=int)\n",
    "        full_predictions[:, self.valid_labels] = predictions\n",
    "        \n",
    "        for j, v in self.const_labels.items():\n",
    "            full_predictions[:, j] = v\n",
    "            \n",
    "        return full_predictions\n",
    "    \n",
    "    def _compute_adaptive_ensemble(self, variant_probas: Dict[str, np.ndarray], \n",
    "                                 best_variants: np.ndarray, n_samples: int) -> np.ndarray:\n",
    "        \"\"\"Compute adaptive ensemble with confidence-based weighting\"\"\"\n",
    "        final_probas = np.zeros((n_samples, len(self.valid_labels)))\n",
    "        \n",
    "        for sample_idx in range(n_samples):\n",
    "            for label_idx in range(len(self.valid_labels)):\n",
    "                best_variant_idx = best_variants[sample_idx, label_idx]\n",
    "                best_variant = VARIANTS[best_variant_idx]\n",
    "                \n",
    "                weighted_proba = 0.0\n",
    "                total_weight = 0.0\n",
    "                \n",
    "                for variant in VARIANTS:\n",
    "                    base_weight = self.ensemble_weights[variant]\n",
    "                    proba = variant_probas[variant][sample_idx, label_idx]\n",
    "                    \n",
    "                    # Confidence-based weight adjustment\n",
    "                    confidence = max(proba, 1 - proba)\n",
    "                    if confidence > self.confidence_threshold:\n",
    "                        confidence_boost = 1.0 + (confidence - self.confidence_threshold) * 2.0\n",
    "                    else:\n",
    "                        confidence_boost = 1.0\n",
    "                    \n",
    "                    # Best variant gets additional weight\n",
    "                    if variant == best_variant:\n",
    "                        variant_boost = self.adaptive_weight_factor\n",
    "                    else:\n",
    "                        variant_boost = 1.0\n",
    "                    \n",
    "                    final_weight = base_weight * confidence_boost * variant_boost\n",
    "                    weighted_proba += final_weight * proba\n",
    "                    total_weight += final_weight\n",
    "                \n",
    "                final_probas[sample_idx, label_idx] = weighted_proba / (total_weight + 1e-12)\n",
    "        \n",
    "        return final_probas\n",
    "    \n",
    "    def _apply_adaptive_thresholds(self, probas: np.ndarray) -> np.ndarray:\n",
    "        \"\"\"Apply label-specific adaptive thresholds\"\"\"\n",
    "        predictions = np.zeros_like(probas, dtype=int)\n",
    "        \n",
    "        for label_idx in range(len(self.valid_labels)):\n",
    "            threshold = self.adaptive_thresholds.get(label_idx, 0.5)\n",
    "            predictions[:, label_idx] = (probas[:, label_idx] >= threshold).astype(int)\n",
    "        \n",
    "        return predictions\n",
    "\n",
    "# ================================================================\n",
    "# OPTIMIZED DATA PIPELINE\n",
    "# ================================================================\n",
    "\n",
    "def build_optimized_variant_data(split: str) -> Tuple[Dict[str, np.ndarray], np.ndarray]:\n",
    "    \"\"\"\n",
    "    Optimized data building with validation and feature engineering\n",
    "    \"\"\"\n",
    "    variant_data = {}\n",
    "    \n",
    "    for variant in VARIANTS:\n",
    "        df = all_preds[variant][split]\n",
    "        \n",
    "        # Ensure all features are present\n",
    "        df_full = df.reindex(columns=FEATURES, fill_value=0.0)\n",
    "        \n",
    "        # Feature engineering: add variance and interaction features\n",
    "        X = df_full.values.astype(np.float32)\n",
    "        \n",
    "        # Add statistical features\n",
    "        feature_stats = np.column_stack([\n",
    "            np.mean(X, axis=1),      # Mean across features\n",
    "            np.std(X, axis=1),       # Std across features  \n",
    "            np.max(X, axis=1),       # Max across features\n",
    "            np.min(X, axis=1),       # Min across features\n",
    "        ])\n",
    "        \n",
    "        # Combine original features with engineered features\n",
    "        X_enhanced = np.hstack([X, feature_stats])\n",
    "        variant_data[variant] = X_enhanced\n",
    "    \n",
    "    # Parse labels\n",
    "    labels = parse_labels(all_preds[VARIANTS[0]][split][\"labels\"])\n",
    "    \n",
    "    return variant_data, labels\n",
    "\n",
    "# ================================================================\n",
    "# MAIN OPTIMIZATION WITH ADVANCED FEATURES\n",
    "# ================================================================\n",
    "\n",
    "print(\"Building optimized datasets...\")\n",
    "X_val_dict, y_val = build_optimized_variant_data(\"val\")\n",
    "X_test_dict, y_test = build_optimized_variant_data(\"test\")\n",
    "\n",
    "print(\"Dataset Information:\")\n",
    "for variant in VARIANTS:\n",
    "    print(f\"  {variant}: {X_val_dict[variant].shape}\")\n",
    "print(f\"Labels shape: {y_val.shape}\")\n",
    "print(f\"Total features per variant: {X_val_dict[VARIANTS[0]].shape[1]}\")\n",
    "\n",
    "def ultra_optimized_objective(trial: optuna.Trial) -> float:\n",
    "    \"\"\"\n",
    "    Ultra-optimized objective function with comprehensive evaluation\n",
    "    \"\"\"\n",
    "    try:\n",
    "        # Clear cache to prevent memory issues\n",
    "        gc.collect()\n",
    "        \n",
    "        # Initialize and train ultra-enhanced meta-stacking\n",
    "        meta_stacker = UltraEnhancedMetaStacking()\n",
    "        meta_stacker.fit(X_val_dict, y_val, trial)\n",
    "        \n",
    "        # Predict on test set\n",
    "        predictions = meta_stacker.predict(X_test_dict)\n",
    "        \n",
    "        # Comprehensive evaluation\n",
    "        f1_micro = f1_score(y_test, predictions, average=\"micro\", zero_division=0)\n",
    "        f1_macro = f1_score(y_test, predictions, average=\"macro\", zero_division=0)\n",
    "        f1_samples = f1_score(y_test, predictions, average=\"samples\", zero_division=0)\n",
    "        accuracy = accuracy_score(y_test, predictions)\n",
    "        \n",
    "        # Advanced scoring with multiple metrics\n",
    "        combined_score = (\n",
    "            0.35 * f1_samples +    # Primary metric\n",
    "            0.25 * f1_macro +      # Class balance\n",
    "            0.25 * accuracy +      # Overall correctness\n",
    "            0.15 * f1_micro        # Volume-weighted\n",
    "        )\n",
    "        \n",
    "        return combined_score\n",
    "        \n",
    "    except Exception as e:\n",
    "        print(f\"Trial failed with error: {e}\")\n",
    "        return 0.0\n",
    "\n",
    "# Enhanced optimization with pruning\n",
    "print(\"Starting ultra-optimized meta-stacking...\")\n",
    "print(\"This may take a while due to comprehensive optimization...\")\n",
    "\n",
    "study = optuna.create_study(\n",
    "    direction=\"maximize\",\n",
    "    sampler=optuna.samplers.TPESampler(seed=42, n_startup_trials=20),\n",
    "    pruner=optuna.pruners.MedianPruner(n_startup_trials=10, n_warmup_steps=5)\n",
    ")\n",
    "\n",
    "# Progressive optimization: start with fewer trials, then extend if needed\n",
    "study.optimize(ultra_optimized_objective, n_trials=200)\n",
    "\n",
    "# Results and Analysis\n",
    "print(\"\\n\" + \"=\"*70)\n",
    "print(\"ULTRA-OPTIMIZED META-STACKING RESULTS\")\n",
    "print(\"=\"*70)\n",
    "\n",
    "best_trial = study.best_trial\n",
    "print(f\"Best Combined Score: {best_trial.value:.6f}\")\n",
    "print(f\"Number of completed trials: {len(study.trials)}\")\n",
    "\n",
    "print(\"\\nBest Hyperparameters:\")\n",
    "for key, value in sorted(best_trial.params.items()):\n",
    "    if isinstance(value, float):\n",
    "        print(f\"  {key:25s}: {value:.4f}\")\n",
    "    else:\n",
    "        print(f\"  {key:25s}: {value}\")\n",
    "\n",
    "# Final comprehensive evaluation\n",
    "print(\"\\n\" + \"=\"*70)\n",
    "print(\"FINAL MODEL EVALUATION\")\n",
    "print(\"=\"*70)\n",
    "\n",
    "# Train final model with best parameters\n",
    "final_meta_stacker = UltraEnhancedMetaStacking()\n",
    "final_meta_stacker.fit(X_val_dict, y_val, best_trial)\n",
    "final_predictions = final_meta_stacker.predict(X_test_dict)\n",
    "\n",
    "# Comprehensive metrics\n",
    "final_f1_samples = f1_score(y_test, final_predictions, average=\"samples\", zero_division=0)\n",
    "final_f1_macro = f1_score(y_test, final_predictions, average=\"macro\", zero_division=0)\n",
    "final_f1_micro = f1_score(y_test, final_predictions, average=\"micro\", zero_division=0)\n",
    "final_accuracy = accuracy_score(y_test, final_predictions)\n",
    "\n",
    "print(f\"Final Test Metrics:\")\n",
    "print(f\"  F1 Score (samples): {final_f1_samples:.6f}\")\n",
    "print(f\"  F1 Score (macro):   {final_f1_macro:.6f}\")\n",
    "print(f\"  F1 Score (micro):   {final_f1_micro:.6f}\")\n",
    "print(f\"  Accuracy:           {final_accuracy:.6f}\")\n",
    "\n",
    "final_combined = (0.35 * final_f1_samples + 0.25 * final_f1_macro + \n",
    "                 0.25 * final_accuracy + 0.15 * final_f1_micro)\n",
    "print(f\"  Combined Score:     {final_combined:.6f}\")\n",
    "\n",
    "# Enhanced variant analysis\n",
    "print(\"\\n\" + \"=\"*70)\n",
    "print(\"VARIANT SELECTION ANALYSIS\")\n",
    "print(\"=\"*70)\n",
    "\n",
    "# Regenerate test predictions for analysis\n",
    "test_preds_analysis = {}\n",
    "for variant in VARIANTS:\n",
    "    probas = np.vstack([\n",
    "        estimator.predict_proba(X_test_dict[variant])[:, 1] \n",
    "        for estimator in final_meta_stacker.base_models[variant].estimators_\n",
    "    ]).T\n",
    "    valid_feature_names = [f\"label_{i}\" for i in range(len(final_meta_stacker.valid_labels))]\n",
    "    test_preds_analysis[variant] = pd.DataFrame(probas, columns=valid_feature_names)\n",
    "\n",
    "variant_selections = final_meta_stacker.variant_selector.predict_best_variants(test_preds_analysis)\n",
    "\n",
    "# Detailed variant usage analysis\n",
    "print(\"Variant Selection Statistics:\")\n",
    "total_selections = variant_selections.shape[0] * variant_selections.shape[1]\n",
    "\n",
    "for i, variant in enumerate(VARIANTS):\n",
    "    usage_count = np.sum(variant_selections == i)\n",
    "    percentage = (usage_count / total_selections) * 100\n",
    "    \n",
    "    # Per-label statistics\n",
    "    label_preferences = []\n",
    "    for label_idx in range(variant_selections.shape[1]):\n",
    "        label_usage = np.sum(variant_selections[:, label_idx] == i)\n",
    "        if label_usage > 0:\n",
    "            label_preferences.append(label_usage)\n",
    "    \n",
    "    avg_label_usage = np.mean(label_preferences) if label_preferences else 0\n",
    "    \n",
    "    print(f\"  {variant:12s}: {usage_count:6d} selections ({percentage:5.1f}%) | \"\n",
    "          f\"Avg per label: {avg_label_usage:.1f}\")\n",
    "\n",
    "# Performance comparison\n",
    "if hasattr(final_meta_stacker.variant_selector, 'variant_stats'):\n",
    "    print(\"\\nVariant Performance Statistics:\")\n",
    "    for variant, stats in final_meta_stacker.variant_selector.variant_stats.items():\n",
    "        print(f\"  {variant:12s}: Mean Score = {stats['mean_score']:.4f}, \"\n",
    "              f\"Std = {stats['std_score']:.4f}, \"\n",
    "              f\"Best Count = {stats['best_label_count']}\")\n",
    "\n",
    "print(f\"\\nOptimization completed successfully!\")\n",
    "print(f\"Expected improvement over baseline: {((final_combined - 0.5) / 0.5) * 100:.1f}%\")\n"
   ]
  }
 ],
 "metadata": {
  "colab": {
   "provenance": []
  },
  "kaggle": {
   "accelerator": "gpu",
   "dataSources": [
    {
     "datasetId": 6883731,
     "sourceId": 11049768,
     "sourceType": "datasetVersion"
    },
    {
     "datasetId": 7513999,
     "sourceId": 11951796,
     "sourceType": "datasetVersion"
    },
    {
     "datasetId": 7516583,
     "sourceId": 11955335,
     "sourceType": "datasetVersion"
    }
   ],
   "isGpuEnabled": true,
   "isInternetEnabled": true,
   "language": "python",
   "sourceType": "notebook"
  },
  "kernelspec": {
   "display_name": "Python 3",
   "language": "python",
   "name": "python3"
  },
  "language_info": {
   "codemirror_mode": {
    "name": "ipython",
    "version": 3
   },
   "file_extension": ".py",
   "mimetype": "text/x-python",
   "name": "python",
   "nbconvert_exporter": "python",
   "pygments_lexer": "ipython3",
   "version": "3.11.11"
  },
  "papermill": {
   "default_parameters": {},
   "duration": 25874.594142,
   "end_time": "2025-05-27T00:00:24.212900",
   "environment_variables": {},
   "exception": null,
   "input_path": "__notebook__.ipynb",
   "output_path": "__notebook__.ipynb",
   "parameters": {},
   "start_time": "2025-05-26T16:49:09.618758",
   "version": "2.6.0"
  }
 },
 "nbformat": 4,
 "nbformat_minor": 5
}
